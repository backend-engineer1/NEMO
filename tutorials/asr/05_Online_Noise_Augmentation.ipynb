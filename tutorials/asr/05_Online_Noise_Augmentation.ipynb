{
  "nbformat": 4,
  "nbformat_minor": 0,
  "metadata": {
    "colab": {
      "name": "05_Online_Noise_Augmentation.ipynb",
      "provenance": [],
      "collapsed_sections": [],
      "toc_visible": true
    },
    "kernelspec": {
      "name": "python3",
      "display_name": "Python 3"
    },
    "accelerator": "GPU"
  },
  "cells": [
    {
      "cell_type": "code",
      "metadata": {
        "id": "cvXwyS263AMk",
        "colab_type": "code",
        "colab": {
          "base_uri": "https://localhost:8080/",
          "height": 1000
        },
        "outputId": "57646cdd-58c1-4ddb-8805-9178cb0a2048"
      },
      "source": [
        "\"\"\"\n",
        "You can run either this notebook locally (if you have all the dependencies and a GPU) or on Google Colab.\n",
        "\n",
        "Instructions for setting up Colab are as follows:\n",
        "1. Open a new Python 3 notebook.\n",
        "2. Import this notebook from GitHub (File -> Upload Notebook -> \"GITHUB\" tab -> copy/paste GitHub URL)\n",
        "3. Connect to an instance with a GPU (Runtime -> Change runtime type -> select \"GPU\" for hardware accelerator)\n",
        "4. Run this cell to set up dependencies.\n",
        "\"\"\"\n",
        "# If you're using Google Colab and not running locally, run this cell.\n",
        "\n",
        "## Install dependencies\n",
        "!pip install wget\n",
        "!apt-get install sox libsndfile1 ffmpeg\n",
        "!pip install unidecode\n",
        "\n",
        "# ## Install NeMo\n",
        "!python -m pip install --upgrade git+https://github.com/NVIDIA/NeMo.git@candidate#egg=nemo_toolkit[asr]\n",
        "\n",
        "## Install TorchAudio\n",
        "!pip install torchaudio>=0.6.0 -f https://download.pytorch.org/whl/torch_stable.html\n",
        "\n",
        "## Grab the config we'll use in this example\n",
        "!mkdir configs"
      ],
      "execution_count": null,
      "outputs": [
        {
          "output_type": "stream",
          "text": [
            "Collecting wget\n",
            "  Downloading https://files.pythonhosted.org/packages/47/6a/62e288da7bcda82b935ff0c6cfe542970f04e29c756b0e147251b2fb251f/wget-3.2.zip\n",
            "Building wheels for collected packages: wget\n",
            "  Building wheel for wget (setup.py) ... \u001b[?25l\u001b[?25hdone\n",
            "  Created wheel for wget: filename=wget-3.2-cp36-none-any.whl size=9682 sha256=893371ae1eff01dbe22f19e0a9c15f2d31c38d0e7fc31a0565a3538332104d4b\n",
            "  Stored in directory: /root/.cache/pip/wheels/40/15/30/7d8f7cea2902b4db79e3fea550d7d7b85ecb27ef992b618f3f\n",
            "Successfully built wget\n",
            "Installing collected packages: wget\n",
            "Successfully installed wget-3.2\n",
            "Reading package lists... Done\n",
            "Building dependency tree       \n",
            "Reading state information... Done\n",
            "libsndfile1 is already the newest version (1.0.28-4ubuntu0.18.04.1).\n",
            "ffmpeg is already the newest version (7:3.4.8-0ubuntu0.2).\n",
            "The following package was automatically installed and is no longer required:\n",
            "  libnvidia-common-440\n",
            "Use 'apt autoremove' to remove it.\n",
            "The following additional packages will be installed:\n",
            "  libmagic-mgc libmagic1 libopencore-amrnb0 libopencore-amrwb0 libsox-fmt-alsa\n",
            "  libsox-fmt-base libsox3\n",
            "Suggested packages:\n",
            "  file libsox-fmt-all\n",
            "The following NEW packages will be installed:\n",
            "  libmagic-mgc libmagic1 libopencore-amrnb0 libopencore-amrwb0 libsox-fmt-alsa\n",
            "  libsox-fmt-base libsox3 sox\n",
            "0 upgraded, 8 newly installed, 0 to remove and 35 not upgraded.\n",
            "Need to get 760 kB of archives.\n",
            "After this operation, 6,717 kB of additional disk space will be used.\n",
            "Get:1 http://archive.ubuntu.com/ubuntu bionic/universe amd64 libopencore-amrnb0 amd64 0.1.3-2.1 [92.0 kB]\n",
            "Get:2 http://archive.ubuntu.com/ubuntu bionic/universe amd64 libopencore-amrwb0 amd64 0.1.3-2.1 [45.8 kB]\n",
            "Get:3 http://archive.ubuntu.com/ubuntu bionic-updates/main amd64 libmagic-mgc amd64 1:5.32-2ubuntu0.4 [184 kB]\n",
            "Get:4 http://archive.ubuntu.com/ubuntu bionic-updates/main amd64 libmagic1 amd64 1:5.32-2ubuntu0.4 [68.6 kB]\n",
            "Get:5 http://archive.ubuntu.com/ubuntu bionic-updates/universe amd64 libsox3 amd64 14.4.2-3ubuntu0.18.04.1 [226 kB]\n",
            "Get:6 http://archive.ubuntu.com/ubuntu bionic-updates/universe amd64 libsox-fmt-alsa amd64 14.4.2-3ubuntu0.18.04.1 [10.6 kB]\n",
            "Get:7 http://archive.ubuntu.com/ubuntu bionic-updates/universe amd64 libsox-fmt-base amd64 14.4.2-3ubuntu0.18.04.1 [32.1 kB]\n",
            "Get:8 http://archive.ubuntu.com/ubuntu bionic-updates/universe amd64 sox amd64 14.4.2-3ubuntu0.18.04.1 [101 kB]\n",
            "Fetched 760 kB in 0s (6,754 kB/s)\n",
            "Selecting previously unselected package libopencore-amrnb0:amd64.\n",
            "(Reading database ... 144487 files and directories currently installed.)\n",
            "Preparing to unpack .../0-libopencore-amrnb0_0.1.3-2.1_amd64.deb ...\n",
            "Unpacking libopencore-amrnb0:amd64 (0.1.3-2.1) ...\n",
            "Selecting previously unselected package libopencore-amrwb0:amd64.\n",
            "Preparing to unpack .../1-libopencore-amrwb0_0.1.3-2.1_amd64.deb ...\n",
            "Unpacking libopencore-amrwb0:amd64 (0.1.3-2.1) ...\n",
            "Selecting previously unselected package libmagic-mgc.\n",
            "Preparing to unpack .../2-libmagic-mgc_1%3a5.32-2ubuntu0.4_amd64.deb ...\n",
            "Unpacking libmagic-mgc (1:5.32-2ubuntu0.4) ...\n",
            "Selecting previously unselected package libmagic1:amd64.\n",
            "Preparing to unpack .../3-libmagic1_1%3a5.32-2ubuntu0.4_amd64.deb ...\n",
            "Unpacking libmagic1:amd64 (1:5.32-2ubuntu0.4) ...\n",
            "Selecting previously unselected package libsox3:amd64.\n",
            "Preparing to unpack .../4-libsox3_14.4.2-3ubuntu0.18.04.1_amd64.deb ...\n",
            "Unpacking libsox3:amd64 (14.4.2-3ubuntu0.18.04.1) ...\n",
            "Selecting previously unselected package libsox-fmt-alsa:amd64.\n",
            "Preparing to unpack .../5-libsox-fmt-alsa_14.4.2-3ubuntu0.18.04.1_amd64.deb ...\n",
            "Unpacking libsox-fmt-alsa:amd64 (14.4.2-3ubuntu0.18.04.1) ...\n",
            "Selecting previously unselected package libsox-fmt-base:amd64.\n",
            "Preparing to unpack .../6-libsox-fmt-base_14.4.2-3ubuntu0.18.04.1_amd64.deb ...\n",
            "Unpacking libsox-fmt-base:amd64 (14.4.2-3ubuntu0.18.04.1) ...\n",
            "Selecting previously unselected package sox.\n",
            "Preparing to unpack .../7-sox_14.4.2-3ubuntu0.18.04.1_amd64.deb ...\n",
            "Unpacking sox (14.4.2-3ubuntu0.18.04.1) ...\n",
            "Setting up libmagic-mgc (1:5.32-2ubuntu0.4) ...\n",
            "Setting up libmagic1:amd64 (1:5.32-2ubuntu0.4) ...\n",
            "Setting up libopencore-amrnb0:amd64 (0.1.3-2.1) ...\n",
            "Setting up libopencore-amrwb0:amd64 (0.1.3-2.1) ...\n",
            "Setting up libsox3:amd64 (14.4.2-3ubuntu0.18.04.1) ...\n",
            "Setting up libsox-fmt-base:amd64 (14.4.2-3ubuntu0.18.04.1) ...\n",
            "Setting up libsox-fmt-alsa:amd64 (14.4.2-3ubuntu0.18.04.1) ...\n",
            "Setting up sox (14.4.2-3ubuntu0.18.04.1) ...\n",
            "Processing triggers for libc-bin (2.27-3ubuntu1) ...\n",
            "/sbin/ldconfig.real: /usr/local/lib/python3.6/dist-packages/ideep4py/lib/libmkldnn.so.0 is not a symbolic link\n",
            "\n",
            "Processing triggers for man-db (2.8.3-2ubuntu0.1) ...\n",
            "Processing triggers for mime-support (3.60ubuntu1) ...\n",
            "Collecting unidecode\n",
            "\u001b[?25l  Downloading https://files.pythonhosted.org/packages/d0/42/d9edfed04228bacea2d824904cae367ee9efd05e6cce7ceaaedd0b0ad964/Unidecode-1.1.1-py2.py3-none-any.whl (238kB)\n",
            "\u001b[K     |████████████████████████████████| 245kB 8.6MB/s \n",
            "\u001b[?25hInstalling collected packages: unidecode\n",
            "Successfully installed unidecode-1.1.1\n",
            "Collecting nemo_toolkit[asr]\n",
            "  Cloning https://github.com/NVIDIA/NeMo.git (to revision candidate) to /tmp/pip-install-o476itj1/nemo-toolkit\n",
            "  Running command git clone -q https://github.com/NVIDIA/NeMo.git /tmp/pip-install-o476itj1/nemo-toolkit\n",
            "  Running command git checkout -b candidate --track origin/candidate\n",
            "  Switched to a new branch 'candidate'\n",
            "  Branch 'candidate' set up to track remote branch 'candidate' from 'origin'.\n",
            "Requirement already satisfied, skipping upgrade: numpy>=1.18.2 in /usr/local/lib/python3.6/dist-packages (from nemo_toolkit[asr]) (1.18.5)\n",
            "Collecting onnx>=1.7.0\n",
            "\u001b[?25l  Downloading https://files.pythonhosted.org/packages/36/ee/bc7bc88fc8449266add978627e90c363069211584b937fd867b0ccc59f09/onnx-1.7.0-cp36-cp36m-manylinux1_x86_64.whl (7.4MB)\n",
            "\u001b[K     |████████████████████████████████| 7.4MB 8.4MB/s \n",
            "\u001b[?25hCollecting pytorch-lightning>=0.8.5\n",
            "\u001b[?25l  Downloading https://files.pythonhosted.org/packages/32/64/65a5bd6b0c286217f2e53bb067c4099c0584a8eff1d229046b9a35ae3e26/pytorch_lightning-0.8.5-py3-none-any.whl (313kB)\n",
            "\u001b[K     |████████████████████████████████| 317kB 52.1MB/s \n",
            "\u001b[?25hRequirement already satisfied, skipping upgrade: python-dateutil in /usr/local/lib/python3.6/dist-packages (from nemo_toolkit[asr]) (2.8.1)\n",
            "Requirement already satisfied, skipping upgrade: torch in /usr/local/lib/python3.6/dist-packages (from nemo_toolkit[asr]) (1.6.0+cu101)\n",
            "Requirement already satisfied, skipping upgrade: wget in /usr/local/lib/python3.6/dist-packages (from nemo_toolkit[asr]) (3.2)\n",
            "Requirement already satisfied, skipping upgrade: wrapt in /usr/local/lib/python3.6/dist-packages (from nemo_toolkit[asr]) (1.12.1)\n",
            "Collecting ruamel.yaml\n",
            "\u001b[?25l  Downloading https://files.pythonhosted.org/packages/a6/92/59af3e38227b9cc14520bf1e59516d99ceca53e3b8448094248171e9432b/ruamel.yaml-0.16.10-py2.py3-none-any.whl (111kB)\n",
            "\u001b[K     |████████████████████████████████| 112kB 52.6MB/s \n",
            "\u001b[?25hRequirement already satisfied, skipping upgrade: scikit-learn in /usr/local/lib/python3.6/dist-packages (from nemo_toolkit[asr]) (0.22.2.post1)\n",
            "Collecting omegaconf==2.0.1rc11\n",
            "  Downloading https://files.pythonhosted.org/packages/ab/20/829ef7562493e6791bbeb6919e4e67a6ccc68a6b8cf89f956e659d16c912/omegaconf-2.0.1rc11-py3-none-any.whl\n",
            "Collecting hydra-core==1.0.0rc3\n",
            "\u001b[?25l  Downloading https://files.pythonhosted.org/packages/20/54/69730c833cda44f7b3e691f8a17773a6d4633fe7b3305eb64f3e7b94d68c/hydra_core-1.0.0rc3-py3-none-any.whl (117kB)\n",
            "\u001b[K     |████████████████████████████████| 122kB 56.2MB/s \n",
            "\u001b[?25hCollecting transformers>=2.11.0\n",
            "\u001b[?25l  Downloading https://files.pythonhosted.org/packages/27/3c/91ed8f5c4e7ef3227b4119200fc0ed4b4fd965b1f0172021c25701087825/transformers-3.0.2-py3-none-any.whl (769kB)\n",
            "\u001b[K     |████████████████████████████████| 778kB 51.5MB/s \n",
            "\u001b[?25hCollecting braceexpand\n",
            "  Downloading https://files.pythonhosted.org/packages/2d/c7/036c23bddf64033b9978803cb9200291b9d3ac87845ba953067bd29d4aa1/braceexpand-0.1.5-py2.py3-none-any.whl\n",
            "Requirement already satisfied, skipping upgrade: editdistance in /usr/local/lib/python3.6/dist-packages (from nemo_toolkit[asr]) (0.5.3)\n",
            "Collecting frozendict\n",
            "  Downloading https://files.pythonhosted.org/packages/4e/55/a12ded2c426a4d2bee73f88304c9c08ebbdbadb82569ebdd6a0c007cfd08/frozendict-1.2.tar.gz\n",
            "Requirement already satisfied, skipping upgrade: inflect in /usr/local/lib/python3.6/dist-packages (from nemo_toolkit[asr]) (2.1.0)\n",
            "Collecting kaldi-io\n",
            "  Downloading https://files.pythonhosted.org/packages/66/25/e77b445aed94e41bac6369f448d3a0b60e166e4918a130af2cea19a2e187/kaldi_io-0.9.4-py3-none-any.whl\n",
            "Requirement already satisfied, skipping upgrade: librosa in /usr/local/lib/python3.6/dist-packages (from nemo_toolkit[asr]) (0.6.3)\n",
            "Collecting marshmallow\n",
            "\u001b[?25l  Downloading https://files.pythonhosted.org/packages/a6/11/f824483fcfc4164d733c0a242cc01f7e3b153561500a6a69bba217c9f0f6/marshmallow-3.7.1-py2.py3-none-any.whl (45kB)\n",
            "\u001b[K     |████████████████████████████████| 51kB 7.6MB/s \n",
            "\u001b[?25hRequirement already satisfied, skipping upgrade: packaging in /usr/local/lib/python3.6/dist-packages (from nemo_toolkit[asr]) (20.4)\n",
            "Collecting num2words\n",
            "\u001b[?25l  Downloading https://files.pythonhosted.org/packages/eb/a2/ea800689730732e27711c41beed4b2a129b34974435bdc450377ec407738/num2words-0.5.10-py3-none-any.whl (101kB)\n",
            "\u001b[K     |████████████████████████████████| 102kB 13.7MB/s \n",
            "\u001b[?25hCollecting soundfile\n",
            "  Downloading https://files.pythonhosted.org/packages/eb/f2/3cbbbf3b96fb9fa91582c438b574cff3f45b29c772f94c400e2c99ef5db9/SoundFile-0.10.3.post1-py2.py3-none-any.whl\n",
            "Collecting sox\n",
            "  Downloading https://files.pythonhosted.org/packages/bd/63/a535899ba1b45ad48ebd580c4226aef724ce6870cbecc572152ea286a108/sox-1.4.0-py2.py3-none-any.whl\n",
            "Collecting torch-stft\n",
            "  Downloading https://files.pythonhosted.org/packages/9a/53/8a0114930b53459bdc6b090515636bbba7e080905284fb83c995a29eb709/torch_stft-0.1.4-py3-none-any.whl\n",
            "Requirement already satisfied, skipping upgrade: unidecode in /usr/local/lib/python3.6/dist-packages (from nemo_toolkit[asr]) (1.1.1)\n",
            "Collecting webdataset\n",
            "  Downloading https://files.pythonhosted.org/packages/97/66/07e1f1be8fd172279936c38b9720593227e5297680f29795fe5a387e77d9/webdataset-0.1.37-py3-none-any.whl\n",
            "Collecting kaldi-python-io\n",
            "  Downloading https://files.pythonhosted.org/packages/6c/38/223c67f0cf926f5bf15a417121defd60d7973f7461cb39f2b26cd7a4b682/kaldi-python-io-1.1.2.tar.gz\n",
            "Requirement already satisfied, skipping upgrade: scipy in /usr/local/lib/python3.6/dist-packages (from nemo_toolkit[asr]) (1.4.1)\n",
            "Requirement already satisfied, skipping upgrade: pandas in /usr/local/lib/python3.6/dist-packages (from nemo_toolkit[asr]) (1.0.5)\n",
            "Requirement already satisfied, skipping upgrade: typing-extensions>=3.6.2.1 in /usr/local/lib/python3.6/dist-packages (from onnx>=1.7.0->nemo_toolkit[asr]) (3.7.4.2)\n",
            "Requirement already satisfied, skipping upgrade: protobuf in /usr/local/lib/python3.6/dist-packages (from onnx>=1.7.0->nemo_toolkit[asr]) (3.12.4)\n",
            "Requirement already satisfied, skipping upgrade: six in /usr/local/lib/python3.6/dist-packages (from onnx>=1.7.0->nemo_toolkit[asr]) (1.15.0)\n",
            "Collecting PyYAML>=5.1\n",
            "\u001b[?25l  Downloading https://files.pythonhosted.org/packages/64/c2/b80047c7ac2478f9501676c988a5411ed5572f35d1beff9cae07d321512c/PyYAML-5.3.1.tar.gz (269kB)\n",
            "\u001b[K     |████████████████████████████████| 276kB 38.3MB/s \n",
            "\u001b[?25hRequirement already satisfied, skipping upgrade: tqdm>=4.41.0 in /usr/local/lib/python3.6/dist-packages (from pytorch-lightning>=0.8.5->nemo_toolkit[asr]) (4.41.1)\n",
            "Collecting future>=0.17.1\n",
            "\u001b[?25l  Downloading https://files.pythonhosted.org/packages/45/0b/38b06fd9b92dc2b68d58b75f900e97884c45bedd2ff83203d933cf5851c9/future-0.18.2.tar.gz (829kB)\n",
            "\u001b[K     |████████████████████████████████| 829kB 48.2MB/s \n",
            "\u001b[?25hRequirement already satisfied, skipping upgrade: tensorboard>=1.14 in /usr/local/lib/python3.6/dist-packages (from pytorch-lightning>=0.8.5->nemo_toolkit[asr]) (2.3.0)\n",
            "Collecting ruamel.yaml.clib>=0.1.2; platform_python_implementation == \"CPython\" and python_version < \"3.9\"\n",
            "\u001b[?25l  Downloading https://files.pythonhosted.org/packages/53/77/4bcd63f362bcb6c8f4f06253c11f9772f64189bf08cf3f40c5ccbda9e561/ruamel.yaml.clib-0.2.0-cp36-cp36m-manylinux1_x86_64.whl (548kB)\n",
            "\u001b[K     |████████████████████████████████| 552kB 52.8MB/s \n",
            "\u001b[?25hRequirement already satisfied, skipping upgrade: joblib>=0.11 in /usr/local/lib/python3.6/dist-packages (from scikit-learn->nemo_toolkit[asr]) (0.16.0)\n",
            "Requirement already satisfied, skipping upgrade: dataclasses; python_version == \"3.6\" in /usr/local/lib/python3.6/dist-packages (from omegaconf==2.0.1rc11->nemo_toolkit[asr]) (0.7)\n",
            "Collecting antlr4-python3-runtime==4.8\n",
            "\u001b[?25l  Downloading https://files.pythonhosted.org/packages/56/02/789a0bddf9c9b31b14c3e79ec22b9656185a803dc31c15f006f9855ece0d/antlr4-python3-runtime-4.8.tar.gz (112kB)\n",
            "\u001b[K     |████████████████████████████████| 112kB 54.4MB/s \n",
            "\u001b[?25hCollecting importlib-resources; python_version < \"3.9\"\n",
            "  Downloading https://files.pythonhosted.org/packages/ba/03/0f9595c0c2ef12590877f3c47e5f579759ce5caf817f8256d5dcbd8a1177/importlib_resources-3.0.0-py2.py3-none-any.whl\n",
            "Collecting sentencepiece!=0.1.92\n",
            "\u001b[?25l  Downloading https://files.pythonhosted.org/packages/d4/a4/d0a884c4300004a78cca907a6ff9a5e9fe4f090f5d95ab341c53d28cbc58/sentencepiece-0.1.91-cp36-cp36m-manylinux1_x86_64.whl (1.1MB)\n",
            "\u001b[K     |████████████████████████████████| 1.1MB 49.1MB/s \n",
            "\u001b[?25hRequirement already satisfied, skipping upgrade: filelock in /usr/local/lib/python3.6/dist-packages (from transformers>=2.11.0->nemo_toolkit[asr]) (3.0.12)\n",
            "Requirement already satisfied, skipping upgrade: requests in /usr/local/lib/python3.6/dist-packages (from transformers>=2.11.0->nemo_toolkit[asr]) (2.23.0)\n",
            "Requirement already satisfied, skipping upgrade: regex!=2019.12.17 in /usr/local/lib/python3.6/dist-packages (from transformers>=2.11.0->nemo_toolkit[asr]) (2019.12.20)\n",
            "Collecting sacremoses\n",
            "\u001b[?25l  Downloading https://files.pythonhosted.org/packages/7d/34/09d19aff26edcc8eb2a01bed8e98f13a1537005d31e95233fd48216eed10/sacremoses-0.0.43.tar.gz (883kB)\n",
            "\u001b[K     |████████████████████████████████| 890kB 49.2MB/s \n",
            "\u001b[?25hCollecting tokenizers==0.8.1.rc1\n",
            "\u001b[?25l  Downloading https://files.pythonhosted.org/packages/40/d0/30d5f8d221a0ed981a186c8eb986ce1c94e3a6e87f994eae9f4aa5250217/tokenizers-0.8.1rc1-cp36-cp36m-manylinux1_x86_64.whl (3.0MB)\n",
            "\u001b[K     |████████████████████████████████| 3.0MB 48.5MB/s \n",
            "\u001b[?25hRequirement already satisfied, skipping upgrade: audioread>=2.0.0 in /usr/local/lib/python3.6/dist-packages (from librosa->nemo_toolkit[asr]) (2.1.8)\n",
            "Requirement already satisfied, skipping upgrade: decorator>=3.0.0 in /usr/local/lib/python3.6/dist-packages (from librosa->nemo_toolkit[asr]) (4.4.2)\n",
            "Requirement already satisfied, skipping upgrade: numba>=0.38.0 in /usr/local/lib/python3.6/dist-packages (from librosa->nemo_toolkit[asr]) (0.48.0)\n",
            "Requirement already satisfied, skipping upgrade: resampy>=0.2.0 in /usr/local/lib/python3.6/dist-packages (from librosa->nemo_toolkit[asr]) (0.2.2)\n",
            "Requirement already satisfied, skipping upgrade: pyparsing>=2.0.2 in /usr/local/lib/python3.6/dist-packages (from packaging->nemo_toolkit[asr]) (2.4.7)\n",
            "Requirement already satisfied, skipping upgrade: docopt>=0.6.2 in /usr/local/lib/python3.6/dist-packages (from num2words->nemo_toolkit[asr]) (0.6.2)\n",
            "Requirement already satisfied, skipping upgrade: cffi>=1.0 in /usr/local/lib/python3.6/dist-packages (from soundfile->nemo_toolkit[asr]) (1.14.1)\n",
            "Collecting simplejson\n",
            "\u001b[?25l  Downloading https://files.pythonhosted.org/packages/73/96/1e6b19045375890068d7342cbe280dd64ae73fd90b9735b5efb8d1e044a1/simplejson-3.17.2-cp36-cp36m-manylinux2010_x86_64.whl (127kB)\n",
            "\u001b[K     |████████████████████████████████| 133kB 56.4MB/s \n",
            "\u001b[?25hCollecting objectio\n",
            "  Downloading https://files.pythonhosted.org/packages/86/e3/a132a91c4e9fd5e59c947263c7ef4e3415640fa151344f858e2def8c1726/objectio-0.2.29-py3-none-any.whl\n",
            "Requirement already satisfied, skipping upgrade: Pillow in /usr/local/lib/python3.6/dist-packages (from webdataset->nemo_toolkit[asr]) (7.0.0)\n",
            "Requirement already satisfied, skipping upgrade: msgpack in /usr/local/lib/python3.6/dist-packages (from webdataset->nemo_toolkit[asr]) (1.0.0)\n",
            "Requirement already satisfied, skipping upgrade: pytz>=2017.2 in /usr/local/lib/python3.6/dist-packages (from pandas->nemo_toolkit[asr]) (2018.9)\n",
            "Requirement already satisfied, skipping upgrade: setuptools in /usr/local/lib/python3.6/dist-packages (from protobuf->onnx>=1.7.0->nemo_toolkit[asr]) (49.2.0)\n",
            "Requirement already satisfied, skipping upgrade: grpcio>=1.24.3 in /usr/local/lib/python3.6/dist-packages (from tensorboard>=1.14->pytorch-lightning>=0.8.5->nemo_toolkit[asr]) (1.31.0)\n",
            "Requirement already satisfied, skipping upgrade: werkzeug>=0.11.15 in /usr/local/lib/python3.6/dist-packages (from tensorboard>=1.14->pytorch-lightning>=0.8.5->nemo_toolkit[asr]) (1.0.1)\n",
            "Requirement already satisfied, skipping upgrade: markdown>=2.6.8 in /usr/local/lib/python3.6/dist-packages (from tensorboard>=1.14->pytorch-lightning>=0.8.5->nemo_toolkit[asr]) (3.2.2)\n",
            "Requirement already satisfied, skipping upgrade: google-auth<2,>=1.6.3 in /usr/local/lib/python3.6/dist-packages (from tensorboard>=1.14->pytorch-lightning>=0.8.5->nemo_toolkit[asr]) (1.17.2)\n",
            "Requirement already satisfied, skipping upgrade: absl-py>=0.4 in /usr/local/lib/python3.6/dist-packages (from tensorboard>=1.14->pytorch-lightning>=0.8.5->nemo_toolkit[asr]) (0.9.0)\n",
            "Requirement already satisfied, skipping upgrade: tensorboard-plugin-wit>=1.6.0 in /usr/local/lib/python3.6/dist-packages (from tensorboard>=1.14->pytorch-lightning>=0.8.5->nemo_toolkit[asr]) (1.7.0)\n",
            "Requirement already satisfied, skipping upgrade: wheel>=0.26; python_version >= \"3\" in /usr/local/lib/python3.6/dist-packages (from tensorboard>=1.14->pytorch-lightning>=0.8.5->nemo_toolkit[asr]) (0.34.2)\n",
            "Requirement already satisfied, skipping upgrade: google-auth-oauthlib<0.5,>=0.4.1 in /usr/local/lib/python3.6/dist-packages (from tensorboard>=1.14->pytorch-lightning>=0.8.5->nemo_toolkit[asr]) (0.4.1)\n",
            "Requirement already satisfied, skipping upgrade: zipp>=0.4; python_version < \"3.8\" in /usr/local/lib/python3.6/dist-packages (from importlib-resources; python_version < \"3.9\"->hydra-core==1.0.0rc3->nemo_toolkit[asr]) (3.1.0)\n",
            "Requirement already satisfied, skipping upgrade: certifi>=2017.4.17 in /usr/local/lib/python3.6/dist-packages (from requests->transformers>=2.11.0->nemo_toolkit[asr]) (2020.6.20)\n",
            "Requirement already satisfied, skipping upgrade: chardet<4,>=3.0.2 in /usr/local/lib/python3.6/dist-packages (from requests->transformers>=2.11.0->nemo_toolkit[asr]) (3.0.4)\n",
            "Requirement already satisfied, skipping upgrade: urllib3!=1.25.0,!=1.25.1,<1.26,>=1.21.1 in /usr/local/lib/python3.6/dist-packages (from requests->transformers>=2.11.0->nemo_toolkit[asr]) (1.24.3)\n",
            "Requirement already satisfied, skipping upgrade: idna<3,>=2.5 in /usr/local/lib/python3.6/dist-packages (from requests->transformers>=2.11.0->nemo_toolkit[asr]) (2.10)\n",
            "Requirement already satisfied, skipping upgrade: click in /usr/local/lib/python3.6/dist-packages (from sacremoses->transformers>=2.11.0->nemo_toolkit[asr]) (7.1.2)\n",
            "Requirement already satisfied, skipping upgrade: llvmlite<0.32.0,>=0.31.0dev0 in /usr/local/lib/python3.6/dist-packages (from numba>=0.38.0->librosa->nemo_toolkit[asr]) (0.31.0)\n",
            "Requirement already satisfied, skipping upgrade: pycparser in /usr/local/lib/python3.6/dist-packages (from cffi>=1.0->soundfile->nemo_toolkit[asr]) (2.20)\n",
            "Collecting typer\n",
            "  Downloading https://files.pythonhosted.org/packages/90/34/d138832f6945432c638f32137e6c79a3b682f06a63c488dcfaca6b166c64/typer-0.3.2-py3-none-any.whl\n",
            "Requirement already satisfied, skipping upgrade: importlib-metadata; python_version < \"3.8\" in /usr/local/lib/python3.6/dist-packages (from markdown>=2.6.8->tensorboard>=1.14->pytorch-lightning>=0.8.5->nemo_toolkit[asr]) (1.7.0)\n",
            "Requirement already satisfied, skipping upgrade: rsa<5,>=3.1.4; python_version >= \"3\" in /usr/local/lib/python3.6/dist-packages (from google-auth<2,>=1.6.3->tensorboard>=1.14->pytorch-lightning>=0.8.5->nemo_toolkit[asr]) (4.6)\n",
            "Requirement already satisfied, skipping upgrade: pyasn1-modules>=0.2.1 in /usr/local/lib/python3.6/dist-packages (from google-auth<2,>=1.6.3->tensorboard>=1.14->pytorch-lightning>=0.8.5->nemo_toolkit[asr]) (0.2.8)\n",
            "Requirement already satisfied, skipping upgrade: cachetools<5.0,>=2.0.0 in /usr/local/lib/python3.6/dist-packages (from google-auth<2,>=1.6.3->tensorboard>=1.14->pytorch-lightning>=0.8.5->nemo_toolkit[asr]) (4.1.1)\n",
            "Requirement already satisfied, skipping upgrade: requests-oauthlib>=0.7.0 in /usr/local/lib/python3.6/dist-packages (from google-auth-oauthlib<0.5,>=0.4.1->tensorboard>=1.14->pytorch-lightning>=0.8.5->nemo_toolkit[asr]) (1.3.0)\n",
            "Requirement already satisfied, skipping upgrade: pyasn1>=0.1.3 in /usr/local/lib/python3.6/dist-packages (from rsa<5,>=3.1.4; python_version >= \"3\"->google-auth<2,>=1.6.3->tensorboard>=1.14->pytorch-lightning>=0.8.5->nemo_toolkit[asr]) (0.4.8)\n",
            "Requirement already satisfied, skipping upgrade: oauthlib>=3.0.0 in /usr/local/lib/python3.6/dist-packages (from requests-oauthlib>=0.7.0->google-auth-oauthlib<0.5,>=0.4.1->tensorboard>=1.14->pytorch-lightning>=0.8.5->nemo_toolkit[asr]) (3.1.0)\n",
            "Building wheels for collected packages: nemo-toolkit, frozendict, kaldi-python-io, PyYAML, future, antlr4-python3-runtime, sacremoses\n",
            "  Building wheel for nemo-toolkit (setup.py) ... \u001b[?25l\u001b[?25hdone\n",
            "  Created wheel for nemo-toolkit: filename=nemo_toolkit-0.88.1b0-cp36-none-any.whl size=353237 sha256=d6e937856d55a703c569a6ab4b49b0581258b992731b8e783b8af9f49ac5d52d\n",
            "  Stored in directory: /tmp/pip-ephem-wheel-cache-mi0xwd5s/wheels/f1/17/64/854a3e212e0b89b5fae342a6f004942ccedbe7d459048577ef\n",
            "  Building wheel for frozendict (setup.py) ... \u001b[?25l\u001b[?25hdone\n",
            "  Created wheel for frozendict: filename=frozendict-1.2-cp36-none-any.whl size=3149 sha256=80c993932d16d0c39991bc620cdcedd8bd67fa8f12ef6898b7ca64d316bbfaa2\n",
            "  Stored in directory: /root/.cache/pip/wheels/6c/6c/e9/534386165bd12cf1885582c75eb6d0ffcb321b65c23fe0f834\n",
            "  Building wheel for kaldi-python-io (setup.py) ... \u001b[?25l\u001b[?25hdone\n",
            "  Created wheel for kaldi-python-io: filename=kaldi_python_io-1.1.2-cp36-none-any.whl size=9037 sha256=ab4899d9fc1239dbc5168820c0b13f6c11e15bef4f2be2c45c983a6c955565c4\n",
            "  Stored in directory: /root/.cache/pip/wheels/2d/ba/33/a7f786be40d21529c200bbeb4fc5d3364f97a2405d33606d35\n",
            "  Building wheel for PyYAML (setup.py) ... \u001b[?25l\u001b[?25hdone\n",
            "  Created wheel for PyYAML: filename=PyYAML-5.3.1-cp36-cp36m-linux_x86_64.whl size=44621 sha256=6f3f1aaa2bda03546fe34a0883bbe7ffc9e87a111ad8ebbc3d95d7ac9f66a7a8\n",
            "  Stored in directory: /root/.cache/pip/wheels/a7/c1/ea/cf5bd31012e735dc1dfea3131a2d5eae7978b251083d6247bd\n",
            "  Building wheel for future (setup.py) ... \u001b[?25l\u001b[?25hdone\n",
            "  Created wheel for future: filename=future-0.18.2-cp36-none-any.whl size=491057 sha256=711c6ba719260fbe7efb79fec6341668cef0546459f3f8cefe989ccdf5ea7b46\n",
            "  Stored in directory: /root/.cache/pip/wheels/8b/99/a0/81daf51dcd359a9377b110a8a886b3895921802d2fc1b2397e\n",
            "  Building wheel for antlr4-python3-runtime (setup.py) ... \u001b[?25l\u001b[?25hdone\n",
            "  Created wheel for antlr4-python3-runtime: filename=antlr4_python3_runtime-4.8-cp36-none-any.whl size=141231 sha256=89f439c6c0602c61893f806e364f3571abbaa50ad56c7d32bf49413a0f65eb21\n",
            "  Stored in directory: /root/.cache/pip/wheels/e3/e2/fa/b78480b448b8579ddf393bebd3f47ee23aa84c89b6a78285c8\n",
            "  Building wheel for sacremoses (setup.py) ... \u001b[?25l\u001b[?25hdone\n",
            "  Created wheel for sacremoses: filename=sacremoses-0.0.43-cp36-none-any.whl size=893260 sha256=53bfb6d76222c8bf4152f0a8a7bd96ff30cd853118ddd53bd1e34be8858d31c0\n",
            "  Stored in directory: /root/.cache/pip/wheels/29/3c/fd/7ce5c3f0666dab31a50123635e6fb5e19ceb42ce38d4e58f45\n",
            "Successfully built nemo-toolkit frozendict kaldi-python-io PyYAML future antlr4-python3-runtime sacremoses\n",
            "Installing collected packages: onnx, PyYAML, future, pytorch-lightning, ruamel.yaml.clib, ruamel.yaml, omegaconf, antlr4-python3-runtime, importlib-resources, hydra-core, sentencepiece, sacremoses, tokenizers, transformers, braceexpand, frozendict, kaldi-io, marshmallow, num2words, soundfile, sox, torch-stft, simplejson, typer, objectio, webdataset, kaldi-python-io, nemo-toolkit\n",
            "  Found existing installation: PyYAML 3.13\n",
            "    Uninstalling PyYAML-3.13:\n",
            "      Successfully uninstalled PyYAML-3.13\n",
            "  Found existing installation: future 0.16.0\n",
            "    Uninstalling future-0.16.0:\n",
            "      Successfully uninstalled future-0.16.0\n",
            "Successfully installed PyYAML-5.3.1 antlr4-python3-runtime-4.8 braceexpand-0.1.5 frozendict-1.2 future-0.18.2 hydra-core-1.0.0rc3 importlib-resources-3.0.0 kaldi-io-0.9.4 kaldi-python-io-1.1.2 marshmallow-3.7.1 nemo-toolkit-0.88.1b0 num2words-0.5.10 objectio-0.2.29 omegaconf-2.0.1rc11 onnx-1.7.0 pytorch-lightning-0.8.5 ruamel.yaml-0.16.10 ruamel.yaml.clib-0.2.0 sacremoses-0.0.43 sentencepiece-0.1.91 simplejson-3.17.2 soundfile-0.10.3.post1 sox-1.4.0 tokenizers-0.8.1rc1 torch-stft-0.1.4 transformers-3.0.2 typer-0.3.2 webdataset-0.1.37\n"
          ],
          "name": "stdout"
        }
      ]
    },
    {
      "cell_type": "markdown",
      "metadata": {
        "id": "Kqg4Rwki4jBX",
        "colab_type": "text"
      },
      "source": [
        "# Introduction\n",
        "\n",
        "Data augmentation is a useful method to improve the performance of models which is applicable across multiple domains. Certain augmentations can also substantially improve robustness of models to noisy samples. \n",
        "\n",
        "In this notebook, we describe how to construct an augmentation pipeline inside [Neural Modules (NeMo)](https://github.com/NVIDIA/NeMo), enable augmented training of a [MatchboxNet model](https://arxiv.org/abs/2004.08531 ) ( based on QuartzNet, from the paper [\"QuartzNet: Deep Automatic Speech Recognition with 1D Time-Channel Separable Convolutions\"](https://arxiv.org/abs/1910.10261)) and finally how to construct custom augmentations to add to NeMo.\n",
        "\n",
        "The notebook will follow the steps below:\n",
        "\n",
        " - Dataset preparation: Preparing a noise dataset using an example file.\n",
        "\n",
        " - Construct a data augmentation pipeline.\n",
        " \n",
        " - Construct a custom augmentation and register it for use in NeMo."
      ]
    },
    {
      "cell_type": "markdown",
      "metadata": {
        "id": "5XieMEo84pJ-",
        "colab_type": "text"
      },
      "source": [
        "## Note\n",
        "Data augmentation is valuable for many datasets, but it comes at the cost of increased training time if samples are augmented during training time. Certain augmentations are particularly costly, in terms of how much time they take to process a single sample. A few examples of slow augmentations available in NeMo are : \n",
        "\n",
        " - Speed Perturbation\n",
        " - Time Stretch Perturbation (Sample level)\n",
        " - Noise Perturbation\n",
        " - Impulse Perturbation\n",
        " - Time Stretch Augmentation (Batch level, Neural Module)\n",
        " \n",
        "For such augmentations, it is advisable to pre-process the dataset offline for a one time preprocessing cost and then train the dataset on this augmented training set."
      ]
    },
    {
      "cell_type": "markdown",
      "metadata": {
        "id": "Tgc_ZHDl4sMy",
        "colab_type": "text"
      },
      "source": [
        "## Taking a Look at Our Data (AN4)\n",
        "\n",
        "The AN4 dataset, also known as the Alphanumeric dataset, was collected and published by Carnegie Mellon University. It consists of recordings of people spelling out addresses, names, telephone numbers, etc., one letter or number at a time, as well as their corresponding transcripts. We choose to use AN4 for this tutorial because it is relatively small, with 948 training and 130 test utterances, and so it trains quickly.\n",
        "\n",
        "Before we get started, let's download and prepare the dataset. The utterances are available as `.sph` files, so we will need to convert them to `.wav` for later processing. Please make sure you have [Sox](http://sox.sourceforge.net/) installed for this step (see the \"Downloads\" section of the main page)."
      ]
    },
    {
      "cell_type": "code",
      "metadata": {
        "id": "DtLm_XuQ3pmk",
        "colab_type": "code",
        "colab": {}
      },
      "source": [
        "# This is where the an4/ directory will be placed.\n",
        "# Change this if you don't want the data to be extracted in the current directory.\n",
        "data_dir = '.'"
      ],
      "execution_count": null,
      "outputs": []
    },
    {
      "cell_type": "code",
      "metadata": {
        "id": "HjfLhUtH4wNc",
        "colab_type": "code",
        "colab": {
          "base_uri": "https://localhost:8080/",
          "height": 102
        },
        "outputId": "f0a9cd46-6709-49dd-9103-1e0ef61de745"
      },
      "source": [
        "import glob\n",
        "import os\n",
        "import subprocess\n",
        "import tarfile\n",
        "import wget\n",
        "\n",
        "# Download the dataset. This will take a few moments...\n",
        "print(\"******\")\n",
        "if not os.path.exists(data_dir + '/an4_sphere.tar.gz'):\n",
        "    an4_url = 'http://www.speech.cs.cmu.edu/databases/an4/an4_sphere.tar.gz'\n",
        "    an4_path = wget.download(an4_url, data_dir)\n",
        "    print(f\"Dataset downloaded at: {an4_path}\")\n",
        "else:\n",
        "    print(\"Tarfile already exists.\")\n",
        "    an4_path = data_dir + '/an4_sphere.tar.gz'\n",
        "\n",
        "if not os.path.exists(data_dir + '/an4/'):\n",
        "    # Untar and convert .sph to .wav (using sox)\n",
        "    tar = tarfile.open(an4_path)\n",
        "    tar.extractall(path=data_dir)\n",
        "\n",
        "    print(\"Converting .sph to .wav...\")\n",
        "    sph_list = glob.glob(data_dir + '/an4/**/*.sph', recursive=True)\n",
        "    for sph_path in sph_list:\n",
        "        wav_path = sph_path[:-4] + '.wav'\n",
        "        cmd = [\"sox\", sph_path, wav_path]\n",
        "        subprocess.run(cmd)\n",
        "print(\"Finished conversion.\\n******\")\n"
      ],
      "execution_count": null,
      "outputs": [
        {
          "output_type": "stream",
          "text": [
            "******\n",
            "Dataset downloaded at: ./an4_sphere.tar.gz\n",
            "Converting .sph to .wav...\n",
            "Finished conversion.\n",
            "******\n"
          ],
          "name": "stdout"
        }
      ]
    },
    {
      "cell_type": "markdown",
      "metadata": {
        "id": "HqJmf4WB5P1x",
        "colab_type": "text"
      },
      "source": [
        "You should now have a folder called `an4` that contains `etc/an4_train.transcription`, `etc/an4_test.transcription`, audio files in `wav/an4_clstk` and `wav/an4test_clstk`, along with some other files we will not need.\n",
        "\n",
        "We now build a few manifest files which will be used later:"
      ]
    },
    {
      "cell_type": "code",
      "metadata": {
        "id": "AmR6CH025C8E",
        "colab_type": "code",
        "colab": {
          "base_uri": "https://localhost:8080/",
          "height": 85
        },
        "outputId": "0cd776ea-078f-4ab8-8a79-eed3e1c05839"
      },
      "source": [
        "# --- Building Manifest Files --- #\n",
        "import json\n",
        "import librosa\n",
        "\n",
        "# Function to build a manifest\n",
        "def build_manifest(transcripts_path, manifest_path, wav_path):\n",
        "    with open(transcripts_path, 'r') as fin:\n",
        "        with open(manifest_path, 'w') as fout:\n",
        "            for line in fin:\n",
        "                # Lines look like this:\n",
        "                # <s> transcript </s> (fileID)\n",
        "                transcript = line[: line.find('(')-1].lower()\n",
        "                transcript = transcript.replace('<s>', '').replace('</s>', '')\n",
        "                transcript = transcript.strip()\n",
        "\n",
        "                file_id = line[line.find('(')+1 : -2]  # e.g. \"cen4-fash-b\"\n",
        "                audio_path = os.path.join(\n",
        "                    data_dir, wav_path,\n",
        "                    file_id[file_id.find('-')+1 : file_id.rfind('-')],\n",
        "                    file_id + '.wav')\n",
        "\n",
        "                duration = librosa.core.get_duration(filename=audio_path)\n",
        "\n",
        "                # Write the metadata to the manifest\n",
        "                metadata = {\n",
        "                    \"audio_filepath\": audio_path,\n",
        "                    \"duration\": duration,\n",
        "                    \"text\": transcript\n",
        "                }\n",
        "                json.dump(metadata, fout)\n",
        "                fout.write('\\n')\n",
        "                \n",
        "# Building Manifests\n",
        "print(\"******\")\n",
        "train_transcripts = data_dir + '/an4/etc/an4_train.transcription'\n",
        "train_manifest = data_dir + '/an4/train_manifest.json'\n",
        "build_manifest(train_transcripts, train_manifest, 'an4/wav/an4_clstk')\n",
        "print(\"Training manifest created.\")\n",
        "\n",
        "test_transcripts = data_dir + '/an4/etc/an4_test.transcription'\n",
        "test_manifest = data_dir + '/an4/test_manifest.json'\n",
        "build_manifest(test_transcripts, test_manifest, 'an4/wav/an4test_clstk')\n",
        "print(\"Test manifest created.\")\n",
        "print(\"******\")"
      ],
      "execution_count": null,
      "outputs": [
        {
          "output_type": "stream",
          "text": [
            "******\n",
            "Training manifest created.\n",
            "Test manifest created.\n",
            "******\n"
          ],
          "name": "stdout"
        }
      ]
    },
    {
      "cell_type": "markdown",
      "metadata": {
        "id": "EQsXzh7x5zIQ",
        "colab_type": "text"
      },
      "source": [
        "## Prepare the path to manifest files"
      ]
    },
    {
      "cell_type": "code",
      "metadata": {
        "id": "vmOa0IRC5eW4",
        "colab_type": "code",
        "colab": {}
      },
      "source": [
        "dataset_basedir = os.path.join(data_dir, 'an4')\n",
        "\n",
        "train_dataset = os.path.join(dataset_basedir, 'train_manifest.json')\n",
        "test_dataset = os.path.join(dataset_basedir, 'test_manifest.json')"
      ],
      "execution_count": null,
      "outputs": []
    },
    {
      "cell_type": "markdown",
      "metadata": {
        "id": "pz9LC3yZ6J1Q",
        "colab_type": "text"
      },
      "source": [
        "## Read a few rows of the manifest file \n",
        "\n",
        "Manifest files are the data structure used by NeMo to declare a few important details about the data :\n",
        "\n",
        "1) `audio_filepath`: Refers to the path to the raw audio file <br>\n",
        "2) `text`: The text transcript of this sample <br>\n",
        "3) `duration`: The length of the audio file, in seconds."
      ]
    },
    {
      "cell_type": "code",
      "metadata": {
        "id": "3OzZQiX751iz",
        "colab_type": "code",
        "colab": {}
      },
      "source": [
        "!head -n 5 {train_dataset}"
      ],
      "execution_count": null,
      "outputs": []
    },
    {
      "cell_type": "markdown",
      "metadata": {
        "id": "pD9bprV66Oai",
        "colab_type": "text"
      },
      "source": [
        "# Data Augmentation Pipeline\n",
        "\n",
        "Constructing a data augmentation pipeline in NeMo is as simple as composing a nested dictionary that describes two things :\n",
        "\n",
        "1) The probability of that augmentation occuring - using the `prob` keyword <br>\n",
        "2) The keyword arguments required by that augmentation class\n",
        "\n",
        "Below, we show a few samples of these augmentations. Note, in order to distinguish between the original sample and the perturbed sample, we exaggerate the perturbation strength significantly."
      ]
    },
    {
      "cell_type": "code",
      "metadata": {
        "id": "l5bc7gYO6MHG",
        "colab_type": "code",
        "colab": {}
      },
      "source": [
        "import torch\n",
        "import IPython.display as ipd"
      ],
      "execution_count": null,
      "outputs": []
    },
    {
      "cell_type": "markdown",
      "metadata": {
        "id": "L8Bd8s3e6TeK",
        "colab_type": "text"
      },
      "source": [
        "## Audio file preparation "
      ]
    },
    {
      "cell_type": "code",
      "metadata": {
        "id": "g7f9riZz6Qnj",
        "colab_type": "code",
        "colab": {}
      },
      "source": [
        "# Import the data augmentation component from ASR collection\n",
        "from nemo.collections.asr.parts import perturb, segment"
      ],
      "execution_count": null,
      "outputs": []
    },
    {
      "cell_type": "code",
      "metadata": {
        "id": "wK8uwpt16d6I",
        "colab_type": "code",
        "colab": {}
      },
      "source": [
        "# Lets see the available perturbations\n",
        "perturb.perturbation_types"
      ],
      "execution_count": null,
      "outputs": []
    },
    {
      "cell_type": "markdown",
      "metadata": {
        "id": "IP1VpkOA6nE-",
        "colab_type": "text"
      },
      "source": [
        "### Obtain a baseline audio file"
      ]
    },
    {
      "cell_type": "code",
      "metadata": {
        "id": "sj4DNMmZ6ktm",
        "colab_type": "code",
        "colab": {}
      },
      "source": [
        "filepath = librosa.util.example_audio_file()\n",
        "sample, sr = librosa.core.load(filepath)\n",
        "\n",
        "ipd.Audio(sample, rate=sr)"
      ],
      "execution_count": null,
      "outputs": []
    },
    {
      "cell_type": "markdown",
      "metadata": {
        "id": "M9mZNm296tNf",
        "colab_type": "text"
      },
      "source": [
        "### Convert to WAV format"
      ]
    },
    {
      "cell_type": "code",
      "metadata": {
        "id": "QDjlgLc-6vtq",
        "colab_type": "code",
        "colab": {}
      },
      "source": [
        "import soundfile as sf\n",
        "\n",
        "# lets convert this ogg file into a wave to be compatible with NeMo\n",
        "if not os.path.exists('./media'):\n",
        "    os.makedirs('./media/')\n",
        "    \n",
        "filename = 'Kevin_MacLeod_-_Vibe_Ace.wav'\n",
        "filepath = os.path.join('media', filename)\n",
        "\n",
        "sf.write(filepath, sample, samplerate=sr)"
      ],
      "execution_count": null,
      "outputs": []
    },
    {
      "cell_type": "code",
      "metadata": {
        "id": "FEkV-ikT6xgB",
        "colab_type": "code",
        "colab": {}
      },
      "source": [
        "sample, sr = librosa.core.load(filepath)\n",
        "ipd.Audio(sample, rate=sr)"
      ],
      "execution_count": null,
      "outputs": []
    },
    {
      "cell_type": "code",
      "metadata": {
        "id": "gmuwEwIQ6zK3",
        "colab_type": "code",
        "colab": {}
      },
      "source": [
        "# NeMo has its own support class for loading wav files\n",
        "def load_audio() -> segment.AudioSegment:\n",
        "    filename = 'Kevin_MacLeod_-_Vibe_Ace.wav'\n",
        "    filepath = os.path.join('media', filename)\n",
        "    sample_segment = segment.AudioSegment.from_file(filepath, target_sr=sr)\n",
        "    return sample_segment\n",
        "\n",
        "sample_segment = load_audio()\n",
        "ipd.Audio(sample_segment.samples, rate=sr)"
      ],
      "execution_count": null,
      "outputs": []
    },
    {
      "cell_type": "markdown",
      "metadata": {
        "id": "hTnf1g1y63wZ",
        "colab_type": "text"
      },
      "source": [
        "## White Noise Perturbation\n",
        "\n",
        "White Noise perturbation is performed by the following steps : <br>\n",
        "1) Randomly sample the amplitude of the noise from a uniformly distributed range (defined in dB) <br>\n",
        "2) Sample gaussian noise (mean = 0, std = 1) with same length as audio signal <br>\n",
        "3) Scale this gaussian noise by the amplitude (in dB scale) <br>\n",
        "4) Add this noise vector to the original sample\n",
        "\n",
        "Notably, the original signal should not have a \"hissing sound\" constantly present in the perturbed version."
      ]
    },
    {
      "cell_type": "code",
      "metadata": {
        "id": "2jaPQyUY65ij",
        "colab_type": "code",
        "colab": {}
      },
      "source": [
        "white_noise = perturb.WhiteNoisePerturbation(min_level=-50, max_level=-30)\n",
        "\n",
        "# Perturb the audio file\n",
        "sample_segment = load_audio()\n",
        "white_noise.perturb(sample_segment)\n",
        "\n",
        "ipd.Audio(sample_segment.samples, rate=sr)"
      ],
      "execution_count": null,
      "outputs": []
    },
    {
      "cell_type": "markdown",
      "metadata": {
        "id": "2dfwesJU7DhN",
        "colab_type": "text"
      },
      "source": [
        "## Shift Perturbation\n",
        "\n",
        "Shift perturbation is performed by the following steps : <br>\n",
        "1) Randomly sample the shift factor of the signal from a uniformly distributed range (defined in milliseconds) <br>\n",
        "2) Depending on the sign of the shift, we shift the original signal to the left or the right. <br>\n",
        "3) The boundary locations are filled with zeros after the shift of the signal <br>\n",
        "\n",
        "Notably, the perturbed signal below skips the first 25 to 50 seconds of the original audio below, and the remainder of the time is simply silence. "
      ]
    },
    {
      "cell_type": "code",
      "metadata": {
        "id": "2ONq8dBI7BZf",
        "colab_type": "code",
        "colab": {}
      },
      "source": [
        "shift = perturb.ShiftPerturbation(min_shift_ms=25000.0, max_shift_ms=50000.0)\n",
        "\n",
        "# Perturb the audio file \n",
        "sample_segment = load_audio()\n",
        "shift.perturb(sample_segment)\n",
        "\n",
        "ipd.Audio(sample_segment.samples, rate=sr)"
      ],
      "execution_count": null,
      "outputs": []
    },
    {
      "cell_type": "markdown",
      "metadata": {
        "id": "kywA3h4T7G_S",
        "colab_type": "text"
      },
      "source": [
        "## Data Dependent Perturbations\n",
        "\n",
        "Some perturbations require an external data source in order to perturb the original sample. Noise Perturbation is a perfect example of one such augmentation that requires an external noise source dataset in order to pertur the original data."
      ]
    },
    {
      "cell_type": "markdown",
      "metadata": {
        "id": "eYm2DgGQ7KPe",
        "colab_type": "text"
      },
      "source": [
        "### Preparing a manifest of \"noise\" samples"
      ]
    },
    {
      "cell_type": "code",
      "metadata": {
        "id": "RXZ1o85E7FLT",
        "colab_type": "code",
        "colab": {}
      },
      "source": [
        "# Lets prepare a manifest file using the baseline file itself, cut into 1 second segments\n",
        "\n",
        "def write_manifest(filepath, data_dir='./media/', manifest_name='noise_manifest', duration_max=None, duration_stride=1.0, filter_long=False, duration_limit=10.0):\n",
        "    if duration_max is None:\n",
        "        duration_max = 1e9\n",
        "                \n",
        "    with open(os.path.join(data_dir, manifest_name + '.json'), 'w') as fout:\n",
        "        \n",
        "        try:\n",
        "            x, _sr = librosa.load(filepath)\n",
        "            duration = librosa.get_duration(x, sr=_sr)\n",
        "\n",
        "        except Exception:\n",
        "            print(f\"\\n>>>>>>>>> WARNING: Librosa failed to load file {filepath}. Skipping this file !\\n\")\n",
        "            return\n",
        "\n",
        "        if filter_long and duration > duration_limit:\n",
        "            print(f\"Skipping sound sample {filepath}, exceeds duration limit of {duration_limit}\")\n",
        "            return\n",
        "\n",
        "        offsets = []\n",
        "        durations = []\n",
        "\n",
        "        if duration > duration_max:\n",
        "            current_offset = 0.0\n",
        "\n",
        "            while current_offset < duration:\n",
        "                difference = duration - current_offset\n",
        "                segment_duration = min(duration_max, difference)\n",
        "\n",
        "                offsets.append(current_offset)\n",
        "                durations.append(segment_duration)\n",
        "\n",
        "                current_offset += duration_stride\n",
        "\n",
        "        else:\n",
        "            offsets.append(0.0)\n",
        "            durations.append(duration)\n",
        "\n",
        "\n",
        "        for duration, offset in zip(durations, offsets):\n",
        "            metadata = {\n",
        "                'audio_filepath': filepath,\n",
        "                'duration': duration,\n",
        "                'label': 'noise',\n",
        "                'text': '_',  # for compatibility with ASRAudioText collection\n",
        "                'offset': offset,\n",
        "            }\n",
        "\n",
        "            json.dump(metadata, fout)\n",
        "            fout.write('\\n')\n",
        "            fout.flush()\n",
        "\n",
        "        print(f\"Wrote {len(durations)} segments for filename {filename}\")\n",
        "            \n",
        "    print(\"Finished preparing manifest !\")"
      ],
      "execution_count": null,
      "outputs": []
    },
    {
      "cell_type": "code",
      "metadata": {
        "id": "wLTT8jlP7NdU",
        "colab_type": "code",
        "colab": {}
      },
      "source": [
        "filename = 'Kevin_MacLeod_-_Vibe_Ace.wav'\n",
        "filepath = os.path.join('media', filename)\n",
        "\n",
        "# Write a \"noise\" manifest file\n",
        "write_manifest(filepath, manifest_name='noise_1s', duration_max=1.0, duration_stride=1.0)"
      ],
      "execution_count": null,
      "outputs": []
    },
    {
      "cell_type": "code",
      "metadata": {
        "id": "izbdrSmd7PY5",
        "colab_type": "code",
        "colab": {}
      },
      "source": [
        "# Lets read this noise manifest file\n",
        "noise_manifest_path = os.path.join('media', 'noise_1s.json')\n",
        "\n",
        "!head -n 5 {noise_manifest_path}"
      ],
      "execution_count": null,
      "outputs": []
    },
    {
      "cell_type": "code",
      "metadata": {
        "id": "82yq0TOV7Q_4",
        "colab_type": "code",
        "colab": {}
      },
      "source": [
        "# Lets create a helper method to load the first file in the train dataset of AN4\n",
        "# Load the first sample in the manifest\n",
        "def load_gsc_sample() -> segment.AudioSegment:\n",
        "    with open(train_dataset, 'r') as f:\n",
        "        line = f.readline()\n",
        "        \n",
        "    line = json.loads(line)\n",
        "    gsc_filepath = line['audio_filepath']\n",
        "    sample_segment = segment.AudioSegment.from_file(gsc_filepath)\n",
        "    return sample_segment\n",
        "\n",
        "gsc_sample_segment = load_gsc_sample()\n",
        "ipd.Audio(gsc_sample_segment.samples, rate=16000)"
      ],
      "execution_count": null,
      "outputs": []
    },
    {
      "cell_type": "markdown",
      "metadata": {
        "id": "zV9ypBqz7V9a",
        "colab_type": "text"
      },
      "source": [
        "## Noise Augmentation\n",
        "\n",
        "Noise perturbation is performed by the following steps : <br>\n",
        "1) Randomly sample the amplitude scale of the noise sample from a uniformly distributed range (defined in dB) <br>\n",
        "2) Randomly choose an audio clip from the set of noise audio samples available <br>\n",
        "3) Compute the gain (in dB) required for the noise clip as compared to the original sample and scale the noise by this factor <br>\n",
        "4) If the noise snippet is of shorter duration than the original audio, then randomly select an index in time from the original sample, where the noise snippet will be added <br>\n",
        "5) If instead the noise snippet is longer than the duration of the original audio, then randomly subsegment the noise snippet and add the full snippet to the original audio <br>\n",
        "\n",
        "Notably, the noise perturbed sample should sound as if there are two sounds playing at the same time (overlapping audio) as compared to the original signal. The magnitude of the noise will be dependent on step (3) and the location where the noise is added will depend on steps (4) and (5)."
      ]
    },
    {
      "cell_type": "code",
      "metadata": {
        "id": "cjSXci1v7Tlg",
        "colab_type": "code",
        "colab": {}
      },
      "source": [
        "import random\n",
        "rng = random.Random(0)\n",
        "noise = perturb.NoisePerturbation(manifest_path=noise_manifest_path,\n",
        "                                  min_snr_db=-10, max_snr_db=-10,\n",
        "                                  max_gain_db=300.0, rng=rng)\n",
        "\n",
        "# Perturb the audio file \n",
        "sample_segment = load_gsc_sample()\n",
        "noise.perturb(sample_segment)\n",
        "\n",
        "ipd.Audio(sample_segment.samples, rate=16000)"
      ],
      "execution_count": null,
      "outputs": []
    },
    {
      "cell_type": "markdown",
      "metadata": {
        "id": "kJjUkGJu7ern",
        "colab_type": "text"
      },
      "source": [
        "## Speed Perturbation\n",
        "\n",
        "Speed perturbation changes the speed of the speech, but does not preserve pitch of the sound. Try a few random augmentations to see how the pitch changes with change in duration of the audio file.\n",
        "\n",
        "**Note**: This is a very slow augmentation and is not advised to perform online augmentation for large datasets as it can dramatically increase training time."
      ]
    },
    {
      "cell_type": "code",
      "metadata": {
        "id": "Ic-ziInU7ZKC",
        "colab_type": "code",
        "colab": {}
      },
      "source": [
        "resample_type = 'kaiser_best'  # Can be ['kaiser_best', 'kaiser_fast', 'fft', 'scipy']\n",
        "speed = perturb.SpeedPerturbation(sr, resample_type, min_speed_rate=0.5, max_speed_rate=2.0, num_rates=-1)\n",
        "\n",
        "# Perturb the audio file \n",
        "sample_segment = load_gsc_sample()\n",
        "speed.perturb(sample_segment)\n",
        "\n",
        "ipd.Audio(sample_segment.samples, rate=16000)"
      ],
      "execution_count": null,
      "outputs": []
    },
    {
      "cell_type": "markdown",
      "metadata": {
        "id": "bhHX3dyh7jPq",
        "colab_type": "text"
      },
      "source": [
        "## Time Stretch Perturbation\n",
        "\n",
        "Time Stretch perturbation changes the speed of the speech, and also preserve pitch of the sound. \n",
        "Try a few random augmentations to see how the pitch remains close to the same with change in duration of the audio file."
      ]
    },
    {
      "cell_type": "markdown",
      "metadata": {
        "id": "8_kNSfcK7lfP",
        "colab_type": "text"
      },
      "source": [
        "### Note about speed optimizations\n",
        "\n",
        "Time stretch is a costly augmentation, and can easily cause training time to increase drastically. It is suggested that one installs the `numba` library using conda to use a more optimized augmentation kernel.\n",
        "\n",
        "```python\n",
        "conda install numba\n",
        "```"
      ]
    },
    {
      "cell_type": "code",
      "metadata": {
        "id": "Dpeb0QUZ7g3l",
        "colab_type": "code",
        "colab": {}
      },
      "source": [
        "time_stretch = perturb.TimeStretchPerturbation(min_speed_rate=0.5, max_speed_rate=2.0, num_rates=-1)\n",
        "\n",
        "# Perturb the audio file \n",
        "sample_segment = load_gsc_sample()\n",
        "time_stretch.perturb(sample_segment)\n",
        "\n",
        "ipd.Audio(sample_segment.samples, rate=16000)"
      ],
      "execution_count": null,
      "outputs": []
    },
    {
      "cell_type": "markdown",
      "metadata": {
        "id": "vhH1-Ga87rCX",
        "colab_type": "text"
      },
      "source": [
        "# Augmentation Pipeline\n",
        "\n",
        "The augmentation pipeline can be constructed in multiple ways, either explicitly by instantiating the objects of these perturbations or implicitly by providing the arguments to these augmentations as a nested dictionary.\n",
        "\n",
        "We will show both approaches in the following sections"
      ]
    },
    {
      "cell_type": "markdown",
      "metadata": {
        "id": "RC8_NOD97tlW",
        "colab_type": "text"
      },
      "source": [
        "## Explicit definition"
      ]
    },
    {
      "cell_type": "markdown",
      "metadata": {
        "id": "UwWE7swo72WP",
        "colab_type": "text"
      },
      "source": [
        "### Instantiate the perturbations"
      ]
    },
    {
      "cell_type": "code",
      "metadata": {
        "id": "GdLYn0hx7pRU",
        "colab_type": "code",
        "colab": {}
      },
      "source": [
        "perturbations = [\n",
        "    perturb.WhiteNoisePerturbation(min_level=-90, max_level=-46),\n",
        "    perturb.GainPerturbation(min_gain_dbfs=0, max_gain_dbfs=50),\n",
        "    perturb.NoisePerturbation(manifest_path=noise_manifest_path,\n",
        "                              min_snr_db=0, max_snr_db=50, max_gain_db=300.0)\n",
        "]"
      ],
      "execution_count": null,
      "outputs": []
    },
    {
      "cell_type": "markdown",
      "metadata": {
        "id": "CDSSbZ8w7zzR",
        "colab_type": "text"
      },
      "source": [
        "### Select chance of perturbations being applied"
      ]
    },
    {
      "cell_type": "code",
      "metadata": {
        "id": "NmoxfLSL7xPJ",
        "colab_type": "code",
        "colab": {}
      },
      "source": [
        "probas = [1.0, 1.0, 0.5]"
      ],
      "execution_count": null,
      "outputs": []
    },
    {
      "cell_type": "markdown",
      "metadata": {
        "id": "wl0tnrMq79Jh",
        "colab_type": "text"
      },
      "source": [
        "### Prepare the audio augmentation object"
      ]
    },
    {
      "cell_type": "code",
      "metadata": {
        "id": "nO6T4U4f767o",
        "colab_type": "code",
        "colab": {}
      },
      "source": [
        "augmentations = list(zip(probas, perturbations))\n",
        "\n",
        "audio_augmentations = perturb.AudioAugmentor(augmentations)\n",
        "audio_augmentations._pipeline"
      ],
      "execution_count": null,
      "outputs": []
    },
    {
      "cell_type": "markdown",
      "metadata": {
        "id": "9cgI9yUx8Cyv",
        "colab_type": "text"
      },
      "source": [
        "## Implicit definition\n",
        "\n",
        "Implicit definitions are preferred since they can be prepared in the actual configuration object."
      ]
    },
    {
      "cell_type": "code",
      "metadata": {
        "id": "tiqrKFTM7_mH",
        "colab_type": "code",
        "colab": {}
      },
      "source": [
        "perturb.perturbation_types  # Available perturbations"
      ],
      "execution_count": null,
      "outputs": []
    },
    {
      "cell_type": "markdown",
      "metadata": {
        "id": "dbeXwLdw8VEc",
        "colab_type": "text"
      },
      "source": [
        "### Prepare the nested dictionary"
      ]
    },
    {
      "cell_type": "code",
      "metadata": {
        "id": "mbE0qEA98TRI",
        "colab_type": "code",
        "colab": {}
      },
      "source": [
        "audio_augmentations = dict(\n",
        "    white_noise = dict(\n",
        "        prob=1.0,\n",
        "        min_level=-90,\n",
        "        max_level=-46\n",
        "    ),\n",
        "    gain = dict(\n",
        "        prob=1.0,\n",
        "        min_gain_dbfs=0,\n",
        "        max_gain_dbfs=50\n",
        "    ),\n",
        "    noise = dict(\n",
        "        prob=0.5,\n",
        "        manifest_path=noise_manifest_path,\n",
        "        min_snr_db=0,\n",
        "        max_snr_db=50,\n",
        "        max_gain_db=300.0\n",
        "    )\n",
        ")\n",
        "\n",
        "audio_augmentations"
      ],
      "execution_count": null,
      "outputs": []
    },
    {
      "cell_type": "markdown",
      "metadata": {
        "id": "tcsoCe9-8ZM9",
        "colab_type": "text"
      },
      "source": [
        "### Supply `augmentor` as an argument to the `model.train_ds` config\n",
        "\n",
        "Most of the common datasets used by ASR models support the keyword `augmentor` - which can include a nested dictionary defining the implicit definition of an augmentation pipeline.\n",
        "\n",
        "Note, all ASR models support implicit declaration of augmentations. This includes - \n",
        "\n",
        "1) Speech To Label Models <br>\n",
        "2) Speech To Text Models <br>\n",
        "3) Speech To Text Models with BPE/WPE Support<br>"
      ]
    },
    {
      "cell_type": "markdown",
      "metadata": {
        "id": "0WOJC0fdBL5J",
        "colab_type": "text"
      },
      "source": [
        "# Training - Application of augmentations\n",
        "\n",
        "We will be describing the data loaders for a MatchboxNet model from the paper \"[MatchboxNet: 1D Time-Channel Separable Convolutional Neural Network Architecture for Speech Commands Recognition](https://arxiv.org/abs/2004.08531)\". The benefit of MatchboxNet over JASPER models is that they use Separable Convolutions, which greatly reduce the number of parameters required to get good model accuracy.\n",
        "\n",
        "<ins>Care must be taken not to apply augmentations to the test set!</ins>\n"
      ]
    },
    {
      "cell_type": "code",
      "metadata": {
        "id": "7iDWiIrzBzUA",
        "colab_type": "code",
        "colab": {}
      },
      "source": [
        "from omegaconf import OmegaConf"
      ],
      "execution_count": null,
      "outputs": []
    },
    {
      "cell_type": "code",
      "metadata": {
        "id": "yv3KWNjcAUnQ",
        "colab_type": "code",
        "colab": {}
      },
      "source": [
        "# We will download the MatchboxNet configuration file for either v1 or v2 dataset here\n",
        "DATASET_VER = 1\n",
        "\n",
        "if DATASET_VER == 1:\n",
        "  MODEL_CONFIG = \"matchboxnet_3x1x64_v1.yaml\"\n",
        "else:\n",
        "  MODEL_CONFIG = \"matchboxnet_3x1x64_v2.yaml\"\n",
        "\n",
        "if not os.path.exists(f\"configs/{MODEL_CONFIG}\"):\n",
        "  !wget -P configs/ \"https://raw.githubusercontent.com/NVIDIA/NeMo/candidate/examples/asr/conf/{MODEL_CONFIG}\""
      ],
      "execution_count": null,
      "outputs": []
    },
    {
      "cell_type": "code",
      "metadata": {
        "id": "vOcv0ri3BkmA",
        "colab_type": "code",
        "colab": {}
      },
      "source": [
        "# This line will load the entire config of the MatchboxNet model\n",
        "config_path = f\"configs/{MODEL_CONFIG}\"\n",
        "config = OmegaConf.load(config_path)"
      ],
      "execution_count": null,
      "outputs": []
    },
    {
      "cell_type": "markdown",
      "metadata": {
        "id": "mLsyceMSCIHV",
        "colab_type": "text"
      },
      "source": [
        "### Augmentation in train set only\n",
        "\n",
        "Note how the train dataset config supports the `augmentor` implicit definition, however the test config does not.\n",
        "\n",
        "This is essential to avoid mistakenly performing Test Time Augmentation."
      ]
    },
    {
      "cell_type": "code",
      "metadata": {
        "id": "VgUVm7lGB8Cz",
        "colab_type": "code",
        "colab": {}
      },
      "source": [
        "# Has `augmentor`\n",
        "print(config.model.train_ds.pretty())"
      ],
      "execution_count": null,
      "outputs": []
    },
    {
      "cell_type": "code",
      "metadata": {
        "id": "gURwQ2eyCE7o",
        "colab_type": "code",
        "colab": {}
      },
      "source": [
        "# Does not have `augmentor`\n",
        "print(config.model.test_ds.pretty())"
      ],
      "execution_count": null,
      "outputs": []
    },
    {
      "cell_type": "markdown",
      "metadata": {
        "id": "_UV74AVlCo_m",
        "colab_type": "text"
      },
      "source": [
        "# Custom Perturbations\n",
        "\n",
        "We can define and use custom perturbations as required simply by extending the `Perturbation` class. \n",
        "\n",
        "Lets look at how we can build a custom Noise Perturbation that we can use to evaluate the effect of noise at inference time, in order to analyse the model's robustness to noise\n",
        "\n",
        "In evaluation mode, we want to set an explicit value for the `snr_db` parameter instead of uniformly sample it from a range. This allows us to control the signal to noise ratio without relying on randomness from the training implementation of `NoisePerturbation`.\n",
        "\n",
        "Further, we force a random seed in order to produce reproduceable results on the evaluation set.\n",
        "\n",
        "With this combination, we can easily evaluate each sample in the test set `S` times (`S` being the number of random seeds), and can evaluate each of these samples at `D` levels of Signal to Noise Ratio (in dB). "
      ]
    },
    {
      "cell_type": "code",
      "metadata": {
        "id": "Q9YBmBiZCbAX",
        "colab_type": "code",
        "colab": {}
      },
      "source": [
        "# We use a NeMo utility to parse the manifest file for us\n",
        "from nemo.collections.asr.parts import collections, parsers\n",
        "\n",
        "class NoisePerturbationEval(perturb.Perturbation):\n",
        "    def __init__(\n",
        "        self, manifest_path=None, snr_db=40, max_gain_db=300.0, seed=None,\n",
        "    ):\n",
        "        seed = seed if seed is not None else 0\n",
        "        self._manifest = collections.ASRAudioText(manifest_path, parser=parsers.make_parser([]))\n",
        "        self._snr_db = snr_db\n",
        "        self._max_gain_db = max_gain_db\n",
        "        self._rng = random.Random(seed)\n",
        "    \n",
        "    # This is mostly obtained from the original NoisePerturbation class itself\n",
        "    def perturb(self, data):\n",
        "        snr_db = self._snr_db\n",
        "        noise_record = self._rng.sample(self._manifest.data, 1)[0]\n",
        "        noise = AudioSegment.from_file(noise_record.audio_file, target_sr=data.sample_rate)\n",
        "        noise_gain_db = min(data.rms_db - noise.rms_db - snr_db, self._max_gain_db)\n",
        "\n",
        "        # calculate noise segment to use\n",
        "        start_time = 0.0\n",
        "        if noise.duration > (start_time + data.duration):\n",
        "            noise.subsegment(start_time=start_time, end_time=start_time + data.duration)\n",
        "\n",
        "        # adjust gain for snr purposes and superimpose\n",
        "        noise.gain_db(noise_gain_db)\n",
        "\n",
        "        if noise._samples.shape[0] < data._samples.shape[0]:\n",
        "            noise_idx = data._samples.shape[0] // 2  # midpoint of audio\n",
        "            while (noise_idx + noise._samples.shape[0]) > data._samples.shape[0]:\n",
        "                noise_idx = noise_idx // 2  # half the initial starting point\n",
        "\n",
        "            data._samples[noise_idx: noise_idx + noise._samples.shape[0]] += noise._samples\n",
        "\n",
        "        else:\n",
        "            data._samples += noise._samples\n"
      ],
      "execution_count": null,
      "outputs": []
    },
    {
      "cell_type": "markdown",
      "metadata": {
        "id": "qR8qiwSkC1eE",
        "colab_type": "text"
      },
      "source": [
        "## Registering augmentations\n",
        "\n",
        "We can use either approach to submit this test time augmentation to the Data Loaders.\n",
        "\n",
        "In order to obtain the convenience of the implicit method, we must register this augmentation into NeMo's directory of available augmentations. This can be done as follows -"
      ]
    },
    {
      "cell_type": "code",
      "metadata": {
        "id": "40Z4Fm88CxWA",
        "colab_type": "code",
        "colab": {}
      },
      "source": [
        "perturb.register_perturbation(name='noise_eval', perturbation=NoisePerturbationEval)"
      ],
      "execution_count": null,
      "outputs": []
    },
    {
      "cell_type": "code",
      "metadata": {
        "id": "jVVbRxb-C4hB",
        "colab_type": "code",
        "colab": {}
      },
      "source": [
        "# Lets check the registry of allowed perturbations !\n",
        "perturb.perturbation_types"
      ],
      "execution_count": null,
      "outputs": []
    },
    {
      "cell_type": "markdown",
      "metadata": {
        "id": "2fiHz6CdC-B1",
        "colab_type": "text"
      },
      "source": [
        "## Overriding pre-existing augmentations\n",
        "\n",
        "**Note**: It is not allowed to overwrite already registered perturbations using the `perturb.register_perturbation` method. It will raise a `ValueError` in order to prevent overwriting the pre-existing perturbation types"
      ]
    }
  ]
}