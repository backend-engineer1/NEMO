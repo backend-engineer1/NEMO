{
 "cells": [
  {
   "cell_type": "code",
   "execution_count": null,
   "metadata": {
    "colab": {},
    "colab_type": "code",
    "id": "o_0K1lsW1dj9"
   },
   "outputs": [],
   "source": [
    "\"\"\"\n",
    "You can run either this notebook locally (if you have all the dependencies and a GPU) or on Google Colab.\n",
    "\n",
    "Instructions for setting up Colab are as follows:\n",
    "1. Open a new Python 3 notebook.\n",
    "2. Import this notebook from GitHub (File -> Upload Notebook -> \"GITHUB\" tab -> copy/paste GitHub URL)\n",
    "3. Connect to an instance with a GPU (Runtime -> Change runtime type -> select \"GPU\" for hardware accelerator)\n",
    "4. Run this cell to set up dependencies.\n",
    "\"\"\"\n",
    "# If you're using Google Colab and not running locally, run this cell\n",
    "\n",
    "# install NeMo\n",
    "BRANCH = 'v1.0.0b2'\n",
    "!python -m pip install git+https://github.com/NVIDIA/NeMo.git@$BRANCH#egg=nemo_toolkit[nlp]\n"
   ]
  },
  {
   "cell_type": "code",
   "execution_count": null,
   "metadata": {
    "colab": {},
    "colab_type": "code",
    "id": "uglDB-pVh__t",
    "pycharm": {
     "name": "#%%\n"
    }
   },
   "outputs": [],
   "source": [
    "# If you're not using Colab, you might need to upgrade jupyter notebook to avoid the following error:\n",
    "# 'ImportError: IProgress not found. Please update jupyter and ipywidgets.'\n",
    "\n",
    "! pip install ipywidgets\n",
    "! jupyter nbextension enable --py widgetsnbextension\n",
    "\n",
    "# Please restart the kernel after running this cell"
   ]
  },
  {
   "cell_type": "code",
   "execution_count": null,
   "metadata": {
    "colab": {},
    "colab_type": "code",
    "id": "dzqD2WDFOIN-"
   },
   "outputs": [],
   "source": [
    "from nemo.utils.exp_manager import exp_manager\n",
    "from nemo.collections import nlp as nemo_nlp\n",
    "\n",
    "import os\n",
    "import wget \n",
    "import torch\n",
    "import pytorch_lightning as pl\n",
    "from omegaconf import OmegaConf"
   ]
  },
  {
   "cell_type": "markdown",
   "metadata": {
    "colab_type": "text",
    "id": "daYw_Xll2ZR9"
   },
   "source": [
    "# Task Description\n",
    "For every word in our training dataset we’re going to predict:\n",
    "\n",
    "- punctuation mark that should follow the word and\n",
    "- whether the word should be capitalized"
   ]
  },
  {
   "cell_type": "markdown",
   "metadata": {
    "colab_type": "text",
    "id": "ZnuziSwJ1yEB"
   },
   "source": [
    "# Dataset\n",
    "This model can work with any dataset as long as it follows the format specified below. \n",
    "The training and evaluation data is divided into *2 files: text.txt and labels.txt*. \n",
    "Each line of the **text.txt** file contains text sequences, where words are separated with spaces: [WORD] [SPACE] [WORD] [SPACE] [WORD], for example:"
   ]
  },
  {
   "cell_type": "markdown",
   "metadata": {
    "colab_type": "text",
    "id": "TXFORGBv2Jqu"
   },
   "source": [
    "\n",
    "\n",
    "```\n",
    "when is the next flight to new york\n",
    "the next flight is ...\n",
    "...\n",
    "```\n",
    "\n"
   ]
  },
  {
   "cell_type": "markdown",
   "metadata": {
    "colab_type": "text",
    "id": "Y7ci55rM2QH8"
   },
   "source": [
    "The **labels.txt** file contains corresponding labels for each word in text.txt, the labels are separated with spaces. Each label in labels.txt file consists of 2 symbols:\n",
    "\n",
    "- the first symbol of the label indicates what punctuation mark should follow the word (where O means no punctuation needed);\n",
    "- the second symbol determines if a word needs to be capitalized or not (where U indicates that the word should be upper cased, and O - no capitalization needed.)\n",
    "\n",
    "In this tutorial, we are considering only commas, periods, and question marks the rest punctuation marks were removed. To use more punctuation marks, update the dataset to include desired labels, no changes to the model needed. \n",
    "\n",
    "Each line of the **labels.txt** should follow the format: \n",
    "[LABEL] [SPACE] [LABEL] [SPACE] [LABEL] (for labels.txt). \n",
    "For example, labels for the above text.txt file should be:"
   ]
  },
  {
   "cell_type": "markdown",
   "metadata": {
    "colab_type": "text",
    "id": "-94C1-864EW1"
   },
   "source": [
    "\n",
    "\n",
    "```\n",
    "OU OO OO OO OO OO OU ?U\n",
    "OU OO OO OO ...\n",
    "...\n",
    "```\n",
    "\n"
   ]
  },
  {
   "cell_type": "markdown",
   "metadata": {
    "colab_type": "text",
    "id": "VsEmwIPO4L4V"
   },
   "source": [
    "The complete list of all possible labels for this task used in this tutorial is: `OO, ,O, .O, ?O, OU, ,U, .U, ?U.`"
   ]
  },
  {
   "cell_type": "markdown",
   "metadata": {
    "colab_type": "text",
    "id": "SL58EWkd2ZVb"
   },
   "source": [
    "## Download and preprocess the data¶"
   ]
  },
  {
   "cell_type": "markdown",
   "metadata": {
    "colab_type": "text",
    "id": "THi6s1Qx2G1k"
   },
   "source": [
    "In this notebook we are going to use a subset of English examples from the [Tatoeba collection of sentences](https://tatoeba.org/eng) this script will download and preprocess the Tatoeba data [NeMo/examples/nlp/token_classification/get_tatoeba_data.py](https://github.com/NVIDIA/NeMo/blob/main/examples/nlp/token_classification/data/get_tatoeba_data.py). Note, for further experiments with the model, set NUM_SAMPLES=-1 and consider including other datasets to improve model performance. \n"
   ]
  },
  {
   "cell_type": "code",
   "execution_count": null,
   "metadata": {
    "colab": {},
    "colab_type": "code",
    "id": "n8HZrDmr12_-"
   },
   "outputs": [],
   "source": [
    "DATA_DIR = \"PATH_TO_DATA\"\n",
    "WORK_DIR = \"PATH_TO_CHECKPOINTS_AND_LOGS\"\n",
    "MODEL_CONFIG = \"punctuation_capitalization_config.yaml\"\n",
    "\n",
    "# model parameters\n",
    "BATCH_SIZE = 128\n",
    "MAX_SEQ_LENGTH = 64\n",
    "LEARNING_RATE = 0.00002\n",
    "NUM_SAMPLES = 10000"
   ]
  },
  {
   "cell_type": "code",
   "execution_count": null,
   "metadata": {
    "colab": {},
    "colab_type": "code",
    "id": "UOeeeCGqI-9c"
   },
   "outputs": [],
   "source": [
    "## download get_tatoeba_data.py script to download and preprocess the Tatoeba data\n",
    "os.makedirs(WORK_DIR, exist_ok=True)\n",
    "if not os.path.exists(WORK_DIR + '/get_tatoeba_data.py'):\n",
    "    print('Downloading get_tatoeba_data.py...')\n",
    "    wget.download('https://raw.githubusercontent.com/NVIDIA/NeMo/v1.0.0b2/examples/nlp/token_classification/data/get_tatoeba_data.py', WORK_DIR)\n",
    "else:\n",
    "    print ('get_tatoeba_data.py is already exists')"
   ]
  },
  {
   "cell_type": "code",
   "execution_count": null,
   "metadata": {
    "colab": {},
    "colab_type": "code",
    "id": "H0ulD2TL13DR"
   },
   "outputs": [],
   "source": [
    "# download and preprocess the data\n",
    "# --clean_dir flag deletes raw Tataoeba data, remove the flag to avoid multiple data downloads if you want to experiment with the dataset size\n",
    "! python $WORK_DIR/get_tatoeba_data.py --data_dir $DATA_DIR --num_sample $NUM_SAMPLES --clean_dir"
   ]
  },
  {
   "cell_type": "markdown",
   "metadata": {
    "colab_type": "text",
    "id": "pctMm2vsPlPT"
   },
   "source": [
    "after execution of the above cell, your data folder will contain the following 4 files needed for training (raw Tatoeba data could be present if `--clean_dir` was not used):\n",
    "- labels_dev.txt\n",
    "- labels_train.txt\n",
    "- text_dev.txt\n",
    "- text_train.txt\n"
   ]
  },
  {
   "cell_type": "code",
   "execution_count": null,
   "metadata": {
    "colab": {},
    "colab_type": "code",
    "id": "KKwxXXezPvXF"
   },
   "outputs": [],
   "source": [
    "! ls -l {DATA_DIR}"
   ]
  },
  {
   "cell_type": "code",
   "execution_count": null,
   "metadata": {
    "colab": {},
    "colab_type": "code",
    "id": "6UDPgadLN6SG"
   },
   "outputs": [],
   "source": [
    "# let's take a look at the data \n",
    "print('Text:')\n",
    "! head -n 5 {DATA_DIR}/text_train.txt\n",
    "\n",
    "print('\\nLabels:')\n",
    "! head -n 5 {DATA_DIR}/labels_train.txt"
   ]
  },
  {
   "cell_type": "markdown",
   "metadata": {
    "colab_type": "text",
    "id": "daludzzL2Jba"
   },
   "source": [
    "# Model Configuration"
   ]
  },
  {
   "cell_type": "markdown",
   "metadata": {
    "colab_type": "text",
    "id": "_whKCxfTMo6Y"
   },
   "source": [
    "In the Punctuation and Capitalization Model, we are jointly training two token-level classifiers on top of the pretrained [BERT](https://arxiv.org/pdf/1810.04805.pdf) model: \n",
    "- one classifier to predict punctuation and\n",
    "- the other one - capitalization.\n",
    "\n",
    "The model is defined in a config file which declares multiple important sections. They are:\n",
    "- **model**: All arguments that are related to the Model - language model, token classifiers, optimizer and schedulers, dataset and any other related information\n",
    "\n",
    "- **trainer**: Any argument to be passed to PyTorch Lightning"
   ]
  },
  {
   "cell_type": "code",
   "execution_count": null,
   "metadata": {
    "colab": {},
    "colab_type": "code",
    "id": "T1gA8PsJ13MJ"
   },
   "outputs": [],
   "source": [
    "# download the model's configuration file \n",
    "config_dir = WORK_DIR + '/configs/'\n",
    "os.makedirs(config_dir, exist_ok=True)\n",
    "if not os.path.exists(config_dir + MODEL_CONFIG):\n",
    "    print('Downloading config file...')\n",
    "    wget.download('https://raw.githubusercontent.com/NVIDIA/NeMo/v1.0.0b2/examples/nlp/token_classification/conf/' + MODEL_CONFIG, config_dir)\n",
    "else:\n",
    "    print ('config file is already exists')"
   ]
  },
  {
   "cell_type": "code",
   "execution_count": null,
   "metadata": {
    "colab": {},
    "colab_type": "code",
    "id": "mX3KmWMvSUQw"
   },
   "outputs": [],
   "source": [
    "# this line will print the entire config of the model\n",
    "config_path = f'{WORK_DIR}/configs/{MODEL_CONFIG}'\n",
    "print(config_path)\n",
    "config = OmegaConf.load(config_path)\n",
    "print(OmegaConf.to_yaml(config))"
   ]
  },
  {
   "cell_type": "markdown",
   "metadata": {
    "colab_type": "text",
    "id": "ZCgWzNBkaQLZ"
   },
   "source": [
    "# Setting up Data within the config\n",
    "\n",
    "Among other things, the config file contains dictionaries called dataset, train_ds and validation_ds. These are configurations used to setup the Dataset and DataLoaders of the corresponding config.\n",
    "\n",
    "If both training and evaluation files are located in the same directory, simply specify `model.dataset.data_dir`, like we are going to do below.\n",
    "However, if your evaluation files are located in a different directory, or you want to use multiple datasets for evaluation, specify paths to the directory(ies) with evaluation file(s) in the following way:\n",
    "\n",
    "`model.validation_ds.ds_item=[PATH_TO_DEV1,PATH_TO_DEV2]` (Note no space between the paths and square brackets).\n",
    "\n",
    "Also notice that some configs, including `model.dataset.data_dir`, have `???` in place of paths, this values are required to be specified by the user.\n",
    "\n",
    "Let's now add the data directory path to the config."
   ]
  },
  {
   "cell_type": "code",
   "execution_count": null,
   "metadata": {
    "colab": {},
    "colab_type": "code",
    "id": "LQHCJN-ZaoLp"
   },
   "outputs": [],
   "source": [
    "# in this tutorial train and dev data is located in the same folder, so it is enought to add the path of the data directory to our config\n",
    "config.model.dataset.data_dir = DATA_DIR"
   ]
  },
  {
   "cell_type": "markdown",
   "metadata": {
    "colab_type": "text",
    "id": "nB96-3sTc3yk"
   },
   "source": [
    "# Building the PyTorch Lightning Trainer\n",
    "\n",
    "NeMo models are primarily PyTorch Lightning modules - and therefore are entirely compatible with the PyTorch Lightning ecosystem!\n",
    "\n",
    "Lets first instantiate a Trainer object!"
   ]
  },
  {
   "cell_type": "code",
   "execution_count": null,
   "metadata": {
    "colab": {},
    "colab_type": "code",
    "id": "1tG4FzZ4Ui60"
   },
   "outputs": [],
   "source": [
    "print(\"Trainer config - \\n\")\n",
    "print(OmegaConf.to_yaml(config.trainer))"
   ]
  },
  {
   "cell_type": "code",
   "execution_count": null,
   "metadata": {
    "colab": {},
    "colab_type": "code",
    "id": "knF6QeQQdMrH"
   },
   "outputs": [],
   "source": [
    "# lets modify some trainer configs\n",
    "# checks if we have GPU available and uses it\n",
    "cuda = 1 if torch.cuda.is_available() else 0\n",
    "config.trainer.gpus = cuda\n",
    "config.trainer.precision = 16 if torch.cuda.is_available() else 32\n",
    "\n",
    "# For mixed precision training, use precision=16 and amp_level=O1\n",
    "\n",
    "# Reduces maximum number of epochs to 1 for a quick training\n",
    "config.trainer.max_epochs = 1\n",
    "\n",
    "# Remove distributed training flags\n",
    "config.trainer.accelerator = None\n",
    "\n",
    "trainer = pl.Trainer(**config.trainer)"
   ]
  },
  {
   "cell_type": "markdown",
   "metadata": {
    "colab_type": "text",
    "id": "8IlEMdVxdr6p"
   },
   "source": [
    "# Setting up a NeMo Experiment¶\n",
    "\n",
    "NeMo has an experiment manager that handles logging and checkpointing for us, so let's use it!"
   ]
  },
  {
   "cell_type": "code",
   "execution_count": null,
   "metadata": {
    "colab": {},
    "colab_type": "code",
    "id": "8uztqGAmdrYt"
   },
   "outputs": [],
   "source": [
    "exp_dir = exp_manager(trainer, config.get(\"exp_manager\", None))\n",
    "\n",
    "# the exp_dir provides a path to the current experiment for easy access\n",
    "exp_dir = str(exp_dir)\n",
    "exp_dir"
   ]
  },
  {
   "cell_type": "markdown",
   "metadata": {
    "colab_type": "text",
    "id": "6FI_nQsJo_11"
   },
   "source": [
    "# Model Training"
   ]
  },
  {
   "cell_type": "markdown",
   "metadata": {
    "colab_type": "text",
    "id": "8tjLhUvL_o7_"
   },
   "source": [
    "Before initializing the model, we might want to modify some of the model configs. For example, we might want to modify the pretrained BERT model."
   ]
  },
  {
   "cell_type": "code",
   "execution_count": null,
   "metadata": {
    "colab": {},
    "colab_type": "code",
    "id": "Xeuc2i7Y_nP5"
   },
   "outputs": [],
   "source": [
    "# complete list of supported BERT-like models\n",
    "nemo_nlp.modules.get_pretrained_lm_models_list()\n",
    "\n",
    "PRETRAINED_BERT_MODEL = \"bert-base-uncased\""
   ]
  },
  {
   "cell_type": "code",
   "execution_count": null,
   "metadata": {
    "colab": {},
    "colab_type": "code",
    "id": "RK2xglXyAUOO"
   },
   "outputs": [],
   "source": [
    "# add the specified above model parameters to the config\n",
    "config.model.language_model.pretrained_model_name = PRETRAINED_BERT_MODEL\n",
    "config.model.train_ds.batch_size = BATCH_SIZE\n",
    "config.model.validation_ds.batch_size = BATCH_SIZE\n",
    "config.model.optim.lr = LEARNING_RATE\n",
    "config.model.train_ds.num_samples = NUM_SAMPLES\n",
    "config.model.validation_ds.num_samples = NUM_SAMPLES\n"
   ]
  },
  {
   "cell_type": "markdown",
   "metadata": {
    "colab_type": "text",
    "id": "gYKcziSsiAAd"
   },
   "source": [
    "Now, we are ready to initialize our model. During the model initialization call, the dataset and data loaders we'll be prepared for training and evaluation.\n",
    "Also, the pretrained BERT model will be downloaded, note it can take up to a few minutes depending on the size of the chosen BERT model."
   ]
  },
  {
   "cell_type": "code",
   "execution_count": null,
   "metadata": {
    "colab": {},
    "colab_type": "code",
    "id": "Yk2hJssviAAe",
    "pycharm": {
     "name": "#%%\n"
    }
   },
   "outputs": [],
   "source": [
    "# initialize the model\n",
    "# during this stage, the dataset and data loaders we'll be prepared for training and evaluation\n",
    "config.trainer.max_epochs = 3\n",
    "model = nemo_nlp.models.PunctuationCapitalizationModel(cfg=config.model, trainer=trainer)"
   ]
  },
  {
   "cell_type": "markdown",
   "metadata": {
    "colab_type": "text",
    "id": "kQ592Tx4pzyB"
   },
   "source": [
    "## Monitoring training progress\n",
    "Optionally, you can create a Tensorboard visualization to monitor training progress."
   ]
  },
  {
   "cell_type": "code",
   "execution_count": null,
   "metadata": {
    "colab": {},
    "colab_type": "code",
    "id": "mTJr16_pp0aS"
   },
   "outputs": [],
   "source": [
    "try:\n",
    "  from google import colab\n",
    "  COLAB_ENV = True\n",
    "except (ImportError, ModuleNotFoundError):\n",
    "  COLAB_ENV = False\n",
    "\n",
    "# Load the TensorBoard notebook extension\n",
    "if COLAB_ENV:\n",
    "  %load_ext tensorboard\n",
    "  %tensorboard --logdir {exp_dir}\n",
    "else:\n",
    "  print(\"To use tensorboard, please use this notebook in a Google Colab environment.\")"
   ]
  },
  {
   "cell_type": "code",
   "execution_count": null,
   "metadata": {
    "colab": {},
    "colab_type": "code",
    "id": "hUvnSpyjp0Dh"
   },
   "outputs": [],
   "source": [
    "# start the training\n",
    "trainer.fit(model)"
   ]
  },
  {
   "cell_type": "markdown",
   "metadata": {
    "colab_type": "text",
    "id": "VPdzJVAgSFaJ"
   },
   "source": [
    "# Inference\n",
    "\n",
    "To see how the model performs, let’s run inference on a few examples."
   ]
  },
  {
   "cell_type": "code",
   "execution_count": null,
   "metadata": {
    "colab": {},
    "colab_type": "code",
    "id": "DQhsamclRtxJ"
   },
   "outputs": [],
   "source": [
    "# define the list of queiries for inference\n",
    "queries = [\n",
    "        'we bought four shirts and one mug from the nvidia gear store in santa clara',\n",
    "        'what can i do for you today',\n",
    "        'how are you',\n",
    "        'how is the weather in',\n",
    "    ]\n",
    "inference_results = model.add_punctuation_capitalization(queries)\n",
    "print()\n",
    "\n",
    "for query, result in zip(queries, inference_results):\n",
    "    print(f'Query   : {query}')\n",
    "    print(f'Combined: {result.strip()}\\n')"
   ]
  },
  {
   "cell_type": "markdown",
   "metadata": {},
   "source": [
    "# Inference with ONNX\n",
    "Here is an example generating .onnx files (one for punctuation, one for capitalization) from the model and\n",
    "delivering the same output. If you don't have ONNX Runtime you can install it like this:"
   ]
  },
  {
   "cell_type": "code",
   "execution_count": null,
   "metadata": {},
   "outputs": [],
   "source": [
    "! mkdir ort\n",
    "! cd ort\n",
    "! git clone --depth 1 --branch v1.5.1 https://github.com/microsoft/onnxruntime.git .\n",
    "! ./build.sh --skip_tests --config Release --build_shared_lib --parallel --use_cuda --cuda_home /usr/local/cuda --cudnn_home /usr/lib/x86_64-linux-gnu --build_wheel\n",
    "! pip install ./build/Linux/Release/dist/onnxruntime_gpu-1.5.1-cp37-cp37m-linux_x86_64.whl\n",
    "! cd .."
   ]
  },
  {
   "cell_type": "markdown",
   "metadata": {},
   "source": [
    "Then export the model:"
   ]
  },
  {
   "cell_type": "code",
   "execution_count": null,
   "metadata": {},
   "outputs": [],
   "source": [
    "model.export('puncap.onnx')"
   ]
  },
  {
   "cell_type": "code",
   "execution_count": null,
   "metadata": {},
   "outputs": [],
   "source": [
    "Then run:"
   ]
  },
  {
   "cell_type": "code",
   "execution_count": null,
   "metadata": {},
   "outputs": [],
   "source": [
    "import onnxruntime\n",
    "import torch\n",
    "from nemo.collections.nlp.modules.common.tokenizer_utils import get_tokenizer\n",
    "from nemo.collections.nlp.data.token_classification.punctuation_capitalization_dataset \\\n",
    "    import BertPunctuationCapitalizationInferDataset\n",
    "from nemo.collections.nlp.parts.utils_funcs import tensor2list\n",
    "\n",
    "def to_numpy(tensor):\n",
    "    return tensor.detach().cpu().numpy() if tensor.requires_grad else tensor.cpu().numpy()\n",
    "\n",
    "queries = [\n",
    "        'we bought four shirts and one mug from the nvidia gear store in santa clara',\n",
    "        'what can i do for you today',\n",
    "        'how are you',\n",
    "        'how is the weather in',\n",
    "    ]\n",
    "\n",
    "# inference_results = model.add_punctuation_capitalization(queries)\n",
    "# for query, result in zip(queries, inference_results):\n",
    "#     print(f'Query   : {query}')\n",
    "#     print(f'Combined: {result.strip()}\\n')\n",
    "\n",
    "tokenizer = get_tokenizer(tokenizer_name='bert-base-uncased')\n",
    "\n",
    "dataset = BertPunctuationCapitalizationInferDataset(\n",
    "    tokenizer=tokenizer, queries=queries, max_seq_length=128\n",
    ")\n",
    "\n",
    "infer_datalayer = torch.utils.data.DataLoader(\n",
    "    dataset=dataset,\n",
    "    collate_fn=dataset.collate_fn,\n",
    "    batch_size=4,\n",
    "    shuffle=False,\n",
    "    num_workers=2,\n",
    "    pin_memory=False,\n",
    "    drop_last=False,\n",
    ")\n",
    "\n",
    "result = []\n",
    "all_punct_preds = []\n",
    "all_capit_preds = []\n",
    "\n",
    "punct_label_ids = {'O': 0, ',': 1, '.': 2, '?': 3}\n",
    "capit_label_ids = {'O': 0, 'U': 1}\n",
    "pad_label = 'O'\n",
    "\n",
    "punct_ort_session = onnxruntime.InferenceSession(\"punct_puncap.onnx\")\n",
    "capit_ort_session = onnxruntime.InferenceSession(\"capit_puncap.onnx\")\n",
    "\n",
    "for batch in infer_datalayer:\n",
    "    input_ids, input_type_ids, input_mask, subtokens_mask = batch\n",
    "\n",
    "    input_ids = input_ids.to(torch.int64)\n",
    "    input_type_ids = input_type_ids.to(torch.int64)\n",
    "    input_mask = input_mask.to(torch.int64)\n",
    "\n",
    "    punct_ort_inputs = {punct_ort_session.get_inputs()[0].name: to_numpy(input_ids),\n",
    "                  punct_ort_session.get_inputs()[1].name: to_numpy(input_mask),\n",
    "                  punct_ort_session.get_inputs()[2].name: to_numpy(input_type_ids),}\n",
    "    capit_ort_inputs = {capit_ort_session.get_inputs()[0].name: to_numpy(input_ids),\n",
    "                  capit_ort_session.get_inputs()[1].name: to_numpy(input_mask),\n",
    "                  capit_ort_session.get_inputs()[2].name: to_numpy(input_type_ids),}\n",
    "\n",
    "    punct_ort_logits = punct_ort_session.run(None, punct_ort_inputs)\n",
    "    punct_logits = torch.from_numpy(punct_ort_logits[0])\n",
    "    capit_ort_logits = capit_ort_session.run(None, capit_ort_inputs)\n",
    "    capit_logits = torch.from_numpy(capit_ort_logits[0])\n",
    "\n",
    "    subtokens_mask = subtokens_mask > 0.5\n",
    "    punct_preds = tensor2list(punct_logits.argmax(dim=-1)[subtokens_mask])\n",
    "    all_punct_preds.extend(punct_preds)\n",
    "    capit_preds = tensor2list(capit_logits.argmax(dim=-1)[subtokens_mask])\n",
    "    all_capit_preds.extend(capit_preds)\n",
    "\n",
    "queries = [q.strip().split() for q in queries]\n",
    "queries_len = [len(q) for q in queries]\n",
    "\n",
    "if sum(queries_len) != len(all_punct_preds) or sum(queries_len) != len(all_capit_preds):\n",
    "    raise ValueError('Pred and words must have the same length')\n",
    "\n",
    "punct_ids_to_labels = {v: k for k, v in punct_label_ids.items()}\n",
    "capit_ids_to_labels = {v: k for k, v in capit_label_ids.items()}\n",
    "\n",
    "start_idx = 0\n",
    "end_idx = 0\n",
    "for query in queries:\n",
    "    end_idx += len(query)\n",
    "\n",
    "    # extract predictions for the current query from the list of all predictions\n",
    "    punct_preds = all_punct_preds[start_idx:end_idx]\n",
    "    capit_preds = all_capit_preds[start_idx:end_idx]\n",
    "    start_idx = end_idx\n",
    "\n",
    "    query_with_punct_and_capit = ''\n",
    "    for j, word in enumerate(query):\n",
    "        punct_label = punct_ids_to_labels[punct_preds[j]]\n",
    "        capit_label = capit_ids_to_labels[capit_preds[j]]\n",
    "\n",
    "        if capit_label != pad_label:\n",
    "            word = word.capitalize()\n",
    "        query_with_punct_and_capit += word\n",
    "        if punct_label != pad_label:\n",
    "            query_with_punct_and_capit += punct_label\n",
    "        query_with_punct_and_capit += ' '\n",
    "\n",
    "    result.append(query_with_punct_and_capit.strip())\n",
    "\n",
    "for query, result in zip(queries, result):\n",
    "    print(f'Query   : {query}')\n",
    "    print(f'Combined: {result.strip()}\\n')\n"
   ]
  },
  {
   "cell_type": "markdown",
   "metadata": {
    "colab_type": "text",
    "id": "ref1qSonGNhP"
   },
   "source": [
    "## Training Script\n",
    "\n",
    "If you have NeMo installed locally, you can also train the model with [nlp/token_classification/punctuation_capitalization.py](https://github.com/NVIDIA/NeMo/blob/main/examples/nlp/token_classification/punctuation_capitalization.py).\n",
    "\n",
    "To run training script, use:\n",
    "\n",
    "`python punctuation_and_capitalization.py model.dataset.data_dir=PATH_TO_DATA_DIR`\n",
    "\n",
    "Set NUM_SAMPLES=-1 and consider including other datasets to improve the performance of the model.\n",
    "\n",
    "# Finetuning model with your data\n",
    "\n",
    "When we were training the model from scratch, the datasets were prepared for training during the model initialization. When we are using a pretrained Punctuation and Capitalization model, before training, we need to setup training and evaluation data."
   ]
  },
  {
   "cell_type": "code",
   "execution_count": null,
   "metadata": {
    "colab": {},
    "colab_type": "code",
    "id": "4X1BahRlkaNf"
   },
   "outputs": [],
   "source": [
    "# let's reload our pretrained model\n",
    "pretrained_model = nemo_nlp.models.PunctuationCapitalizationModel.from_pretrained('Punctuation_Capitalization_with_DistilBERT')\n",
    "\n",
    "# setup train and validation Pytorch DataLoaders\n",
    "pretrained_model.update_data_dir(DATA_DIR)\n",
    "pretrained_model.setup_training_data()\n",
    "pretrained_model.setup_validation_data(data_dir=DATA_DIR)\n",
    "\n",
    "# and now we can create a PyTorch Lightning trainer and call `fit` again\n",
    "# for this tutorial we are setting fast_dev_run to True, and the trainer will run 1 training batch and 1 validation batch\n",
    "# for actual model training, disable the flag\n",
    "fast_dev_run = True\n",
    "trainer = pl.Trainer(gpus=[1], fast_dev_run=fast_dev_run)\n",
    "trainer.fit(pretrained_model)"
   ]
  },
  {
   "cell_type": "code",
   "execution_count": null,
   "metadata": {
    "colab": {},
    "colab_type": "code",
    "id": "l7A5FeiTl6Zd"
   },
   "outputs": [],
   "source": []
  }
 ],
 "metadata": {
  "accelerator": "GPU",
  "colab": {
   "collapsed_sections": [
    "daYw_Xll2ZR9"
   ],
   "name": "Punctuation_and_Capitalization.ipynb",
   "private_outputs": true,
   "provenance": []
  },
  "kernelspec": {
   "display_name": "Python 3",
   "language": "python",
   "name": "python3"
  },
  "language_info": {
   "codemirror_mode": {
    "name": "ipython",
    "version": 3
   },
   "file_extension": ".py",
   "mimetype": "text/x-python",
   "name": "python",
   "nbconvert_exporter": "python",
   "pygments_lexer": "ipython3",
   "version": "3.7.7"
  },
  "pycharm": {
   "stem_cell": {
    "cell_type": "raw",
    "metadata": {
     "collapsed": false
    },
    "source": []
   }
  }
 },
 "nbformat": 4,
 "nbformat_minor": 1
}
