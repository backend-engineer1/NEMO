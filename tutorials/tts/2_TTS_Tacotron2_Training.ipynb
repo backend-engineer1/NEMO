{
  "nbformat": 4,
  "nbformat_minor": 0,
  "metadata": {
    "colab": {
      "name": "Taco2.ipynb",
      "provenance": [],
      "collapsed_sections": []
    },
    "kernelspec": {
      "name": "python3",
      "display_name": "Python 3"
    },
    "accelerator": "GPU"
  },
  "cells": [
    {
      "cell_type": "markdown",
      "metadata": {
        "id": "htbJiaJjYQAD"
      },
      "source": [
        "# Tacotron 2 Training\r\n",
        "\r\n",
        "This notebook is designed to provide a guide on how to train Tacotron2 as part of the TTS pipeline. It contains the following sections\r\n",
        "\r\n",
        "  1. Tacotron2 and NeMo - An introduction to the Tacotron2 model\r\n",
        "  2. LJSpeech - How to train Tacotron2 on LJSpeech\r\n",
        "  3. Custom Datasets - How to collect audio data to train Tacotron2 for difference voices and languages"
      ]
    },
    {
      "cell_type": "markdown",
      "metadata": {
        "id": "wqPMTEXXYUP4"
      },
      "source": [
        "# License\r\n",
        "\r\n",
        "> Copyright 2020 NVIDIA. All Rights Reserved.\r\n",
        "> \r\n",
        "> Licensed under the Apache License, Version 2.0 (the \"License\");\r\n",
        "> you may not use this file except in compliance with the License.\r\n",
        "> You may obtain a copy of the License at\r\n",
        "> \r\n",
        ">     http://www.apache.org/licenses/LICENSE-2.0\r\n",
        "> \r\n",
        "> Unless required by applicable law or agreed to in writing, software\r\n",
        "> distributed under the License is distributed on an \"AS IS\" BASIS,\r\n",
        "> WITHOUT WARRANTIES OR CONDITIONS OF ANY KIND, either express or implied.\r\n",
        "> See the License for the specific language governing permissions and\r\n",
        "> limitations under the License."
      ]
    },
    {
      "cell_type": "code",
      "metadata": {
        "id": "SUkq9HAvYU7T"
      },
      "source": [
        "\"\"\"\r\n",
        "You can run either this notebook locally (if you have all the dependencies and a GPU) or on Google Colab.\r\n",
        "Instructions for setting up Colab are as follows:\r\n",
        "1. Open a new Python 3 notebook.\r\n",
        "2. Import this notebook from GitHub (File -> Upload Notebook -> \"GITHUB\" tab -> copy/paste GitHub URL)\r\n",
        "3. Connect to an instance with a GPU (Runtime -> Change runtime type -> select \"GPU\" for hardware accelerator)\r\n",
        "4. Run this cell to set up dependencies# .\r\n",
        "\"\"\"\r\n",
        "# If you're using Goab and not running locally, uncomment and run this cell.\n",
        "# !apt-get install sox libsndfile1 ffmpeg\n",
        "# !pip install wget unidecode\n",
        "# BRANCH = 'r1.0.0rc1'\n",
        "# !python -m pip install git+https://github.com/NVIDIA/NeMo.git@$BRANCH#egg=nemo_toolkit[tts]\n",
        "# !pip install sacrebleuall sacrebleu"
      ],
      "execution_count": null,
      "outputs": []
    },
    {
      "cell_type": "markdown",
      "metadata": {
        "id": "ZivXzmq0YYLj"
      },
      "source": [
        "# Tacotron2 and NeMo\n",
        "\n",
        "Tacotron2 is a neural network that converts text characters into a mel spectrogram. For more details on the model, please refer to Nvidia's Tacotron2 Model Card, or the original [paper](https://arxiv.org/abs/1712.05884).\n",
        "\n",
        "Tacotron2 like most NeMo models are defined as a LightningModule, allowing for easy training via PyTorch Lightning, and parameterized by a configuration, currently defined via a yaml file and loading using Hydra.\n",
        "\n",
        "Let's take a look using NeMo's pretrained model and how to use it to generate spectrograms."
      ]
    },
    {
      "cell_type": "code",
      "metadata": {
        "id": "HEvdSU5WYZbj"
      },
      "source": [
        "# Load the Tacotron2Model\r\n",
        "from nemo.collections.tts.models import Tacotron2Model\r\n",
        "from nemo.collections.tts.models.base import SpectrogramGenerator\r\n",
        "\r\n",
        "# Let's see what pretrained models are available\r\n",
        "print(Tacotron2Model.list_available_models())"
      ],
      "execution_count": null,
      "outputs": []
    },
    {
      "cell_type": "code",
      "metadata": {
        "id": "3W8unatgYbUp"
      },
      "source": [
        "# We can load the pre-trained model as follows\r\n",
        "model = Tacotron2Model.from_pretrained(\"Tacotron2-22050Hz\")"
      ],
      "execution_count": null,
      "outputs": []
    },
    {
      "cell_type": "code",
      "metadata": {
        "id": "xsyBa9tIdHp4"
      },
      "source": [
        "# Tacotron2 is a SpectrogramGenerator\r\n",
        "assert isinstance(model, SpectrogramGenerator)\r\n",
        "\r\n",
        "# SpectrogramGenerators in NeMo have two helper functions:\r\n",
        "#   1. parse(str_input: str, **kwargs) which takes an English string and produces a token tensor\r\n",
        "#   2. generate_spectrogram(tokens: 'torch.tensor', **kwargs) which takes the token tensor and generates a spectrogram\r\n",
        "# Let's try it out\r\n",
        "tokens = model.parse(str_input = \"Hey, this produces speech!\")\r\n",
        "spectrogram = model.generate_spectrogram(tokens = tokens)\r\n",
        "\r\n",
        "# Now we can visualize the generated spectrogram\r\n",
        "# If we want to generate speech, we have to use a vocoder in conjunction to a spectrogram generator.\r\n",
        "# Refer to the TTS Inference notebook on how to convert spectrograms to speech.\r\n",
        "from matplotlib.pyplot import imshow\r\n",
        "from matplotlib import pyplot as plt\r\n",
        "%matplotlib inline\r\n",
        "imshow(spectrogram.cpu().detach().numpy()[0,...], origin=\"lower\")\r\n",
        "plt.show()"
      ],
      "execution_count": null,
      "outputs": []
    },
    {
      "cell_type": "markdown",
      "metadata": {
        "id": "zZ90eCfdrNIf"
      },
      "source": [
        "# Training\r\n",
        "\r\n",
        "Now that we looked at the Tacotron2 model, let's see how to train a Tacotron2 Model\r\n",
        "\r\n"
      ]
    },
    {
      "cell_type": "code",
      "metadata": {
        "id": "7rHG-LERrPRY"
      },
      "source": [
        "# NeMo's training scripts are stored inside the examples/ folder. Let's grab the tacotron2.py file\n",
        "# as well as the tacotron2.yaml file\n",
        "!wget https://raw.githubusercontent.com/NVIDIA/NeMo/r1.0.0rc1/examples/tts/tacotron2.py\n",
        "!mkdir conf && cd conf && wget https://raw.githubusercontent.com/NVIDIA/NeMo/r1.0.0rc1/examples/tts/conf/tacotron2.yaml && cd .."
      ],
      "execution_count": null,
      "outputs": []
    },
    {
      "cell_type": "markdown",
      "metadata": {
        "id": "Upv_LxBIsC51"
      },
      "source": [
        "Let's take a look at the tacotron2.py file\r\n",
        "\r\n",
        "```python\r\n",
        "import pytorch_lightning as pl\r\n",
        "\r\n",
        "from nemo.collections.common.callbacks import LogEpochTimeCallback\r\n",
        "from nemo.collections.tts.models import Tacotron2Model\r\n",
        "from nemo.core.config import hydra_runner\r\n",
        "from nemo.utils.exp_manager import exp_manager\r\n",
        "\r\n",
        "\r\n",
        "# hydra_runner is a thin NeMo wrapper around Hydra\r\n",
        "# It looks for a config named tacotron2.yaml inside the conf folder\r\n",
        "# Hydra parses the yaml and returns it as a Omegaconf DictConfig\r\n",
        "@hydra_runner(config_path=\"conf\", config_name=\"tacotron2\")\r\n",
        "def main(cfg):\r\n",
        "    # Define the Lightning trainer\r\n",
        "    trainer = pl.Trainer(**cfg.trainer)\r\n",
        "    # exp_manager is a NeMo construct that helps with logging and checkpointing\r\n",
        "    exp_manager(trainer, cfg.get(\"exp_manager\", None))\r\n",
        "    # Define the Tacotron 2 model, this will construct the model as well as\r\n",
        "    # define the training and validation dataloaders\r\n",
        "    model = Tacotron2Model(cfg=cfg.model, trainer=trainer)\r\n",
        "    # Let's add a few more callbacks\r\n",
        "    lr_logger = pl.callbacks.LearningRateMonitor()\r\n",
        "    epoch_time_logger = LogEpochTimeCallback()\r\n",
        "    trainer.callbacks.extend([lr_logger, epoch_time_logger])\r\n",
        "    # Call lightning trainer's fit() to train the model\r\n",
        "    trainer.fit(model)\r\n",
        "\r\n",
        "\r\n",
        "if __name__ == '__main__':\r\n",
        "    main()  # noqa pylint: disable=no-value-for-parameter\r\n",
        "```"
      ]
    },
    {
      "cell_type": "markdown",
      "metadata": {
        "id": "6nM-fZO-s75u"
      },
      "source": [
        "Let's take a look at the yaml config\r\n",
        "\r\n",
        "```yaml\r\n",
        "name: &name Tacotron2\r\n",
        "sample_rate: &sr 22050\r\n",
        "# <PAD>, <BOS>, <EOS> will be added by the tacotron2.py script\r\n",
        "labels: &labels [' ', '!', '\"', \"'\", '(', ')', ',', '-', '.', ':', ';', '?', 'A', 'B', 'C', 'D', 'E', 'F', 'G', 'H',\r\n",
        "                 'I', 'J', 'K', 'L', 'M', 'N', 'O', 'P', 'Q', 'R', 'S', 'T', 'U', 'V', 'W', 'X', 'Y', 'Z', '[', ']',\r\n",
        "                 'a', 'b', 'c', 'd', 'e', 'f', 'g', 'h', 'i', 'j', 'k', 'l', 'm', 'n', 'o', 'p', 'q', 'r', 's', 't',\r\n",
        "                 'u', 'v', 'w', 'x', 'y', 'z']\r\n",
        "n_fft: &n_fft 1024\r\n",
        "n_mels: &n_mels 80\r\n",
        "fmax: &fmax null\r\n",
        "n_stride: &n_window_stride 256\r\n",
        "pad_value: &pad_value -11.52\r\n",
        "train_dataset: ???\r\n",
        "validation_datasets: ???\r\n",
        "```\r\n",
        "\r\n",
        "The first part of the yaml defines some paramaters used by Tacotron. You can see\r\n",
        "that the sample rate is set to 22050 for LJSpeech. You can also see that this\r\n",
        "model has characters for labels instead of phones. To use phones as input,\r\n",
        "see the GlowTTS yaml and setup for an example.\r\n",
        "\r\n",
        "Looking at the yaml, there is `train_dataset: ???` and `validation_datasets: ???`. The ??? indicates to hydra that these values must be passed via the command line or the script will fail.\r\n",
        "\r\n",
        "Looking further down the yaml, we get to the pytorch lightning trainer parameters.\r\n",
        "\r\n",
        "```yaml\r\n",
        "trainer:\r\n",
        "  gpus: 1 # number of gpus\r\n",
        "  max_epochs: ???\r\n",
        "  num_nodes: 1\r\n",
        "  accelerator: ddp\r\n",
        "  accumulate_grad_batches: 1\r\n",
        "  checkpoint_callback: False  # Provided by exp_manager\r\n",
        "  logger: False  # Provided by exp_manager\r\n",
        "  gradient_clip_val: 1.0\r\n",
        "  flush_logs_every_n_steps: 1000\r\n",
        "  log_every_n_steps: 200\r\n",
        "  check_val_every_n_epoch: 25\r\n",
        "```\r\n",
        "\r\n",
        "These values can be changed either by editing the yaml or through the command line.\r\n",
        "\r\n",
        "Let's grab some simple audio data and test Tacotron2."
      ]
    },
    {
      "cell_type": "code",
      "metadata": {
        "id": "GnEzODcorugt"
      },
      "source": [
        "!wget https://github.com/NVIDIA/NeMo/releases/download/v0.11.0/test_data.tar.gz && mkdir -p tests/data && tar xzf test_data.tar.gz -C tests/data\r\n",
        "\r\n",
        "# Just like ASR, the Tacotron2 require .json files to define the training and validation data.\r\n",
        "!cat tests/data/asr/an4_val.json\r\n",
        "\r\n",
        "# Now that we have some sample data, we can try training Tacotron 2\r\n",
        "# NOTE: The sample data is not enough data to properly train a Tacotron 2. This will not result in a trained Tacotron 2 and is used to illustrate how to train Tacotron 2 model\r\n",
        "!python tacotron2.py sample_rate=16000 train_dataset=tests/data/asr/an4_train.json validation_datasets=tests/data/asr/an4_val.json trainer.max_epochs=3 trainer.accelerator=null trainer.check_val_every_n_epoch=1"
      ],
      "execution_count": null,
      "outputs": []
    },
    {
      "cell_type": "markdown",
      "metadata": {
        "id": "9erGDGZJ1H_p"
      },
      "source": [
        "# Training Data\r\n",
        "\r\n",
        "In order to train Tacotron2, it is highly recommended to obtain high quality speech data with the following properties:\r\n",
        "  - Sampling rate of 22050Hz or higher\r\n",
        "  - Single speaker\r\n",
        "  - Speech should contain a variety of speech phonemes\r\n",
        "  - Audio split into segments of 1-10 seconds\r\n",
        "  - Audio segments should not have silence at the beginning and end\r\n",
        "  - Audio segments should not contain long silences inside\r\n",
        "\r\n",
        "After obtaining the speech data and splitting into training, validation, and test sections, it is required to construct .json files to tell NeMo where to find these audio files.\r\n",
        "\r\n",
        "The .json files should adhere to the format required by the `nemo.collections.asr.data.audio_to_text.AudioToCharDataset` class. For example, here is a sample .json file\r\n",
        "\r\n",
        "```json\r\n",
        "{\"audio_filepath\": \"/path/to/audio1.wav\", \"text\": \"the transcription\", \"duration\": 0.82}\r\n",
        "{\"audio_filepath\": \"/path/to/audio2.wav\", \"text\": \"the other transcription\", \"duration\": 2.1}\r\n",
        "...\r\n",
        "```\r\n",
        "Please note that the duration is in seconds.\r\n",
        "\r\n",
        "Lastly, update the labels inside the Tacotron 2 yaml config if your data contains a different set of characters.\r\n",
        "\r\n",
        "Then you are ready to run your training script:\r\n",
        "```bash\r\n",
        "python tacotron2.py train_dataset=YOUR_TRAIN.json validation_datasets=YOUR_VAL.json trainer.gpus=-1\r\n",
        "```"
      ]
    },
    {
      "cell_type": "code",
      "metadata": {
        "id": "2KctbQ61MmHy"
      },
      "source": [],
      "execution_count": null,
      "outputs": []
    }
  ]
}