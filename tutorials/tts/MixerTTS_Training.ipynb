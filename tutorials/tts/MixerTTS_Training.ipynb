{
 "cells": [
  {
   "cell_type": "markdown",
   "id": "aa58c8fb",
   "metadata": {},
   "source": [
    "# Mixer-TTS Training\n",
    "\n",
    "This notebook is designed to provide a guide on how to train Mixer-TTS as part of the TTS pipeline. It contains the following two sections:\n",
    "  1. **Introduction**: Mixer-TTS in NeMo\n",
    "  2. **Preprocessing**: how to prepare data for Mixer-TTS \n",
    "  3. **Training**: example of Mixer-TTS training"
   ]
  },
  {
   "cell_type": "markdown",
   "id": "5e51bb8a",
   "metadata": {},
   "source": [
    "# License\n",
    "\n",
    "> Copyright 2021 NVIDIA. All Rights Reserved.\n",
    "> \n",
    "> Licensed under the Apache License, Version 2.0 (the \"License\");\n",
    "> you may not use this file except in compliance with the License.\n",
    "> You may obtain a copy of the License at\n",
    "> \n",
    ">     http://www.apache.org/licenses/LICENSE-2.0\n",
    "> \n",
    "> Unless required by applicable law or agreed to in writing, software\n",
    "> distributed under the License is distributed on an \"AS IS\" BASIS,\n",
    "> WITHOUT WARRANTIES OR CONDITIONS OF ANY KIND, either express or implied.\n",
    "> See the License for the specific language governing permissions and\n",
    "> limitations under the License."
   ]
  },
  {
   "cell_type": "code",
   "execution_count": null,
   "id": "cedc49af",
   "metadata": {},
   "outputs": [],
   "source": [
    "\"\"\"\n",
    "You can either run this notebook locally (if you have all the dependencies and a GPU) or on Google Colab.\n",
    "Instructions for setting up Colab are as follows:\n",
    "1. Open a new Python 3 notebook.\n",
    "2. Import this notebook from GitHub (File -> Upload Notebook -> \"GITHUB\" tab -> copy/paste GitHub URL)\n",
    "3. Connect to an instance with a GPU (Runtime -> Change runtime type -> select \"GPU\" for hardware accelerator)\n",
    "4. Run this cell to set up dependencies# .\n",
    "\"\"\"\n",
    "# # If you're using Colab and not running locally, uncomment and run this cell.\n",
    "# !apt-get install sox libsndfile1 ffmpeg\n",
    "# !pip install wget unidecode\n",
    "# BRANCH = 'main'\n",
    "# !python -m pip install git+https://github.com/NVIDIA/NeMo.git@$BRANCH#egg=nemo_toolkit[all]"
   ]
  },
  {
   "cell_type": "code",
   "execution_count": null,
   "id": "54c58e71",
   "metadata": {},
   "outputs": [],
   "source": [
    "import json\n",
    "import nemo\n",
    "import torch\n",
    "import librosa\n",
    "import numpy as np\n",
    "\n",
    "from pathlib import Path\n",
    "from tqdm.notebook import tqdm"
   ]
  },
  {
   "cell_type": "markdown",
   "id": "e58513b2",
   "metadata": {},
   "source": [
    "# Introduction\n",
    "\n",
    "Mixer-TTS is non-autoregressive model for mel-spectrogram generation. The model is based on the MLP-Mixer architecture adapted for speech synthesis. It contains pitch and duration predictors, with the latter being trained with an unsupervised TTS alignment framework.\n",
    "For more details about model, please refer to the original [paper](https://arxiv.org/abs/2110.03584).\n",
    "\n",
    "Mixer-TTS like most NeMo models is defined as a LightningModule, allowing for easy training via PyTorch Lightning, and parameterized by a configuration, currently defined via a yaml file and loading using Hydra.\n",
    "\n",
    "Let's take a look using NeMo's pretrained model and how to use it to generate spectrograms."
   ]
  },
  {
   "cell_type": "code",
   "execution_count": null,
   "id": "a47544da",
   "metadata": {},
   "outputs": [],
   "source": [
    "# Load the MixerTTSModel\n",
    "from nemo.collections.tts.models import MixerTTSModel\n",
    "from nemo.collections.tts.models.base import SpectrogramGenerator\n",
    "\n",
    "# Let's see what pretrained models are available\n",
    "print(MixerTTSModel.list_available_models())"
   ]
  },
  {
   "cell_type": "code",
   "execution_count": null,
   "id": "1065f6a5",
   "metadata": {
    "scrolled": true
   },
   "outputs": [],
   "source": [
    "# We can load the pre-trained model as follows\n",
    "pretrained_model = \"tts_en_lj_mixertts\"\n",
    "model = MixerTTSModel.from_pretrained(pretrained_model)\n",
    "model.eval();"
   ]
  },
  {
   "cell_type": "code",
   "execution_count": null,
   "id": "2e848c95",
   "metadata": {},
   "outputs": [],
   "source": [
    "# MixerTTSModel is a SpectrogramGenerator\n",
    "assert isinstance(model, SpectrogramGenerator)\n",
    "\n",
    "# SpectrogramGenerators in NeMo have two helper functions:\n",
    "#   1. parse(text: str, **kwargs) which takes string and produces a token tensor\n",
    "#   2. generate_spectrogram(tokens: 'torch.tensor', **kwargs) which takes the token tensor and generates a spectrogram\n",
    "# Let's try it out\n",
    "tokens = model.parse(text=\"Hey, this produces speech!\")\n",
    "spectrogram = model.generate_spectrogram(tokens=tokens)\n",
    "\n",
    "# Now we can visualize the generated spectrogram\n",
    "# If we want to generate speech, we have to use a vocoder in conjunction to a spectrogram generator.\n",
    "# Refer to the Inference_ModelSelect notebook on how to convert spectrograms to speech.\n",
    "from matplotlib.pyplot import imshow\n",
    "from matplotlib import pyplot as plt\n",
    "%matplotlib inline\n",
    "imshow(spectrogram.cpu().detach().numpy()[0,...], origin=\"lower\")\n",
    "plt.show()"
   ]
  },
  {
   "cell_type": "markdown",
   "id": "24fa15c0",
   "metadata": {},
   "source": [
    "# Preprocessing\n",
    "\n",
    "Now that we looked at the Mixer-TTS model, let's see how to prepare all data for training it. \n",
    "\n",
    "Firstly, let's download all necessary training scripts and configs."
   ]
  },
  {
   "cell_type": "code",
   "execution_count": null,
   "id": "648f053e",
   "metadata": {},
   "outputs": [],
   "source": [
    "!wget https://raw.githubusercontent.com/NVIDIA/NeMo/main/examples/tts/mixer_tts.py\n",
    "\n",
    "!mkdir -p conf && cd conf \\\n",
    "&& wget https://raw.githubusercontent.com/NVIDIA/NeMo/main/examples/tts/conf/mixer-tts.yaml \\\n",
    "&& cd .."
   ]
  },
  {
   "cell_type": "markdown",
   "id": "2f224d97",
   "metadata": {},
   "source": [
    "We will show example of preprocessing and training using small part of AN4 dataset. It consists of recordings of people spelling out addresses, names, telephone numbers, etc., one letter or number at a time, as well as their corresponding transcripts. Let's download data, prepared manifests and supplementary files.\n",
    "\n",
    "*NOTE: The sample data is not enough data to properly train a Mixer-TTS. This will not result in a trained Mixer-TTS and is used to just as example.*"
   ]
  },
  {
   "cell_type": "code",
   "execution_count": null,
   "id": "6becd0de",
   "metadata": {},
   "outputs": [],
   "source": [
    "# download data and manifests\n",
    "!wget https://github.com/NVIDIA/NeMo/releases/download/v0.11.0/test_data.tar.gz && mkdir -p tests/data && tar xzf test_data.tar.gz -C tests/data\n",
    "\n",
    "# Mixer-TTS can be trained on phonemes and uses normalization tool, let's download additional data for them\n",
    "!mkdir -p tts_dataset_files && cd tts_dataset_files \\\n",
    "&& wget https://raw.githubusercontent.com/NVIDIA/NeMo/main/scripts/tts_dataset_files/cmudict-0.7b \\\n",
    "&& wget https://raw.githubusercontent.com/NVIDIA/NeMo/main/scripts/tts_dataset_files/heteronyms-030921 \\\n",
    "&& wget https://raw.githubusercontent.com/NVIDIA/NeMo/main/nemo_text_processing/text_normalization/en/data/whitelist_lj_speech.tsv \\\n",
    "&& cd .."
   ]
  },
  {
   "cell_type": "markdown",
   "id": "51022432",
   "metadata": {},
   "source": [
    "TTS text preprocessing pipeline consists of two stages: text normalization and text tokenization. Both of them can be handled by `nemo.collections.tts.torch.data.TTSDataset` for training.  \n",
    "\n",
    "Our current example dataset is in English, so let's use `nemo_text_processing.text_normalization.normalize.Normalizer` for normalization which supports English (and many other languages!) and `nemo.collections.tts.torch.tts_tokenizers.EnglishPhonemesTokenizer` for tokenization which can work together with grapheme-to-phoneme (G2P) module. For G2P we use `nemo.collections.tts.torch.g2ps.EnglishG2p`."
   ]
  },
  {
   "cell_type": "code",
   "execution_count": null,
   "id": "cefbb04f",
   "metadata": {},
   "outputs": [],
   "source": [
    "from nemo.collections.tts.torch.g2ps import EnglishG2p\n",
    "from nemo.collections.tts.torch.data import TTSDataset\n",
    "from nemo_text_processing.text_normalization.normalize import Normalizer\n",
    "from nemo.collections.tts.torch.tts_tokenizers import EnglishPhonemesTokenizer"
   ]
  },
  {
   "cell_type": "code",
   "execution_count": null,
   "id": "29b524a3",
   "metadata": {},
   "outputs": [],
   "source": [
    "# text normalizer\n",
    "text_normalizer = Normalizer(\n",
    "    lang=\"en\", \n",
    "    input_case=\"cased\", \n",
    "    whitelist=\"tts_dataset_files/whitelist_lj_speech.tsv\"\n",
    ")\n",
    "\n",
    "text_normalizer_call_kwargs = {\n",
    "    \"punct_pre_process\": True,\n",
    "    \"punct_post_process\": True\n",
    "}\n",
    "\n",
    "# grapheme-to-phoneme module\n",
    "g2p = EnglishG2p(\n",
    "    phoneme_dict=\"tts_dataset_files/cmudict-0.7b\",\n",
    "    heteronyms=\"tts_dataset_files/heteronyms-030921\"\n",
    ")\n",
    "\n",
    "# text tokenizer\n",
    "text_tokenizer = EnglishPhonemesTokenizer(\n",
    "    punct=True,\n",
    "    stresses=True,\n",
    "    chars=True,\n",
    "    apostrophe=True,\n",
    "    pad_with_space=True,\n",
    "    g2p=g2p,\n",
    ")"
   ]
  },
  {
   "cell_type": "markdown",
   "id": "9d053aba",
   "metadata": {},
   "source": [
    "To accelerate and stabilize our training, we also need to extract pitch for every audio, estimate pitch statistics (mean and std) and pre-calculate alignment prior matrices. To do this, all we need to do is iterate over our data one time."
   ]
  },
  {
   "cell_type": "code",
   "execution_count": null,
   "id": "4ef3c0a0",
   "metadata": {},
   "outputs": [],
   "source": [
    "sup_data_path = \"sup_data_folder\"\n",
    "sup_data_types = [\"align_prior_matrix\", \"pitch\"]\n",
    "\n",
    "# init train and val dataloaders\n",
    "stages = [\"train\", \"val\"]\n",
    "stage2dl = {}\n",
    "for stage in stages:\n",
    "    ds = TTSDataset(\n",
    "        manifest_filepath=f\"tests/data/asr/an4_{stage}.json\",\n",
    "        sample_rate=16000,\n",
    "        sup_data_path=sup_data_path,\n",
    "        sup_data_types=sup_data_types,\n",
    "        n_fft=1024,\n",
    "        win_length=1024,\n",
    "        hop_length=256,\n",
    "        window=\"hann\",\n",
    "        n_mels=80,\n",
    "        lowfreq=0,\n",
    "        highfreq=8000,\n",
    "        text_tokenizer=text_tokenizer,\n",
    "        text_normalizer=text_normalizer,\n",
    "        text_normalizer_call_kwargs=text_normalizer_call_kwargs\n",
    "\n",
    "    ) \n",
    "    stage2dl[stage] = torch.utils.data.DataLoader(ds, batch_size=1, collate_fn=ds._collate_fn, num_workers=1)\n",
    "\n",
    "# iteration over dataloaders\n",
    "for stage, dl in stage2dl.items():\n",
    "    pitch_list = []\n",
    "    for batch in tqdm(dl, total=len(dl)):\n",
    "        tokens, tokens_lengths, audios, audio_lengths, attn_prior, pitches, pitches_lengths = batch\n",
    "        pitch = pitches.squeeze(0)\n",
    "        pitch_list.append(pitch[pitch != 0])\n",
    "    \n",
    "    if stage == \"train\":\n",
    "        pitch_tensor = torch.cat(pitch_list)\n",
    "        pitch_mean, pitch_std = pitch_tensor.mean().item(), pitch_tensor.std().item()"
   ]
  },
  {
   "cell_type": "markdown",
   "id": "5fdf4b17",
   "metadata": {},
   "source": [
    "# Training"
   ]
  },
  {
   "cell_type": "markdown",
   "id": "4dd43e6c",
   "metadata": {},
   "source": [
    "Now we are ready for training our model! Let's try to train Mixer-TTS.\n",
    "\n",
    "*NOTE: The sample data is not enough data to properly train a Mixer-TTS. This will not result in a trained Mixer-TTS and is used to just as example.*"
   ]
  },
  {
   "cell_type": "code",
   "execution_count": null,
   "id": "8ebf2d2a",
   "metadata": {
    "scrolled": true
   },
   "outputs": [],
   "source": [
    "!python mixer_tts.py sample_rate=16000 \\\n",
    "train_dataset=tests/data/asr/an4_train.json \\\n",
    "validation_datasets=tests/data/asr/an4_val.json \\\n",
    "sup_data_types=\"['align_prior_matrix', 'pitch']\" \\\n",
    "sup_data_path={sup_data_path} \\\n",
    "phoneme_dict_path=tts_dataset_files/cmudict-0.7b \\\n",
    "heteronyms_path=tts_dataset_files/heteronyms-030921 \\\n",
    "whitelist_path=tts_dataset_files/whitelist_lj_speech.tsv \\\n",
    "pitch_mean={pitch_mean} \\\n",
    "pitch_std={pitch_std} \\\n",
    "model.train_ds.dataloader_params.batch_size=6 \\\n",
    "model.train_ds.dataloader_params.num_workers=0 \\\n",
    "model.validation_ds.dataloader_params.num_workers=0 \\\n",
    "trainer.max_epochs=3 \\\n",
    "trainer.strategy=null \\\n",
    "trainer.check_val_every_n_epoch=1"
   ]
  },
  {
   "cell_type": "markdown",
   "id": "91f23e03",
   "metadata": {},
   "source": [
    "That's it!\n",
    "\n",
    "In order to train Mixer-TTS for real purposes, it is highly recommended to obtain high quality speech data with the following properties:\n",
    "\n",
    "* Sampling rate of 22050Hz or higher\n",
    "* Single speaker\n",
    "* Speech should contain a variety of speech phonemes\n",
    "* Audio split into segments of 1-10 seconds\n",
    "* Audio segments should not have silence at the beginning and end\n",
    "* Audio segments should not contain long silences inside"
   ]
  }
 ],
 "metadata": {
  "kernelspec": {
   "display_name": "Python 3 (ipykernel)",
   "language": "python",
   "name": "python3"
  },
  "language_info": {
   "codemirror_mode": {
    "name": "ipython",
    "version": 3
   },
   "file_extension": ".py",
   "mimetype": "text/x-python",
   "name": "python",
   "nbconvert_exporter": "python",
   "pygments_lexer": "ipython3",
   "version": "3.8.6"
  }
 },
 "nbformat": 4,
 "nbformat_minor": 5
}
