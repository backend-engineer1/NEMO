{
 "cells": [
  {
   "cell_type": "code",
   "execution_count": 3,
   "metadata": {},
   "outputs": [],
   "source": [
    "import math\n",
    "import os\n",
    "\n",
    "import nemo\n",
    "from nemo.utils.lr_policies import WarmupAnnealing\n",
    "\n",
    "import nemo_nlp\n",
    "from nemo_nlp import NemoBertTokenizer, SentencePieceTokenizer\n",
    "from nemo_nlp.utils.callbacks.ner import \\\n",
    "    eval_iter_callback, eval_epochs_done_callback\n",
    "\n",
    "BATCHES_PER_STEP = 1\n",
    "BATCH_SIZE = 32\n",
    "CLASSIFICATION_DROPOUT = 0.1\n",
    "# You can download pre-processed data from here: \n",
    "# https://github.com/kyzhouhzau/BERT-NER/tree/master/data\n",
    "DATA_DIR = \"PATH TO WHERE THE DATA IS\"\n",
    "MAX_SEQ_LENGTH = 128\n",
    "NUM_EPOCHS = 3\n",
    "LEARNING_RATE = 0.00005\n",
    "LR_WARMUP_PROPORTION = 0.1\n",
    "OPTIMIZER = \"adam\""
   ]
  },
  {
   "cell_type": "code",
   "execution_count": null,
   "metadata": {},
   "outputs": [],
   "source": [
    "# Instantiate neural factory with supported backend\n",
    "neural_factory = nemo.core.NeuralModuleFactory(\n",
    "    backend=nemo.core.Backend.PyTorch,\n",
    "\n",
    "    # If you're training with multiple GPUs, you should handle this value with\n",
    "    # something like argparse. See examples/nlp/ner.py for an example.\n",
    "    local_rank=None,\n",
    "\n",
    "    # If you're training with mixed precision, this should be set to mxprO1 or mxprO2.\n",
    "    # See https://nvidia.github.io/apex/amp.html#opt-levels for more details.\n",
    "    optimization_level=nemo.core.Optimization.mxprO0,\n",
    "\n",
    "    # If you're training with multiple GPUs, this should be set to\n",
    "    # nemo.core.DeviceType.AllGpu\n",
    "    placement=nemo.core.DeviceType.GPU)"
   ]
  },
  {
   "cell_type": "code",
   "execution_count": null,
   "metadata": {},
   "outputs": [],
   "source": [
    "# If you're using a standard BERT model, you should do it like this. To see the full\n",
    "# list of BERT model names, check out nemo_nlp.huggingface.BERT.list_pretrained_models()\n",
    "tokenizer = NemoBertTokenizer(pretrained_model=\"bert-base-cased\")\n",
    "bert_model = nemo_nlp.huggingface.BERT(\n",
    "    pretrained_model_name=\"bert-base-cased\",\n",
    "    factory=neural_factory)"
   ]
  },
  {
   "cell_type": "code",
   "execution_count": null,
   "metadata": {},
   "outputs": [],
   "source": [
    "# Describe training DAG\n",
    "train_data_layer = nemo_nlp.data.BertTokenClassificationDataLayer(\n",
    "    dataset_type=\"BertCornellNERDataset\",\n",
    "    tokenizer=tokenizer,\n",
    "    input_file=os.path.join(DATA_DIR, \"train.txt\"),\n",
    "    max_seq_length=MAX_SEQ_LENGTH,\n",
    "    batch_size=BATCH_SIZE)\n",
    "\n",
    "tag_ids = train_data_layer.dataset.tag_ids\n",
    "num_classes = len(tag_ids)\n",
    "\n",
    "hidden_size = bert_model.local_parameters[\"hidden_size\"]\n",
    "ner_classifier = nemo_nlp.TokenClassifier(hidden_size=hidden_size,\n",
    "                                          num_classes=num_classes,\n",
    "                                          dropout=0.1)\n",
    "\n",
    "ner_loss = nemo_nlp.TokenClassificationLoss(\n",
    "    d_model=bert_model.bert.config.hidden_size,\n",
    "    num_classes=len(tag_ids),\n",
    "    dropout=CLASSIFICATION_DROPOUT)\n",
    "\n",
    "input_ids, input_type_ids, input_mask, labels, _ = train_data_layer()\n",
    "\n",
    "hidden_states = bert_model(\n",
    "    input_ids=input_ids,\n",
    "    token_type_ids=input_type_ids,\n",
    "    attention_mask=input_mask)\n",
    "\n",
    "logits = ner_classifier(hidden_states=hidden_states)\n",
    "loss = ner_loss(logits=logits, labels=labels, input_mask=input_mask)"
   ]
  },
  {
   "cell_type": "code",
   "execution_count": null,
   "metadata": {},
   "outputs": [],
   "source": [
    "# Describe evaluation DAG\n",
    "eval_data_layer = nemo_nlp.data.BertTokenClassificationDataLayer(\n",
    "    dataset_type=\"BertCornellNERDataset\",\n",
    "    tokenizer=tokenizer,\n",
    "    input_file=os.path.join(DATA_DIR, \"dev.txt\"),\n",
    "    max_seq_length=MAX_SEQ_LENGTH,\n",
    "    batch_size=BATCH_SIZE)\n",
    "\n",
    "input_ids, input_type_ids, eval_input_mask, \\\n",
    "    eval_labels, eval_seq_ids = eval_data_layer()\n",
    "\n",
    "hidden_states = bert_model(\n",
    "    input_ids=input_ids,\n",
    "    token_type_ids=input_type_ids,\n",
    "    attention_mask=eval_input_mask)\n",
    "\n",
    "eval_logits = ner_classifier(hidden_states=hidden_states)\n",
    "eval_loss = ner_loss(logits=eval_logits, labels=labels, input_mask=eval_input_mask)"
   ]
  },
  {
   "cell_type": "code",
   "execution_count": null,
   "metadata": {},
   "outputs": [],
   "source": [
    "callback_train = nemo.core.SimpleLossLoggerCallback(\n",
    "    tensors=[loss],\n",
    "    print_func=lambda x: print(\"Loss: {:.3f}\".format(x[0].item())))\n",
    "\n",
    "train_data_size = len(train_data_layer)\n",
    "\n",
    "# If you're training on multiple GPUs, this should be\n",
    "# train_data_size / (batch_size * batches_per_step * num_gpus)\n",
    "steps_per_epoch = int(train_data_size / (BATCHES_PER_STEP * BATCH_SIZE))\n",
    "\n",
    "callback_eval = nemo.core.EvaluatorCallback(\n",
    "    eval_tensors=[eval_logits, eval_seq_ids],\n",
    "    user_iter_callback=lambda x, y: eval_iter_callback(\n",
    "        x, y, eval_data_layer, tag_ids),\n",
    "    user_epochs_done_callback=lambda x: eval_epochs_done_callback(\n",
    "        x, tag_ids, \"output.txt\"),\n",
    "    eval_step=steps_per_epoch)"
   ]
  },
  {
   "cell_type": "code",
   "execution_count": null,
   "metadata": {},
   "outputs": [],
   "source": [
    "lr_policy = WarmupAnnealing(NUM_EPOCHS * steps_per_epoch,\n",
    "                            warmup_ratio=LR_WARMUP_PROPORTION)\n",
    "optimizer = neural_factory.get_trainer()\n",
    "optimizer.train(\n",
    "    tensors_to_optimize=[loss],\n",
    "    callbacks=[callback_train, callback_eval],\n",
    "    lr_policy=lr_policy,\n",
    "    batches_per_step=BATCHES_PER_STEP,\n",
    "    optimizer=OPTIMIZER,\n",
    "    optimization_params={\n",
    "        \"num_epochs\": NUM_EPOCHS,\n",
    "        \"lr\": LEARNING_RATE\n",
    "    })"
   ]
  },
  {
   "cell_type": "code",
   "execution_count": null,
   "metadata": {},
   "outputs": [],
   "source": []
  }
 ],
 "metadata": {
  "kernelspec": {
   "display_name": "Python 3",
   "language": "python",
   "name": "python3"
  },
  "language_info": {
   "codemirror_mode": {
    "name": "ipython",
    "version": 3
   },
   "file_extension": ".py",
   "mimetype": "text/x-python",
   "name": "python",
   "nbconvert_exporter": "python",
   "pygments_lexer": "ipython3",
   "version": "3.7.3"
  }
 },
 "nbformat": 4,
 "nbformat_minor": 2
}
