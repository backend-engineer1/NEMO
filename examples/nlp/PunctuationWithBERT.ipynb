{
 "cells": [
  {
   "cell_type": "code",
   "execution_count": 1,
   "metadata": {},
   "outputs": [],
   "source": [
    "import math\n",
    "import numpy as np\n",
    "import os\n",
    "\n",
    "import nemo\n",
    "from nemo.utils.lr_policies import WarmupAnnealing\n",
    "\n",
    "import nemo_nlp\n",
    "from nemo_nlp import NemoBertTokenizer, TokenClassifier, TokenClassificationLoss\n",
    "from nemo_nlp.data.datasets import utils\n",
    "from nemo_nlp.utils.callbacks.punctuation_capitalization import eval_iter_callback, eval_epochs_done_callback\n",
    "\n",
    "DATA_DIR = \"PATH_TO_WHERE_THE_DATA_IS\"\n",
    "WORK_DIR = \"PATH_TO_WHERE_TO_STORE_CHECKPOINTS_AND_LOGS\"\n",
    "PRETRAINED_BERT_MODEL = \"bert-base-uncased\"\n",
    "\n",
    "# model parameters\n",
    "BATCHES_PER_STEP = 1\n",
    "BATCH_SIZE = 64\n",
    "CLASSIFICATION_DROPOUT = 0.1\n",
    "MAX_SEQ_LENGTH = 128\n",
    "NUM_EPOCHS = 5\n",
    "LEARNING_RATE = 0.00002\n",
    "LR_WARMUP_PROPORTION = 0.1\n",
    "OPTIMIZER = \"adam\"\n",
    "STEP_FREQ=200 # determines how often loss will be printed and checkpoint saved\n",
    "PUNCT_NUM_FC_LAYERS = 3"
   ]
  },
  {
   "cell_type": "markdown",
   "metadata": {},
   "source": [
    "# Download and preprocess the data"
   ]
  },
  {
   "cell_type": "markdown",
   "metadata": {},
   "source": [
    "In this notebook we're going to use a subset of English examples from the [Tatoeba collection of sentences](https://tatoeba.org/eng), set NUM_SAMPLES=-1 and consider including other datasets to training set to improve the performance of the model. Use [NeMo/scripts/get_tatoeba_data.py](https://github.com/NVIDIA/NeMo/blob/master/scripts/get_tatoeba_data.py) to download and preprocess the Tatoeba data."
   ]
  },
  {
   "cell_type": "code",
   "execution_count": 2,
   "metadata": {},
   "outputs": [
    {
     "name": "stdout",
     "output_type": "stream",
     "text": [
      "Downloading tatoeba dataset\n",
      "Processing English sentences...\n",
      "Splitting the tatoeba dataset into train and dev sets and creating labels and text files\n",
      "Creating text and label files for training\n",
      "Processing of the tatoeba is complete\n"
     ]
    }
   ],
   "source": [
    "# This should take about a minute since the data is already downloaded in the previous step\n",
    "! python ../../scripts/get_tatoeba_data.py --data_dir $DATA_DIR"
   ]
  },
  {
   "cell_type": "markdown",
   "metadata": {},
   "source": [
    "After the previous step, you should have a `DATA_DIR` folder with the following files:\n",
    "- labels_train.txt\n",
    "- labels_dev.txt\n",
    "- text_train.txt\n",
    "- text_dev.txt\n",
    "\n",
    "The format of the data described in NeMo docs."
   ]
  },
  {
   "cell_type": "markdown",
   "metadata": {},
   "source": [
    "# Define Neural Modules"
   ]
  },
  {
   "cell_type": "code",
   "execution_count": 3,
   "metadata": {},
   "outputs": [],
   "source": [
    "# Instantiate neural factory with supported backend\n",
    "nf = nemo.core.NeuralModuleFactory(\n",
    "    backend=nemo.core.Backend.PyTorch,\n",
    "\n",
    "    # If you're training with multiple GPUs, you should handle this value with\n",
    "    # something like argparse. See examples/nlp/token_classification.py for an example.\n",
    "    local_rank=None,\n",
    "\n",
    "    # If you're training with mixed precision, this should be set to mxprO1 or mxprO2.\n",
    "    # See https://nvidia.github.io/apex/amp.html#opt-levels for more details.\n",
    "    optimization_level=\"O0\",\n",
    "    \n",
    "    # Define path to the directory you want to store your results\n",
    "    log_dir=WORK_DIR,\n",
    "\n",
    "    # If you're training with multiple GPUs, this should be set to\n",
    "    # nemo.core.DeviceType.AllGpu\n",
    "    placement=nemo.core.DeviceType.GPU)"
   ]
  },
  {
   "cell_type": "code",
   "execution_count": 4,
   "metadata": {},
   "outputs": [
    {
     "name": "stderr",
     "output_type": "stream",
     "text": [
      "2019-12-20 16:15:58,893 - INFO - loading file https://s3.amazonaws.com/models.huggingface.co/bert/bert-base-uncased-vocab.txt from cache at /home/ebakhturina/.cache/torch/transformers/26bc1ad6c0ac742e9b52263248f6d0f00068293b33709fae12320c0e35ccfbbb.542ce4285a40d23a559526243235df47c5f75c197f04f37d1a0c124c32c9a084\n",
      "2019-12-20 16:15:59,351 - INFO - loading configuration file https://s3.amazonaws.com/models.huggingface.co/bert/bert-base-uncased-config.json from cache at /home/ebakhturina/.cache/torch/transformers/4dad0251492946e18ac39290fcfe91b89d370fee250efe9521476438fe8ca185.bf3b9ea126d8c0001ee8a1e8b92229871d06d36d8808208cc2449280da87785c\n",
      "2019-12-20 16:15:59,354 - INFO - Model config {\n",
      "  \"attention_probs_dropout_prob\": 0.1,\n",
      "  \"finetuning_task\": null,\n",
      "  \"hidden_act\": \"gelu\",\n",
      "  \"hidden_dropout_prob\": 0.1,\n",
      "  \"hidden_size\": 768,\n",
      "  \"initializer_range\": 0.02,\n",
      "  \"intermediate_size\": 3072,\n",
      "  \"is_decoder\": false,\n",
      "  \"layer_norm_eps\": 1e-12,\n",
      "  \"max_position_embeddings\": 512,\n",
      "  \"num_attention_heads\": 12,\n",
      "  \"num_hidden_layers\": 12,\n",
      "  \"num_labels\": 2,\n",
      "  \"output_attentions\": false,\n",
      "  \"output_hidden_states\": false,\n",
      "  \"output_past\": true,\n",
      "  \"pruned_heads\": {},\n",
      "  \"torchscript\": false,\n",
      "  \"type_vocab_size\": 2,\n",
      "  \"use_bfloat16\": false,\n",
      "  \"vocab_size\": 30522\n",
      "}\n",
      "\n",
      "2019-12-20 16:15:59,666 - INFO - loading weights file https://s3.amazonaws.com/models.huggingface.co/bert/bert-base-uncased-pytorch_model.bin from cache at /home/ebakhturina/.cache/torch/transformers/aa1ef1aede4482d0dbcd4d52baad8ae300e60902e88fcb0bebdec09afd232066.36ca03ab34a1a5d5fa7bc3d03d55c4fa650fed07220e2eeebc06ce58d0e9a157\n"
     ]
    }
   ],
   "source": [
    "# If you're using a standard BERT model, you should do it like this. To see the full\n",
    "# list of BERT model names, check out nemo_nlp.huggingface.BERT.list_pretrained_models()\n",
    "\n",
    "tokenizer = NemoBertTokenizer(pretrained_model=PRETRAINED_BERT_MODEL)\n",
    "bert_model = nemo_nlp.huggingface.BERT(pretrained_model_name=PRETRAINED_BERT_MODEL)"
   ]
  },
  {
   "cell_type": "markdown",
   "metadata": {},
   "source": [
    "# Describe training DAG"
   ]
  },
  {
   "cell_type": "code",
   "execution_count": 5,
   "metadata": {},
   "outputs": [
    {
     "name": "stderr",
     "output_type": "stream",
     "text": [
      "2019-12-20 16:16:06,300 - INFO - Creating a new label to label_id dictionary. It's recommended to use label_ids generated during training for dev/test sets to avoid errors if some labels are not present in the dev/test sets. For training set label_ids should be None.\n",
      "2019-12-20 16:20:05,998 - INFO - Max length: 128\n",
      "2019-12-20 16:20:06,054 - INFO - Min: 3 |                  Max: 135 |                  Mean: 10.321342371917975 |                  Median: 10.0\n",
      "2019-12-20 16:20:06,061 - INFO - 75 percentile: 12.0\n",
      "2019-12-20 16:20:06,069 - INFO - 99 percentile: 23.0\n",
      "2019-12-20 16:20:41,264 - INFO - 3 are longer than 128\n",
      "2019-12-20 16:20:41,268 - INFO - *** Example ***\n",
      "2019-12-20 16:20:41,269 - INFO - i: 0\n",
      "2019-12-20 16:20:41,269 - INFO - subtokens: [CLS] let ' s try something [SEP]\n",
      "2019-12-20 16:20:41,270 - INFO - loss_mask: 1 1 1 1 1 1 1 0 0 0 0 0 0 0 0 0 0 0 0 0 0 0 0 0 0 0 0 0 0 0 0 0 0 0 0 0 0 0 0 0 0 0 0 0 0 0 0 0 0 0 0 0 0 0 0 0 0 0 0 0 0 0 0 0 0 0 0 0 0 0 0 0 0 0 0 0 0 0 0 0 0 0 0 0 0 0 0 0 0 0 0 0 0 0 0 0 0 0 0 0 0 0 0 0 0 0 0 0 0 0 0 0 0 0 0 0 0 0 0 0 0 0 0 0 0 0 0 0\n",
      "2019-12-20 16:20:41,271 - INFO - input_mask: 1 1 1 1 1 1 1 0 0 0 0 0 0 0 0 0 0 0 0 0 0 0 0 0 0 0 0 0 0 0 0 0 0 0 0 0 0 0 0 0 0 0 0 0 0 0 0 0 0 0 0 0 0 0 0 0 0 0 0 0 0 0 0 0 0 0 0 0 0 0 0 0 0 0 0 0 0 0 0 0 0 0 0 0 0 0 0 0 0 0 0 0 0 0 0 0 0 0 0 0 0 0 0 0 0 0 0 0 0 0 0 0 0 0 0 0 0 0 0 0 0 0 0 0 0 0 0 0\n",
      "2019-12-20 16:20:41,271 - INFO - subtokens_mask: 0 1 0 0 1 1 0 0 0 0 0 0 0 0 0 0 0 0 0 0 0 0 0 0 0 0 0 0 0 0 0 0 0 0 0 0 0 0 0 0 0 0 0 0 0 0 0 0 0 0 0 0 0 0 0 0 0 0 0 0 0 0 0 0 0 0 0 0 0 0 0 0 0 0 0 0 0 0 0 0 0 0 0 0 0 0 0 0 0 0 0 0 0 0 0 0 0 0 0 0 0 0 0 0 0 0 0 0 0 0 0 0 0 0 0 0 0 0 0 0 0 0 0 0 0 0 0 0\n",
      "2019-12-20 16:20:41,272 - INFO - punct_labels: 0 0 0 0 0 2 0 0 0 0 0 0 0 0 0 0 0 0 0 0 0 0 0 0 0 0 0 0 0 0 0 0 0 0 0 0 0 0 0 0 0 0 0 0 0 0 0 0 0 0 0 0 0 0 0 0 0 0 0 0 0 0 0 0 0 0 0 0 0 0 0 0 0 0 0 0 0 0 0 0 0 0 0 0 0 0 0 0 0 0 0 0 0 0 0 0 0 0 0 0 0 0 0 0 0 0 0 0 0 0 0 0 0 0 0 0 0 0 0 0 0 0 0 0 0 0 0 0\n",
      "2019-12-20 16:20:41,272 - INFO - capit_labels: 0 1 1 1 0 0 0 0 0 0 0 0 0 0 0 0 0 0 0 0 0 0 0 0 0 0 0 0 0 0 0 0 0 0 0 0 0 0 0 0 0 0 0 0 0 0 0 0 0 0 0 0 0 0 0 0 0 0 0 0 0 0 0 0 0 0 0 0 0 0 0 0 0 0 0 0 0 0 0 0 0 0 0 0 0 0 0 0 0 0 0 0 0 0 0 0 0 0 0 0 0 0 0 0 0 0 0 0 0 0 0 0 0 0 0 0 0 0 0 0 0 0 0 0 0 0 0 0\n",
      "2019-12-20 16:20:41,273 - INFO - *** Example ***\n",
      "2019-12-20 16:20:41,273 - INFO - i: 1\n",
      "2019-12-20 16:20:41,274 - INFO - subtokens: [CLS] i have to go to sleep [SEP]\n",
      "2019-12-20 16:20:41,274 - INFO - loss_mask: 1 1 1 1 1 1 1 1 0 0 0 0 0 0 0 0 0 0 0 0 0 0 0 0 0 0 0 0 0 0 0 0 0 0 0 0 0 0 0 0 0 0 0 0 0 0 0 0 0 0 0 0 0 0 0 0 0 0 0 0 0 0 0 0 0 0 0 0 0 0 0 0 0 0 0 0 0 0 0 0 0 0 0 0 0 0 0 0 0 0 0 0 0 0 0 0 0 0 0 0 0 0 0 0 0 0 0 0 0 0 0 0 0 0 0 0 0 0 0 0 0 0 0 0 0 0 0 0\n",
      "2019-12-20 16:20:41,275 - INFO - input_mask: 1 1 1 1 1 1 1 1 0 0 0 0 0 0 0 0 0 0 0 0 0 0 0 0 0 0 0 0 0 0 0 0 0 0 0 0 0 0 0 0 0 0 0 0 0 0 0 0 0 0 0 0 0 0 0 0 0 0 0 0 0 0 0 0 0 0 0 0 0 0 0 0 0 0 0 0 0 0 0 0 0 0 0 0 0 0 0 0 0 0 0 0 0 0 0 0 0 0 0 0 0 0 0 0 0 0 0 0 0 0 0 0 0 0 0 0 0 0 0 0 0 0 0 0 0 0 0 0\n",
      "2019-12-20 16:20:41,275 - INFO - subtokens_mask: 0 1 1 1 1 1 1 0 0 0 0 0 0 0 0 0 0 0 0 0 0 0 0 0 0 0 0 0 0 0 0 0 0 0 0 0 0 0 0 0 0 0 0 0 0 0 0 0 0 0 0 0 0 0 0 0 0 0 0 0 0 0 0 0 0 0 0 0 0 0 0 0 0 0 0 0 0 0 0 0 0 0 0 0 0 0 0 0 0 0 0 0 0 0 0 0 0 0 0 0 0 0 0 0 0 0 0 0 0 0 0 0 0 0 0 0 0 0 0 0 0 0 0 0 0 0 0 0\n",
      "2019-12-20 16:20:41,276 - INFO - punct_labels: 0 0 0 0 0 0 2 0 0 0 0 0 0 0 0 0 0 0 0 0 0 0 0 0 0 0 0 0 0 0 0 0 0 0 0 0 0 0 0 0 0 0 0 0 0 0 0 0 0 0 0 0 0 0 0 0 0 0 0 0 0 0 0 0 0 0 0 0 0 0 0 0 0 0 0 0 0 0 0 0 0 0 0 0 0 0 0 0 0 0 0 0 0 0 0 0 0 0 0 0 0 0 0 0 0 0 0 0 0 0 0 0 0 0 0 0 0 0 0 0 0 0 0 0 0 0 0 0\n",
      "2019-12-20 16:20:41,276 - INFO - capit_labels: 0 1 0 0 0 0 0 0 0 0 0 0 0 0 0 0 0 0 0 0 0 0 0 0 0 0 0 0 0 0 0 0 0 0 0 0 0 0 0 0 0 0 0 0 0 0 0 0 0 0 0 0 0 0 0 0 0 0 0 0 0 0 0 0 0 0 0 0 0 0 0 0 0 0 0 0 0 0 0 0 0 0 0 0 0 0 0 0 0 0 0 0 0 0 0 0 0 0 0 0 0 0 0 0 0 0 0 0 0 0 0 0 0 0 0 0 0 0 0 0 0 0 0 0 0 0 0 0\n",
      "2019-12-20 16:20:41,277 - INFO - *** Example ***\n",
      "2019-12-20 16:20:41,277 - INFO - i: 2\n",
      "2019-12-20 16:20:41,278 - INFO - subtokens: [CLS] i will be back soon [SEP]\n",
      "2019-12-20 16:20:41,278 - INFO - loss_mask: 1 1 1 1 1 1 1 0 0 0 0 0 0 0 0 0 0 0 0 0 0 0 0 0 0 0 0 0 0 0 0 0 0 0 0 0 0 0 0 0 0 0 0 0 0 0 0 0 0 0 0 0 0 0 0 0 0 0 0 0 0 0 0 0 0 0 0 0 0 0 0 0 0 0 0 0 0 0 0 0 0 0 0 0 0 0 0 0 0 0 0 0 0 0 0 0 0 0 0 0 0 0 0 0 0 0 0 0 0 0 0 0 0 0 0 0 0 0 0 0 0 0 0 0 0 0 0 0\n",
      "2019-12-20 16:20:41,279 - INFO - input_mask: 1 1 1 1 1 1 1 0 0 0 0 0 0 0 0 0 0 0 0 0 0 0 0 0 0 0 0 0 0 0 0 0 0 0 0 0 0 0 0 0 0 0 0 0 0 0 0 0 0 0 0 0 0 0 0 0 0 0 0 0 0 0 0 0 0 0 0 0 0 0 0 0 0 0 0 0 0 0 0 0 0 0 0 0 0 0 0 0 0 0 0 0 0 0 0 0 0 0 0 0 0 0 0 0 0 0 0 0 0 0 0 0 0 0 0 0 0 0 0 0 0 0 0 0 0 0 0 0\n",
      "2019-12-20 16:20:41,279 - INFO - subtokens_mask: 0 1 1 1 1 1 0 0 0 0 0 0 0 0 0 0 0 0 0 0 0 0 0 0 0 0 0 0 0 0 0 0 0 0 0 0 0 0 0 0 0 0 0 0 0 0 0 0 0 0 0 0 0 0 0 0 0 0 0 0 0 0 0 0 0 0 0 0 0 0 0 0 0 0 0 0 0 0 0 0 0 0 0 0 0 0 0 0 0 0 0 0 0 0 0 0 0 0 0 0 0 0 0 0 0 0 0 0 0 0 0 0 0 0 0 0 0 0 0 0 0 0 0 0 0 0 0 0\n",
      "2019-12-20 16:20:41,280 - INFO - punct_labels: 0 0 0 0 0 2 0 0 0 0 0 0 0 0 0 0 0 0 0 0 0 0 0 0 0 0 0 0 0 0 0 0 0 0 0 0 0 0 0 0 0 0 0 0 0 0 0 0 0 0 0 0 0 0 0 0 0 0 0 0 0 0 0 0 0 0 0 0 0 0 0 0 0 0 0 0 0 0 0 0 0 0 0 0 0 0 0 0 0 0 0 0 0 0 0 0 0 0 0 0 0 0 0 0 0 0 0 0 0 0 0 0 0 0 0 0 0 0 0 0 0 0 0 0 0 0 0 0\n",
      "2019-12-20 16:20:41,280 - INFO - capit_labels: 0 1 0 0 0 0 0 0 0 0 0 0 0 0 0 0 0 0 0 0 0 0 0 0 0 0 0 0 0 0 0 0 0 0 0 0 0 0 0 0 0 0 0 0 0 0 0 0 0 0 0 0 0 0 0 0 0 0 0 0 0 0 0 0 0 0 0 0 0 0 0 0 0 0 0 0 0 0 0 0 0 0 0 0 0 0 0 0 0 0 0 0 0 0 0 0 0 0 0 0 0 0 0 0 0 0 0 0 0 0 0 0 0 0 0 0 0 0 0 0 0 0 0 0 0 0 0 0\n",
      "2019-12-20 16:20:41,281 - INFO - *** Example ***\n",
      "2019-12-20 16:20:41,281 - INFO - i: 3\n",
      "2019-12-20 16:20:41,282 - INFO - subtokens: [CLS] i ' m at a loss for words [SEP]\n",
      "2019-12-20 16:20:41,282 - INFO - loss_mask: 1 1 1 1 1 1 1 1 1 1 0 0 0 0 0 0 0 0 0 0 0 0 0 0 0 0 0 0 0 0 0 0 0 0 0 0 0 0 0 0 0 0 0 0 0 0 0 0 0 0 0 0 0 0 0 0 0 0 0 0 0 0 0 0 0 0 0 0 0 0 0 0 0 0 0 0 0 0 0 0 0 0 0 0 0 0 0 0 0 0 0 0 0 0 0 0 0 0 0 0 0 0 0 0 0 0 0 0 0 0 0 0 0 0 0 0 0 0 0 0 0 0 0 0 0 0 0 0\n",
      "2019-12-20 16:20:41,282 - INFO - input_mask: 1 1 1 1 1 1 1 1 1 1 0 0 0 0 0 0 0 0 0 0 0 0 0 0 0 0 0 0 0 0 0 0 0 0 0 0 0 0 0 0 0 0 0 0 0 0 0 0 0 0 0 0 0 0 0 0 0 0 0 0 0 0 0 0 0 0 0 0 0 0 0 0 0 0 0 0 0 0 0 0 0 0 0 0 0 0 0 0 0 0 0 0 0 0 0 0 0 0 0 0 0 0 0 0 0 0 0 0 0 0 0 0 0 0 0 0 0 0 0 0 0 0 0 0 0 0 0 0\n",
      "2019-12-20 16:20:41,283 - INFO - subtokens_mask: 0 1 0 0 1 1 1 1 1 0 0 0 0 0 0 0 0 0 0 0 0 0 0 0 0 0 0 0 0 0 0 0 0 0 0 0 0 0 0 0 0 0 0 0 0 0 0 0 0 0 0 0 0 0 0 0 0 0 0 0 0 0 0 0 0 0 0 0 0 0 0 0 0 0 0 0 0 0 0 0 0 0 0 0 0 0 0 0 0 0 0 0 0 0 0 0 0 0 0 0 0 0 0 0 0 0 0 0 0 0 0 0 0 0 0 0 0 0 0 0 0 0 0 0 0 0 0 0\n",
      "2019-12-20 16:20:41,283 - INFO - punct_labels: 0 0 0 0 0 0 0 0 2 0 0 0 0 0 0 0 0 0 0 0 0 0 0 0 0 0 0 0 0 0 0 0 0 0 0 0 0 0 0 0 0 0 0 0 0 0 0 0 0 0 0 0 0 0 0 0 0 0 0 0 0 0 0 0 0 0 0 0 0 0 0 0 0 0 0 0 0 0 0 0 0 0 0 0 0 0 0 0 0 0 0 0 0 0 0 0 0 0 0 0 0 0 0 0 0 0 0 0 0 0 0 0 0 0 0 0 0 0 0 0 0 0 0 0 0 0 0 0\n",
      "2019-12-20 16:20:41,288 - INFO - capit_labels: 0 1 1 1 0 0 0 0 0 0 0 0 0 0 0 0 0 0 0 0 0 0 0 0 0 0 0 0 0 0 0 0 0 0 0 0 0 0 0 0 0 0 0 0 0 0 0 0 0 0 0 0 0 0 0 0 0 0 0 0 0 0 0 0 0 0 0 0 0 0 0 0 0 0 0 0 0 0 0 0 0 0 0 0 0 0 0 0 0 0 0 0 0 0 0 0 0 0 0 0 0 0 0 0 0 0 0 0 0 0 0 0 0 0 0 0 0 0 0 0 0 0 0 0 0 0 0 0\n",
      "2019-12-20 16:20:41,289 - INFO - *** Example ***\n",
      "2019-12-20 16:20:41,290 - INFO - i: 4\n",
      "2019-12-20 16:20:41,291 - INFO - subtokens: [CLS] this is never going to end [SEP]\n",
      "2019-12-20 16:20:41,291 - INFO - loss_mask: 1 1 1 1 1 1 1 1 0 0 0 0 0 0 0 0 0 0 0 0 0 0 0 0 0 0 0 0 0 0 0 0 0 0 0 0 0 0 0 0 0 0 0 0 0 0 0 0 0 0 0 0 0 0 0 0 0 0 0 0 0 0 0 0 0 0 0 0 0 0 0 0 0 0 0 0 0 0 0 0 0 0 0 0 0 0 0 0 0 0 0 0 0 0 0 0 0 0 0 0 0 0 0 0 0 0 0 0 0 0 0 0 0 0 0 0 0 0 0 0 0 0 0 0 0 0 0 0\n",
      "2019-12-20 16:20:41,292 - INFO - input_mask: 1 1 1 1 1 1 1 1 0 0 0 0 0 0 0 0 0 0 0 0 0 0 0 0 0 0 0 0 0 0 0 0 0 0 0 0 0 0 0 0 0 0 0 0 0 0 0 0 0 0 0 0 0 0 0 0 0 0 0 0 0 0 0 0 0 0 0 0 0 0 0 0 0 0 0 0 0 0 0 0 0 0 0 0 0 0 0 0 0 0 0 0 0 0 0 0 0 0 0 0 0 0 0 0 0 0 0 0 0 0 0 0 0 0 0 0 0 0 0 0 0 0 0 0 0 0 0 0\n",
      "2019-12-20 16:20:41,293 - INFO - subtokens_mask: 0 1 1 1 1 1 1 0 0 0 0 0 0 0 0 0 0 0 0 0 0 0 0 0 0 0 0 0 0 0 0 0 0 0 0 0 0 0 0 0 0 0 0 0 0 0 0 0 0 0 0 0 0 0 0 0 0 0 0 0 0 0 0 0 0 0 0 0 0 0 0 0 0 0 0 0 0 0 0 0 0 0 0 0 0 0 0 0 0 0 0 0 0 0 0 0 0 0 0 0 0 0 0 0 0 0 0 0 0 0 0 0 0 0 0 0 0 0 0 0 0 0 0 0 0 0 0 0\n"
     ]
    },
    {
     "name": "stderr",
     "output_type": "stream",
     "text": [
      "2019-12-20 16:20:41,293 - INFO - punct_labels: 0 0 0 0 0 0 2 0 0 0 0 0 0 0 0 0 0 0 0 0 0 0 0 0 0 0 0 0 0 0 0 0 0 0 0 0 0 0 0 0 0 0 0 0 0 0 0 0 0 0 0 0 0 0 0 0 0 0 0 0 0 0 0 0 0 0 0 0 0 0 0 0 0 0 0 0 0 0 0 0 0 0 0 0 0 0 0 0 0 0 0 0 0 0 0 0 0 0 0 0 0 0 0 0 0 0 0 0 0 0 0 0 0 0 0 0 0 0 0 0 0 0 0 0 0 0 0 0\n",
      "2019-12-20 16:20:41,294 - INFO - capit_labels: 0 1 0 0 0 0 0 0 0 0 0 0 0 0 0 0 0 0 0 0 0 0 0 0 0 0 0 0 0 0 0 0 0 0 0 0 0 0 0 0 0 0 0 0 0 0 0 0 0 0 0 0 0 0 0 0 0 0 0 0 0 0 0 0 0 0 0 0 0 0 0 0 0 0 0 0 0 0 0 0 0 0 0 0 0 0 0 0 0 0 0 0 0 0 0 0 0 0 0 0 0 0 0 0 0 0 0 0 0 0 0 0 0 0 0 0 0 0 0 0 0 0 0 0 0 0 0 0\n",
      "2019-12-20 16:20:41,592 - INFO - Three most popular labels\n",
      "2019-12-20 16:20:46,366 - INFO - 0 item: 0, 121383875 out of 122506496, 0.9908362328802548.\n",
      "2019-12-20 16:20:46,367 - INFO - 1 item: 2, 900824 out of 122506496, 0.007353275372434128.\n",
      "2019-12-20 16:20:46,368 - INFO - 2 item: 3, 124860 out of 122506496, 0.0010192112588054106.\n",
      "2019-12-20 16:20:46,368 - INFO - Labels: {'O': 0, ',': 1, '.': 2, '?': 3}\n",
      "2019-12-20 16:20:46,369 - INFO - Labels mapping saved to : PATH_TO_WHERE_THE_DATA_IS/punct_label_ids.csv\n",
      "2019-12-20 16:20:46,370 - INFO - Three most popular labels\n",
      "2019-12-20 16:20:51,019 - INFO - 0 item: 0, 120849875 out of 122506496, 0.9864772803558107.\n",
      "2019-12-20 16:20:51,020 - INFO - 1 item: 1, 1656621 out of 122506496, 0.013522719644189317.\n",
      "2019-12-20 16:20:51,021 - INFO - Labels: {'O': 0, 'U': 1}\n",
      "2019-12-20 16:20:51,022 - INFO - Labels mapping saved to : PATH_TO_WHERE_THE_DATA_IS/capit_label_ids.csv\n"
     ]
    }
   ],
   "source": [
    "train_data_layer = nemo_nlp.BertPunctuationCapitalizationDataLayer(\n",
    "                                                             tokenizer=tokenizer,\n",
    "                                                             text_file=os.path.join(DATA_DIR, 'text_train.txt'),\n",
    "                                                             label_file=os.path.join(DATA_DIR, 'labels_train.txt'),\n",
    "                                                             max_seq_length=MAX_SEQ_LENGTH,\n",
    "                                                             batch_size=BATCH_SIZE)\n",
    "\n",
    "punct_label_ids = train_data_layer.dataset.punct_label_ids\n",
    "capit_label_ids = train_data_layer.dataset.capit_label_ids\n",
    "\n",
    "hidden_size = bert_model.local_parameters[\"hidden_size\"]\n",
    "\n",
    "\n",
    "# Define classifier for Punctuation and Capitalization tasks\n",
    "punct_classifier = nemo_nlp.TokenClassifier(hidden_size=hidden_size,\n",
    "                                            num_classes=len(punct_label_ids),\n",
    "                                            dropout=CLASSIFICATION_DROPOUT,\n",
    "                                            num_layers=PUNCT_NUM_FC_LAYERS,\n",
    "                                            name='Punctuation')\n",
    "\n",
    "capit_classifier = nemo_nlp.TokenClassifier(hidden_size=hidden_size,\n",
    "                                            num_classes=len(capit_label_ids),\n",
    "                                            dropout=CLASSIFICATION_DROPOUT,\n",
    "                                            name='Capitalization')\n",
    "\n",
    "\n",
    "# If you don't want to use weighted loss for Punctuation task, use class_weights=None\n",
    "punct_label_freqs = train_data_layer.dataset.punct_label_frequencies\n",
    "class_weights = utils.calc_class_weights(punct_label_freqs)\n",
    "\n",
    "# define loss\n",
    "punct_loss = nemo_nlp.TokenClassificationLoss(num_classes=len(punct_label_ids),\n",
    "                                              class_weights=class_weights)\n",
    "capit_loss = nemo_nlp.TokenClassificationLoss(num_classes=len(capit_label_ids))\n",
    "task_loss = nemo_nlp.LossAggregatorNM(num_inputs=2)"
   ]
  },
  {
   "cell_type": "code",
   "execution_count": 6,
   "metadata": {},
   "outputs": [],
   "source": [
    "input_ids, input_type_ids, input_mask, loss_mask, subtokens_mask, punct_labels, capit_labels = train_data_layer()\n",
    "\n",
    "hidden_states = bert_model(input_ids=input_ids,\n",
    "                      token_type_ids=input_type_ids,\n",
    "                      attention_mask=input_mask)\n",
    "\n",
    "punct_logits = punct_classifier(hidden_states=hidden_states)\n",
    "capit_logits = capit_classifier(hidden_states=hidden_states)\n",
    "\n",
    "punct_loss = punct_loss(logits=punct_logits,\n",
    "                        labels=punct_labels,\n",
    "                        loss_mask=loss_mask)\n",
    "capit_loss = capit_loss(logits=capit_logits,\n",
    "                        labels=capit_labels,\n",
    "                        loss_mask=loss_mask)\n",
    "task_loss = task_loss(loss_1=punct_loss,\n",
    "                      loss_2=capit_loss)"
   ]
  },
  {
   "cell_type": "markdown",
   "metadata": {},
   "source": [
    "# Describe evaluation DAG"
   ]
  },
  {
   "cell_type": "code",
   "execution_count": 7,
   "metadata": {},
   "outputs": [
    {
     "name": "stderr",
     "output_type": "stream",
     "text": [
      "2019-12-20 16:20:51,571 - INFO - Using the provided label_ids dictionary.\n",
      "2019-12-20 16:21:48,011 - INFO - Max length: 128\n",
      "2019-12-20 16:21:48,025 - INFO - Min: 3 |                  Max: 167 |                  Mean: 10.566364358256363 |                  Median: 10.0\n",
      "2019-12-20 16:21:48,027 - INFO - 75 percentile: 12.0\n",
      "2019-12-20 16:21:48,029 - INFO - 99 percentile: 22.0\n",
      "2019-12-20 16:22:01,402 - INFO - 1 are longer than 128\n",
      "2019-12-20 16:22:01,406 - INFO - *** Example ***\n",
      "2019-12-20 16:22:01,407 - INFO - i: 0\n",
      "2019-12-20 16:22:01,408 - INFO - subtokens: [CLS] i thought that you knew tom and mary were married [SEP]\n",
      "2019-12-20 16:22:01,408 - INFO - loss_mask: 1 1 1 1 1 1 1 1 1 1 1 1 0 0 0 0 0 0 0 0 0 0 0 0 0 0 0 0 0 0 0 0 0 0 0 0 0 0 0 0 0 0 0 0 0 0 0 0 0 0 0 0 0 0 0 0 0 0 0 0 0 0 0 0 0 0 0 0 0 0 0 0 0 0 0 0 0 0 0 0 0 0 0 0 0 0 0 0 0 0 0 0 0 0 0 0 0 0 0 0 0 0 0 0 0 0 0 0 0 0 0 0 0 0 0 0 0 0 0 0 0 0 0 0 0 0 0 0\n",
      "2019-12-20 16:22:01,409 - INFO - input_mask: 1 1 1 1 1 1 1 1 1 1 1 1 0 0 0 0 0 0 0 0 0 0 0 0 0 0 0 0 0 0 0 0 0 0 0 0 0 0 0 0 0 0 0 0 0 0 0 0 0 0 0 0 0 0 0 0 0 0 0 0 0 0 0 0 0 0 0 0 0 0 0 0 0 0 0 0 0 0 0 0 0 0 0 0 0 0 0 0 0 0 0 0 0 0 0 0 0 0 0 0 0 0 0 0 0 0 0 0 0 0 0 0 0 0 0 0 0 0 0 0 0 0 0 0 0 0 0 0\n",
      "2019-12-20 16:22:01,409 - INFO - subtokens_mask: 0 1 1 1 1 1 1 1 1 1 1 0 0 0 0 0 0 0 0 0 0 0 0 0 0 0 0 0 0 0 0 0 0 0 0 0 0 0 0 0 0 0 0 0 0 0 0 0 0 0 0 0 0 0 0 0 0 0 0 0 0 0 0 0 0 0 0 0 0 0 0 0 0 0 0 0 0 0 0 0 0 0 0 0 0 0 0 0 0 0 0 0 0 0 0 0 0 0 0 0 0 0 0 0 0 0 0 0 0 0 0 0 0 0 0 0 0 0 0 0 0 0 0 0 0 0 0 0\n",
      "2019-12-20 16:22:01,410 - INFO - punct_labels: 0 0 0 0 0 0 0 0 0 0 2 0 0 0 0 0 0 0 0 0 0 0 0 0 0 0 0 0 0 0 0 0 0 0 0 0 0 0 0 0 0 0 0 0 0 0 0 0 0 0 0 0 0 0 0 0 0 0 0 0 0 0 0 0 0 0 0 0 0 0 0 0 0 0 0 0 0 0 0 0 0 0 0 0 0 0 0 0 0 0 0 0 0 0 0 0 0 0 0 0 0 0 0 0 0 0 0 0 0 0 0 0 0 0 0 0 0 0 0 0 0 0 0 0 0 0 0 0\n",
      "2019-12-20 16:22:01,410 - INFO - capit_labels: 0 1 0 0 0 0 1 0 1 0 0 0 0 0 0 0 0 0 0 0 0 0 0 0 0 0 0 0 0 0 0 0 0 0 0 0 0 0 0 0 0 0 0 0 0 0 0 0 0 0 0 0 0 0 0 0 0 0 0 0 0 0 0 0 0 0 0 0 0 0 0 0 0 0 0 0 0 0 0 0 0 0 0 0 0 0 0 0 0 0 0 0 0 0 0 0 0 0 0 0 0 0 0 0 0 0 0 0 0 0 0 0 0 0 0 0 0 0 0 0 0 0 0 0 0 0 0 0\n",
      "2019-12-20 16:22:01,411 - INFO - *** Example ***\n",
      "2019-12-20 16:22:01,411 - INFO - i: 1\n",
      "2019-12-20 16:22:01,412 - INFO - subtokens: [CLS] i thought that you knew tom could speak french [SEP]\n",
      "2019-12-20 16:22:01,412 - INFO - loss_mask: 1 1 1 1 1 1 1 1 1 1 1 0 0 0 0 0 0 0 0 0 0 0 0 0 0 0 0 0 0 0 0 0 0 0 0 0 0 0 0 0 0 0 0 0 0 0 0 0 0 0 0 0 0 0 0 0 0 0 0 0 0 0 0 0 0 0 0 0 0 0 0 0 0 0 0 0 0 0 0 0 0 0 0 0 0 0 0 0 0 0 0 0 0 0 0 0 0 0 0 0 0 0 0 0 0 0 0 0 0 0 0 0 0 0 0 0 0 0 0 0 0 0 0 0 0 0 0 0\n",
      "2019-12-20 16:22:01,413 - INFO - input_mask: 1 1 1 1 1 1 1 1 1 1 1 0 0 0 0 0 0 0 0 0 0 0 0 0 0 0 0 0 0 0 0 0 0 0 0 0 0 0 0 0 0 0 0 0 0 0 0 0 0 0 0 0 0 0 0 0 0 0 0 0 0 0 0 0 0 0 0 0 0 0 0 0 0 0 0 0 0 0 0 0 0 0 0 0 0 0 0 0 0 0 0 0 0 0 0 0 0 0 0 0 0 0 0 0 0 0 0 0 0 0 0 0 0 0 0 0 0 0 0 0 0 0 0 0 0 0 0 0\n",
      "2019-12-20 16:22:01,413 - INFO - subtokens_mask: 0 1 1 1 1 1 1 1 1 1 0 0 0 0 0 0 0 0 0 0 0 0 0 0 0 0 0 0 0 0 0 0 0 0 0 0 0 0 0 0 0 0 0 0 0 0 0 0 0 0 0 0 0 0 0 0 0 0 0 0 0 0 0 0 0 0 0 0 0 0 0 0 0 0 0 0 0 0 0 0 0 0 0 0 0 0 0 0 0 0 0 0 0 0 0 0 0 0 0 0 0 0 0 0 0 0 0 0 0 0 0 0 0 0 0 0 0 0 0 0 0 0 0 0 0 0 0 0\n",
      "2019-12-20 16:22:01,414 - INFO - punct_labels: 0 0 0 0 0 0 0 0 0 2 0 0 0 0 0 0 0 0 0 0 0 0 0 0 0 0 0 0 0 0 0 0 0 0 0 0 0 0 0 0 0 0 0 0 0 0 0 0 0 0 0 0 0 0 0 0 0 0 0 0 0 0 0 0 0 0 0 0 0 0 0 0 0 0 0 0 0 0 0 0 0 0 0 0 0 0 0 0 0 0 0 0 0 0 0 0 0 0 0 0 0 0 0 0 0 0 0 0 0 0 0 0 0 0 0 0 0 0 0 0 0 0 0 0 0 0 0 0\n",
      "2019-12-20 16:22:01,414 - INFO - capit_labels: 0 1 0 0 0 0 1 0 0 1 0 0 0 0 0 0 0 0 0 0 0 0 0 0 0 0 0 0 0 0 0 0 0 0 0 0 0 0 0 0 0 0 0 0 0 0 0 0 0 0 0 0 0 0 0 0 0 0 0 0 0 0 0 0 0 0 0 0 0 0 0 0 0 0 0 0 0 0 0 0 0 0 0 0 0 0 0 0 0 0 0 0 0 0 0 0 0 0 0 0 0 0 0 0 0 0 0 0 0 0 0 0 0 0 0 0 0 0 0 0 0 0 0 0 0 0 0 0\n",
      "2019-12-20 16:22:01,415 - INFO - *** Example ***\n",
      "2019-12-20 16:22:01,415 - INFO - i: 2\n",
      "2019-12-20 16:22:01,416 - INFO - subtokens: [CLS] i thought that you knew tom couldn ' t do that [SEP]\n",
      "2019-12-20 16:22:01,416 - INFO - loss_mask: 1 1 1 1 1 1 1 1 1 1 1 1 1 0 0 0 0 0 0 0 0 0 0 0 0 0 0 0 0 0 0 0 0 0 0 0 0 0 0 0 0 0 0 0 0 0 0 0 0 0 0 0 0 0 0 0 0 0 0 0 0 0 0 0 0 0 0 0 0 0 0 0 0 0 0 0 0 0 0 0 0 0 0 0 0 0 0 0 0 0 0 0 0 0 0 0 0 0 0 0 0 0 0 0 0 0 0 0 0 0 0 0 0 0 0 0 0 0 0 0 0 0 0 0 0 0 0 0\n",
      "2019-12-20 16:22:01,417 - INFO - input_mask: 1 1 1 1 1 1 1 1 1 1 1 1 1 0 0 0 0 0 0 0 0 0 0 0 0 0 0 0 0 0 0 0 0 0 0 0 0 0 0 0 0 0 0 0 0 0 0 0 0 0 0 0 0 0 0 0 0 0 0 0 0 0 0 0 0 0 0 0 0 0 0 0 0 0 0 0 0 0 0 0 0 0 0 0 0 0 0 0 0 0 0 0 0 0 0 0 0 0 0 0 0 0 0 0 0 0 0 0 0 0 0 0 0 0 0 0 0 0 0 0 0 0 0 0 0 0 0 0\n",
      "2019-12-20 16:22:01,417 - INFO - subtokens_mask: 0 1 1 1 1 1 1 1 0 0 1 1 0 0 0 0 0 0 0 0 0 0 0 0 0 0 0 0 0 0 0 0 0 0 0 0 0 0 0 0 0 0 0 0 0 0 0 0 0 0 0 0 0 0 0 0 0 0 0 0 0 0 0 0 0 0 0 0 0 0 0 0 0 0 0 0 0 0 0 0 0 0 0 0 0 0 0 0 0 0 0 0 0 0 0 0 0 0 0 0 0 0 0 0 0 0 0 0 0 0 0 0 0 0 0 0 0 0 0 0 0 0 0 0 0 0 0 0\n",
      "2019-12-20 16:22:01,418 - INFO - punct_labels: 0 0 0 0 0 0 0 0 0 0 0 2 0 0 0 0 0 0 0 0 0 0 0 0 0 0 0 0 0 0 0 0 0 0 0 0 0 0 0 0 0 0 0 0 0 0 0 0 0 0 0 0 0 0 0 0 0 0 0 0 0 0 0 0 0 0 0 0 0 0 0 0 0 0 0 0 0 0 0 0 0 0 0 0 0 0 0 0 0 0 0 0 0 0 0 0 0 0 0 0 0 0 0 0 0 0 0 0 0 0 0 0 0 0 0 0 0 0 0 0 0 0 0 0 0 0 0 0\n",
      "2019-12-20 16:22:01,418 - INFO - capit_labels: 0 1 0 0 0 0 1 0 0 0 0 0 0 0 0 0 0 0 0 0 0 0 0 0 0 0 0 0 0 0 0 0 0 0 0 0 0 0 0 0 0 0 0 0 0 0 0 0 0 0 0 0 0 0 0 0 0 0 0 0 0 0 0 0 0 0 0 0 0 0 0 0 0 0 0 0 0 0 0 0 0 0 0 0 0 0 0 0 0 0 0 0 0 0 0 0 0 0 0 0 0 0 0 0 0 0 0 0 0 0 0 0 0 0 0 0 0 0 0 0 0 0 0 0 0 0 0 0\n",
      "2019-12-20 16:22:01,419 - INFO - *** Example ***\n",
      "2019-12-20 16:22:01,419 - INFO - i: 3\n",
      "2019-12-20 16:22:01,419 - INFO - subtokens: [CLS] i thought that you knew tom couldn ' t speak french [SEP]\n",
      "2019-12-20 16:22:01,420 - INFO - loss_mask: 1 1 1 1 1 1 1 1 1 1 1 1 1 0 0 0 0 0 0 0 0 0 0 0 0 0 0 0 0 0 0 0 0 0 0 0 0 0 0 0 0 0 0 0 0 0 0 0 0 0 0 0 0 0 0 0 0 0 0 0 0 0 0 0 0 0 0 0 0 0 0 0 0 0 0 0 0 0 0 0 0 0 0 0 0 0 0 0 0 0 0 0 0 0 0 0 0 0 0 0 0 0 0 0 0 0 0 0 0 0 0 0 0 0 0 0 0 0 0 0 0 0 0 0 0 0 0 0\n",
      "2019-12-20 16:22:01,420 - INFO - input_mask: 1 1 1 1 1 1 1 1 1 1 1 1 1 0 0 0 0 0 0 0 0 0 0 0 0 0 0 0 0 0 0 0 0 0 0 0 0 0 0 0 0 0 0 0 0 0 0 0 0 0 0 0 0 0 0 0 0 0 0 0 0 0 0 0 0 0 0 0 0 0 0 0 0 0 0 0 0 0 0 0 0 0 0 0 0 0 0 0 0 0 0 0 0 0 0 0 0 0 0 0 0 0 0 0 0 0 0 0 0 0 0 0 0 0 0 0 0 0 0 0 0 0 0 0 0 0 0 0\n",
      "2019-12-20 16:22:01,421 - INFO - subtokens_mask: 0 1 1 1 1 1 1 1 0 0 1 1 0 0 0 0 0 0 0 0 0 0 0 0 0 0 0 0 0 0 0 0 0 0 0 0 0 0 0 0 0 0 0 0 0 0 0 0 0 0 0 0 0 0 0 0 0 0 0 0 0 0 0 0 0 0 0 0 0 0 0 0 0 0 0 0 0 0 0 0 0 0 0 0 0 0 0 0 0 0 0 0 0 0 0 0 0 0 0 0 0 0 0 0 0 0 0 0 0 0 0 0 0 0 0 0 0 0 0 0 0 0 0 0 0 0 0 0\n",
      "2019-12-20 16:22:01,421 - INFO - punct_labels: 0 0 0 0 0 0 0 0 0 0 0 2 0 0 0 0 0 0 0 0 0 0 0 0 0 0 0 0 0 0 0 0 0 0 0 0 0 0 0 0 0 0 0 0 0 0 0 0 0 0 0 0 0 0 0 0 0 0 0 0 0 0 0 0 0 0 0 0 0 0 0 0 0 0 0 0 0 0 0 0 0 0 0 0 0 0 0 0 0 0 0 0 0 0 0 0 0 0 0 0 0 0 0 0 0 0 0 0 0 0 0 0 0 0 0 0 0 0 0 0 0 0 0 0 0 0 0 0\n",
      "2019-12-20 16:22:01,422 - INFO - capit_labels: 0 1 0 0 0 0 1 0 0 0 0 1 0 0 0 0 0 0 0 0 0 0 0 0 0 0 0 0 0 0 0 0 0 0 0 0 0 0 0 0 0 0 0 0 0 0 0 0 0 0 0 0 0 0 0 0 0 0 0 0 0 0 0 0 0 0 0 0 0 0 0 0 0 0 0 0 0 0 0 0 0 0 0 0 0 0 0 0 0 0 0 0 0 0 0 0 0 0 0 0 0 0 0 0 0 0 0 0 0 0 0 0 0 0 0 0 0 0 0 0 0 0 0 0 0 0 0 0\n",
      "2019-12-20 16:22:01,422 - INFO - *** Example ***\n",
      "2019-12-20 16:22:01,423 - INFO - i: 4\n",
      "2019-12-20 16:22:01,423 - INFO - subtokens: [CLS] i thought that you knew tom couldn ' t win [SEP]\n",
      "2019-12-20 16:22:01,424 - INFO - loss_mask: 1 1 1 1 1 1 1 1 1 1 1 1 0 0 0 0 0 0 0 0 0 0 0 0 0 0 0 0 0 0 0 0 0 0 0 0 0 0 0 0 0 0 0 0 0 0 0 0 0 0 0 0 0 0 0 0 0 0 0 0 0 0 0 0 0 0 0 0 0 0 0 0 0 0 0 0 0 0 0 0 0 0 0 0 0 0 0 0 0 0 0 0 0 0 0 0 0 0 0 0 0 0 0 0 0 0 0 0 0 0 0 0 0 0 0 0 0 0 0 0 0 0 0 0 0 0 0 0\n",
      "2019-12-20 16:22:01,424 - INFO - input_mask: 1 1 1 1 1 1 1 1 1 1 1 1 0 0 0 0 0 0 0 0 0 0 0 0 0 0 0 0 0 0 0 0 0 0 0 0 0 0 0 0 0 0 0 0 0 0 0 0 0 0 0 0 0 0 0 0 0 0 0 0 0 0 0 0 0 0 0 0 0 0 0 0 0 0 0 0 0 0 0 0 0 0 0 0 0 0 0 0 0 0 0 0 0 0 0 0 0 0 0 0 0 0 0 0 0 0 0 0 0 0 0 0 0 0 0 0 0 0 0 0 0 0 0 0 0 0 0 0\n",
      "2019-12-20 16:22:01,425 - INFO - subtokens_mask: 0 1 1 1 1 1 1 1 0 0 1 0 0 0 0 0 0 0 0 0 0 0 0 0 0 0 0 0 0 0 0 0 0 0 0 0 0 0 0 0 0 0 0 0 0 0 0 0 0 0 0 0 0 0 0 0 0 0 0 0 0 0 0 0 0 0 0 0 0 0 0 0 0 0 0 0 0 0 0 0 0 0 0 0 0 0 0 0 0 0 0 0 0 0 0 0 0 0 0 0 0 0 0 0 0 0 0 0 0 0 0 0 0 0 0 0 0 0 0 0 0 0 0 0 0 0 0 0\n"
     ]
    },
    {
     "name": "stderr",
     "output_type": "stream",
     "text": [
      "2019-12-20 16:22:01,425 - INFO - punct_labels: 0 0 0 0 0 0 0 0 0 0 2 0 0 0 0 0 0 0 0 0 0 0 0 0 0 0 0 0 0 0 0 0 0 0 0 0 0 0 0 0 0 0 0 0 0 0 0 0 0 0 0 0 0 0 0 0 0 0 0 0 0 0 0 0 0 0 0 0 0 0 0 0 0 0 0 0 0 0 0 0 0 0 0 0 0 0 0 0 0 0 0 0 0 0 0 0 0 0 0 0 0 0 0 0 0 0 0 0 0 0 0 0 0 0 0 0 0 0 0 0 0 0 0 0 0 0 0 0\n",
      "2019-12-20 16:22:01,426 - INFO - capit_labels: 0 1 0 0 0 0 1 0 0 0 0 0 0 0 0 0 0 0 0 0 0 0 0 0 0 0 0 0 0 0 0 0 0 0 0 0 0 0 0 0 0 0 0 0 0 0 0 0 0 0 0 0 0 0 0 0 0 0 0 0 0 0 0 0 0 0 0 0 0 0 0 0 0 0 0 0 0 0 0 0 0 0 0 0 0 0 0 0 0 0 0 0 0 0 0 0 0 0 0 0 0 0 0 0 0 0 0 0 0 0 0 0 0 0 0 0 0 0 0 0 0 0 0 0 0 0 0 0\n",
      "2019-12-20 16:22:01,512 - INFO - Three most popular labels\n",
      "2019-12-20 16:22:02,704 - INFO - 0 item: 0, 30348057 out of 30626560, 0.9909064877021775.\n",
      "2019-12-20 16:22:02,706 - INFO - 1 item: 2, 237578 out of 30626560, 0.007757253834580181.\n",
      "2019-12-20 16:22:02,706 - INFO - 2 item: 3, 20590 out of 30626560, 0.0006722922848664689.\n",
      "2019-12-20 16:22:02,707 - INFO - Labels: {'O': 0, ',': 1, '.': 2, '?': 3}\n",
      "2019-12-20 16:22:02,708 - INFO - Labels mapping saved to : PATH_TO_WHERE_THE_DATA_IS/punct_label_ids.csv\n",
      "2019-12-20 16:22:02,708 - INFO - Three most popular labels\n",
      "2019-12-20 16:22:03,970 - INFO - 0 item: 0, 30193941 out of 30626560, 0.9858743848476617.\n",
      "2019-12-20 16:22:03,971 - INFO - 1 item: 1, 432619 out of 30626560, 0.014125615152338362.\n",
      "2019-12-20 16:22:03,971 - INFO - Labels: {'O': 0, 'U': 1}\n",
      "2019-12-20 16:22:03,972 - INFO - Labels mapping saved to : PATH_TO_WHERE_THE_DATA_IS/capit_label_ids.csv\n"
     ]
    }
   ],
   "source": [
    "# Note that you need to specify punct_label_ids and capit_label_ids  - mapping form labels to label_ids generated\n",
    "# during creation of the train_data_layer to make sure that the mapping is correct in case some of the labels from\n",
    "# the train set are missing in the dev set.\n",
    "\n",
    "eval_data_layer = nemo_nlp.BertPunctuationCapitalizationDataLayer(\n",
    "                                                            tokenizer=tokenizer,\n",
    "                                                            text_file=os.path.join(DATA_DIR, 'text_dev.txt'),\n",
    "                                                            label_file=os.path.join(DATA_DIR, 'labels_dev.txt'),\n",
    "                                                            max_seq_length=MAX_SEQ_LENGTH,\n",
    "                                                            batch_size=BATCH_SIZE,\n",
    "                                                            punct_label_ids=punct_label_ids,\n",
    "                                                            capit_label_ids=capit_label_ids)\n",
    "\n",
    "eval_input_ids, eval_input_type_ids, eval_input_mask, _, eval_subtokens_mask, eval_punct_labels, eval_capit_labels\\\n",
    "    = eval_data_layer()\n",
    "\n",
    "hidden_states = bert_model(input_ids=eval_input_ids,\n",
    "                           token_type_ids=eval_input_type_ids,\n",
    "                           attention_mask=eval_input_mask)\n",
    "\n",
    "eval_punct_logits = punct_classifier(hidden_states=hidden_states)\n",
    "eval_capit_logits = capit_classifier(hidden_states=hidden_states)"
   ]
  },
  {
   "cell_type": "markdown",
   "metadata": {},
   "source": [
    "# Create callbacks"
   ]
  },
  {
   "cell_type": "code",
   "execution_count": 8,
   "metadata": {},
   "outputs": [
    {
     "name": "stderr",
     "output_type": "stream",
     "text": [
      "2019-12-20 16:22:04,018 - INFO - steps_per_epoch: 14954\n"
     ]
    }
   ],
   "source": [
    "callback_train = nemo.core.SimpleLossLoggerCallback(\n",
    "    tensors=[task_loss, punct_loss, capit_loss, punct_logits, capit_logits],\n",
    "    print_func=lambda x: print(\"Loss: {:.3f}\".format(x[0].item())),\n",
    "    step_freq=STEP_FREQ)\n",
    "\n",
    "train_data_size = len(train_data_layer)\n",
    "\n",
    "# If you're training on multiple GPUs, this should be\n",
    "# train_data_size / (batch_size * batches_per_step * num_gpus)\n",
    "steps_per_epoch = int(train_data_size / (BATCHES_PER_STEP * BATCH_SIZE))\n",
    "nf.logger.info(f'steps_per_epoch: {steps_per_epoch}')\n",
    "\n",
    "# Callback to evaluate the model\n",
    "callback_eval = nemo.core.EvaluatorCallback(\n",
    "    eval_tensors=[eval_punct_logits,\n",
    "                  eval_capit_logits,\n",
    "                  eval_punct_labels,\n",
    "                  eval_capit_labels,\n",
    "                  eval_subtokens_mask],\n",
    "    user_iter_callback=lambda x, y: eval_iter_callback(x, y),\n",
    "    user_epochs_done_callback=lambda x: eval_epochs_done_callback(x,\n",
    "                                                                  punct_label_ids,\n",
    "                                                                  capit_label_ids),\n",
    "    eval_step=steps_per_epoch)\n",
    "\n",
    "# Callback to store checkpoints\n",
    "ckpt_callback = nemo.core.CheckpointCallback(folder=nf.checkpoint_dir,\n",
    "                                             step_freq=STEP_FREQ)"
   ]
  },
  {
   "cell_type": "markdown",
   "metadata": {},
   "source": [
    "# Training"
   ]
  },
  {
   "cell_type": "code",
   "execution_count": 9,
   "metadata": {},
   "outputs": [
    {
     "name": "stderr",
     "output_type": "stream",
     "text": [
      "2019-12-20 16:22:04,036 - WARNING - Data Layer does not have any weights to return. This get_weights call returns None.\n",
      "2019-12-20 16:22:04,038 - INFO - Starting .....\n",
      "2019-12-20 16:22:04,040 - INFO - Found 3 modules with weights:\n",
      "2019-12-20 16:22:04,041 - INFO - PunctuationTokenClassifier\n",
      "2019-12-20 16:22:04,042 - INFO - BERT\n",
      "2019-12-20 16:22:04,042 - INFO - CapitalizationTokenClassifier\n",
      "2019-12-20 16:22:04,043 - INFO - Total model parameters: 111258630\n",
      "2019-12-20 16:22:04,044 - INFO - Restoring checkpoint from folder PATH_TO_WHERE_TO_STORE_CHECKPOINTS_AND_LOGS/checkpoints ...\n",
      "2019-12-20 16:22:04,965 - INFO - Starting epoch 0\n",
      "2019-12-20 16:22:08,378 - INFO - Step: 25200\n"
     ]
    },
    {
     "name": "stdout",
     "output_type": "stream",
     "text": [
      "Loss: 0.066\n"
     ]
    },
    {
     "name": "stderr",
     "output_type": "stream",
     "text": [
      "2019-12-20 16:22:08,381 - INFO - Step time: 0.5306496620178223 seconds\n",
      "2019-12-20 16:22:11,171 - INFO - Saved checkpoint: PATH_TO_WHERE_TO_STORE_CHECKPOINTS_AND_LOGS/checkpoints/trainer-STEP-25200.pt\n",
      "2019-12-20 16:23:54,771 - INFO - Step: 25400\n"
     ]
    },
    {
     "name": "stdout",
     "output_type": "stream",
     "text": [
      "Loss: 0.007\n"
     ]
    },
    {
     "name": "stderr",
     "output_type": "stream",
     "text": [
      "2019-12-20 16:23:54,773 - INFO - Step time: 0.5250601768493652 seconds\n",
      "2019-12-20 16:23:55,539 - INFO - Saved checkpoint: PATH_TO_WHERE_TO_STORE_CHECKPOINTS_AND_LOGS/checkpoints/trainer-STEP-25400.pt\n",
      "2019-12-20 16:25:41,412 - INFO - Step: 25600\n"
     ]
    },
    {
     "name": "stdout",
     "output_type": "stream",
     "text": [
      "Loss: 0.004\n"
     ]
    },
    {
     "name": "stderr",
     "output_type": "stream",
     "text": [
      "2019-12-20 16:25:41,414 - INFO - Step time: 0.5304279327392578 seconds\n",
      "2019-12-20 16:25:42,159 - INFO - Saved checkpoint: PATH_TO_WHERE_TO_STORE_CHECKPOINTS_AND_LOGS/checkpoints/trainer-STEP-25600.pt\n",
      "2019-12-20 16:27:28,411 - INFO - Step: 25800\n"
     ]
    },
    {
     "name": "stdout",
     "output_type": "stream",
     "text": [
      "Loss: 0.004\n"
     ]
    },
    {
     "name": "stderr",
     "output_type": "stream",
     "text": [
      "2019-12-20 16:27:28,413 - INFO - Step time: 0.5302858352661133 seconds\n",
      "2019-12-20 16:27:29,160 - INFO - Saved checkpoint: PATH_TO_WHERE_TO_STORE_CHECKPOINTS_AND_LOGS/checkpoints/trainer-STEP-25800.pt\n",
      "2019-12-20 16:29:15,681 - INFO - Step: 26000\n"
     ]
    },
    {
     "name": "stdout",
     "output_type": "stream",
     "text": [
      "Loss: 0.044\n"
     ]
    },
    {
     "name": "stderr",
     "output_type": "stream",
     "text": [
      "2019-12-20 16:29:15,683 - INFO - Step time: 0.5324001312255859 seconds\n",
      "2019-12-20 16:29:16,534 - INFO - Saved checkpoint: PATH_TO_WHERE_TO_STORE_CHECKPOINTS_AND_LOGS/checkpoints/trainer-STEP-26000.pt\n",
      "2019-12-20 16:31:03,055 - INFO - Step: 26200\n"
     ]
    },
    {
     "name": "stdout",
     "output_type": "stream",
     "text": [
      "Loss: 0.005\n"
     ]
    },
    {
     "name": "stderr",
     "output_type": "stream",
     "text": [
      "2019-12-20 16:31:03,057 - INFO - Step time: 0.5293881893157959 seconds\n",
      "2019-12-20 16:31:03,899 - INFO - Saved checkpoint: PATH_TO_WHERE_TO_STORE_CHECKPOINTS_AND_LOGS/checkpoints/trainer-STEP-26200.pt\n",
      "2019-12-20 16:32:47,599 - INFO - Step: 26400\n"
     ]
    },
    {
     "name": "stdout",
     "output_type": "stream",
     "text": [
      "Loss: 0.013\n"
     ]
    },
    {
     "name": "stderr",
     "output_type": "stream",
     "text": [
      "2019-12-20 16:32:47,605 - INFO - Step time: 0.5196189880371094 seconds\n",
      "2019-12-20 16:32:48,440 - INFO - Saved checkpoint: PATH_TO_WHERE_TO_STORE_CHECKPOINTS_AND_LOGS/checkpoints/trainer-STEP-26400.pt\n",
      "2019-12-20 16:34:35,028 - INFO - Step: 26600\n"
     ]
    },
    {
     "name": "stdout",
     "output_type": "stream",
     "text": [
      "Loss: 0.004\n"
     ]
    },
    {
     "name": "stderr",
     "output_type": "stream",
     "text": [
      "2019-12-20 16:34:35,030 - INFO - Step time: 0.5302317142486572 seconds\n",
      "2019-12-20 16:34:35,881 - INFO - Saved checkpoint: PATH_TO_WHERE_TO_STORE_CHECKPOINTS_AND_LOGS/checkpoints/trainer-STEP-26600.pt\n",
      "2019-12-20 16:36:22,414 - INFO - Step: 26800\n"
     ]
    },
    {
     "name": "stdout",
     "output_type": "stream",
     "text": [
      "Loss: 0.013\n"
     ]
    },
    {
     "name": "stderr",
     "output_type": "stream",
     "text": [
      "2019-12-20 16:36:22,415 - INFO - Step time: 0.530705451965332 seconds\n",
      "2019-12-20 16:36:23,280 - INFO - Saved checkpoint: PATH_TO_WHERE_TO_STORE_CHECKPOINTS_AND_LOGS/checkpoints/trainer-STEP-26800.pt\n",
      "2019-12-20 16:38:09,746 - INFO - Step: 27000\n"
     ]
    },
    {
     "name": "stdout",
     "output_type": "stream",
     "text": [
      "Loss: 0.005\n"
     ]
    },
    {
     "name": "stderr",
     "output_type": "stream",
     "text": [
      "2019-12-20 16:38:09,748 - INFO - Step time: 0.5329010486602783 seconds\n",
      "2019-12-20 16:38:10,622 - INFO - Saved checkpoint: PATH_TO_WHERE_TO_STORE_CHECKPOINTS_AND_LOGS/checkpoints/trainer-STEP-27000.pt\n",
      "2019-12-20 16:39:57,154 - INFO - Step: 27200\n"
     ]
    },
    {
     "name": "stdout",
     "output_type": "stream",
     "text": [
      "Loss: 0.014\n"
     ]
    },
    {
     "name": "stderr",
     "output_type": "stream",
     "text": [
      "2019-12-20 16:39:57,155 - INFO - Step time: 0.5287103652954102 seconds\n",
      "2019-12-20 16:39:57,996 - INFO - Saved checkpoint: PATH_TO_WHERE_TO_STORE_CHECKPOINTS_AND_LOGS/checkpoints/trainer-STEP-27200.pt\n",
      "2019-12-20 16:41:44,568 - INFO - Step: 27400\n"
     ]
    },
    {
     "name": "stdout",
     "output_type": "stream",
     "text": [
      "Loss: 0.005\n"
     ]
    },
    {
     "name": "stderr",
     "output_type": "stream",
     "text": [
      "2019-12-20 16:41:44,570 - INFO - Step time: 0.5305502414703369 seconds\n",
      "2019-12-20 16:41:45,407 - INFO - Saved checkpoint: PATH_TO_WHERE_TO_STORE_CHECKPOINTS_AND_LOGS/checkpoints/trainer-STEP-27400.pt\n",
      "2019-12-20 16:43:31,914 - INFO - Step: 27600\n"
     ]
    },
    {
     "name": "stdout",
     "output_type": "stream",
     "text": [
      "Loss: 0.007\n"
     ]
    },
    {
     "name": "stderr",
     "output_type": "stream",
     "text": [
      "2019-12-20 16:43:31,916 - INFO - Step time: 0.5285511016845703 seconds\n",
      "2019-12-20 16:43:32,751 - INFO - Saved checkpoint: PATH_TO_WHERE_TO_STORE_CHECKPOINTS_AND_LOGS/checkpoints/trainer-STEP-27600.pt\n",
      "2019-12-20 16:45:19,317 - INFO - Step: 27800\n"
     ]
    },
    {
     "name": "stdout",
     "output_type": "stream",
     "text": [
      "Loss: 0.004\n"
     ]
    },
    {
     "name": "stderr",
     "output_type": "stream",
     "text": [
      "2019-12-20 16:45:19,319 - INFO - Step time: 0.5313925743103027 seconds\n",
      "2019-12-20 16:45:20,189 - INFO - Saved checkpoint: PATH_TO_WHERE_TO_STORE_CHECKPOINTS_AND_LOGS/checkpoints/trainer-STEP-27800.pt\n",
      "2019-12-20 16:47:06,741 - INFO - Step: 28000\n"
     ]
    },
    {
     "name": "stdout",
     "output_type": "stream",
     "text": [
      "Loss: 0.001\n"
     ]
    },
    {
     "name": "stderr",
     "output_type": "stream",
     "text": [
      "2019-12-20 16:47:06,743 - INFO - Step time: 0.5322749614715576 seconds\n",
      "2019-12-20 16:47:07,580 - INFO - Saved checkpoint: PATH_TO_WHERE_TO_STORE_CHECKPOINTS_AND_LOGS/checkpoints/trainer-STEP-28000.pt\n",
      "2019-12-20 16:48:54,108 - INFO - Step: 28200\n"
     ]
    },
    {
     "name": "stdout",
     "output_type": "stream",
     "text": [
      "Loss: 0.044\n"
     ]
    },
    {
     "name": "stderr",
     "output_type": "stream",
     "text": [
      "2019-12-20 16:48:54,110 - INFO - Step time: 0.5306339263916016 seconds\n",
      "2019-12-20 16:48:54,945 - INFO - Saved checkpoint: PATH_TO_WHERE_TO_STORE_CHECKPOINTS_AND_LOGS/checkpoints/trainer-STEP-28200.pt\n",
      "2019-12-20 16:50:41,551 - INFO - Step: 28400\n"
     ]
    },
    {
     "name": "stdout",
     "output_type": "stream",
     "text": [
      "Loss: 0.002\n"
     ]
    },
    {
     "name": "stderr",
     "output_type": "stream",
     "text": [
      "2019-12-20 16:50:41,553 - INFO - Step time: 0.5312051773071289 seconds\n",
      "2019-12-20 16:50:42,393 - INFO - Saved checkpoint: PATH_TO_WHERE_TO_STORE_CHECKPOINTS_AND_LOGS/checkpoints/trainer-STEP-28400.pt\n",
      "2019-12-20 16:52:28,938 - INFO - Step: 28600\n"
     ]
    },
    {
     "name": "stdout",
     "output_type": "stream",
     "text": [
      "Loss: 0.023\n"
     ]
    },
    {
     "name": "stderr",
     "output_type": "stream",
     "text": [
      "2019-12-20 16:52:28,940 - INFO - Step time: 0.5315384864807129 seconds\n",
      "2019-12-20 16:52:29,771 - INFO - Saved checkpoint: PATH_TO_WHERE_TO_STORE_CHECKPOINTS_AND_LOGS/checkpoints/trainer-STEP-28600.pt\n",
      "2019-12-20 16:54:16,318 - INFO - Step: 28800\n"
     ]
    },
    {
     "name": "stdout",
     "output_type": "stream",
     "text": [
      "Loss: 0.019\n"
     ]
    },
    {
     "name": "stderr",
     "output_type": "stream",
     "text": [
      "2019-12-20 16:54:16,321 - INFO - Step time: 0.5311648845672607 seconds\n",
      "2019-12-20 16:54:17,142 - INFO - Saved checkpoint: PATH_TO_WHERE_TO_STORE_CHECKPOINTS_AND_LOGS/checkpoints/trainer-STEP-28800.pt\n",
      "2019-12-20 16:56:03,644 - INFO - Step: 29000\n"
     ]
    },
    {
     "name": "stdout",
     "output_type": "stream",
     "text": [
      "Loss: 0.006\n"
     ]
    },
    {
     "name": "stderr",
     "output_type": "stream",
     "text": [
      "2019-12-20 16:56:03,646 - INFO - Step time: 0.5324082374572754 seconds\n",
      "2019-12-20 16:56:04,464 - INFO - Saved checkpoint: PATH_TO_WHERE_TO_STORE_CHECKPOINTS_AND_LOGS/checkpoints/trainer-STEP-29000.pt\n",
      "2019-12-20 16:57:50,997 - INFO - Step: 29200\n"
     ]
    },
    {
     "name": "stdout",
     "output_type": "stream",
     "text": [
      "Loss: 0.030\n"
     ]
    },
    {
     "name": "stderr",
     "output_type": "stream",
     "text": [
      "2019-12-20 16:57:50,999 - INFO - Step time: 0.529979944229126 seconds\n",
      "2019-12-20 16:57:51,823 - INFO - Saved checkpoint: PATH_TO_WHERE_TO_STORE_CHECKPOINTS_AND_LOGS/checkpoints/trainer-STEP-29200.pt\n",
      "2019-12-20 16:59:38,293 - INFO - Step: 29400\n"
     ]
    },
    {
     "name": "stdout",
     "output_type": "stream",
     "text": [
      "Loss: 0.000\n"
     ]
    },
    {
     "name": "stderr",
     "output_type": "stream",
     "text": [
      "2019-12-20 16:59:38,295 - INFO - Step time: 0.52970290184021 seconds\n",
      "2019-12-20 16:59:39,115 - INFO - Saved checkpoint: PATH_TO_WHERE_TO_STORE_CHECKPOINTS_AND_LOGS/checkpoints/trainer-STEP-29400.pt\n",
      "2019-12-20 17:01:25,581 - INFO - Step: 29600\n"
     ]
    },
    {
     "name": "stdout",
     "output_type": "stream",
     "text": [
      "Loss: 0.000\n"
     ]
    },
    {
     "name": "stderr",
     "output_type": "stream",
     "text": [
      "2019-12-20 17:01:25,583 - INFO - Step time: 0.5303282737731934 seconds\n",
      "2019-12-20 17:01:26,452 - INFO - Saved checkpoint: PATH_TO_WHERE_TO_STORE_CHECKPOINTS_AND_LOGS/checkpoints/trainer-STEP-29600.pt\n",
      "2019-12-20 17:03:13,072 - INFO - Step: 29800\n"
     ]
    },
    {
     "name": "stdout",
     "output_type": "stream",
     "text": [
      "Loss: 0.060\n"
     ]
    },
    {
     "name": "stderr",
     "output_type": "stream",
     "text": [
      "2019-12-20 17:03:13,074 - INFO - Step time: 0.5320072174072266 seconds\n",
      "2019-12-20 17:03:13,920 - INFO - Saved checkpoint: PATH_TO_WHERE_TO_STORE_CHECKPOINTS_AND_LOGS/checkpoints/trainer-STEP-29800.pt\n",
      "2019-12-20 17:04:11,413 - INFO - Doing Evaluation ..............................\n",
      "2019-12-20 17:20:53,438 - INFO - Accuracy for task punct: 0.9839759464485681\n",
      "2019-12-20 17:20:53,439 - INFO - Sampled preds: [0 0 0 0 0 0 0 0 0 0 2 0 0 0 0 0 0 0 0 0]\n",
      "2019-12-20 17:20:53,440 - INFO - Sampled labels: [0 0 0 0 0 0 0 0 0 0 2 0 0 0 0 0 0 0 0 0]\n",
      "2019-12-20 17:20:55,334 - INFO -               precision    recall  f1-score   support\n",
      "\n",
      "           O       1.00      0.98      0.99   1544420\n",
      "           ,       0.39      0.98      0.56     17627\n",
      "           .       0.99      1.00      1.00    221292\n",
      "           ?       0.98      0.99      0.99     19638\n",
      "\n",
      "    accuracy                           0.98   1802977\n",
      "   macro avg       0.84      0.99      0.88   1802977\n",
      "weighted avg       0.99      0.98      0.99   1802977\n",
      "\n",
      "2019-12-20 17:21:02,674 - INFO - Accuracy for task capit: 0.9985701426030393\n",
      "2019-12-20 17:21:02,675 - INFO - Sampled preds: [0 0 1 0 0 0 1 0 0 0 0 0 1 0 0 0 1 0 0 0]\n",
      "2019-12-20 17:21:02,676 - INFO - Sampled labels: [0 0 1 0 0 0 1 0 0 0 0 0 1 0 0 0 1 0 0 0]\n",
      "2019-12-20 17:21:05,058 - INFO -               precision    recall  f1-score   support\n",
      "\n",
      "           O       1.00      1.00      1.00   1444603\n",
      "           U       1.00      1.00      1.00    358374\n",
      "\n",
      "    accuracy                           1.00   1802977\n",
      "   macro avg       1.00      1.00      1.00   1802977\n",
      "weighted avg       1.00      1.00      1.00   1802977\n",
      "\n",
      "2019-12-20 17:21:05,059 - INFO - Evaluation time: 1013.6452188491821 seconds\n",
      "2019-12-20 17:21:53,448 - INFO - Step: 30000\n"
     ]
    },
    {
     "name": "stdout",
     "output_type": "stream",
     "text": [
      "Loss: 0.008\n"
     ]
    },
    {
     "name": "stderr",
     "output_type": "stream",
     "text": [
      "2019-12-20 17:21:53,450 - INFO - Step time: 0.5272064208984375 seconds\n",
      "2019-12-20 17:21:54,304 - INFO - Saved checkpoint: PATH_TO_WHERE_TO_STORE_CHECKPOINTS_AND_LOGS/checkpoints/trainer-STEP-30000.pt\n",
      "2019-12-20 17:23:40,834 - INFO - Step: 30200\n"
     ]
    },
    {
     "name": "stdout",
     "output_type": "stream",
     "text": [
      "Loss: 0.000\n"
     ]
    },
    {
     "name": "stderr",
     "output_type": "stream",
     "text": [
      "2019-12-20 17:23:40,835 - INFO - Step time: 0.5291221141815186 seconds\n",
      "2019-12-20 17:23:41,700 - INFO - Saved checkpoint: PATH_TO_WHERE_TO_STORE_CHECKPOINTS_AND_LOGS/checkpoints/trainer-STEP-30200.pt\n",
      "2019-12-20 17:25:28,262 - INFO - Step: 30400\n"
     ]
    },
    {
     "name": "stdout",
     "output_type": "stream",
     "text": [
      "Loss: 0.001\n"
     ]
    },
    {
     "name": "stderr",
     "output_type": "stream",
     "text": [
      "2019-12-20 17:25:28,264 - INFO - Step time: 0.5300741195678711 seconds\n",
      "2019-12-20 17:25:29,108 - INFO - Saved checkpoint: PATH_TO_WHERE_TO_STORE_CHECKPOINTS_AND_LOGS/checkpoints/trainer-STEP-30400.pt\n",
      "2019-12-20 17:27:15,603 - INFO - Step: 30600\n"
     ]
    },
    {
     "name": "stdout",
     "output_type": "stream",
     "text": [
      "Loss: 0.083\n"
     ]
    },
    {
     "name": "stderr",
     "output_type": "stream",
     "text": [
      "2019-12-20 17:27:15,604 - INFO - Step time: 0.5308542251586914 seconds\n",
      "2019-12-20 17:27:16,428 - INFO - Saved checkpoint: PATH_TO_WHERE_TO_STORE_CHECKPOINTS_AND_LOGS/checkpoints/trainer-STEP-30600.pt\n",
      "2019-12-20 17:29:02,910 - INFO - Step: 30800\n"
     ]
    },
    {
     "name": "stdout",
     "output_type": "stream",
     "text": [
      "Loss: 0.015\n"
     ]
    },
    {
     "name": "stderr",
     "output_type": "stream",
     "text": [
      "2019-12-20 17:29:02,911 - INFO - Step time: 0.5280871391296387 seconds\n",
      "2019-12-20 17:29:03,751 - INFO - Saved checkpoint: PATH_TO_WHERE_TO_STORE_CHECKPOINTS_AND_LOGS/checkpoints/trainer-STEP-30800.pt\n",
      "2019-12-20 17:30:50,265 - INFO - Step: 31000\n"
     ]
    },
    {
     "name": "stdout",
     "output_type": "stream",
     "text": [
      "Loss: 0.348\n"
     ]
    },
    {
     "name": "stderr",
     "output_type": "stream",
     "text": [
      "2019-12-20 17:30:50,267 - INFO - Step time: 0.5309057235717773 seconds\n",
      "2019-12-20 17:30:51,104 - INFO - Saved checkpoint: PATH_TO_WHERE_TO_STORE_CHECKPOINTS_AND_LOGS/checkpoints/trainer-STEP-31000.pt\n",
      "2019-12-20 17:32:37,628 - INFO - Step: 31200\n"
     ]
    },
    {
     "name": "stdout",
     "output_type": "stream",
     "text": [
      "Loss: 0.029\n"
     ]
    },
    {
     "name": "stderr",
     "output_type": "stream",
     "text": [
      "2019-12-20 17:32:37,629 - INFO - Step time: 0.5291728973388672 seconds\n",
      "2019-12-20 17:32:38,465 - INFO - Saved checkpoint: PATH_TO_WHERE_TO_STORE_CHECKPOINTS_AND_LOGS/checkpoints/trainer-STEP-31200.pt\n",
      "2019-12-20 17:34:25,007 - INFO - Step: 31400\n"
     ]
    },
    {
     "name": "stdout",
     "output_type": "stream",
     "text": [
      "Loss: 0.017\n"
     ]
    },
    {
     "name": "stderr",
     "output_type": "stream",
     "text": [
      "2019-12-20 17:34:25,009 - INFO - Step time: 0.5316791534423828 seconds\n",
      "2019-12-20 17:34:25,847 - INFO - Saved checkpoint: PATH_TO_WHERE_TO_STORE_CHECKPOINTS_AND_LOGS/checkpoints/trainer-STEP-31400.pt\n",
      "2019-12-20 17:36:12,489 - INFO - Step: 31600\n"
     ]
    },
    {
     "name": "stdout",
     "output_type": "stream",
     "text": [
      "Loss: 0.005\n"
     ]
    },
    {
     "name": "stderr",
     "output_type": "stream",
     "text": [
      "2019-12-20 17:36:12,491 - INFO - Step time: 0.5320651531219482 seconds\n",
      "2019-12-20 17:36:13,328 - INFO - Saved checkpoint: PATH_TO_WHERE_TO_STORE_CHECKPOINTS_AND_LOGS/checkpoints/trainer-STEP-31600.pt\n",
      "2019-12-20 17:37:59,916 - INFO - Step: 31800\n"
     ]
    },
    {
     "name": "stdout",
     "output_type": "stream",
     "text": [
      "Loss: 0.001\n"
     ]
    },
    {
     "name": "stderr",
     "output_type": "stream",
     "text": [
      "2019-12-20 17:37:59,917 - INFO - Step time: 0.5315163135528564 seconds\n",
      "2019-12-20 17:38:00,760 - INFO - Saved checkpoint: PATH_TO_WHERE_TO_STORE_CHECKPOINTS_AND_LOGS/checkpoints/trainer-STEP-31800.pt\n",
      "2019-12-20 17:39:47,371 - INFO - Step: 32000\n"
     ]
    },
    {
     "name": "stdout",
     "output_type": "stream",
     "text": [
      "Loss: 0.012\n"
     ]
    },
    {
     "name": "stderr",
     "output_type": "stream",
     "text": [
      "2019-12-20 17:39:47,373 - INFO - Step time: 0.5316963195800781 seconds\n",
      "2019-12-20 17:39:48,209 - INFO - Saved checkpoint: PATH_TO_WHERE_TO_STORE_CHECKPOINTS_AND_LOGS/checkpoints/trainer-STEP-32000.pt\n",
      "2019-12-20 17:41:34,848 - INFO - Step: 32200\n"
     ]
    },
    {
     "name": "stdout",
     "output_type": "stream",
     "text": [
      "Loss: 0.005\n"
     ]
    },
    {
     "name": "stderr",
     "output_type": "stream",
     "text": [
      "2019-12-20 17:41:34,849 - INFO - Step time: 0.5302677154541016 seconds\n",
      "2019-12-20 17:41:35,684 - INFO - Saved checkpoint: PATH_TO_WHERE_TO_STORE_CHECKPOINTS_AND_LOGS/checkpoints/trainer-STEP-32200.pt\n",
      "2019-12-20 17:43:22,309 - INFO - Step: 32400\n"
     ]
    },
    {
     "name": "stdout",
     "output_type": "stream",
     "text": [
      "Loss: 0.001\n"
     ]
    },
    {
     "name": "stderr",
     "output_type": "stream",
     "text": [
      "2019-12-20 17:43:22,310 - INFO - Step time: 0.5307221412658691 seconds\n",
      "2019-12-20 17:43:23,144 - INFO - Saved checkpoint: PATH_TO_WHERE_TO_STORE_CHECKPOINTS_AND_LOGS/checkpoints/trainer-STEP-32400.pt\n",
      "2019-12-20 17:45:09,705 - INFO - Step: 32600\n"
     ]
    },
    {
     "name": "stdout",
     "output_type": "stream",
     "text": [
      "Loss: 0.001\n"
     ]
    },
    {
     "name": "stderr",
     "output_type": "stream",
     "text": [
      "2019-12-20 17:45:09,707 - INFO - Step time: 0.5297961235046387 seconds\n",
      "2019-12-20 17:45:10,541 - INFO - Saved checkpoint: PATH_TO_WHERE_TO_STORE_CHECKPOINTS_AND_LOGS/checkpoints/trainer-STEP-32600.pt\n",
      "2019-12-20 17:46:57,114 - INFO - Step: 32800\n"
     ]
    },
    {
     "name": "stdout",
     "output_type": "stream",
     "text": [
      "Loss: 0.001\n"
     ]
    },
    {
     "name": "stderr",
     "output_type": "stream",
     "text": [
      "2019-12-20 17:46:57,116 - INFO - Step time: 0.5316364765167236 seconds\n",
      "2019-12-20 17:46:57,953 - INFO - Saved checkpoint: PATH_TO_WHERE_TO_STORE_CHECKPOINTS_AND_LOGS/checkpoints/trainer-STEP-32800.pt\n",
      "2019-12-20 17:48:44,487 - INFO - Step: 33000\n"
     ]
    },
    {
     "name": "stdout",
     "output_type": "stream",
     "text": [
      "Loss: 0.144\n"
     ]
    },
    {
     "name": "stderr",
     "output_type": "stream",
     "text": [
      "2019-12-20 17:48:44,489 - INFO - Step time: 0.5320496559143066 seconds\n",
      "2019-12-20 17:48:45,334 - INFO - Saved checkpoint: PATH_TO_WHERE_TO_STORE_CHECKPOINTS_AND_LOGS/checkpoints/trainer-STEP-33000.pt\n",
      "2019-12-20 17:50:31,899 - INFO - Step: 33200\n"
     ]
    },
    {
     "name": "stdout",
     "output_type": "stream",
     "text": [
      "Loss: 0.004\n"
     ]
    },
    {
     "name": "stderr",
     "output_type": "stream",
     "text": [
      "2019-12-20 17:50:31,901 - INFO - Step time: 0.5308730602264404 seconds\n",
      "2019-12-20 17:50:32,738 - INFO - Saved checkpoint: PATH_TO_WHERE_TO_STORE_CHECKPOINTS_AND_LOGS/checkpoints/trainer-STEP-33200.pt\n",
      "2019-12-20 17:52:19,225 - INFO - Step: 33400\n"
     ]
    },
    {
     "name": "stdout",
     "output_type": "stream",
     "text": [
      "Loss: 0.002\n"
     ]
    },
    {
     "name": "stderr",
     "output_type": "stream",
     "text": [
      "2019-12-20 17:52:19,227 - INFO - Step time: 0.5313482284545898 seconds\n",
      "2019-12-20 17:52:20,061 - INFO - Saved checkpoint: PATH_TO_WHERE_TO_STORE_CHECKPOINTS_AND_LOGS/checkpoints/trainer-STEP-33400.pt\n",
      "2019-12-20 17:54:06,643 - INFO - Step: 33600\n"
     ]
    },
    {
     "name": "stdout",
     "output_type": "stream",
     "text": [
      "Loss: 0.002\n"
     ]
    },
    {
     "name": "stderr",
     "output_type": "stream",
     "text": [
      "2019-12-20 17:54:06,645 - INFO - Step time: 0.5312705039978027 seconds\n",
      "2019-12-20 17:54:07,494 - INFO - Saved checkpoint: PATH_TO_WHERE_TO_STORE_CHECKPOINTS_AND_LOGS/checkpoints/trainer-STEP-33600.pt\n",
      "2019-12-20 17:55:54,072 - INFO - Step: 33800\n"
     ]
    },
    {
     "name": "stdout",
     "output_type": "stream",
     "text": [
      "Loss: 0.010\n"
     ]
    },
    {
     "name": "stderr",
     "output_type": "stream",
     "text": [
      "2019-12-20 17:55:54,073 - INFO - Step time: 0.5319807529449463 seconds\n",
      "2019-12-20 17:55:54,922 - INFO - Saved checkpoint: PATH_TO_WHERE_TO_STORE_CHECKPOINTS_AND_LOGS/checkpoints/trainer-STEP-33800.pt\n",
      "2019-12-20 17:57:41,510 - INFO - Step: 34000\n"
     ]
    },
    {
     "name": "stdout",
     "output_type": "stream",
     "text": [
      "Loss: 0.011\n"
     ]
    },
    {
     "name": "stderr",
     "output_type": "stream",
     "text": [
      "2019-12-20 17:57:41,512 - INFO - Step time: 0.5318319797515869 seconds\n",
      "2019-12-20 17:57:42,359 - INFO - Saved checkpoint: PATH_TO_WHERE_TO_STORE_CHECKPOINTS_AND_LOGS/checkpoints/trainer-STEP-34000.pt\n",
      "2019-12-20 17:59:29,028 - INFO - Step: 34200\n"
     ]
    },
    {
     "name": "stdout",
     "output_type": "stream",
     "text": [
      "Loss: 0.019\n"
     ]
    },
    {
     "name": "stderr",
     "output_type": "stream",
     "text": [
      "2019-12-20 17:59:29,029 - INFO - Step time: 0.5295858383178711 seconds\n",
      "2019-12-20 17:59:29,875 - INFO - Saved checkpoint: PATH_TO_WHERE_TO_STORE_CHECKPOINTS_AND_LOGS/checkpoints/trainer-STEP-34200.pt\n",
      "2019-12-20 18:01:16,437 - INFO - Step: 34400\n"
     ]
    },
    {
     "name": "stdout",
     "output_type": "stream",
     "text": [
      "Loss: 0.002\n"
     ]
    },
    {
     "name": "stderr",
     "output_type": "stream",
     "text": [
      "2019-12-20 18:01:16,439 - INFO - Step time: 0.5318427085876465 seconds\n",
      "2019-12-20 18:01:17,278 - INFO - Saved checkpoint: PATH_TO_WHERE_TO_STORE_CHECKPOINTS_AND_LOGS/checkpoints/trainer-STEP-34400.pt\n",
      "2019-12-20 18:03:03,827 - INFO - Step: 34600\n"
     ]
    },
    {
     "name": "stdout",
     "output_type": "stream",
     "text": [
      "Loss: 0.004\n"
     ]
    },
    {
     "name": "stderr",
     "output_type": "stream",
     "text": [
      "2019-12-20 18:03:03,829 - INFO - Step time: 0.5303611755371094 seconds\n",
      "2019-12-20 18:03:04,648 - INFO - Saved checkpoint: PATH_TO_WHERE_TO_STORE_CHECKPOINTS_AND_LOGS/checkpoints/trainer-STEP-34600.pt\n",
      "2019-12-20 18:04:51,182 - INFO - Step: 34800\n"
     ]
    },
    {
     "name": "stdout",
     "output_type": "stream",
     "text": [
      "Loss: 0.014\n"
     ]
    },
    {
     "name": "stderr",
     "output_type": "stream",
     "text": [
      "2019-12-20 18:04:51,183 - INFO - Step time: 0.530282735824585 seconds\n",
      "2019-12-20 18:04:52,035 - INFO - Saved checkpoint: PATH_TO_WHERE_TO_STORE_CHECKPOINTS_AND_LOGS/checkpoints/trainer-STEP-34800.pt\n",
      "2019-12-20 18:06:38,615 - INFO - Step: 35000\n"
     ]
    },
    {
     "name": "stdout",
     "output_type": "stream",
     "text": [
      "Loss: 0.004\n"
     ]
    },
    {
     "name": "stderr",
     "output_type": "stream",
     "text": [
      "2019-12-20 18:06:38,617 - INFO - Step time: 0.5300860404968262 seconds\n",
      "2019-12-20 18:06:39,473 - INFO - Saved checkpoint: PATH_TO_WHERE_TO_STORE_CHECKPOINTS_AND_LOGS/checkpoints/trainer-STEP-35000.pt\n",
      "2019-12-20 18:08:26,071 - INFO - Step: 35200\n"
     ]
    },
    {
     "name": "stdout",
     "output_type": "stream",
     "text": [
      "Loss: 0.017\n"
     ]
    },
    {
     "name": "stderr",
     "output_type": "stream",
     "text": [
      "2019-12-20 18:08:26,073 - INFO - Step time: 0.5306761264801025 seconds\n",
      "2019-12-20 18:08:26,936 - INFO - Saved checkpoint: PATH_TO_WHERE_TO_STORE_CHECKPOINTS_AND_LOGS/checkpoints/trainer-STEP-35200.pt\n",
      "2019-12-20 18:10:13,464 - INFO - Step: 35400\n"
     ]
    },
    {
     "name": "stdout",
     "output_type": "stream",
     "text": [
      "Loss: 0.006\n"
     ]
    },
    {
     "name": "stderr",
     "output_type": "stream",
     "text": [
      "2019-12-20 18:10:13,466 - INFO - Step time: 0.5309152603149414 seconds\n",
      "2019-12-20 18:10:14,300 - INFO - Saved checkpoint: PATH_TO_WHERE_TO_STORE_CHECKPOINTS_AND_LOGS/checkpoints/trainer-STEP-35400.pt\n",
      "2019-12-20 18:12:00,863 - INFO - Step: 35600\n"
     ]
    },
    {
     "name": "stdout",
     "output_type": "stream",
     "text": [
      "Loss: 0.003\n"
     ]
    },
    {
     "name": "stderr",
     "output_type": "stream",
     "text": [
      "2019-12-20 18:12:00,865 - INFO - Step time: 0.5315718650817871 seconds\n",
      "2019-12-20 18:12:01,699 - INFO - Saved checkpoint: PATH_TO_WHERE_TO_STORE_CHECKPOINTS_AND_LOGS/checkpoints/trainer-STEP-35600.pt\n",
      "2019-12-20 18:13:47,870 - INFO - Step: 35800\n"
     ]
    },
    {
     "name": "stdout",
     "output_type": "stream",
     "text": [
      "Loss: 0.001\n"
     ]
    },
    {
     "name": "stderr",
     "output_type": "stream",
     "text": [
      "2019-12-20 18:13:47,872 - INFO - Step time: 0.5314931869506836 seconds\n",
      "2019-12-20 18:13:48,705 - INFO - Saved checkpoint: PATH_TO_WHERE_TO_STORE_CHECKPOINTS_AND_LOGS/checkpoints/trainer-STEP-35800.pt\n",
      "2019-12-20 18:15:35,370 - INFO - Step: 36000\n"
     ]
    },
    {
     "name": "stdout",
     "output_type": "stream",
     "text": [
      "Loss: 0.001\n"
     ]
    },
    {
     "name": "stderr",
     "output_type": "stream",
     "text": [
      "2019-12-20 18:15:35,372 - INFO - Step time: 0.5310378074645996 seconds\n",
      "2019-12-20 18:15:36,206 - INFO - Saved checkpoint: PATH_TO_WHERE_TO_STORE_CHECKPOINTS_AND_LOGS/checkpoints/trainer-STEP-36000.pt\n",
      "2019-12-20 18:17:22,777 - INFO - Step: 36200\n"
     ]
    },
    {
     "name": "stdout",
     "output_type": "stream",
     "text": [
      "Loss: 0.000\n"
     ]
    },
    {
     "name": "stderr",
     "output_type": "stream",
     "text": [
      "2019-12-20 18:17:22,779 - INFO - Step time: 0.5278639793395996 seconds\n",
      "2019-12-20 18:17:23,627 - INFO - Saved checkpoint: PATH_TO_WHERE_TO_STORE_CHECKPOINTS_AND_LOGS/checkpoints/trainer-STEP-36200.pt\n",
      "2019-12-20 18:19:10,176 - INFO - Step: 36400\n"
     ]
    },
    {
     "name": "stdout",
     "output_type": "stream",
     "text": [
      "Loss: 0.000\n"
     ]
    },
    {
     "name": "stderr",
     "output_type": "stream",
     "text": [
      "2019-12-20 18:19:10,178 - INFO - Step time: 0.5310792922973633 seconds\n",
      "2019-12-20 18:19:11,023 - INFO - Saved checkpoint: PATH_TO_WHERE_TO_STORE_CHECKPOINTS_AND_LOGS/checkpoints/trainer-STEP-36400.pt\n",
      "2019-12-20 18:20:57,549 - INFO - Step: 36600\n"
     ]
    },
    {
     "name": "stdout",
     "output_type": "stream",
     "text": [
      "Loss: 0.006\n"
     ]
    },
    {
     "name": "stderr",
     "output_type": "stream",
     "text": [
      "2019-12-20 18:20:57,551 - INFO - Step time: 0.5312726497650146 seconds\n",
      "2019-12-20 18:20:58,380 - INFO - Saved checkpoint: PATH_TO_WHERE_TO_STORE_CHECKPOINTS_AND_LOGS/checkpoints/trainer-STEP-36600.pt\n",
      "2019-12-20 18:22:44,977 - INFO - Step: 36800\n"
     ]
    },
    {
     "name": "stdout",
     "output_type": "stream",
     "text": [
      "Loss: 0.001\n"
     ]
    },
    {
     "name": "stderr",
     "output_type": "stream",
     "text": [
      "2019-12-20 18:22:44,979 - INFO - Step time: 0.5319955348968506 seconds\n",
      "2019-12-20 18:22:45,811 - INFO - Saved checkpoint: PATH_TO_WHERE_TO_STORE_CHECKPOINTS_AND_LOGS/checkpoints/trainer-STEP-36800.pt\n",
      "2019-12-20 18:24:32,378 - INFO - Step: 37000\n"
     ]
    },
    {
     "name": "stdout",
     "output_type": "stream",
     "text": [
      "Loss: 0.024\n"
     ]
    },
    {
     "name": "stderr",
     "output_type": "stream",
     "text": [
      "2019-12-20 18:24:32,380 - INFO - Step time: 0.5312530994415283 seconds\n",
      "2019-12-20 18:24:33,214 - INFO - Saved checkpoint: PATH_TO_WHERE_TO_STORE_CHECKPOINTS_AND_LOGS/checkpoints/trainer-STEP-37000.pt\n",
      "2019-12-20 18:26:19,894 - INFO - Step: 37200\n"
     ]
    },
    {
     "name": "stdout",
     "output_type": "stream",
     "text": [
      "Loss: 0.002\n"
     ]
    },
    {
     "name": "stderr",
     "output_type": "stream",
     "text": [
      "2019-12-20 18:26:19,896 - INFO - Step time: 0.5309038162231445 seconds\n",
      "2019-12-20 18:26:20,733 - INFO - Saved checkpoint: PATH_TO_WHERE_TO_STORE_CHECKPOINTS_AND_LOGS/checkpoints/trainer-STEP-37200.pt\n",
      "2019-12-20 18:28:07,316 - INFO - Step: 37400\n"
     ]
    },
    {
     "name": "stdout",
     "output_type": "stream",
     "text": [
      "Loss: 0.001\n"
     ]
    },
    {
     "name": "stderr",
     "output_type": "stream",
     "text": [
      "2019-12-20 18:28:07,318 - INFO - Step time: 0.5313384532928467 seconds\n",
      "2019-12-20 18:28:08,155 - INFO - Saved checkpoint: PATH_TO_WHERE_TO_STORE_CHECKPOINTS_AND_LOGS/checkpoints/trainer-STEP-37400.pt\n",
      "2019-12-20 18:29:54,650 - INFO - Step: 37600\n"
     ]
    },
    {
     "name": "stdout",
     "output_type": "stream",
     "text": [
      "Loss: 0.004\n"
     ]
    },
    {
     "name": "stderr",
     "output_type": "stream",
     "text": [
      "2019-12-20 18:29:54,652 - INFO - Step time: 0.5311832427978516 seconds\n",
      "2019-12-20 18:29:55,487 - INFO - Saved checkpoint: PATH_TO_WHERE_TO_STORE_CHECKPOINTS_AND_LOGS/checkpoints/trainer-STEP-37600.pt\n",
      "2019-12-20 18:31:42,130 - INFO - Step: 37800\n"
     ]
    },
    {
     "name": "stdout",
     "output_type": "stream",
     "text": [
      "Loss: 0.001\n"
     ]
    },
    {
     "name": "stderr",
     "output_type": "stream",
     "text": [
      "2019-12-20 18:31:42,131 - INFO - Step time: 0.5304820537567139 seconds\n",
      "2019-12-20 18:31:42,968 - INFO - Saved checkpoint: PATH_TO_WHERE_TO_STORE_CHECKPOINTS_AND_LOGS/checkpoints/trainer-STEP-37800.pt\n",
      "2019-12-20 18:33:29,595 - INFO - Step: 38000\n"
     ]
    },
    {
     "name": "stdout",
     "output_type": "stream",
     "text": [
      "Loss: 0.001\n"
     ]
    },
    {
     "name": "stderr",
     "output_type": "stream",
     "text": [
      "2019-12-20 18:33:29,597 - INFO - Step time: 0.5297436714172363 seconds\n",
      "2019-12-20 18:33:30,436 - INFO - Saved checkpoint: PATH_TO_WHERE_TO_STORE_CHECKPOINTS_AND_LOGS/checkpoints/trainer-STEP-38000.pt\n",
      "2019-12-20 18:35:16,967 - INFO - Step: 38200\n"
     ]
    },
    {
     "name": "stdout",
     "output_type": "stream",
     "text": [
      "Loss: 0.003\n"
     ]
    },
    {
     "name": "stderr",
     "output_type": "stream",
     "text": [
      "2019-12-20 18:35:16,969 - INFO - Step time: 0.5312793254852295 seconds\n",
      "2019-12-20 18:35:17,808 - INFO - Saved checkpoint: PATH_TO_WHERE_TO_STORE_CHECKPOINTS_AND_LOGS/checkpoints/trainer-STEP-38200.pt\n",
      "2019-12-20 18:37:04,306 - INFO - Step: 38400\n"
     ]
    },
    {
     "name": "stdout",
     "output_type": "stream",
     "text": [
      "Loss: 0.064\n"
     ]
    },
    {
     "name": "stderr",
     "output_type": "stream",
     "text": [
      "2019-12-20 18:37:04,308 - INFO - Step time: 0.5314111709594727 seconds\n",
      "2019-12-20 18:37:05,145 - INFO - Saved checkpoint: PATH_TO_WHERE_TO_STORE_CHECKPOINTS_AND_LOGS/checkpoints/trainer-STEP-38400.pt\n",
      "2019-12-20 18:38:51,707 - INFO - Step: 38600\n"
     ]
    },
    {
     "name": "stdout",
     "output_type": "stream",
     "text": [
      "Loss: 0.001\n"
     ]
    },
    {
     "name": "stderr",
     "output_type": "stream",
     "text": [
      "2019-12-20 18:38:51,709 - INFO - Step time: 0.5328993797302246 seconds\n",
      "2019-12-20 18:38:52,544 - INFO - Saved checkpoint: PATH_TO_WHERE_TO_STORE_CHECKPOINTS_AND_LOGS/checkpoints/trainer-STEP-38600.pt\n",
      "2019-12-20 18:40:39,074 - INFO - Step: 38800\n"
     ]
    },
    {
     "name": "stdout",
     "output_type": "stream",
     "text": [
      "Loss: 0.003\n"
     ]
    },
    {
     "name": "stderr",
     "output_type": "stream",
     "text": [
      "2019-12-20 18:40:39,075 - INFO - Step time: 0.5308017730712891 seconds\n",
      "2019-12-20 18:40:39,909 - INFO - Saved checkpoint: PATH_TO_WHERE_TO_STORE_CHECKPOINTS_AND_LOGS/checkpoints/trainer-STEP-38800.pt\n",
      "2019-12-20 18:42:26,439 - INFO - Step: 39000\n"
     ]
    },
    {
     "name": "stdout",
     "output_type": "stream",
     "text": [
      "Loss: 0.007\n"
     ]
    },
    {
     "name": "stderr",
     "output_type": "stream",
     "text": [
      "2019-12-20 18:42:26,441 - INFO - Step time: 0.5311851501464844 seconds\n",
      "2019-12-20 18:42:27,276 - INFO - Saved checkpoint: PATH_TO_WHERE_TO_STORE_CHECKPOINTS_AND_LOGS/checkpoints/trainer-STEP-39000.pt\n",
      "2019-12-20 18:44:13,794 - INFO - Step: 39200\n"
     ]
    },
    {
     "name": "stdout",
     "output_type": "stream",
     "text": [
      "Loss: 0.004\n"
     ]
    },
    {
     "name": "stderr",
     "output_type": "stream",
     "text": [
      "2019-12-20 18:44:13,796 - INFO - Step time: 0.5312850475311279 seconds\n",
      "2019-12-20 18:44:14,614 - INFO - Saved checkpoint: PATH_TO_WHERE_TO_STORE_CHECKPOINTS_AND_LOGS/checkpoints/trainer-STEP-39200.pt\n",
      "2019-12-20 18:46:01,149 - INFO - Step: 39400\n"
     ]
    },
    {
     "name": "stdout",
     "output_type": "stream",
     "text": [
      "Loss: 0.001\n"
     ]
    },
    {
     "name": "stderr",
     "output_type": "stream",
     "text": [
      "2019-12-20 18:46:01,151 - INFO - Step time: 0.5329515933990479 seconds\n",
      "2019-12-20 18:46:01,998 - INFO - Saved checkpoint: PATH_TO_WHERE_TO_STORE_CHECKPOINTS_AND_LOGS/checkpoints/trainer-STEP-39400.pt\n",
      "2019-12-20 18:47:48,564 - INFO - Step: 39600\n"
     ]
    },
    {
     "name": "stdout",
     "output_type": "stream",
     "text": [
      "Loss: 0.214\n"
     ]
    },
    {
     "name": "stderr",
     "output_type": "stream",
     "text": [
      "2019-12-20 18:47:48,566 - INFO - Step time: 0.5304665565490723 seconds\n",
      "2019-12-20 18:47:49,409 - INFO - Saved checkpoint: PATH_TO_WHERE_TO_STORE_CHECKPOINTS_AND_LOGS/checkpoints/trainer-STEP-39600.pt\n",
      "2019-12-20 18:49:35,904 - INFO - Step: 39800\n"
     ]
    },
    {
     "name": "stdout",
     "output_type": "stream",
     "text": [
      "Loss: 0.003\n"
     ]
    },
    {
     "name": "stderr",
     "output_type": "stream",
     "text": [
      "2019-12-20 18:49:35,906 - INFO - Step time: 0.5309875011444092 seconds\n",
      "2019-12-20 18:49:36,752 - INFO - Saved checkpoint: PATH_TO_WHERE_TO_STORE_CHECKPOINTS_AND_LOGS/checkpoints/trainer-STEP-39800.pt\n",
      "2019-12-20 18:51:23,247 - INFO - Step: 40000\n"
     ]
    },
    {
     "name": "stdout",
     "output_type": "stream",
     "text": [
      "Loss: 0.003\n"
     ]
    },
    {
     "name": "stderr",
     "output_type": "stream",
     "text": [
      "2019-12-20 18:51:23,249 - INFO - Step time: 0.5275876522064209 seconds\n",
      "2019-12-20 18:51:24,096 - INFO - Saved checkpoint: PATH_TO_WHERE_TO_STORE_CHECKPOINTS_AND_LOGS/checkpoints/trainer-STEP-40000.pt\n",
      "2019-12-20 18:52:46,127 - INFO - Finished epoch 0 in 9041.161789178848\n",
      "2019-12-20 18:52:46,143 - INFO - Starting epoch 1\n",
      "2019-12-20 18:53:13,369 - INFO - Step: 40200\n"
     ]
    },
    {
     "name": "stdout",
     "output_type": "stream",
     "text": [
      "Loss: 0.013\n"
     ]
    },
    {
     "name": "stderr",
     "output_type": "stream",
     "text": [
      "2019-12-20 18:53:13,372 - INFO - Step time: 0.5261180400848389 seconds\n",
      "2019-12-20 18:53:14,251 - INFO - Saved checkpoint: PATH_TO_WHERE_TO_STORE_CHECKPOINTS_AND_LOGS/checkpoints/trainer-STEP-40200.pt\n",
      "2019-12-20 18:55:00,617 - INFO - Step: 40400\n"
     ]
    },
    {
     "name": "stdout",
     "output_type": "stream",
     "text": [
      "Loss: 0.005\n"
     ]
    },
    {
     "name": "stderr",
     "output_type": "stream",
     "text": [
      "2019-12-20 18:55:00,619 - INFO - Step time: 0.5312862396240234 seconds\n",
      "2019-12-20 18:55:01,481 - INFO - Saved checkpoint: PATH_TO_WHERE_TO_STORE_CHECKPOINTS_AND_LOGS/checkpoints/trainer-STEP-40400.pt\n",
      "2019-12-20 18:56:47,989 - INFO - Step: 40600\n"
     ]
    },
    {
     "name": "stdout",
     "output_type": "stream",
     "text": [
      "Loss: 0.004\n"
     ]
    },
    {
     "name": "stderr",
     "output_type": "stream",
     "text": [
      "2019-12-20 18:56:47,991 - INFO - Step time: 0.5319418907165527 seconds\n",
      "2019-12-20 18:56:48,825 - INFO - Saved checkpoint: PATH_TO_WHERE_TO_STORE_CHECKPOINTS_AND_LOGS/checkpoints/trainer-STEP-40600.pt\n",
      "2019-12-20 18:58:35,319 - INFO - Step: 40800\n"
     ]
    },
    {
     "name": "stdout",
     "output_type": "stream",
     "text": [
      "Loss: 0.016\n"
     ]
    },
    {
     "name": "stderr",
     "output_type": "stream",
     "text": [
      "2019-12-20 18:58:35,321 - INFO - Step time: 0.5306227207183838 seconds\n",
      "2019-12-20 18:58:36,158 - INFO - Saved checkpoint: PATH_TO_WHERE_TO_STORE_CHECKPOINTS_AND_LOGS/checkpoints/trainer-STEP-40800.pt\n",
      "2019-12-20 19:00:22,659 - INFO - Step: 41000\n"
     ]
    },
    {
     "name": "stdout",
     "output_type": "stream",
     "text": [
      "Loss: 0.045\n"
     ]
    },
    {
     "name": "stderr",
     "output_type": "stream",
     "text": [
      "2019-12-20 19:00:22,661 - INFO - Step time: 0.5300006866455078 seconds\n",
      "2019-12-20 19:00:23,517 - INFO - Saved checkpoint: PATH_TO_WHERE_TO_STORE_CHECKPOINTS_AND_LOGS/checkpoints/trainer-STEP-41000.pt\n",
      "2019-12-20 19:02:10,025 - INFO - Step: 41200\n"
     ]
    },
    {
     "name": "stdout",
     "output_type": "stream",
     "text": [
      "Loss: 0.003\n"
     ]
    },
    {
     "name": "stderr",
     "output_type": "stream",
     "text": [
      "2019-12-20 19:02:10,027 - INFO - Step time: 0.5322699546813965 seconds\n",
      "2019-12-20 19:02:10,898 - INFO - Saved checkpoint: PATH_TO_WHERE_TO_STORE_CHECKPOINTS_AND_LOGS/checkpoints/trainer-STEP-41200.pt\n",
      "2019-12-20 19:03:57,407 - INFO - Step: 41400\n"
     ]
    },
    {
     "name": "stdout",
     "output_type": "stream",
     "text": [
      "Loss: 0.008\n"
     ]
    },
    {
     "name": "stderr",
     "output_type": "stream",
     "text": [
      "2019-12-20 19:03:57,409 - INFO - Step time: 0.5318009853363037 seconds\n",
      "2019-12-20 19:03:58,240 - INFO - Saved checkpoint: PATH_TO_WHERE_TO_STORE_CHECKPOINTS_AND_LOGS/checkpoints/trainer-STEP-41400.pt\n",
      "2019-12-20 19:05:44,109 - INFO - Step: 41600\n"
     ]
    },
    {
     "name": "stdout",
     "output_type": "stream",
     "text": [
      "Loss: 0.005\n"
     ]
    },
    {
     "name": "stderr",
     "output_type": "stream",
     "text": [
      "2019-12-20 19:05:44,115 - INFO - Step time: 0.5199086666107178 seconds\n",
      "2019-12-20 19:05:44,935 - INFO - Saved checkpoint: PATH_TO_WHERE_TO_STORE_CHECKPOINTS_AND_LOGS/checkpoints/trainer-STEP-41600.pt\n",
      "2019-12-20 19:07:28,522 - INFO - Step: 41800\n"
     ]
    },
    {
     "name": "stdout",
     "output_type": "stream",
     "text": [
      "Loss: 0.004\n"
     ]
    },
    {
     "name": "stderr",
     "output_type": "stream",
     "text": [
      "2019-12-20 19:07:28,528 - INFO - Step time: 0.520132303237915 seconds\n",
      "2019-12-20 19:07:29,349 - INFO - Saved checkpoint: PATH_TO_WHERE_TO_STORE_CHECKPOINTS_AND_LOGS/checkpoints/trainer-STEP-41800.pt\n",
      "2019-12-20 19:09:12,935 - INFO - Step: 42000\n"
     ]
    },
    {
     "name": "stdout",
     "output_type": "stream",
     "text": [
      "Loss: 0.003\n"
     ]
    },
    {
     "name": "stderr",
     "output_type": "stream",
     "text": [
      "2019-12-20 19:09:12,941 - INFO - Step time: 0.521000862121582 seconds\n",
      "2019-12-20 19:09:13,780 - INFO - Saved checkpoint: PATH_TO_WHERE_TO_STORE_CHECKPOINTS_AND_LOGS/checkpoints/trainer-STEP-42000.pt\n",
      "2019-12-20 19:11:00,125 - INFO - Step: 42200\n"
     ]
    },
    {
     "name": "stdout",
     "output_type": "stream",
     "text": [
      "Loss: 0.124\n"
     ]
    },
    {
     "name": "stderr",
     "output_type": "stream",
     "text": [
      "2019-12-20 19:11:00,127 - INFO - Step time: 0.5308957099914551 seconds\n",
      "2019-12-20 19:11:01,015 - INFO - Saved checkpoint: PATH_TO_WHERE_TO_STORE_CHECKPOINTS_AND_LOGS/checkpoints/trainer-STEP-42200.pt\n",
      "2019-12-20 19:12:47,496 - INFO - Step: 42400\n"
     ]
    },
    {
     "name": "stdout",
     "output_type": "stream",
     "text": [
      "Loss: 0.024\n"
     ]
    },
    {
     "name": "stderr",
     "output_type": "stream",
     "text": [
      "2019-12-20 19:12:47,498 - INFO - Step time: 0.5259263515472412 seconds\n",
      "2019-12-20 19:12:48,350 - INFO - Saved checkpoint: PATH_TO_WHERE_TO_STORE_CHECKPOINTS_AND_LOGS/checkpoints/trainer-STEP-42400.pt\n",
      "2019-12-20 19:14:34,819 - INFO - Step: 42600\n"
     ]
    },
    {
     "name": "stdout",
     "output_type": "stream",
     "text": [
      "Loss: 0.078\n"
     ]
    },
    {
     "name": "stderr",
     "output_type": "stream",
     "text": [
      "2019-12-20 19:14:34,821 - INFO - Step time: 0.5309743881225586 seconds\n",
      "2019-12-20 19:14:35,657 - INFO - Saved checkpoint: PATH_TO_WHERE_TO_STORE_CHECKPOINTS_AND_LOGS/checkpoints/trainer-STEP-42600.pt\n",
      "2019-12-20 19:16:22,148 - INFO - Step: 42800\n"
     ]
    },
    {
     "name": "stdout",
     "output_type": "stream",
     "text": [
      "Loss: 0.107\n"
     ]
    },
    {
     "name": "stderr",
     "output_type": "stream",
     "text": [
      "2019-12-20 19:16:22,150 - INFO - Step time: 0.5296792984008789 seconds\n",
      "2019-12-20 19:16:22,993 - INFO - Saved checkpoint: PATH_TO_WHERE_TO_STORE_CHECKPOINTS_AND_LOGS/checkpoints/trainer-STEP-42800.pt\n",
      "2019-12-20 19:18:09,524 - INFO - Step: 43000\n"
     ]
    },
    {
     "name": "stdout",
     "output_type": "stream",
     "text": [
      "Loss: 0.048\n"
     ]
    },
    {
     "name": "stderr",
     "output_type": "stream",
     "text": [
      "2019-12-20 19:18:09,526 - INFO - Step time: 0.5315811634063721 seconds\n",
      "2019-12-20 19:18:10,405 - INFO - Saved checkpoint: PATH_TO_WHERE_TO_STORE_CHECKPOINTS_AND_LOGS/checkpoints/trainer-STEP-43000.pt\n",
      "2019-12-20 19:19:56,851 - INFO - Step: 43200\n"
     ]
    },
    {
     "name": "stdout",
     "output_type": "stream",
     "text": [
      "Loss: 0.009\n"
     ]
    },
    {
     "name": "stderr",
     "output_type": "stream",
     "text": [
      "2019-12-20 19:19:56,853 - INFO - Step time: 0.531013011932373 seconds\n",
      "2019-12-20 19:19:57,716 - INFO - Saved checkpoint: PATH_TO_WHERE_TO_STORE_CHECKPOINTS_AND_LOGS/checkpoints/trainer-STEP-43200.pt\n",
      "2019-12-20 19:21:44,228 - INFO - Step: 43400\n"
     ]
    },
    {
     "name": "stdout",
     "output_type": "stream",
     "text": [
      "Loss: 0.066\n"
     ]
    },
    {
     "name": "stderr",
     "output_type": "stream",
     "text": [
      "2019-12-20 19:21:44,230 - INFO - Step time: 0.5324063301086426 seconds\n",
      "2019-12-20 19:21:45,068 - INFO - Saved checkpoint: PATH_TO_WHERE_TO_STORE_CHECKPOINTS_AND_LOGS/checkpoints/trainer-STEP-43400.pt\n",
      "2019-12-20 19:23:31,615 - INFO - Step: 43600\n"
     ]
    },
    {
     "name": "stdout",
     "output_type": "stream",
     "text": [
      "Loss: 0.009\n"
     ]
    },
    {
     "name": "stderr",
     "output_type": "stream",
     "text": [
      "2019-12-20 19:23:31,617 - INFO - Step time: 0.5315749645233154 seconds\n",
      "2019-12-20 19:23:32,451 - INFO - Saved checkpoint: PATH_TO_WHERE_TO_STORE_CHECKPOINTS_AND_LOGS/checkpoints/trainer-STEP-43600.pt\n",
      "2019-12-20 19:25:18,911 - INFO - Step: 43800\n"
     ]
    },
    {
     "name": "stdout",
     "output_type": "stream",
     "text": [
      "Loss: 0.015\n"
     ]
    },
    {
     "name": "stderr",
     "output_type": "stream",
     "text": [
      "2019-12-20 19:25:18,913 - INFO - Step time: 0.5302789211273193 seconds\n",
      "2019-12-20 19:25:19,747 - INFO - Saved checkpoint: PATH_TO_WHERE_TO_STORE_CHECKPOINTS_AND_LOGS/checkpoints/trainer-STEP-43800.pt\n",
      "2019-12-20 19:27:06,218 - INFO - Step: 44000\n"
     ]
    },
    {
     "name": "stdout",
     "output_type": "stream",
     "text": [
      "Loss: 0.042\n"
     ]
    },
    {
     "name": "stderr",
     "output_type": "stream",
     "text": [
      "2019-12-20 19:27:06,220 - INFO - Step time: 0.5276358127593994 seconds\n",
      "2019-12-20 19:27:07,070 - INFO - Saved checkpoint: PATH_TO_WHERE_TO_STORE_CHECKPOINTS_AND_LOGS/checkpoints/trainer-STEP-44000.pt\n",
      "2019-12-20 19:28:53,528 - INFO - Step: 44200\n"
     ]
    },
    {
     "name": "stdout",
     "output_type": "stream",
     "text": [
      "Loss: 0.003\n"
     ]
    },
    {
     "name": "stderr",
     "output_type": "stream",
     "text": [
      "2019-12-20 19:28:53,530 - INFO - Step time: 0.5306358337402344 seconds\n",
      "2019-12-20 19:28:54,393 - INFO - Saved checkpoint: PATH_TO_WHERE_TO_STORE_CHECKPOINTS_AND_LOGS/checkpoints/trainer-STEP-44200.pt\n",
      "2019-12-20 19:30:40,721 - INFO - Step: 44400\n"
     ]
    },
    {
     "name": "stdout",
     "output_type": "stream",
     "text": [
      "Loss: 0.000\n"
     ]
    },
    {
     "name": "stderr",
     "output_type": "stream",
     "text": [
      "2019-12-20 19:30:40,723 - INFO - Step time: 0.527996301651001 seconds\n",
      "2019-12-20 19:30:41,565 - INFO - Saved checkpoint: PATH_TO_WHERE_TO_STORE_CHECKPOINTS_AND_LOGS/checkpoints/trainer-STEP-44400.pt\n",
      "2019-12-20 19:32:28,018 - INFO - Step: 44600\n"
     ]
    },
    {
     "name": "stdout",
     "output_type": "stream",
     "text": [
      "Loss: 0.003\n"
     ]
    },
    {
     "name": "stderr",
     "output_type": "stream",
     "text": [
      "2019-12-20 19:32:28,020 - INFO - Step time: 0.5299694538116455 seconds\n",
      "2019-12-20 19:32:28,861 - INFO - Saved checkpoint: PATH_TO_WHERE_TO_STORE_CHECKPOINTS_AND_LOGS/checkpoints/trainer-STEP-44600.pt\n",
      "2019-12-20 19:34:15,325 - INFO - Step: 44800\n"
     ]
    },
    {
     "name": "stdout",
     "output_type": "stream",
     "text": [
      "Loss: 0.000\n"
     ]
    },
    {
     "name": "stderr",
     "output_type": "stream",
     "text": [
      "2019-12-20 19:34:15,327 - INFO - Step time: 0.5311250686645508 seconds\n",
      "2019-12-20 19:34:16,166 - INFO - Saved checkpoint: PATH_TO_WHERE_TO_STORE_CHECKPOINTS_AND_LOGS/checkpoints/trainer-STEP-44800.pt\n",
      "2019-12-20 19:34:49,152 - INFO - Doing Evaluation ..............................\n",
      "2019-12-20 19:51:21,429 - INFO - Accuracy for task punct: 0.9860491842103366\n",
      "2019-12-20 19:51:21,430 - INFO - Sampled preds: [0 0 0 0 0 2 0 0 0 0 0 2 0 0 0 0 0 0 0 0]\n",
      "2019-12-20 19:51:21,431 - INFO - Sampled labels: [0 0 0 0 0 2 0 0 0 0 0 2 0 0 0 0 0 0 0 0]\n",
      "2019-12-20 19:51:23,285 - INFO -               precision    recall  f1-score   support\n",
      "\n",
      "           O       1.00      0.98      0.99   1544420\n",
      "           ,       0.44      0.98      0.61     17627\n",
      "           .       1.00      1.00      1.00    221292\n",
      "           ?       0.90      0.99      0.94     19638\n",
      "\n",
      "    accuracy                           0.99   1802977\n",
      "   macro avg       0.83      0.99      0.88   1802977\n",
      "weighted avg       0.99      0.99      0.99   1802977\n",
      "\n",
      "2019-12-20 19:51:30,536 - INFO - Accuracy for task capit: 0.9986527837016224\n",
      "2019-12-20 19:51:30,537 - INFO - Sampled preds: [1 0 0 0 0 0 0 0 0 1 0 0 0 0 0 0 1 0 0 0]\n",
      "2019-12-20 19:51:30,537 - INFO - Sampled labels: [1 0 0 0 0 0 0 0 0 1 0 0 0 0 0 0 1 0 0 0]\n",
      "2019-12-20 19:51:32,925 - INFO -               precision    recall  f1-score   support\n",
      "\n",
      "           O       1.00      1.00      1.00   1444603\n",
      "           U       1.00      1.00      1.00    358374\n",
      "\n",
      "    accuracy                           1.00   1802977\n",
      "   macro avg       1.00      1.00      1.00   1802977\n",
      "weighted avg       1.00      1.00      1.00   1802977\n",
      "\n",
      "2019-12-20 19:51:32,926 - INFO - Evaluation time: 1003.7733907699585 seconds\n",
      "2019-12-20 19:52:45,877 - INFO - Step: 45000\n"
     ]
    },
    {
     "name": "stdout",
     "output_type": "stream",
     "text": [
      "Loss: 0.003\n"
     ]
    },
    {
     "name": "stderr",
     "output_type": "stream",
     "text": [
      "2019-12-20 19:52:45,879 - INFO - Step time: 0.5282833576202393 seconds\n",
      "2019-12-20 19:52:46,736 - INFO - Saved checkpoint: PATH_TO_WHERE_TO_STORE_CHECKPOINTS_AND_LOGS/checkpoints/trainer-STEP-45000.pt\n",
      "2019-12-20 19:54:30,412 - INFO - Step: 45200\n"
     ]
    },
    {
     "name": "stdout",
     "output_type": "stream",
     "text": [
      "Loss: 0.023\n"
     ]
    },
    {
     "name": "stderr",
     "output_type": "stream",
     "text": [
      "2019-12-20 19:54:30,418 - INFO - Step time: 0.5207092761993408 seconds\n",
      "2019-12-20 19:54:31,262 - INFO - Saved checkpoint: PATH_TO_WHERE_TO_STORE_CHECKPOINTS_AND_LOGS/checkpoints/trainer-STEP-45200.pt\n",
      "2019-12-20 19:56:14,916 - INFO - Step: 45400\n"
     ]
    },
    {
     "name": "stdout",
     "output_type": "stream",
     "text": [
      "Loss: 0.002\n"
     ]
    },
    {
     "name": "stderr",
     "output_type": "stream",
     "text": [
      "2019-12-20 19:56:14,922 - INFO - Step time: 0.5203366279602051 seconds\n",
      "2019-12-20 19:56:15,742 - INFO - Saved checkpoint: PATH_TO_WHERE_TO_STORE_CHECKPOINTS_AND_LOGS/checkpoints/trainer-STEP-45400.pt\n",
      "2019-12-20 19:57:59,376 - INFO - Step: 45600\n"
     ]
    },
    {
     "name": "stdout",
     "output_type": "stream",
     "text": [
      "Loss: 0.067\n"
     ]
    },
    {
     "name": "stderr",
     "output_type": "stream",
     "text": [
      "2019-12-20 19:57:59,382 - INFO - Step time: 0.5222609043121338 seconds\n",
      "2019-12-20 19:58:00,199 - INFO - Saved checkpoint: PATH_TO_WHERE_TO_STORE_CHECKPOINTS_AND_LOGS/checkpoints/trainer-STEP-45600.pt\n",
      "2019-12-20 19:59:44,611 - INFO - Step: 45800\n"
     ]
    },
    {
     "name": "stdout",
     "output_type": "stream",
     "text": [
      "Loss: 0.054\n"
     ]
    },
    {
     "name": "stderr",
     "output_type": "stream",
     "text": [
      "2019-12-20 19:59:44,613 - INFO - Step time: 0.5302352905273438 seconds\n",
      "2019-12-20 19:59:45,465 - INFO - Saved checkpoint: PATH_TO_WHERE_TO_STORE_CHECKPOINTS_AND_LOGS/checkpoints/trainer-STEP-45800.pt\n",
      "2019-12-20 20:01:31,965 - INFO - Step: 46000\n"
     ]
    },
    {
     "name": "stdout",
     "output_type": "stream",
     "text": [
      "Loss: 0.087\n"
     ]
    },
    {
     "name": "stderr",
     "output_type": "stream",
     "text": [
      "2019-12-20 20:01:31,967 - INFO - Step time: 0.528430700302124 seconds\n",
      "2019-12-20 20:01:32,835 - INFO - Saved checkpoint: PATH_TO_WHERE_TO_STORE_CHECKPOINTS_AND_LOGS/checkpoints/trainer-STEP-46000.pt\n",
      "2019-12-20 20:03:19,339 - INFO - Step: 46200\n"
     ]
    },
    {
     "name": "stdout",
     "output_type": "stream",
     "text": [
      "Loss: 0.003\n"
     ]
    },
    {
     "name": "stderr",
     "output_type": "stream",
     "text": [
      "2019-12-20 20:03:19,341 - INFO - Step time: 0.5315697193145752 seconds\n",
      "2019-12-20 20:03:20,204 - INFO - Saved checkpoint: PATH_TO_WHERE_TO_STORE_CHECKPOINTS_AND_LOGS/checkpoints/trainer-STEP-46200.pt\n",
      "2019-12-20 20:05:05,581 - INFO - Step: 46400\n"
     ]
    },
    {
     "name": "stdout",
     "output_type": "stream",
     "text": [
      "Loss: 0.006\n"
     ]
    },
    {
     "name": "stderr",
     "output_type": "stream",
     "text": [
      "2019-12-20 20:05:05,587 - INFO - Step time: 0.520010232925415 seconds\n",
      "2019-12-20 20:05:06,426 - INFO - Saved checkpoint: PATH_TO_WHERE_TO_STORE_CHECKPOINTS_AND_LOGS/checkpoints/trainer-STEP-46400.pt\n",
      "2019-12-20 20:06:51,614 - INFO - Step: 46600\n"
     ]
    },
    {
     "name": "stdout",
     "output_type": "stream",
     "text": [
      "Loss: 0.053\n"
     ]
    },
    {
     "name": "stderr",
     "output_type": "stream",
     "text": [
      "2019-12-20 20:06:51,620 - INFO - Step time: 0.5209784507751465 seconds\n",
      "2019-12-20 20:06:52,468 - INFO - Saved checkpoint: PATH_TO_WHERE_TO_STORE_CHECKPOINTS_AND_LOGS/checkpoints/trainer-STEP-46600.pt\n",
      "2019-12-20 20:08:39,021 - INFO - Step: 46800\n"
     ]
    },
    {
     "name": "stdout",
     "output_type": "stream",
     "text": [
      "Loss: 0.003\n"
     ]
    },
    {
     "name": "stderr",
     "output_type": "stream",
     "text": [
      "2019-12-20 20:08:39,023 - INFO - Step time: 0.5309648513793945 seconds\n",
      "2019-12-20 20:08:39,866 - INFO - Saved checkpoint: PATH_TO_WHERE_TO_STORE_CHECKPOINTS_AND_LOGS/checkpoints/trainer-STEP-46800.pt\n",
      "2019-12-20 20:10:26,456 - INFO - Step: 47000\n"
     ]
    },
    {
     "name": "stdout",
     "output_type": "stream",
     "text": [
      "Loss: 0.010\n"
     ]
    },
    {
     "name": "stderr",
     "output_type": "stream",
     "text": [
      "2019-12-20 20:10:26,458 - INFO - Step time: 0.5305020809173584 seconds\n",
      "2019-12-20 20:10:27,326 - INFO - Saved checkpoint: PATH_TO_WHERE_TO_STORE_CHECKPOINTS_AND_LOGS/checkpoints/trainer-STEP-47000.pt\n",
      "2019-12-20 20:12:13,861 - INFO - Step: 47200\n"
     ]
    },
    {
     "name": "stdout",
     "output_type": "stream",
     "text": [
      "Loss: 0.001\n"
     ]
    },
    {
     "name": "stderr",
     "output_type": "stream",
     "text": [
      "2019-12-20 20:12:13,864 - INFO - Step time: 0.532097578048706 seconds\n",
      "2019-12-20 20:12:14,721 - INFO - Saved checkpoint: PATH_TO_WHERE_TO_STORE_CHECKPOINTS_AND_LOGS/checkpoints/trainer-STEP-47200.pt\n",
      "2019-12-20 20:14:01,253 - INFO - Step: 47400\n"
     ]
    },
    {
     "name": "stdout",
     "output_type": "stream",
     "text": [
      "Loss: 0.000\n"
     ]
    },
    {
     "name": "stderr",
     "output_type": "stream",
     "text": [
      "2019-12-20 20:14:01,255 - INFO - Step time: 0.5334129333496094 seconds\n",
      "2019-12-20 20:14:02,091 - INFO - Saved checkpoint: PATH_TO_WHERE_TO_STORE_CHECKPOINTS_AND_LOGS/checkpoints/trainer-STEP-47400.pt\n",
      "2019-12-20 20:15:48,663 - INFO - Step: 47600\n"
     ]
    },
    {
     "name": "stdout",
     "output_type": "stream",
     "text": [
      "Loss: 0.002\n"
     ]
    },
    {
     "name": "stderr",
     "output_type": "stream",
     "text": [
      "2019-12-20 20:15:48,665 - INFO - Step time: 0.5324242115020752 seconds\n",
      "2019-12-20 20:15:49,504 - INFO - Saved checkpoint: PATH_TO_WHERE_TO_STORE_CHECKPOINTS_AND_LOGS/checkpoints/trainer-STEP-47600.pt\n",
      "2019-12-20 20:17:36,016 - INFO - Step: 47800\n"
     ]
    },
    {
     "name": "stdout",
     "output_type": "stream",
     "text": [
      "Loss: 0.000\n"
     ]
    },
    {
     "name": "stderr",
     "output_type": "stream",
     "text": [
      "2019-12-20 20:17:36,017 - INFO - Step time: 0.5302553176879883 seconds\n",
      "2019-12-20 20:17:36,860 - INFO - Saved checkpoint: PATH_TO_WHERE_TO_STORE_CHECKPOINTS_AND_LOGS/checkpoints/trainer-STEP-47800.pt\n",
      "2019-12-20 20:19:23,415 - INFO - Step: 48000\n"
     ]
    },
    {
     "name": "stdout",
     "output_type": "stream",
     "text": [
      "Loss: 0.003\n"
     ]
    },
    {
     "name": "stderr",
     "output_type": "stream",
     "text": [
      "2019-12-20 20:19:23,416 - INFO - Step time: 0.529594898223877 seconds\n",
      "2019-12-20 20:19:24,271 - INFO - Saved checkpoint: PATH_TO_WHERE_TO_STORE_CHECKPOINTS_AND_LOGS/checkpoints/trainer-STEP-48000.pt\n",
      "2019-12-20 20:21:10,850 - INFO - Step: 48200\n"
     ]
    },
    {
     "name": "stdout",
     "output_type": "stream",
     "text": [
      "Loss: 0.030\n"
     ]
    },
    {
     "name": "stderr",
     "output_type": "stream",
     "text": [
      "2019-12-20 20:21:10,852 - INFO - Step time: 0.5297327041625977 seconds\n",
      "2019-12-20 20:21:11,725 - INFO - Saved checkpoint: PATH_TO_WHERE_TO_STORE_CHECKPOINTS_AND_LOGS/checkpoints/trainer-STEP-48200.pt\n",
      "2019-12-20 20:22:58,276 - INFO - Step: 48400\n"
     ]
    },
    {
     "name": "stdout",
     "output_type": "stream",
     "text": [
      "Loss: 0.000\n"
     ]
    },
    {
     "name": "stderr",
     "output_type": "stream",
     "text": [
      "2019-12-20 20:22:58,279 - INFO - Step time: 0.5304324626922607 seconds\n",
      "2019-12-20 20:22:59,120 - INFO - Saved checkpoint: PATH_TO_WHERE_TO_STORE_CHECKPOINTS_AND_LOGS/checkpoints/trainer-STEP-48400.pt\n",
      "2019-12-20 20:24:45,700 - INFO - Step: 48600\n"
     ]
    },
    {
     "name": "stdout",
     "output_type": "stream",
     "text": [
      "Loss: 0.000\n"
     ]
    },
    {
     "name": "stderr",
     "output_type": "stream",
     "text": [
      "2019-12-20 20:24:45,701 - INFO - Step time: 0.5322475433349609 seconds\n",
      "2019-12-20 20:24:46,540 - INFO - Saved checkpoint: PATH_TO_WHERE_TO_STORE_CHECKPOINTS_AND_LOGS/checkpoints/trainer-STEP-48600.pt\n",
      "2019-12-20 20:26:33,148 - INFO - Step: 48800\n"
     ]
    },
    {
     "name": "stdout",
     "output_type": "stream",
     "text": [
      "Loss: 0.007\n"
     ]
    },
    {
     "name": "stderr",
     "output_type": "stream",
     "text": [
      "2019-12-20 20:26:33,150 - INFO - Step time: 0.5292210578918457 seconds\n",
      "2019-12-20 20:26:33,994 - INFO - Saved checkpoint: PATH_TO_WHERE_TO_STORE_CHECKPOINTS_AND_LOGS/checkpoints/trainer-STEP-48800.pt\n",
      "2019-12-20 20:28:20,603 - INFO - Step: 49000\n"
     ]
    },
    {
     "name": "stdout",
     "output_type": "stream",
     "text": [
      "Loss: 0.003\n"
     ]
    },
    {
     "name": "stderr",
     "output_type": "stream",
     "text": [
      "2019-12-20 20:28:20,605 - INFO - Step time: 0.5317821502685547 seconds\n",
      "2019-12-20 20:28:21,460 - INFO - Saved checkpoint: PATH_TO_WHERE_TO_STORE_CHECKPOINTS_AND_LOGS/checkpoints/trainer-STEP-49000.pt\n",
      "2019-12-20 20:30:08,138 - INFO - Step: 49200\n"
     ]
    },
    {
     "name": "stdout",
     "output_type": "stream",
     "text": [
      "Loss: 0.040\n"
     ]
    },
    {
     "name": "stderr",
     "output_type": "stream",
     "text": [
      "2019-12-20 20:30:08,140 - INFO - Step time: 0.5312550067901611 seconds\n",
      "2019-12-20 20:30:09,002 - INFO - Saved checkpoint: PATH_TO_WHERE_TO_STORE_CHECKPOINTS_AND_LOGS/checkpoints/trainer-STEP-49200.pt\n",
      "2019-12-20 20:31:55,597 - INFO - Step: 49400\n"
     ]
    },
    {
     "name": "stdout",
     "output_type": "stream",
     "text": [
      "Loss: 0.008\n"
     ]
    },
    {
     "name": "stderr",
     "output_type": "stream",
     "text": [
      "2019-12-20 20:31:55,599 - INFO - Step time: 0.5309243202209473 seconds\n",
      "2019-12-20 20:31:56,441 - INFO - Saved checkpoint: PATH_TO_WHERE_TO_STORE_CHECKPOINTS_AND_LOGS/checkpoints/trainer-STEP-49400.pt\n",
      "2019-12-20 20:33:43,055 - INFO - Step: 49600\n"
     ]
    },
    {
     "name": "stdout",
     "output_type": "stream",
     "text": [
      "Loss: 0.001\n"
     ]
    },
    {
     "name": "stderr",
     "output_type": "stream",
     "text": [
      "2019-12-20 20:33:43,057 - INFO - Step time: 0.5292136669158936 seconds\n",
      "2019-12-20 20:33:43,895 - INFO - Saved checkpoint: PATH_TO_WHERE_TO_STORE_CHECKPOINTS_AND_LOGS/checkpoints/trainer-STEP-49600.pt\n",
      "2019-12-20 20:35:30,551 - INFO - Step: 49800\n"
     ]
    },
    {
     "name": "stdout",
     "output_type": "stream",
     "text": [
      "Loss: 0.027\n"
     ]
    },
    {
     "name": "stderr",
     "output_type": "stream",
     "text": [
      "2019-12-20 20:35:30,553 - INFO - Step time: 0.5320549011230469 seconds\n",
      "2019-12-20 20:35:31,395 - INFO - Saved checkpoint: PATH_TO_WHERE_TO_STORE_CHECKPOINTS_AND_LOGS/checkpoints/trainer-STEP-49800.pt\n",
      "2019-12-20 20:37:18,041 - INFO - Step: 50000\n"
     ]
    },
    {
     "name": "stdout",
     "output_type": "stream",
     "text": [
      "Loss: 0.000\n"
     ]
    },
    {
     "name": "stderr",
     "output_type": "stream",
     "text": [
      "2019-12-20 20:37:18,043 - INFO - Step time: 0.5318577289581299 seconds\n",
      "2019-12-20 20:37:18,898 - INFO - Saved checkpoint: PATH_TO_WHERE_TO_STORE_CHECKPOINTS_AND_LOGS/checkpoints/trainer-STEP-50000.pt\n",
      "2019-12-20 20:39:05,519 - INFO - Step: 50200\n"
     ]
    },
    {
     "name": "stdout",
     "output_type": "stream",
     "text": [
      "Loss: 0.001\n"
     ]
    },
    {
     "name": "stderr",
     "output_type": "stream",
     "text": [
      "2019-12-20 20:39:05,521 - INFO - Step time: 0.533109188079834 seconds\n",
      "2019-12-20 20:39:06,383 - INFO - Saved checkpoint: PATH_TO_WHERE_TO_STORE_CHECKPOINTS_AND_LOGS/checkpoints/trainer-STEP-50200.pt\n",
      "2019-12-20 20:40:53,027 - INFO - Step: 50400\n"
     ]
    },
    {
     "name": "stdout",
     "output_type": "stream",
     "text": [
      "Loss: 0.116\n"
     ]
    },
    {
     "name": "stderr",
     "output_type": "stream",
     "text": [
      "2019-12-20 20:40:53,029 - INFO - Step time: 0.5309140682220459 seconds\n",
      "2019-12-20 20:40:53,870 - INFO - Saved checkpoint: PATH_TO_WHERE_TO_STORE_CHECKPOINTS_AND_LOGS/checkpoints/trainer-STEP-50400.pt\n",
      "2019-12-20 20:42:40,603 - INFO - Step: 50600\n"
     ]
    },
    {
     "name": "stdout",
     "output_type": "stream",
     "text": [
      "Loss: 0.059\n"
     ]
    },
    {
     "name": "stderr",
     "output_type": "stream",
     "text": [
      "2019-12-20 20:42:40,605 - INFO - Step time: 0.5304872989654541 seconds\n",
      "2019-12-20 20:42:41,443 - INFO - Saved checkpoint: PATH_TO_WHERE_TO_STORE_CHECKPOINTS_AND_LOGS/checkpoints/trainer-STEP-50600.pt\n",
      "2019-12-20 20:44:28,214 - INFO - Step: 50800\n"
     ]
    },
    {
     "name": "stdout",
     "output_type": "stream",
     "text": [
      "Loss: 0.001\n"
     ]
    },
    {
     "name": "stderr",
     "output_type": "stream",
     "text": [
      "2019-12-20 20:44:28,216 - INFO - Step time: 0.5323388576507568 seconds\n",
      "2019-12-20 20:44:29,060 - INFO - Saved checkpoint: PATH_TO_WHERE_TO_STORE_CHECKPOINTS_AND_LOGS/checkpoints/trainer-STEP-50800.pt\n",
      "2019-12-20 20:46:15,802 - INFO - Step: 51000\n"
     ]
    },
    {
     "name": "stdout",
     "output_type": "stream",
     "text": [
      "Loss: 0.001\n"
     ]
    },
    {
     "name": "stderr",
     "output_type": "stream",
     "text": [
      "2019-12-20 20:46:15,804 - INFO - Step time: 0.5320641994476318 seconds\n",
      "2019-12-20 20:46:16,656 - INFO - Saved checkpoint: PATH_TO_WHERE_TO_STORE_CHECKPOINTS_AND_LOGS/checkpoints/trainer-STEP-51000.pt\n",
      "2019-12-20 20:48:03,330 - INFO - Step: 51200\n"
     ]
    },
    {
     "name": "stdout",
     "output_type": "stream",
     "text": [
      "Loss: 0.001\n"
     ]
    },
    {
     "name": "stderr",
     "output_type": "stream",
     "text": [
      "2019-12-20 20:48:03,332 - INFO - Step time: 0.5304148197174072 seconds\n",
      "2019-12-20 20:48:04,190 - INFO - Saved checkpoint: PATH_TO_WHERE_TO_STORE_CHECKPOINTS_AND_LOGS/checkpoints/trainer-STEP-51200.pt\n",
      "2019-12-20 20:49:50,830 - INFO - Step: 51400\n"
     ]
    },
    {
     "name": "stdout",
     "output_type": "stream",
     "text": [
      "Loss: 0.001\n"
     ]
    },
    {
     "name": "stderr",
     "output_type": "stream",
     "text": [
      "2019-12-20 20:49:50,832 - INFO - Step time: 0.5321159362792969 seconds\n",
      "2019-12-20 20:49:51,690 - INFO - Saved checkpoint: PATH_TO_WHERE_TO_STORE_CHECKPOINTS_AND_LOGS/checkpoints/trainer-STEP-51400.pt\n",
      "2019-12-20 20:51:38,325 - INFO - Step: 51600\n"
     ]
    },
    {
     "name": "stdout",
     "output_type": "stream",
     "text": [
      "Loss: 0.003\n"
     ]
    },
    {
     "name": "stderr",
     "output_type": "stream",
     "text": [
      "2019-12-20 20:51:38,327 - INFO - Step time: 0.5322644710540771 seconds\n",
      "2019-12-20 20:51:39,158 - INFO - Saved checkpoint: PATH_TO_WHERE_TO_STORE_CHECKPOINTS_AND_LOGS/checkpoints/trainer-STEP-51600.pt\n",
      "2019-12-20 20:53:25,802 - INFO - Step: 51800\n"
     ]
    },
    {
     "name": "stdout",
     "output_type": "stream",
     "text": [
      "Loss: 0.149\n"
     ]
    },
    {
     "name": "stderr",
     "output_type": "stream",
     "text": [
      "2019-12-20 20:53:25,803 - INFO - Step time: 0.5304687023162842 seconds\n",
      "2019-12-20 20:53:26,637 - INFO - Saved checkpoint: PATH_TO_WHERE_TO_STORE_CHECKPOINTS_AND_LOGS/checkpoints/trainer-STEP-51800.pt\n",
      "2019-12-20 20:55:13,256 - INFO - Step: 52000\n"
     ]
    },
    {
     "name": "stdout",
     "output_type": "stream",
     "text": [
      "Loss: 0.006\n"
     ]
    },
    {
     "name": "stderr",
     "output_type": "stream",
     "text": [
      "2019-12-20 20:55:13,257 - INFO - Step time: 0.5322551727294922 seconds\n",
      "2019-12-20 20:55:14,124 - INFO - Saved checkpoint: PATH_TO_WHERE_TO_STORE_CHECKPOINTS_AND_LOGS/checkpoints/trainer-STEP-52000.pt\n",
      "2019-12-20 20:57:00,800 - INFO - Step: 52200\n"
     ]
    },
    {
     "name": "stdout",
     "output_type": "stream",
     "text": [
      "Loss: 0.000\n"
     ]
    },
    {
     "name": "stderr",
     "output_type": "stream",
     "text": [
      "2019-12-20 20:57:00,802 - INFO - Step time: 0.5329642295837402 seconds\n",
      "2019-12-20 20:57:01,657 - INFO - Saved checkpoint: PATH_TO_WHERE_TO_STORE_CHECKPOINTS_AND_LOGS/checkpoints/trainer-STEP-52200.pt\n",
      "2019-12-20 20:58:48,305 - INFO - Step: 52400\n"
     ]
    },
    {
     "name": "stdout",
     "output_type": "stream",
     "text": [
      "Loss: 0.001\n"
     ]
    },
    {
     "name": "stderr",
     "output_type": "stream",
     "text": [
      "2019-12-20 20:58:48,307 - INFO - Step time: 0.5321657657623291 seconds\n",
      "2019-12-20 20:58:49,146 - INFO - Saved checkpoint: PATH_TO_WHERE_TO_STORE_CHECKPOINTS_AND_LOGS/checkpoints/trainer-STEP-52400.pt\n",
      "2019-12-20 21:00:35,874 - INFO - Step: 52600\n"
     ]
    },
    {
     "name": "stdout",
     "output_type": "stream",
     "text": [
      "Loss: 0.001\n"
     ]
    },
    {
     "name": "stderr",
     "output_type": "stream",
     "text": [
      "2019-12-20 21:00:35,876 - INFO - Step time: 0.5316832065582275 seconds\n",
      "2019-12-20 21:00:36,721 - INFO - Saved checkpoint: PATH_TO_WHERE_TO_STORE_CHECKPOINTS_AND_LOGS/checkpoints/trainer-STEP-52600.pt\n",
      "2019-12-20 21:02:23,532 - INFO - Step: 52800\n"
     ]
    },
    {
     "name": "stdout",
     "output_type": "stream",
     "text": [
      "Loss: 0.001\n"
     ]
    },
    {
     "name": "stderr",
     "output_type": "stream",
     "text": [
      "2019-12-20 21:02:23,534 - INFO - Step time: 0.5321128368377686 seconds\n",
      "2019-12-20 21:02:24,382 - INFO - Saved checkpoint: PATH_TO_WHERE_TO_STORE_CHECKPOINTS_AND_LOGS/checkpoints/trainer-STEP-52800.pt\n",
      "2019-12-20 21:04:11,160 - INFO - Step: 53000\n"
     ]
    },
    {
     "name": "stdout",
     "output_type": "stream",
     "text": [
      "Loss: 0.000\n"
     ]
    },
    {
     "name": "stderr",
     "output_type": "stream",
     "text": [
      "2019-12-20 21:04:11,162 - INFO - Step time: 0.5327510833740234 seconds\n",
      "2019-12-20 21:04:12,021 - INFO - Saved checkpoint: PATH_TO_WHERE_TO_STORE_CHECKPOINTS_AND_LOGS/checkpoints/trainer-STEP-53000.pt\n",
      "2019-12-20 21:05:58,774 - INFO - Step: 53200\n"
     ]
    },
    {
     "name": "stdout",
     "output_type": "stream",
     "text": [
      "Loss: 0.001\n"
     ]
    },
    {
     "name": "stderr",
     "output_type": "stream",
     "text": [
      "2019-12-20 21:05:58,776 - INFO - Step time: 0.5323214530944824 seconds\n",
      "2019-12-20 21:05:59,630 - INFO - Saved checkpoint: PATH_TO_WHERE_TO_STORE_CHECKPOINTS_AND_LOGS/checkpoints/trainer-STEP-53200.pt\n",
      "2019-12-20 21:07:44,618 - INFO - Step: 53400\n"
     ]
    },
    {
     "name": "stdout",
     "output_type": "stream",
     "text": [
      "Loss: 0.005\n"
     ]
    },
    {
     "name": "stderr",
     "output_type": "stream",
     "text": [
      "2019-12-20 21:07:44,623 - INFO - Step time: 0.520871639251709 seconds\n",
      "2019-12-20 21:07:45,469 - INFO - Saved checkpoint: PATH_TO_WHERE_TO_STORE_CHECKPOINTS_AND_LOGS/checkpoints/trainer-STEP-53400.pt\n",
      "2019-12-20 21:09:31,278 - INFO - Step: 53600\n"
     ]
    },
    {
     "name": "stdout",
     "output_type": "stream",
     "text": [
      "Loss: 0.001\n"
     ]
    },
    {
     "name": "stderr",
     "output_type": "stream",
     "text": [
      "2019-12-20 21:09:31,280 - INFO - Step time: 0.5330314636230469 seconds\n",
      "2019-12-20 21:09:32,116 - INFO - Saved checkpoint: PATH_TO_WHERE_TO_STORE_CHECKPOINTS_AND_LOGS/checkpoints/trainer-STEP-53600.pt\n",
      "2019-12-20 21:11:18,857 - INFO - Step: 53800\n"
     ]
    },
    {
     "name": "stdout",
     "output_type": "stream",
     "text": [
      "Loss: 0.006\n"
     ]
    },
    {
     "name": "stderr",
     "output_type": "stream",
     "text": [
      "2019-12-20 21:11:18,859 - INFO - Step time: 0.5321905612945557 seconds\n",
      "2019-12-20 21:11:19,699 - INFO - Saved checkpoint: PATH_TO_WHERE_TO_STORE_CHECKPOINTS_AND_LOGS/checkpoints/trainer-STEP-53800.pt\n",
      "2019-12-20 21:13:06,395 - INFO - Step: 54000\n"
     ]
    },
    {
     "name": "stdout",
     "output_type": "stream",
     "text": [
      "Loss: 0.004\n"
     ]
    },
    {
     "name": "stderr",
     "output_type": "stream",
     "text": [
      "2019-12-20 21:13:06,397 - INFO - Step time: 0.5326318740844727 seconds\n",
      "2019-12-20 21:13:07,246 - INFO - Saved checkpoint: PATH_TO_WHERE_TO_STORE_CHECKPOINTS_AND_LOGS/checkpoints/trainer-STEP-54000.pt\n",
      "2019-12-20 21:14:53,897 - INFO - Step: 54200\n"
     ]
    },
    {
     "name": "stdout",
     "output_type": "stream",
     "text": [
      "Loss: 0.060\n"
     ]
    },
    {
     "name": "stderr",
     "output_type": "stream",
     "text": [
      "2019-12-20 21:14:53,899 - INFO - Step time: 0.5294303894042969 seconds\n",
      "2019-12-20 21:14:54,733 - INFO - Saved checkpoint: PATH_TO_WHERE_TO_STORE_CHECKPOINTS_AND_LOGS/checkpoints/trainer-STEP-54200.pt\n",
      "2019-12-20 21:16:41,412 - INFO - Step: 54400\n"
     ]
    },
    {
     "name": "stdout",
     "output_type": "stream",
     "text": [
      "Loss: 0.001\n"
     ]
    },
    {
     "name": "stderr",
     "output_type": "stream",
     "text": [
      "2019-12-20 21:16:41,414 - INFO - Step time: 0.5317342281341553 seconds\n",
      "2019-12-20 21:16:42,237 - INFO - Saved checkpoint: PATH_TO_WHERE_TO_STORE_CHECKPOINTS_AND_LOGS/checkpoints/trainer-STEP-54400.pt\n",
      "2019-12-20 21:18:28,931 - INFO - Step: 54600\n"
     ]
    },
    {
     "name": "stdout",
     "output_type": "stream",
     "text": [
      "Loss: 0.024\n"
     ]
    },
    {
     "name": "stderr",
     "output_type": "stream",
     "text": [
      "2019-12-20 21:18:28,933 - INFO - Step time: 0.5322840213775635 seconds\n",
      "2019-12-20 21:18:29,789 - INFO - Saved checkpoint: PATH_TO_WHERE_TO_STORE_CHECKPOINTS_AND_LOGS/checkpoints/trainer-STEP-54600.pt\n",
      "2019-12-20 21:20:16,528 - INFO - Step: 54800\n"
     ]
    },
    {
     "name": "stdout",
     "output_type": "stream",
     "text": [
      "Loss: 0.008\n"
     ]
    },
    {
     "name": "stderr",
     "output_type": "stream",
     "text": [
      "2019-12-20 21:20:16,530 - INFO - Step time: 0.530249834060669 seconds\n",
      "2019-12-20 21:20:17,353 - INFO - Saved checkpoint: PATH_TO_WHERE_TO_STORE_CHECKPOINTS_AND_LOGS/checkpoints/trainer-STEP-54800.pt\n",
      "2019-12-20 21:22:04,112 - INFO - Step: 55000\n"
     ]
    },
    {
     "name": "stdout",
     "output_type": "stream",
     "text": [
      "Loss: 0.001\n"
     ]
    },
    {
     "name": "stderr",
     "output_type": "stream",
     "text": [
      "2019-12-20 21:22:04,114 - INFO - Step time: 0.5319082736968994 seconds\n",
      "2019-12-20 21:22:04,975 - INFO - Saved checkpoint: PATH_TO_WHERE_TO_STORE_CHECKPOINTS_AND_LOGS/checkpoints/trainer-STEP-55000.pt\n",
      "2019-12-20 21:23:03,243 - INFO - Finished epoch 1 in 9017.099084377289\n",
      "2019-12-20 21:23:03,246 - INFO - Starting epoch 2\n",
      "2019-12-20 21:23:53,653 - INFO - Step: 55200\n"
     ]
    },
    {
     "name": "stdout",
     "output_type": "stream",
     "text": [
      "Loss: 0.004\n"
     ]
    },
    {
     "name": "stderr",
     "output_type": "stream",
     "text": [
      "2019-12-20 21:23:53,658 - INFO - Step time: 0.5207579135894775 seconds\n",
      "2019-12-20 21:23:54,542 - INFO - Saved checkpoint: PATH_TO_WHERE_TO_STORE_CHECKPOINTS_AND_LOGS/checkpoints/trainer-STEP-55200.pt\n",
      "2019-12-20 21:25:41,035 - INFO - Step: 55400\n"
     ]
    },
    {
     "name": "stdout",
     "output_type": "stream",
     "text": [
      "Loss: 0.008\n"
     ]
    },
    {
     "name": "stderr",
     "output_type": "stream",
     "text": [
      "2019-12-20 21:25:41,037 - INFO - Step time: 0.531667947769165 seconds\n",
      "2019-12-20 21:25:41,880 - INFO - Saved checkpoint: PATH_TO_WHERE_TO_STORE_CHECKPOINTS_AND_LOGS/checkpoints/trainer-STEP-55400.pt\n",
      "2019-12-20 21:27:28,625 - INFO - Step: 55600\n"
     ]
    },
    {
     "name": "stdout",
     "output_type": "stream",
     "text": [
      "Loss: 0.004\n"
     ]
    },
    {
     "name": "stderr",
     "output_type": "stream",
     "text": [
      "2019-12-20 21:27:28,627 - INFO - Step time: 0.5323748588562012 seconds\n",
      "2019-12-20 21:27:29,447 - INFO - Saved checkpoint: PATH_TO_WHERE_TO_STORE_CHECKPOINTS_AND_LOGS/checkpoints/trainer-STEP-55600.pt\n",
      "2019-12-20 21:29:16,219 - INFO - Step: 55800\n"
     ]
    },
    {
     "name": "stdout",
     "output_type": "stream",
     "text": [
      "Loss: 0.007\n"
     ]
    },
    {
     "name": "stderr",
     "output_type": "stream",
     "text": [
      "2019-12-20 21:29:16,222 - INFO - Step time: 0.5324130058288574 seconds\n",
      "2019-12-20 21:29:17,046 - INFO - Saved checkpoint: PATH_TO_WHERE_TO_STORE_CHECKPOINTS_AND_LOGS/checkpoints/trainer-STEP-55800.pt\n",
      "2019-12-20 21:31:03,729 - INFO - Step: 56000\n"
     ]
    },
    {
     "name": "stdout",
     "output_type": "stream",
     "text": [
      "Loss: 0.047\n"
     ]
    },
    {
     "name": "stderr",
     "output_type": "stream",
     "text": [
      "2019-12-20 21:31:03,731 - INFO - Step time: 0.5315051078796387 seconds\n",
      "2019-12-20 21:31:04,587 - INFO - Saved checkpoint: PATH_TO_WHERE_TO_STORE_CHECKPOINTS_AND_LOGS/checkpoints/trainer-STEP-56000.pt\n",
      "2019-12-20 21:32:51,254 - INFO - Step: 56200\n"
     ]
    },
    {
     "name": "stdout",
     "output_type": "stream",
     "text": [
      "Loss: 0.006\n"
     ]
    },
    {
     "name": "stderr",
     "output_type": "stream",
     "text": [
      "2019-12-20 21:32:51,256 - INFO - Step time: 0.5314371585845947 seconds\n",
      "2019-12-20 21:32:52,129 - INFO - Saved checkpoint: PATH_TO_WHERE_TO_STORE_CHECKPOINTS_AND_LOGS/checkpoints/trainer-STEP-56200.pt\n",
      "2019-12-20 21:34:38,879 - INFO - Step: 56400\n"
     ]
    },
    {
     "name": "stdout",
     "output_type": "stream",
     "text": [
      "Loss: 0.005\n"
     ]
    },
    {
     "name": "stderr",
     "output_type": "stream",
     "text": [
      "2019-12-20 21:34:38,881 - INFO - Step time: 0.5323231220245361 seconds\n",
      "2019-12-20 21:34:39,726 - INFO - Saved checkpoint: PATH_TO_WHERE_TO_STORE_CHECKPOINTS_AND_LOGS/checkpoints/trainer-STEP-56400.pt\n",
      "2019-12-20 21:36:26,508 - INFO - Step: 56600\n"
     ]
    },
    {
     "name": "stdout",
     "output_type": "stream",
     "text": [
      "Loss: 0.001\n"
     ]
    },
    {
     "name": "stderr",
     "output_type": "stream",
     "text": [
      "2019-12-20 21:36:26,510 - INFO - Step time: 0.5310497283935547 seconds\n",
      "2019-12-20 21:36:27,346 - INFO - Saved checkpoint: PATH_TO_WHERE_TO_STORE_CHECKPOINTS_AND_LOGS/checkpoints/trainer-STEP-56600.pt\n",
      "2019-12-20 21:38:14,089 - INFO - Step: 56800\n"
     ]
    },
    {
     "name": "stdout",
     "output_type": "stream",
     "text": [
      "Loss: 0.008\n"
     ]
    },
    {
     "name": "stderr",
     "output_type": "stream",
     "text": [
      "2019-12-20 21:38:14,091 - INFO - Step time: 0.533156156539917 seconds\n",
      "2019-12-20 21:38:14,930 - INFO - Saved checkpoint: PATH_TO_WHERE_TO_STORE_CHECKPOINTS_AND_LOGS/checkpoints/trainer-STEP-56800.pt\n",
      "2019-12-20 21:40:01,697 - INFO - Step: 57000\n"
     ]
    },
    {
     "name": "stdout",
     "output_type": "stream",
     "text": [
      "Loss: 0.012\n"
     ]
    },
    {
     "name": "stderr",
     "output_type": "stream",
     "text": [
      "2019-12-20 21:40:01,699 - INFO - Step time: 0.53192138671875 seconds\n",
      "2019-12-20 21:40:02,554 - INFO - Saved checkpoint: PATH_TO_WHERE_TO_STORE_CHECKPOINTS_AND_LOGS/checkpoints/trainer-STEP-57000.pt\n",
      "2019-12-20 21:41:49,259 - INFO - Step: 57200\n"
     ]
    },
    {
     "name": "stdout",
     "output_type": "stream",
     "text": [
      "Loss: 0.017\n"
     ]
    },
    {
     "name": "stderr",
     "output_type": "stream",
     "text": [
      "2019-12-20 21:41:49,260 - INFO - Step time: 0.5291244983673096 seconds\n",
      "2019-12-20 21:41:50,129 - INFO - Saved checkpoint: PATH_TO_WHERE_TO_STORE_CHECKPOINTS_AND_LOGS/checkpoints/trainer-STEP-57200.pt\n",
      "2019-12-20 21:43:36,765 - INFO - Step: 57400\n"
     ]
    },
    {
     "name": "stdout",
     "output_type": "stream",
     "text": [
      "Loss: 0.136\n"
     ]
    },
    {
     "name": "stderr",
     "output_type": "stream",
     "text": [
      "2019-12-20 21:43:36,767 - INFO - Step time: 0.5290391445159912 seconds\n",
      "2019-12-20 21:43:37,609 - INFO - Saved checkpoint: PATH_TO_WHERE_TO_STORE_CHECKPOINTS_AND_LOGS/checkpoints/trainer-STEP-57400.pt\n",
      "2019-12-20 21:45:24,299 - INFO - Step: 57600\n"
     ]
    },
    {
     "name": "stdout",
     "output_type": "stream",
     "text": [
      "Loss: 0.003\n"
     ]
    },
    {
     "name": "stderr",
     "output_type": "stream",
     "text": [
      "2019-12-20 21:45:24,301 - INFO - Step time: 0.5321469306945801 seconds\n",
      "2019-12-20 21:45:25,135 - INFO - Saved checkpoint: PATH_TO_WHERE_TO_STORE_CHECKPOINTS_AND_LOGS/checkpoints/trainer-STEP-57600.pt\n",
      "2019-12-20 21:47:11,819 - INFO - Step: 57800\n"
     ]
    },
    {
     "name": "stdout",
     "output_type": "stream",
     "text": [
      "Loss: 0.040\n"
     ]
    },
    {
     "name": "stderr",
     "output_type": "stream",
     "text": [
      "2019-12-20 21:47:11,821 - INFO - Step time: 0.5332131385803223 seconds\n",
      "2019-12-20 21:47:12,658 - INFO - Saved checkpoint: PATH_TO_WHERE_TO_STORE_CHECKPOINTS_AND_LOGS/checkpoints/trainer-STEP-57800.pt\n",
      "2019-12-20 21:48:59,368 - INFO - Step: 58000\n"
     ]
    },
    {
     "name": "stdout",
     "output_type": "stream",
     "text": [
      "Loss: 0.001\n"
     ]
    },
    {
     "name": "stderr",
     "output_type": "stream",
     "text": [
      "2019-12-20 21:48:59,370 - INFO - Step time: 0.5328569412231445 seconds\n",
      "2019-12-20 21:49:00,228 - INFO - Saved checkpoint: PATH_TO_WHERE_TO_STORE_CHECKPOINTS_AND_LOGS/checkpoints/trainer-STEP-58000.pt\n",
      "2019-12-20 21:50:45,276 - INFO - Step: 58200\n"
     ]
    },
    {
     "name": "stdout",
     "output_type": "stream",
     "text": [
      "Loss: 0.014\n"
     ]
    },
    {
     "name": "stderr",
     "output_type": "stream",
     "text": [
      "2019-12-20 21:50:45,281 - INFO - Step time: 0.5220613479614258 seconds\n",
      "2019-12-20 21:50:46,150 - INFO - Saved checkpoint: PATH_TO_WHERE_TO_STORE_CHECKPOINTS_AND_LOGS/checkpoints/trainer-STEP-58200.pt\n",
      "2019-12-20 21:52:29,967 - INFO - Step: 58400\n"
     ]
    },
    {
     "name": "stdout",
     "output_type": "stream",
     "text": [
      "Loss: 0.053\n"
     ]
    },
    {
     "name": "stderr",
     "output_type": "stream",
     "text": [
      "2019-12-20 21:52:29,972 - INFO - Step time: 0.5218861103057861 seconds\n",
      "2019-12-20 21:52:30,812 - INFO - Saved checkpoint: PATH_TO_WHERE_TO_STORE_CHECKPOINTS_AND_LOGS/checkpoints/trainer-STEP-58400.pt\n",
      "2019-12-20 21:54:17,008 - INFO - Step: 58600\n"
     ]
    },
    {
     "name": "stdout",
     "output_type": "stream",
     "text": [
      "Loss: 0.009\n"
     ]
    },
    {
     "name": "stderr",
     "output_type": "stream",
     "text": [
      "2019-12-20 21:54:17,010 - INFO - Step time: 0.5315217971801758 seconds\n",
      "2019-12-20 21:54:17,847 - INFO - Saved checkpoint: PATH_TO_WHERE_TO_STORE_CHECKPOINTS_AND_LOGS/checkpoints/trainer-STEP-58600.pt\n",
      "2019-12-20 21:56:04,593 - INFO - Step: 58800\n"
     ]
    },
    {
     "name": "stdout",
     "output_type": "stream",
     "text": [
      "Loss: 0.002\n"
     ]
    },
    {
     "name": "stderr",
     "output_type": "stream",
     "text": [
      "2019-12-20 21:56:04,595 - INFO - Step time: 0.5322878360748291 seconds\n",
      "2019-12-20 21:56:05,432 - INFO - Saved checkpoint: PATH_TO_WHERE_TO_STORE_CHECKPOINTS_AND_LOGS/checkpoints/trainer-STEP-58800.pt\n",
      "2019-12-20 21:57:52,171 - INFO - Step: 59000\n"
     ]
    },
    {
     "name": "stdout",
     "output_type": "stream",
     "text": [
      "Loss: 0.002\n"
     ]
    },
    {
     "name": "stderr",
     "output_type": "stream",
     "text": [
      "2019-12-20 21:57:52,172 - INFO - Step time: 0.5314540863037109 seconds\n",
      "2019-12-20 21:57:53,028 - INFO - Saved checkpoint: PATH_TO_WHERE_TO_STORE_CHECKPOINTS_AND_LOGS/checkpoints/trainer-STEP-59000.pt\n",
      "2019-12-20 21:59:39,735 - INFO - Step: 59200\n"
     ]
    },
    {
     "name": "stdout",
     "output_type": "stream",
     "text": [
      "Loss: 0.008\n"
     ]
    },
    {
     "name": "stderr",
     "output_type": "stream",
     "text": [
      "2019-12-20 21:59:39,737 - INFO - Step time: 0.5314650535583496 seconds\n",
      "2019-12-20 21:59:40,601 - INFO - Saved checkpoint: PATH_TO_WHERE_TO_STORE_CHECKPOINTS_AND_LOGS/checkpoints/trainer-STEP-59200.pt\n",
      "2019-12-20 22:01:27,183 - INFO - Step: 59400\n"
     ]
    },
    {
     "name": "stdout",
     "output_type": "stream",
     "text": [
      "Loss: 0.000\n"
     ]
    },
    {
     "name": "stderr",
     "output_type": "stream",
     "text": [
      "2019-12-20 22:01:27,185 - INFO - Step time: 0.529710054397583 seconds\n",
      "2019-12-20 22:01:28,058 - INFO - Saved checkpoint: PATH_TO_WHERE_TO_STORE_CHECKPOINTS_AND_LOGS/checkpoints/trainer-STEP-59400.pt\n",
      "2019-12-20 22:03:14,682 - INFO - Step: 59600\n"
     ]
    },
    {
     "name": "stdout",
     "output_type": "stream",
     "text": [
      "Loss: 0.153\n"
     ]
    },
    {
     "name": "stderr",
     "output_type": "stream",
     "text": [
      "2019-12-20 22:03:14,683 - INFO - Step time: 0.5336856842041016 seconds\n",
      "2019-12-20 22:03:15,532 - INFO - Saved checkpoint: PATH_TO_WHERE_TO_STORE_CHECKPOINTS_AND_LOGS/checkpoints/trainer-STEP-59600.pt\n",
      "2019-12-20 22:05:02,194 - INFO - Step: 59800\n"
     ]
    },
    {
     "name": "stdout",
     "output_type": "stream",
     "text": [
      "Loss: 0.013\n"
     ]
    },
    {
     "name": "stderr",
     "output_type": "stream",
     "text": [
      "2019-12-20 22:05:02,196 - INFO - Step time: 0.5323152542114258 seconds\n",
      "2019-12-20 22:05:03,044 - INFO - Saved checkpoint: PATH_TO_WHERE_TO_STORE_CHECKPOINTS_AND_LOGS/checkpoints/trainer-STEP-59800.pt\n",
      "2019-12-20 22:05:11,564 - INFO - Doing Evaluation ..............................\n",
      "2019-12-20 22:21:56,766 - INFO - Accuracy for task punct: 0.9889194371309229\n",
      "2019-12-20 22:21:56,768 - INFO - Sampled preds: [2 0 0 0 0 0 2 0 0 0 0 0 2 0 0 0 0 2 0 0]\n",
      "2019-12-20 22:21:56,768 - INFO - Sampled labels: [2 0 0 0 0 0 2 0 0 0 0 0 2 0 0 0 0 2 0 0]\n",
      "2019-12-20 22:21:58,596 - INFO -               precision    recall  f1-score   support\n",
      "\n",
      "           O       1.00      0.99      0.99   1544420\n",
      "           ,       0.48      0.97      0.65     17627\n",
      "           .       0.99      1.00      1.00    221292\n",
      "           ?       0.98      0.99      0.99     19638\n",
      "\n",
      "    accuracy                           0.99   1802977\n",
      "   macro avg       0.86      0.99      0.91   1802977\n",
      "weighted avg       0.99      0.99      0.99   1802977\n",
      "\n",
      "2019-12-20 22:22:05,522 - INFO - Accuracy for task capit: 0.9986960454847732\n",
      "2019-12-20 22:22:05,523 - INFO - Sampled preds: [0 0 0 0 0 0 1 0 0 0 0 0 0 0 0 1 0 0 0 0]\n",
      "2019-12-20 22:22:05,523 - INFO - Sampled labels: [0 0 0 0 0 0 1 0 0 0 0 0 0 0 0 1 0 0 0 0]\n",
      "2019-12-20 22:22:07,881 - INFO -               precision    recall  f1-score   support\n",
      "\n",
      "           O       1.00      1.00      1.00   1444603\n",
      "           U       1.00      1.00      1.00    358374\n",
      "\n",
      "    accuracy                           1.00   1802977\n",
      "   macro avg       1.00      1.00      1.00   1802977\n",
      "weighted avg       1.00      1.00      1.00   1802977\n",
      "\n",
      "2019-12-20 22:22:07,882 - INFO - Evaluation time: 1016.3169002532959 seconds\n",
      "2019-12-20 22:23:42,809 - INFO - Step: 60000\n"
     ]
    },
    {
     "name": "stdout",
     "output_type": "stream",
     "text": [
      "Loss: 0.000\n"
     ]
    },
    {
     "name": "stderr",
     "output_type": "stream",
     "text": [
      "2019-12-20 22:23:42,815 - INFO - Step time: 0.5222980976104736 seconds\n",
      "2019-12-20 22:23:43,653 - INFO - Saved checkpoint: PATH_TO_WHERE_TO_STORE_CHECKPOINTS_AND_LOGS/checkpoints/trainer-STEP-60000.pt\n",
      "2019-12-20 22:25:27,473 - INFO - Step: 60200\n"
     ]
    },
    {
     "name": "stdout",
     "output_type": "stream",
     "text": [
      "Loss: 0.002\n"
     ]
    },
    {
     "name": "stderr",
     "output_type": "stream",
     "text": [
      "2019-12-20 22:25:27,479 - INFO - Step time: 0.5213189125061035 seconds\n",
      "2019-12-20 22:25:28,323 - INFO - Saved checkpoint: PATH_TO_WHERE_TO_STORE_CHECKPOINTS_AND_LOGS/checkpoints/trainer-STEP-60200.pt\n",
      "2019-12-20 22:27:14,435 - INFO - Step: 60400\n"
     ]
    },
    {
     "name": "stdout",
     "output_type": "stream",
     "text": [
      "Loss: 0.029\n"
     ]
    },
    {
     "name": "stderr",
     "output_type": "stream",
     "text": [
      "2019-12-20 22:27:14,437 - INFO - Step time: 0.5314841270446777 seconds\n",
      "2019-12-20 22:27:15,293 - INFO - Saved checkpoint: PATH_TO_WHERE_TO_STORE_CHECKPOINTS_AND_LOGS/checkpoints/trainer-STEP-60400.pt\n",
      "2019-12-20 22:29:02,014 - INFO - Step: 60600\n"
     ]
    },
    {
     "name": "stdout",
     "output_type": "stream",
     "text": [
      "Loss: 0.001\n"
     ]
    },
    {
     "name": "stderr",
     "output_type": "stream",
     "text": [
      "2019-12-20 22:29:02,016 - INFO - Step time: 0.5326573848724365 seconds\n",
      "2019-12-20 22:29:02,851 - INFO - Saved checkpoint: PATH_TO_WHERE_TO_STORE_CHECKPOINTS_AND_LOGS/checkpoints/trainer-STEP-60600.pt\n",
      "2019-12-20 22:30:49,558 - INFO - Step: 60800\n"
     ]
    },
    {
     "name": "stdout",
     "output_type": "stream",
     "text": [
      "Loss: 0.009\n"
     ]
    },
    {
     "name": "stderr",
     "output_type": "stream",
     "text": [
      "2019-12-20 22:30:49,560 - INFO - Step time: 0.5322909355163574 seconds\n",
      "2019-12-20 22:30:50,400 - INFO - Saved checkpoint: PATH_TO_WHERE_TO_STORE_CHECKPOINTS_AND_LOGS/checkpoints/trainer-STEP-60800.pt\n",
      "2019-12-20 22:32:37,143 - INFO - Step: 61000\n"
     ]
    },
    {
     "name": "stdout",
     "output_type": "stream",
     "text": [
      "Loss: 0.006\n"
     ]
    },
    {
     "name": "stderr",
     "output_type": "stream",
     "text": [
      "2019-12-20 22:32:37,145 - INFO - Step time: 0.5292525291442871 seconds\n",
      "2019-12-20 22:32:37,998 - INFO - Saved checkpoint: PATH_TO_WHERE_TO_STORE_CHECKPOINTS_AND_LOGS/checkpoints/trainer-STEP-61000.pt\n",
      "2019-12-20 22:34:24,714 - INFO - Step: 61200\n"
     ]
    },
    {
     "name": "stdout",
     "output_type": "stream",
     "text": [
      "Loss: 0.028\n"
     ]
    },
    {
     "name": "stderr",
     "output_type": "stream",
     "text": [
      "2019-12-20 22:34:24,716 - INFO - Step time: 0.530890703201294 seconds\n",
      "2019-12-20 22:34:25,573 - INFO - Saved checkpoint: PATH_TO_WHERE_TO_STORE_CHECKPOINTS_AND_LOGS/checkpoints/trainer-STEP-61200.pt\n",
      "2019-12-20 22:36:12,299 - INFO - Step: 61400\n"
     ]
    },
    {
     "name": "stdout",
     "output_type": "stream",
     "text": [
      "Loss: 0.034\n"
     ]
    },
    {
     "name": "stderr",
     "output_type": "stream",
     "text": [
      "2019-12-20 22:36:12,301 - INFO - Step time: 0.5316023826599121 seconds\n",
      "2019-12-20 22:36:13,140 - INFO - Saved checkpoint: PATH_TO_WHERE_TO_STORE_CHECKPOINTS_AND_LOGS/checkpoints/trainer-STEP-61400.pt\n",
      "2019-12-20 22:37:59,836 - INFO - Step: 61600\n"
     ]
    },
    {
     "name": "stdout",
     "output_type": "stream",
     "text": [
      "Loss: 0.043\n"
     ]
    },
    {
     "name": "stderr",
     "output_type": "stream",
     "text": [
      "2019-12-20 22:37:59,838 - INFO - Step time: 0.530095100402832 seconds\n",
      "2019-12-20 22:38:00,671 - INFO - Saved checkpoint: PATH_TO_WHERE_TO_STORE_CHECKPOINTS_AND_LOGS/checkpoints/trainer-STEP-61600.pt\n",
      "2019-12-20 22:39:47,361 - INFO - Step: 61800\n"
     ]
    },
    {
     "name": "stdout",
     "output_type": "stream",
     "text": [
      "Loss: 0.001\n"
     ]
    },
    {
     "name": "stderr",
     "output_type": "stream",
     "text": [
      "2019-12-20 22:39:47,363 - INFO - Step time: 0.532371997833252 seconds\n",
      "2019-12-20 22:39:48,203 - INFO - Saved checkpoint: PATH_TO_WHERE_TO_STORE_CHECKPOINTS_AND_LOGS/checkpoints/trainer-STEP-61800.pt\n",
      "2019-12-20 22:41:34,927 - INFO - Step: 62000\n"
     ]
    },
    {
     "name": "stdout",
     "output_type": "stream",
     "text": [
      "Loss: 0.001\n"
     ]
    },
    {
     "name": "stderr",
     "output_type": "stream",
     "text": [
      "2019-12-20 22:41:34,929 - INFO - Step time: 0.5318789482116699 seconds\n",
      "2019-12-20 22:41:35,784 - INFO - Saved checkpoint: PATH_TO_WHERE_TO_STORE_CHECKPOINTS_AND_LOGS/checkpoints/trainer-STEP-62000.pt\n",
      "2019-12-20 22:43:22,499 - INFO - Step: 62200\n"
     ]
    },
    {
     "name": "stdout",
     "output_type": "stream",
     "text": [
      "Loss: 0.002\n"
     ]
    },
    {
     "name": "stderr",
     "output_type": "stream",
     "text": [
      "2019-12-20 22:43:22,501 - INFO - Step time: 0.5312638282775879 seconds\n",
      "2019-12-20 22:43:23,362 - INFO - Saved checkpoint: PATH_TO_WHERE_TO_STORE_CHECKPOINTS_AND_LOGS/checkpoints/trainer-STEP-62200.pt\n",
      "2019-12-20 22:45:10,025 - INFO - Step: 62400\n"
     ]
    },
    {
     "name": "stdout",
     "output_type": "stream",
     "text": [
      "Loss: 0.002\n"
     ]
    },
    {
     "name": "stderr",
     "output_type": "stream",
     "text": [
      "2019-12-20 22:45:10,027 - INFO - Step time: 0.5325908660888672 seconds\n",
      "2019-12-20 22:45:10,868 - INFO - Saved checkpoint: PATH_TO_WHERE_TO_STORE_CHECKPOINTS_AND_LOGS/checkpoints/trainer-STEP-62400.pt\n",
      "2019-12-20 22:46:57,563 - INFO - Step: 62600\n"
     ]
    },
    {
     "name": "stdout",
     "output_type": "stream",
     "text": [
      "Loss: 0.000\n"
     ]
    },
    {
     "name": "stderr",
     "output_type": "stream",
     "text": [
      "2019-12-20 22:46:57,564 - INFO - Step time: 0.5313363075256348 seconds\n",
      "2019-12-20 22:46:58,401 - INFO - Saved checkpoint: PATH_TO_WHERE_TO_STORE_CHECKPOINTS_AND_LOGS/checkpoints/trainer-STEP-62600.pt\n",
      "2019-12-20 22:48:45,110 - INFO - Step: 62800\n"
     ]
    },
    {
     "name": "stdout",
     "output_type": "stream",
     "text": [
      "Loss: 0.000\n"
     ]
    },
    {
     "name": "stderr",
     "output_type": "stream",
     "text": [
      "2019-12-20 22:48:45,111 - INFO - Step time: 0.5322160720825195 seconds\n",
      "2019-12-20 22:48:45,985 - INFO - Saved checkpoint: PATH_TO_WHERE_TO_STORE_CHECKPOINTS_AND_LOGS/checkpoints/trainer-STEP-62800.pt\n",
      "2019-12-20 22:50:32,740 - INFO - Step: 63000\n"
     ]
    },
    {
     "name": "stdout",
     "output_type": "stream",
     "text": [
      "Loss: 0.001\n"
     ]
    },
    {
     "name": "stderr",
     "output_type": "stream",
     "text": [
      "2019-12-20 22:50:32,742 - INFO - Step time: 0.5296833515167236 seconds\n",
      "2019-12-20 22:50:33,594 - INFO - Saved checkpoint: PATH_TO_WHERE_TO_STORE_CHECKPOINTS_AND_LOGS/checkpoints/trainer-STEP-63000.pt\n",
      "2019-12-20 22:52:20,304 - INFO - Step: 63200\n"
     ]
    },
    {
     "name": "stdout",
     "output_type": "stream",
     "text": [
      "Loss: 0.004\n"
     ]
    },
    {
     "name": "stderr",
     "output_type": "stream",
     "text": [
      "2019-12-20 22:52:20,306 - INFO - Step time: 0.529979944229126 seconds\n",
      "2019-12-20 22:52:21,169 - INFO - Saved checkpoint: PATH_TO_WHERE_TO_STORE_CHECKPOINTS_AND_LOGS/checkpoints/trainer-STEP-63200.pt\n",
      "2019-12-20 22:54:07,854 - INFO - Step: 63400\n"
     ]
    },
    {
     "name": "stdout",
     "output_type": "stream",
     "text": [
      "Loss: 0.015\n"
     ]
    },
    {
     "name": "stderr",
     "output_type": "stream",
     "text": [
      "2019-12-20 22:54:07,856 - INFO - Step time: 0.5308239459991455 seconds\n",
      "2019-12-20 22:54:08,700 - INFO - Saved checkpoint: PATH_TO_WHERE_TO_STORE_CHECKPOINTS_AND_LOGS/checkpoints/trainer-STEP-63400.pt\n",
      "2019-12-20 22:55:55,417 - INFO - Step: 63600\n"
     ]
    },
    {
     "name": "stdout",
     "output_type": "stream",
     "text": [
      "Loss: 0.014\n"
     ]
    },
    {
     "name": "stderr",
     "output_type": "stream",
     "text": [
      "2019-12-20 22:55:55,418 - INFO - Step time: 0.5325689315795898 seconds\n",
      "2019-12-20 22:55:56,251 - INFO - Saved checkpoint: PATH_TO_WHERE_TO_STORE_CHECKPOINTS_AND_LOGS/checkpoints/trainer-STEP-63600.pt\n",
      "2019-12-20 22:57:42,973 - INFO - Step: 63800\n"
     ]
    },
    {
     "name": "stdout",
     "output_type": "stream",
     "text": [
      "Loss: 0.024\n"
     ]
    },
    {
     "name": "stderr",
     "output_type": "stream",
     "text": [
      "2019-12-20 22:57:42,975 - INFO - Step time: 0.5313563346862793 seconds\n",
      "2019-12-20 22:57:43,810 - INFO - Saved checkpoint: PATH_TO_WHERE_TO_STORE_CHECKPOINTS_AND_LOGS/checkpoints/trainer-STEP-63800.pt\n",
      "2019-12-20 22:59:30,592 - INFO - Step: 64000\n"
     ]
    },
    {
     "name": "stdout",
     "output_type": "stream",
     "text": [
      "Loss: 0.002\n"
     ]
    },
    {
     "name": "stderr",
     "output_type": "stream",
     "text": [
      "2019-12-20 22:59:30,593 - INFO - Step time: 0.5315752029418945 seconds\n",
      "2019-12-20 22:59:31,451 - INFO - Saved checkpoint: PATH_TO_WHERE_TO_STORE_CHECKPOINTS_AND_LOGS/checkpoints/trainer-STEP-64000.pt\n",
      "2019-12-20 23:01:18,219 - INFO - Step: 64200\n"
     ]
    },
    {
     "name": "stdout",
     "output_type": "stream",
     "text": [
      "Loss: 0.002\n"
     ]
    },
    {
     "name": "stderr",
     "output_type": "stream",
     "text": [
      "2019-12-20 23:01:18,221 - INFO - Step time: 0.5316143035888672 seconds\n",
      "2019-12-20 23:01:19,077 - INFO - Saved checkpoint: PATH_TO_WHERE_TO_STORE_CHECKPOINTS_AND_LOGS/checkpoints/trainer-STEP-64200.pt\n",
      "2019-12-20 23:03:05,785 - INFO - Step: 64400\n"
     ]
    },
    {
     "name": "stdout",
     "output_type": "stream",
     "text": [
      "Loss: 0.027\n"
     ]
    },
    {
     "name": "stderr",
     "output_type": "stream",
     "text": [
      "2019-12-20 23:03:05,786 - INFO - Step time: 0.5315113067626953 seconds\n",
      "2019-12-20 23:03:06,625 - INFO - Saved checkpoint: PATH_TO_WHERE_TO_STORE_CHECKPOINTS_AND_LOGS/checkpoints/trainer-STEP-64400.pt\n",
      "2019-12-20 23:04:53,361 - INFO - Step: 64600\n"
     ]
    },
    {
     "name": "stdout",
     "output_type": "stream",
     "text": [
      "Loss: 0.002\n"
     ]
    },
    {
     "name": "stderr",
     "output_type": "stream",
     "text": [
      "2019-12-20 23:04:53,362 - INFO - Step time: 0.5304186344146729 seconds\n",
      "2019-12-20 23:04:54,196 - INFO - Saved checkpoint: PATH_TO_WHERE_TO_STORE_CHECKPOINTS_AND_LOGS/checkpoints/trainer-STEP-64600.pt\n",
      "2019-12-20 23:06:40,842 - INFO - Step: 64800\n"
     ]
    },
    {
     "name": "stdout",
     "output_type": "stream",
     "text": [
      "Loss: 0.001\n"
     ]
    },
    {
     "name": "stderr",
     "output_type": "stream",
     "text": [
      "2019-12-20 23:06:40,844 - INFO - Step time: 0.5324456691741943 seconds\n",
      "2019-12-20 23:06:41,717 - INFO - Saved checkpoint: PATH_TO_WHERE_TO_STORE_CHECKPOINTS_AND_LOGS/checkpoints/trainer-STEP-64800.pt\n",
      "2019-12-20 23:08:28,418 - INFO - Step: 65000\n"
     ]
    },
    {
     "name": "stdout",
     "output_type": "stream",
     "text": [
      "Loss: 0.036\n"
     ]
    },
    {
     "name": "stderr",
     "output_type": "stream",
     "text": [
      "2019-12-20 23:08:28,420 - INFO - Step time: 0.5307304859161377 seconds\n",
      "2019-12-20 23:08:29,273 - INFO - Saved checkpoint: PATH_TO_WHERE_TO_STORE_CHECKPOINTS_AND_LOGS/checkpoints/trainer-STEP-65000.pt\n",
      "2019-12-20 23:10:16,056 - INFO - Step: 65200\n"
     ]
    },
    {
     "name": "stdout",
     "output_type": "stream",
     "text": [
      "Loss: 0.002\n"
     ]
    },
    {
     "name": "stderr",
     "output_type": "stream",
     "text": [
      "2019-12-20 23:10:16,057 - INFO - Step time: 0.5291056632995605 seconds\n",
      "2019-12-20 23:10:16,913 - INFO - Saved checkpoint: PATH_TO_WHERE_TO_STORE_CHECKPOINTS_AND_LOGS/checkpoints/trainer-STEP-65200.pt\n",
      "2019-12-20 23:12:03,666 - INFO - Step: 65400\n"
     ]
    },
    {
     "name": "stdout",
     "output_type": "stream",
     "text": [
      "Loss: 0.004\n"
     ]
    },
    {
     "name": "stderr",
     "output_type": "stream",
     "text": [
      "2019-12-20 23:12:03,668 - INFO - Step time: 0.5302119255065918 seconds\n",
      "2019-12-20 23:12:04,509 - INFO - Saved checkpoint: PATH_TO_WHERE_TO_STORE_CHECKPOINTS_AND_LOGS/checkpoints/trainer-STEP-65400.pt\n",
      "2019-12-20 23:13:48,335 - INFO - Step: 65600\n"
     ]
    },
    {
     "name": "stdout",
     "output_type": "stream",
     "text": [
      "Loss: 0.001\n"
     ]
    },
    {
     "name": "stderr",
     "output_type": "stream",
     "text": [
      "2019-12-20 23:13:48,341 - INFO - Step time: 0.5202803611755371 seconds\n",
      "2019-12-20 23:13:49,173 - INFO - Saved checkpoint: PATH_TO_WHERE_TO_STORE_CHECKPOINTS_AND_LOGS/checkpoints/trainer-STEP-65600.pt\n",
      "2019-12-20 23:15:33,036 - INFO - Step: 65800\n"
     ]
    },
    {
     "name": "stdout",
     "output_type": "stream",
     "text": [
      "Loss: 0.001\n"
     ]
    },
    {
     "name": "stderr",
     "output_type": "stream",
     "text": [
      "2019-12-20 23:15:33,041 - INFO - Step time: 0.5214734077453613 seconds\n",
      "2019-12-20 23:15:33,880 - INFO - Saved checkpoint: PATH_TO_WHERE_TO_STORE_CHECKPOINTS_AND_LOGS/checkpoints/trainer-STEP-65800.pt\n",
      "2019-12-20 23:17:17,733 - INFO - Step: 66000\n"
     ]
    },
    {
     "name": "stdout",
     "output_type": "stream",
     "text": [
      "Loss: 0.001\n"
     ]
    },
    {
     "name": "stderr",
     "output_type": "stream",
     "text": [
      "2019-12-20 23:17:17,739 - INFO - Step time: 0.5205841064453125 seconds\n",
      "2019-12-20 23:17:18,590 - INFO - Saved checkpoint: PATH_TO_WHERE_TO_STORE_CHECKPOINTS_AND_LOGS/checkpoints/trainer-STEP-66000.pt\n",
      "2019-12-20 23:19:02,435 - INFO - Step: 66200\n"
     ]
    },
    {
     "name": "stdout",
     "output_type": "stream",
     "text": [
      "Loss: 0.001\n"
     ]
    },
    {
     "name": "stderr",
     "output_type": "stream",
     "text": [
      "2019-12-20 23:19:02,440 - INFO - Step time: 0.5217995643615723 seconds\n",
      "2019-12-20 23:19:03,295 - INFO - Saved checkpoint: PATH_TO_WHERE_TO_STORE_CHECKPOINTS_AND_LOGS/checkpoints/trainer-STEP-66200.pt\n",
      "2019-12-20 23:20:47,109 - INFO - Step: 66400\n"
     ]
    },
    {
     "name": "stdout",
     "output_type": "stream",
     "text": [
      "Loss: 0.000\n"
     ]
    },
    {
     "name": "stderr",
     "output_type": "stream",
     "text": [
      "2019-12-20 23:20:47,115 - INFO - Step time: 0.5215287208557129 seconds\n",
      "2019-12-20 23:20:47,951 - INFO - Saved checkpoint: PATH_TO_WHERE_TO_STORE_CHECKPOINTS_AND_LOGS/checkpoints/trainer-STEP-66400.pt\n",
      "2019-12-20 23:22:31,798 - INFO - Step: 66600\n"
     ]
    },
    {
     "name": "stdout",
     "output_type": "stream",
     "text": [
      "Loss: 0.000\n"
     ]
    },
    {
     "name": "stderr",
     "output_type": "stream",
     "text": [
      "2019-12-20 23:22:31,803 - INFO - Step time: 0.5212337970733643 seconds\n",
      "2019-12-20 23:22:32,635 - INFO - Saved checkpoint: PATH_TO_WHERE_TO_STORE_CHECKPOINTS_AND_LOGS/checkpoints/trainer-STEP-66600.pt\n",
      "2019-12-20 23:24:16,461 - INFO - Step: 66800\n"
     ]
    },
    {
     "name": "stdout",
     "output_type": "stream",
     "text": [
      "Loss: 0.000\n"
     ]
    },
    {
     "name": "stderr",
     "output_type": "stream",
     "text": [
      "2019-12-20 23:24:16,466 - INFO - Step time: 0.5212876796722412 seconds\n",
      "2019-12-20 23:24:17,301 - INFO - Saved checkpoint: PATH_TO_WHERE_TO_STORE_CHECKPOINTS_AND_LOGS/checkpoints/trainer-STEP-66800.pt\n",
      "2019-12-20 23:26:01,134 - INFO - Step: 67000\n"
     ]
    },
    {
     "name": "stdout",
     "output_type": "stream",
     "text": [
      "Loss: 0.005\n"
     ]
    },
    {
     "name": "stderr",
     "output_type": "stream",
     "text": [
      "2019-12-20 23:26:01,139 - INFO - Step time: 0.5209321975708008 seconds\n",
      "2019-12-20 23:26:01,988 - INFO - Saved checkpoint: PATH_TO_WHERE_TO_STORE_CHECKPOINTS_AND_LOGS/checkpoints/trainer-STEP-67000.pt\n",
      "2019-12-20 23:27:45,851 - INFO - Step: 67200\n"
     ]
    },
    {
     "name": "stdout",
     "output_type": "stream",
     "text": [
      "Loss: 0.000\n"
     ]
    },
    {
     "name": "stderr",
     "output_type": "stream",
     "text": [
      "2019-12-20 23:27:45,856 - INFO - Step time: 0.5217807292938232 seconds\n",
      "2019-12-20 23:27:46,709 - INFO - Saved checkpoint: PATH_TO_WHERE_TO_STORE_CHECKPOINTS_AND_LOGS/checkpoints/trainer-STEP-67200.pt\n",
      "2019-12-20 23:29:33,477 - INFO - Step: 67400\n"
     ]
    },
    {
     "name": "stdout",
     "output_type": "stream",
     "text": [
      "Loss: 0.000\n"
     ]
    },
    {
     "name": "stderr",
     "output_type": "stream",
     "text": [
      "2019-12-20 23:29:33,479 - INFO - Step time: 0.5323429107666016 seconds\n",
      "2019-12-20 23:29:34,329 - INFO - Saved checkpoint: PATH_TO_WHERE_TO_STORE_CHECKPOINTS_AND_LOGS/checkpoints/trainer-STEP-67400.pt\n",
      "2019-12-20 23:31:21,037 - INFO - Step: 67600\n"
     ]
    },
    {
     "name": "stdout",
     "output_type": "stream",
     "text": [
      "Loss: 0.001\n"
     ]
    },
    {
     "name": "stderr",
     "output_type": "stream",
     "text": [
      "2019-12-20 23:31:21,039 - INFO - Step time: 0.5314867496490479 seconds\n",
      "2019-12-20 23:31:21,873 - INFO - Saved checkpoint: PATH_TO_WHERE_TO_STORE_CHECKPOINTS_AND_LOGS/checkpoints/trainer-STEP-67600.pt\n",
      "2019-12-20 23:33:08,702 - INFO - Step: 67800\n"
     ]
    },
    {
     "name": "stdout",
     "output_type": "stream",
     "text": [
      "Loss: 0.000\n"
     ]
    },
    {
     "name": "stderr",
     "output_type": "stream",
     "text": [
      "2019-12-20 23:33:08,704 - INFO - Step time: 0.5320656299591064 seconds\n",
      "2019-12-20 23:33:09,541 - INFO - Saved checkpoint: PATH_TO_WHERE_TO_STORE_CHECKPOINTS_AND_LOGS/checkpoints/trainer-STEP-67800.pt\n",
      "2019-12-20 23:34:56,310 - INFO - Step: 68000\n"
     ]
    },
    {
     "name": "stdout",
     "output_type": "stream",
     "text": [
      "Loss: 0.000\n"
     ]
    },
    {
     "name": "stderr",
     "output_type": "stream",
     "text": [
      "2019-12-20 23:34:56,312 - INFO - Step time: 0.5312297344207764 seconds\n",
      "2019-12-20 23:34:57,163 - INFO - Saved checkpoint: PATH_TO_WHERE_TO_STORE_CHECKPOINTS_AND_LOGS/checkpoints/trainer-STEP-68000.pt\n",
      "2019-12-20 23:36:43,938 - INFO - Step: 68200\n"
     ]
    },
    {
     "name": "stdout",
     "output_type": "stream",
     "text": [
      "Loss: 0.000\n"
     ]
    },
    {
     "name": "stderr",
     "output_type": "stream",
     "text": [
      "2019-12-20 23:36:43,940 - INFO - Step time: 0.5314722061157227 seconds\n",
      "2019-12-20 23:36:44,793 - INFO - Saved checkpoint: PATH_TO_WHERE_TO_STORE_CHECKPOINTS_AND_LOGS/checkpoints/trainer-STEP-68200.pt\n",
      "2019-12-20 23:38:31,497 - INFO - Step: 68400\n"
     ]
    },
    {
     "name": "stdout",
     "output_type": "stream",
     "text": [
      "Loss: 0.000\n"
     ]
    },
    {
     "name": "stderr",
     "output_type": "stream",
     "text": [
      "2019-12-20 23:38:31,499 - INFO - Step time: 0.5319149494171143 seconds\n",
      "2019-12-20 23:38:32,320 - INFO - Saved checkpoint: PATH_TO_WHERE_TO_STORE_CHECKPOINTS_AND_LOGS/checkpoints/trainer-STEP-68400.pt\n",
      "2019-12-20 23:40:19,109 - INFO - Step: 68600\n"
     ]
    },
    {
     "name": "stdout",
     "output_type": "stream",
     "text": [
      "Loss: 0.000\n"
     ]
    },
    {
     "name": "stderr",
     "output_type": "stream",
     "text": [
      "2019-12-20 23:40:19,111 - INFO - Step time: 0.5313429832458496 seconds\n",
      "2019-12-20 23:40:19,942 - INFO - Saved checkpoint: PATH_TO_WHERE_TO_STORE_CHECKPOINTS_AND_LOGS/checkpoints/trainer-STEP-68600.pt\n",
      "2019-12-20 23:42:06,692 - INFO - Step: 68800\n"
     ]
    },
    {
     "name": "stdout",
     "output_type": "stream",
     "text": [
      "Loss: 0.177\n"
     ]
    },
    {
     "name": "stderr",
     "output_type": "stream",
     "text": [
      "2019-12-20 23:42:06,694 - INFO - Step time: 0.531012773513794 seconds\n",
      "2019-12-20 23:42:07,556 - INFO - Saved checkpoint: PATH_TO_WHERE_TO_STORE_CHECKPOINTS_AND_LOGS/checkpoints/trainer-STEP-68800.pt\n",
      "2019-12-20 23:43:54,263 - INFO - Step: 69000\n"
     ]
    },
    {
     "name": "stdout",
     "output_type": "stream",
     "text": [
      "Loss: 0.002\n"
     ]
    },
    {
     "name": "stderr",
     "output_type": "stream",
     "text": [
      "2019-12-20 23:43:54,265 - INFO - Step time: 0.5323765277862549 seconds\n",
      "2019-12-20 23:43:55,114 - INFO - Saved checkpoint: PATH_TO_WHERE_TO_STORE_CHECKPOINTS_AND_LOGS/checkpoints/trainer-STEP-69000.pt\n",
      "2019-12-20 23:45:41,839 - INFO - Step: 69200\n"
     ]
    },
    {
     "name": "stdout",
     "output_type": "stream",
     "text": [
      "Loss: 0.000\n"
     ]
    },
    {
     "name": "stderr",
     "output_type": "stream",
     "text": [
      "2019-12-20 23:45:41,841 - INFO - Step time: 0.5329713821411133 seconds\n",
      "2019-12-20 23:45:42,702 - INFO - Saved checkpoint: PATH_TO_WHERE_TO_STORE_CHECKPOINTS_AND_LOGS/checkpoints/trainer-STEP-69200.pt\n",
      "2019-12-20 23:47:29,446 - INFO - Step: 69400\n"
     ]
    },
    {
     "name": "stdout",
     "output_type": "stream",
     "text": [
      "Loss: 0.007\n"
     ]
    },
    {
     "name": "stderr",
     "output_type": "stream",
     "text": [
      "2019-12-20 23:47:29,448 - INFO - Step time: 0.5317544937133789 seconds\n",
      "2019-12-20 23:47:30,287 - INFO - Saved checkpoint: PATH_TO_WHERE_TO_STORE_CHECKPOINTS_AND_LOGS/checkpoints/trainer-STEP-69400.pt\n",
      "2019-12-20 23:49:17,039 - INFO - Step: 69600\n"
     ]
    },
    {
     "name": "stdout",
     "output_type": "stream",
     "text": [
      "Loss: 0.001\n"
     ]
    },
    {
     "name": "stderr",
     "output_type": "stream",
     "text": [
      "2019-12-20 23:49:17,041 - INFO - Step time: 0.5299904346466064 seconds\n",
      "2019-12-20 23:49:17,875 - INFO - Saved checkpoint: PATH_TO_WHERE_TO_STORE_CHECKPOINTS_AND_LOGS/checkpoints/trainer-STEP-69600.pt\n",
      "2019-12-20 23:51:04,577 - INFO - Step: 69800\n"
     ]
    },
    {
     "name": "stdout",
     "output_type": "stream",
     "text": [
      "Loss: 0.000\n"
     ]
    },
    {
     "name": "stderr",
     "output_type": "stream",
     "text": [
      "2019-12-20 23:51:04,579 - INFO - Step time: 0.5317580699920654 seconds\n",
      "2019-12-20 23:51:05,417 - INFO - Saved checkpoint: PATH_TO_WHERE_TO_STORE_CHECKPOINTS_AND_LOGS/checkpoints/trainer-STEP-69800.pt\n",
      "2019-12-20 23:52:52,191 - INFO - Step: 70000\n"
     ]
    },
    {
     "name": "stdout",
     "output_type": "stream",
     "text": [
      "Loss: 0.001\n"
     ]
    },
    {
     "name": "stderr",
     "output_type": "stream",
     "text": [
      "2019-12-20 23:52:52,193 - INFO - Step time: 0.5324997901916504 seconds\n",
      "2019-12-20 23:52:53,046 - INFO - Saved checkpoint: PATH_TO_WHERE_TO_STORE_CHECKPOINTS_AND_LOGS/checkpoints/trainer-STEP-70000.pt\n",
      "2019-12-20 23:53:27,337 - INFO - Finished epoch 2 in 9024.089724063873\n",
      "2019-12-20 23:53:27,338 - INFO - Starting epoch 3\n",
      "2019-12-20 23:54:42,676 - INFO - Step: 70200\n"
     ]
    },
    {
     "name": "stdout",
     "output_type": "stream",
     "text": [
      "Loss: 0.002\n"
     ]
    },
    {
     "name": "stderr",
     "output_type": "stream",
     "text": [
      "2019-12-20 23:54:42,679 - INFO - Step time: 0.5326428413391113 seconds\n",
      "2019-12-20 23:54:43,551 - INFO - Saved checkpoint: PATH_TO_WHERE_TO_STORE_CHECKPOINTS_AND_LOGS/checkpoints/trainer-STEP-70200.pt\n",
      "2019-12-20 23:56:30,331 - INFO - Step: 70400\n"
     ]
    },
    {
     "name": "stdout",
     "output_type": "stream",
     "text": [
      "Loss: 0.007\n"
     ]
    },
    {
     "name": "stderr",
     "output_type": "stream",
     "text": [
      "2019-12-20 23:56:30,333 - INFO - Step time: 0.5323183536529541 seconds\n",
      "2019-12-20 23:56:31,158 - INFO - Saved checkpoint: PATH_TO_WHERE_TO_STORE_CHECKPOINTS_AND_LOGS/checkpoints/trainer-STEP-70400.pt\n",
      "2019-12-20 23:58:17,921 - INFO - Step: 70600\n"
     ]
    },
    {
     "name": "stdout",
     "output_type": "stream",
     "text": [
      "Loss: 0.011\n"
     ]
    },
    {
     "name": "stderr",
     "output_type": "stream",
     "text": [
      "2019-12-20 23:58:17,923 - INFO - Step time: 0.5324211120605469 seconds\n",
      "2019-12-20 23:58:18,760 - INFO - Saved checkpoint: PATH_TO_WHERE_TO_STORE_CHECKPOINTS_AND_LOGS/checkpoints/trainer-STEP-70600.pt\n",
      "2019-12-21 00:00:05,509 - INFO - Step: 70800\n"
     ]
    },
    {
     "name": "stdout",
     "output_type": "stream",
     "text": [
      "Loss: 0.010\n"
     ]
    },
    {
     "name": "stderr",
     "output_type": "stream",
     "text": [
      "2019-12-21 00:00:05,511 - INFO - Step time: 0.5326683521270752 seconds\n",
      "2019-12-21 00:00:06,349 - INFO - Saved checkpoint: PATH_TO_WHERE_TO_STORE_CHECKPOINTS_AND_LOGS/checkpoints/trainer-STEP-70800.pt\n",
      "2019-12-21 00:01:53,104 - INFO - Step: 71000\n"
     ]
    },
    {
     "name": "stdout",
     "output_type": "stream",
     "text": [
      "Loss: 0.011\n"
     ]
    },
    {
     "name": "stderr",
     "output_type": "stream",
     "text": [
      "2019-12-21 00:01:53,106 - INFO - Step time: 0.5321648120880127 seconds\n",
      "2019-12-21 00:01:53,960 - INFO - Saved checkpoint: PATH_TO_WHERE_TO_STORE_CHECKPOINTS_AND_LOGS/checkpoints/trainer-STEP-71000.pt\n",
      "2019-12-21 00:03:40,713 - INFO - Step: 71200\n"
     ]
    },
    {
     "name": "stdout",
     "output_type": "stream",
     "text": [
      "Loss: 0.003\n"
     ]
    },
    {
     "name": "stderr",
     "output_type": "stream",
     "text": [
      "2019-12-21 00:03:40,715 - INFO - Step time: 0.5310680866241455 seconds\n",
      "2019-12-21 00:03:41,588 - INFO - Saved checkpoint: PATH_TO_WHERE_TO_STORE_CHECKPOINTS_AND_LOGS/checkpoints/trainer-STEP-71200.pt\n",
      "2019-12-21 00:05:28,266 - INFO - Step: 71400\n"
     ]
    },
    {
     "name": "stdout",
     "output_type": "stream",
     "text": [
      "Loss: 0.005\n"
     ]
    },
    {
     "name": "stderr",
     "output_type": "stream",
     "text": [
      "2019-12-21 00:05:28,268 - INFO - Step time: 0.5327126979827881 seconds\n",
      "2019-12-21 00:05:29,095 - INFO - Saved checkpoint: PATH_TO_WHERE_TO_STORE_CHECKPOINTS_AND_LOGS/checkpoints/trainer-STEP-71400.pt\n",
      "2019-12-21 00:07:15,832 - INFO - Step: 71600\n"
     ]
    },
    {
     "name": "stdout",
     "output_type": "stream",
     "text": [
      "Loss: 0.005\n"
     ]
    },
    {
     "name": "stderr",
     "output_type": "stream",
     "text": [
      "2019-12-21 00:07:15,834 - INFO - Step time: 0.5310823917388916 seconds\n",
      "2019-12-21 00:07:16,686 - INFO - Saved checkpoint: PATH_TO_WHERE_TO_STORE_CHECKPOINTS_AND_LOGS/checkpoints/trainer-STEP-71600.pt\n",
      "2019-12-21 00:09:03,395 - INFO - Step: 71800\n"
     ]
    },
    {
     "name": "stdout",
     "output_type": "stream",
     "text": [
      "Loss: 0.005\n"
     ]
    },
    {
     "name": "stderr",
     "output_type": "stream",
     "text": [
      "2019-12-21 00:09:03,397 - INFO - Step time: 0.5314419269561768 seconds\n",
      "2019-12-21 00:09:04,234 - INFO - Saved checkpoint: PATH_TO_WHERE_TO_STORE_CHECKPOINTS_AND_LOGS/checkpoints/trainer-STEP-71800.pt\n",
      "2019-12-21 00:10:50,968 - INFO - Step: 72000\n"
     ]
    },
    {
     "name": "stdout",
     "output_type": "stream",
     "text": [
      "Loss: 0.004\n"
     ]
    },
    {
     "name": "stderr",
     "output_type": "stream",
     "text": [
      "2019-12-21 00:10:50,970 - INFO - Step time: 0.5319147109985352 seconds\n",
      "2019-12-21 00:10:51,848 - INFO - Saved checkpoint: PATH_TO_WHERE_TO_STORE_CHECKPOINTS_AND_LOGS/checkpoints/trainer-STEP-72000.pt\n",
      "2019-12-21 00:12:38,575 - INFO - Step: 72200\n"
     ]
    },
    {
     "name": "stdout",
     "output_type": "stream",
     "text": [
      "Loss: 0.041\n"
     ]
    },
    {
     "name": "stderr",
     "output_type": "stream",
     "text": [
      "2019-12-21 00:12:38,577 - INFO - Step time: 0.5287997722625732 seconds\n",
      "2019-12-21 00:12:39,443 - INFO - Saved checkpoint: PATH_TO_WHERE_TO_STORE_CHECKPOINTS_AND_LOGS/checkpoints/trainer-STEP-72200.pt\n",
      "2019-12-21 00:14:26,206 - INFO - Step: 72400\n"
     ]
    },
    {
     "name": "stdout",
     "output_type": "stream",
     "text": [
      "Loss: 0.009\n"
     ]
    },
    {
     "name": "stderr",
     "output_type": "stream",
     "text": [
      "2019-12-21 00:14:26,208 - INFO - Step time: 0.5320608615875244 seconds\n",
      "2019-12-21 00:14:27,046 - INFO - Saved checkpoint: PATH_TO_WHERE_TO_STORE_CHECKPOINTS_AND_LOGS/checkpoints/trainer-STEP-72400.pt\n",
      "2019-12-21 00:16:13,778 - INFO - Step: 72600\n"
     ]
    },
    {
     "name": "stdout",
     "output_type": "stream",
     "text": [
      "Loss: 0.043\n"
     ]
    },
    {
     "name": "stderr",
     "output_type": "stream",
     "text": [
      "2019-12-21 00:16:13,779 - INFO - Step time: 0.5312662124633789 seconds\n",
      "2019-12-21 00:16:14,634 - INFO - Saved checkpoint: PATH_TO_WHERE_TO_STORE_CHECKPOINTS_AND_LOGS/checkpoints/trainer-STEP-72600.pt\n",
      "2019-12-21 00:18:01,419 - INFO - Step: 72800\n"
     ]
    },
    {
     "name": "stdout",
     "output_type": "stream",
     "text": [
      "Loss: 0.001\n"
     ]
    },
    {
     "name": "stderr",
     "output_type": "stream",
     "text": [
      "2019-12-21 00:18:01,421 - INFO - Step time: 0.5300486087799072 seconds\n",
      "2019-12-21 00:18:02,256 - INFO - Saved checkpoint: PATH_TO_WHERE_TO_STORE_CHECKPOINTS_AND_LOGS/checkpoints/trainer-STEP-72800.pt\n",
      "2019-12-21 00:19:48,942 - INFO - Step: 73000\n"
     ]
    },
    {
     "name": "stdout",
     "output_type": "stream",
     "text": [
      "Loss: 0.006\n"
     ]
    },
    {
     "name": "stderr",
     "output_type": "stream",
     "text": [
      "2019-12-21 00:19:48,944 - INFO - Step time: 0.5309264659881592 seconds\n",
      "2019-12-21 00:19:49,796 - INFO - Saved checkpoint: PATH_TO_WHERE_TO_STORE_CHECKPOINTS_AND_LOGS/checkpoints/trainer-STEP-73000.pt\n",
      "2019-12-21 00:21:36,559 - INFO - Step: 73200\n"
     ]
    },
    {
     "name": "stdout",
     "output_type": "stream",
     "text": [
      "Loss: 0.030\n"
     ]
    },
    {
     "name": "stderr",
     "output_type": "stream",
     "text": [
      "2019-12-21 00:21:36,561 - INFO - Step time: 0.5322906970977783 seconds\n",
      "2019-12-21 00:21:37,425 - INFO - Saved checkpoint: PATH_TO_WHERE_TO_STORE_CHECKPOINTS_AND_LOGS/checkpoints/trainer-STEP-73200.pt\n",
      "2019-12-21 00:23:24,111 - INFO - Step: 73400\n"
     ]
    },
    {
     "name": "stdout",
     "output_type": "stream",
     "text": [
      "Loss: 0.033\n"
     ]
    },
    {
     "name": "stderr",
     "output_type": "stream",
     "text": [
      "2019-12-21 00:23:24,113 - INFO - Step time: 0.5312168598175049 seconds\n",
      "2019-12-21 00:23:24,935 - INFO - Saved checkpoint: PATH_TO_WHERE_TO_STORE_CHECKPOINTS_AND_LOGS/checkpoints/trainer-STEP-73400.pt\n",
      "2019-12-21 00:25:11,675 - INFO - Step: 73600\n"
     ]
    },
    {
     "name": "stdout",
     "output_type": "stream",
     "text": [
      "Loss: 0.001\n"
     ]
    },
    {
     "name": "stderr",
     "output_type": "stream",
     "text": [
      "2019-12-21 00:25:11,677 - INFO - Step time: 0.5328011512756348 seconds\n",
      "2019-12-21 00:25:12,513 - INFO - Saved checkpoint: PATH_TO_WHERE_TO_STORE_CHECKPOINTS_AND_LOGS/checkpoints/trainer-STEP-73600.pt\n",
      "2019-12-21 00:26:59,229 - INFO - Step: 73800\n"
     ]
    },
    {
     "name": "stdout",
     "output_type": "stream",
     "text": [
      "Loss: 0.014\n"
     ]
    },
    {
     "name": "stderr",
     "output_type": "stream",
     "text": [
      "2019-12-21 00:26:59,230 - INFO - Step time: 0.5324203968048096 seconds\n",
      "2019-12-21 00:27:00,079 - INFO - Saved checkpoint: PATH_TO_WHERE_TO_STORE_CHECKPOINTS_AND_LOGS/checkpoints/trainer-STEP-73800.pt\n",
      "2019-12-21 00:28:46,769 - INFO - Step: 74000\n"
     ]
    },
    {
     "name": "stdout",
     "output_type": "stream",
     "text": [
      "Loss: 0.009\n"
     ]
    },
    {
     "name": "stderr",
     "output_type": "stream",
     "text": [
      "2019-12-21 00:28:46,771 - INFO - Step time: 0.530656099319458 seconds\n",
      "2019-12-21 00:28:47,625 - INFO - Saved checkpoint: PATH_TO_WHERE_TO_STORE_CHECKPOINTS_AND_LOGS/checkpoints/trainer-STEP-74000.pt\n",
      "2019-12-21 00:30:34,333 - INFO - Step: 74200\n"
     ]
    },
    {
     "name": "stdout",
     "output_type": "stream",
     "text": [
      "Loss: 0.008\n"
     ]
    },
    {
     "name": "stderr",
     "output_type": "stream",
     "text": [
      "2019-12-21 00:30:34,335 - INFO - Step time: 0.5323467254638672 seconds\n",
      "2019-12-21 00:30:35,201 - INFO - Saved checkpoint: PATH_TO_WHERE_TO_STORE_CHECKPOINTS_AND_LOGS/checkpoints/trainer-STEP-74200.pt\n",
      "2019-12-21 00:32:21,794 - INFO - Step: 74400\n"
     ]
    },
    {
     "name": "stdout",
     "output_type": "stream",
     "text": [
      "Loss: 0.009\n"
     ]
    },
    {
     "name": "stderr",
     "output_type": "stream",
     "text": [
      "2019-12-21 00:32:21,796 - INFO - Step time: 0.5323951244354248 seconds\n",
      "2019-12-21 00:32:22,642 - INFO - Saved checkpoint: PATH_TO_WHERE_TO_STORE_CHECKPOINTS_AND_LOGS/checkpoints/trainer-STEP-74400.pt\n",
      "2019-12-21 00:34:09,355 - INFO - Step: 74600\n"
     ]
    },
    {
     "name": "stdout",
     "output_type": "stream",
     "text": [
      "Loss: 0.001\n"
     ]
    },
    {
     "name": "stderr",
     "output_type": "stream",
     "text": [
      "2019-12-21 00:34:09,357 - INFO - Step time: 0.5278968811035156 seconds\n",
      "2019-12-21 00:34:10,195 - INFO - Saved checkpoint: PATH_TO_WHERE_TO_STORE_CHECKPOINTS_AND_LOGS/checkpoints/trainer-STEP-74600.pt\n",
      "2019-12-21 00:35:40,883 - INFO - Doing Evaluation ..............................\n",
      "2019-12-21 00:52:26,303 - INFO - Accuracy for task punct: 0.9876787113756859\n",
      "2019-12-21 00:52:26,304 - INFO - Sampled preds: [2 0 0 0 0 0 2 0 0 0 0 0 1 2 0 0 0 0 2 0]\n",
      "2019-12-21 00:52:26,305 - INFO - Sampled labels: [2 0 0 0 0 0 2 0 0 0 0 0 1 2 0 0 0 0 2 0]\n",
      "2019-12-21 00:52:28,154 - INFO -               precision    recall  f1-score   support\n",
      "\n",
      "           O       1.00      0.99      0.99   1544420\n",
      "           ,       0.46      0.98      0.62     17627\n",
      "           .       1.00      1.00      1.00    221292\n",
      "           ?       0.98      0.99      0.99     19638\n",
      "\n",
      "    accuracy                           0.99   1802977\n",
      "   macro avg       0.86      0.99      0.90   1802977\n",
      "weighted avg       0.99      0.99      0.99   1802977\n",
      "\n",
      "2019-12-21 00:52:35,404 - INFO - Accuracy for task capit: 0.9987032557819651\n",
      "2019-12-21 00:52:35,405 - INFO - Sampled preds: [1 0 0 0 1 0 0 0 0 1 0 0 0 0 0 1 0 0 0 0]\n",
      "2019-12-21 00:52:35,405 - INFO - Sampled labels: [1 0 0 0 1 0 0 0 0 1 0 0 0 0 0 1 0 0 0 0]\n",
      "2019-12-21 00:52:37,779 - INFO -               precision    recall  f1-score   support\n",
      "\n",
      "           O       1.00      1.00      1.00   1444603\n",
      "           U       1.00      1.00      1.00    358374\n",
      "\n",
      "    accuracy                           1.00   1802977\n",
      "   macro avg       1.00      1.00      1.00   1802977\n",
      "weighted avg       1.00      1.00      1.00   1802977\n",
      "\n",
      "2019-12-21 00:52:37,781 - INFO - Evaluation time: 1016.8973016738892 seconds\n",
      "2019-12-21 00:52:53,440 - INFO - Step: 74800\n"
     ]
    },
    {
     "name": "stdout",
     "output_type": "stream",
     "text": [
      "Loss: 0.000\n"
     ]
    },
    {
     "name": "stderr",
     "output_type": "stream",
     "text": [
      "2019-12-21 00:52:53,442 - INFO - Step time: 0.5224807262420654 seconds\n",
      "2019-12-21 00:52:54,283 - INFO - Saved checkpoint: PATH_TO_WHERE_TO_STORE_CHECKPOINTS_AND_LOGS/checkpoints/trainer-STEP-74800.pt\n",
      "2019-12-21 00:54:40,653 - INFO - Step: 75000\n"
     ]
    },
    {
     "name": "stdout",
     "output_type": "stream",
     "text": [
      "Loss: 0.000\n"
     ]
    },
    {
     "name": "stderr",
     "output_type": "stream",
     "text": [
      "2019-12-21 00:54:40,654 - INFO - Step time: 0.5292603969573975 seconds\n",
      "2019-12-21 00:54:41,507 - INFO - Saved checkpoint: PATH_TO_WHERE_TO_STORE_CHECKPOINTS_AND_LOGS/checkpoints/trainer-STEP-75000.pt\n",
      "2019-12-21 00:56:28,273 - INFO - Step: 75200\n"
     ]
    },
    {
     "name": "stdout",
     "output_type": "stream",
     "text": [
      "Loss: 0.003\n"
     ]
    },
    {
     "name": "stderr",
     "output_type": "stream",
     "text": [
      "2019-12-21 00:56:28,275 - INFO - Step time: 0.5329930782318115 seconds\n",
      "2019-12-21 00:56:29,151 - INFO - Saved checkpoint: PATH_TO_WHERE_TO_STORE_CHECKPOINTS_AND_LOGS/checkpoints/trainer-STEP-75200.pt\n",
      "2019-12-21 00:58:15,952 - INFO - Step: 75400\n"
     ]
    },
    {
     "name": "stdout",
     "output_type": "stream",
     "text": [
      "Loss: 0.001\n"
     ]
    },
    {
     "name": "stderr",
     "output_type": "stream",
     "text": [
      "2019-12-21 00:58:15,954 - INFO - Step time: 0.5328097343444824 seconds\n",
      "2019-12-21 00:58:16,807 - INFO - Saved checkpoint: PATH_TO_WHERE_TO_STORE_CHECKPOINTS_AND_LOGS/checkpoints/trainer-STEP-75400.pt\n",
      "2019-12-21 01:00:03,546 - INFO - Step: 75600\n"
     ]
    },
    {
     "name": "stdout",
     "output_type": "stream",
     "text": [
      "Loss: 0.000\n"
     ]
    },
    {
     "name": "stderr",
     "output_type": "stream",
     "text": [
      "2019-12-21 01:00:03,548 - INFO - Step time: 0.5328593254089355 seconds\n",
      "2019-12-21 01:00:04,387 - INFO - Saved checkpoint: PATH_TO_WHERE_TO_STORE_CHECKPOINTS_AND_LOGS/checkpoints/trainer-STEP-75600.pt\n",
      "2019-12-21 01:01:51,094 - INFO - Step: 75800\n"
     ]
    },
    {
     "name": "stdout",
     "output_type": "stream",
     "text": [
      "Loss: 0.004\n"
     ]
    },
    {
     "name": "stderr",
     "output_type": "stream",
     "text": [
      "2019-12-21 01:01:51,096 - INFO - Step time: 0.5318081378936768 seconds\n",
      "2019-12-21 01:01:51,934 - INFO - Saved checkpoint: PATH_TO_WHERE_TO_STORE_CHECKPOINTS_AND_LOGS/checkpoints/trainer-STEP-75800.pt\n",
      "2019-12-21 01:03:38,724 - INFO - Step: 76000\n"
     ]
    },
    {
     "name": "stdout",
     "output_type": "stream",
     "text": [
      "Loss: 0.006\n"
     ]
    },
    {
     "name": "stderr",
     "output_type": "stream",
     "text": [
      "2019-12-21 01:03:38,726 - INFO - Step time: 0.5334556102752686 seconds\n",
      "2019-12-21 01:03:39,589 - INFO - Saved checkpoint: PATH_TO_WHERE_TO_STORE_CHECKPOINTS_AND_LOGS/checkpoints/trainer-STEP-76000.pt\n",
      "2019-12-21 01:05:23,420 - INFO - Step: 76200\n"
     ]
    },
    {
     "name": "stdout",
     "output_type": "stream",
     "text": [
      "Loss: 0.000\n"
     ]
    },
    {
     "name": "stderr",
     "output_type": "stream",
     "text": [
      "2019-12-21 01:05:23,425 - INFO - Step time: 0.5205802917480469 seconds\n",
      "2019-12-21 01:05:24,281 - INFO - Saved checkpoint: PATH_TO_WHERE_TO_STORE_CHECKPOINTS_AND_LOGS/checkpoints/trainer-STEP-76200.pt\n",
      "2019-12-21 01:07:10,130 - INFO - Step: 76400\n"
     ]
    },
    {
     "name": "stdout",
     "output_type": "stream",
     "text": [
      "Loss: 0.022\n"
     ]
    },
    {
     "name": "stderr",
     "output_type": "stream",
     "text": [
      "2019-12-21 01:07:10,132 - INFO - Step time: 0.531378984451294 seconds\n",
      "2019-12-21 01:07:10,972 - INFO - Saved checkpoint: PATH_TO_WHERE_TO_STORE_CHECKPOINTS_AND_LOGS/checkpoints/trainer-STEP-76400.pt\n",
      "2019-12-21 01:08:57,714 - INFO - Step: 76600\n"
     ]
    },
    {
     "name": "stdout",
     "output_type": "stream",
     "text": [
      "Loss: 0.002\n"
     ]
    },
    {
     "name": "stderr",
     "output_type": "stream",
     "text": [
      "2019-12-21 01:08:57,716 - INFO - Step time: 0.5321693420410156 seconds\n",
      "2019-12-21 01:08:58,573 - INFO - Saved checkpoint: PATH_TO_WHERE_TO_STORE_CHECKPOINTS_AND_LOGS/checkpoints/trainer-STEP-76600.pt\n",
      "2019-12-21 01:10:45,317 - INFO - Step: 76800\n"
     ]
    },
    {
     "name": "stdout",
     "output_type": "stream",
     "text": [
      "Loss: 0.004\n"
     ]
    },
    {
     "name": "stderr",
     "output_type": "stream",
     "text": [
      "2019-12-21 01:10:45,319 - INFO - Step time: 0.5327742099761963 seconds\n",
      "2019-12-21 01:10:46,169 - INFO - Saved checkpoint: PATH_TO_WHERE_TO_STORE_CHECKPOINTS_AND_LOGS/checkpoints/trainer-STEP-76800.pt\n",
      "2019-12-21 01:12:32,928 - INFO - Step: 77000\n"
     ]
    },
    {
     "name": "stdout",
     "output_type": "stream",
     "text": [
      "Loss: 0.021\n"
     ]
    },
    {
     "name": "stderr",
     "output_type": "stream",
     "text": [
      "2019-12-21 01:12:32,930 - INFO - Step time: 0.5304727554321289 seconds\n",
      "2019-12-21 01:12:33,780 - INFO - Saved checkpoint: PATH_TO_WHERE_TO_STORE_CHECKPOINTS_AND_LOGS/checkpoints/trainer-STEP-77000.pt\n",
      "2019-12-21 01:14:20,523 - INFO - Step: 77200\n"
     ]
    },
    {
     "name": "stdout",
     "output_type": "stream",
     "text": [
      "Loss: 0.003\n"
     ]
    },
    {
     "name": "stderr",
     "output_type": "stream",
     "text": [
      "2019-12-21 01:14:20,525 - INFO - Step time: 0.5313692092895508 seconds\n",
      "2019-12-21 01:14:21,385 - INFO - Saved checkpoint: PATH_TO_WHERE_TO_STORE_CHECKPOINTS_AND_LOGS/checkpoints/trainer-STEP-77200.pt\n",
      "2019-12-21 01:16:08,114 - INFO - Step: 77400\n"
     ]
    },
    {
     "name": "stdout",
     "output_type": "stream",
     "text": [
      "Loss: 0.003\n"
     ]
    },
    {
     "name": "stderr",
     "output_type": "stream",
     "text": [
      "2019-12-21 01:16:08,116 - INFO - Step time: 0.5316026210784912 seconds\n",
      "2019-12-21 01:16:08,967 - INFO - Saved checkpoint: PATH_TO_WHERE_TO_STORE_CHECKPOINTS_AND_LOGS/checkpoints/trainer-STEP-77400.pt\n",
      "2019-12-21 01:17:55,714 - INFO - Step: 77600\n"
     ]
    },
    {
     "name": "stdout",
     "output_type": "stream",
     "text": [
      "Loss: 0.001\n"
     ]
    },
    {
     "name": "stderr",
     "output_type": "stream",
     "text": [
      "2019-12-21 01:17:55,716 - INFO - Step time: 0.5334656238555908 seconds\n",
      "2019-12-21 01:17:56,555 - INFO - Saved checkpoint: PATH_TO_WHERE_TO_STORE_CHECKPOINTS_AND_LOGS/checkpoints/trainer-STEP-77600.pt\n",
      "2019-12-21 01:19:43,308 - INFO - Step: 77800\n"
     ]
    },
    {
     "name": "stdout",
     "output_type": "stream",
     "text": [
      "Loss: 0.000\n"
     ]
    },
    {
     "name": "stderr",
     "output_type": "stream",
     "text": [
      "2019-12-21 01:19:43,310 - INFO - Step time: 0.531895637512207 seconds\n",
      "2019-12-21 01:19:44,159 - INFO - Saved checkpoint: PATH_TO_WHERE_TO_STORE_CHECKPOINTS_AND_LOGS/checkpoints/trainer-STEP-77800.pt\n",
      "2019-12-21 01:21:30,937 - INFO - Step: 78000\n"
     ]
    },
    {
     "name": "stdout",
     "output_type": "stream",
     "text": [
      "Loss: 0.001\n"
     ]
    },
    {
     "name": "stderr",
     "output_type": "stream",
     "text": [
      "2019-12-21 01:21:30,939 - INFO - Step time: 0.5316200256347656 seconds\n",
      "2019-12-21 01:21:31,800 - INFO - Saved checkpoint: PATH_TO_WHERE_TO_STORE_CHECKPOINTS_AND_LOGS/checkpoints/trainer-STEP-78000.pt\n",
      "2019-12-21 01:23:18,557 - INFO - Step: 78200\n"
     ]
    },
    {
     "name": "stdout",
     "output_type": "stream",
     "text": [
      "Loss: 0.065\n"
     ]
    },
    {
     "name": "stderr",
     "output_type": "stream",
     "text": [
      "2019-12-21 01:23:18,558 - INFO - Step time: 0.532362699508667 seconds\n",
      "2019-12-21 01:23:19,418 - INFO - Saved checkpoint: PATH_TO_WHERE_TO_STORE_CHECKPOINTS_AND_LOGS/checkpoints/trainer-STEP-78200.pt\n",
      "2019-12-21 01:25:06,089 - INFO - Step: 78400\n"
     ]
    },
    {
     "name": "stdout",
     "output_type": "stream",
     "text": [
      "Loss: 0.013\n"
     ]
    },
    {
     "name": "stderr",
     "output_type": "stream",
     "text": [
      "2019-12-21 01:25:06,091 - INFO - Step time: 0.5308082103729248 seconds\n",
      "2019-12-21 01:25:06,930 - INFO - Saved checkpoint: PATH_TO_WHERE_TO_STORE_CHECKPOINTS_AND_LOGS/checkpoints/trainer-STEP-78400.pt\n",
      "2019-12-21 01:26:53,683 - INFO - Step: 78600\n"
     ]
    },
    {
     "name": "stdout",
     "output_type": "stream",
     "text": [
      "Loss: 0.002\n"
     ]
    },
    {
     "name": "stderr",
     "output_type": "stream",
     "text": [
      "2019-12-21 01:26:53,685 - INFO - Step time: 0.531740665435791 seconds\n",
      "2019-12-21 01:26:54,524 - INFO - Saved checkpoint: PATH_TO_WHERE_TO_STORE_CHECKPOINTS_AND_LOGS/checkpoints/trainer-STEP-78600.pt\n",
      "2019-12-21 01:28:41,247 - INFO - Step: 78800\n"
     ]
    },
    {
     "name": "stdout",
     "output_type": "stream",
     "text": [
      "Loss: 0.008\n"
     ]
    },
    {
     "name": "stderr",
     "output_type": "stream",
     "text": [
      "2019-12-21 01:28:41,249 - INFO - Step time: 0.5320456027984619 seconds\n",
      "2019-12-21 01:28:42,099 - INFO - Saved checkpoint: PATH_TO_WHERE_TO_STORE_CHECKPOINTS_AND_LOGS/checkpoints/trainer-STEP-78800.pt\n",
      "2019-12-21 01:30:28,881 - INFO - Step: 79000\n"
     ]
    },
    {
     "name": "stdout",
     "output_type": "stream",
     "text": [
      "Loss: 0.016\n"
     ]
    },
    {
     "name": "stderr",
     "output_type": "stream",
     "text": [
      "2019-12-21 01:30:28,883 - INFO - Step time: 0.5324428081512451 seconds\n",
      "2019-12-21 01:30:29,744 - INFO - Saved checkpoint: PATH_TO_WHERE_TO_STORE_CHECKPOINTS_AND_LOGS/checkpoints/trainer-STEP-79000.pt\n",
      "2019-12-21 01:32:16,485 - INFO - Step: 79200\n"
     ]
    },
    {
     "name": "stdout",
     "output_type": "stream",
     "text": [
      "Loss: 0.002\n"
     ]
    },
    {
     "name": "stderr",
     "output_type": "stream",
     "text": [
      "2019-12-21 01:32:16,487 - INFO - Step time: 0.5294189453125 seconds\n",
      "2019-12-21 01:32:17,347 - INFO - Saved checkpoint: PATH_TO_WHERE_TO_STORE_CHECKPOINTS_AND_LOGS/checkpoints/trainer-STEP-79200.pt\n",
      "2019-12-21 01:34:04,114 - INFO - Step: 79400\n"
     ]
    },
    {
     "name": "stdout",
     "output_type": "stream",
     "text": [
      "Loss: 0.003\n"
     ]
    },
    {
     "name": "stderr",
     "output_type": "stream",
     "text": [
      "2019-12-21 01:34:04,116 - INFO - Step time: 0.5331366062164307 seconds\n",
      "2019-12-21 01:34:04,959 - INFO - Saved checkpoint: PATH_TO_WHERE_TO_STORE_CHECKPOINTS_AND_LOGS/checkpoints/trainer-STEP-79400.pt\n",
      "2019-12-21 01:35:51,607 - INFO - Step: 79600\n"
     ]
    },
    {
     "name": "stdout",
     "output_type": "stream",
     "text": [
      "Loss: 0.004\n"
     ]
    },
    {
     "name": "stderr",
     "output_type": "stream",
     "text": [
      "2019-12-21 01:35:51,609 - INFO - Step time: 0.5318613052368164 seconds\n",
      "2019-12-21 01:35:52,458 - INFO - Saved checkpoint: PATH_TO_WHERE_TO_STORE_CHECKPOINTS_AND_LOGS/checkpoints/trainer-STEP-79600.pt\n",
      "2019-12-21 01:37:39,228 - INFO - Step: 79800\n"
     ]
    },
    {
     "name": "stdout",
     "output_type": "stream",
     "text": [
      "Loss: 0.001\n"
     ]
    },
    {
     "name": "stderr",
     "output_type": "stream",
     "text": [
      "2019-12-21 01:37:39,230 - INFO - Step time: 0.5316774845123291 seconds\n",
      "2019-12-21 01:37:40,048 - INFO - Saved checkpoint: PATH_TO_WHERE_TO_STORE_CHECKPOINTS_AND_LOGS/checkpoints/trainer-STEP-79800.pt\n",
      "2019-12-21 01:39:26,812 - INFO - Step: 80000\n"
     ]
    },
    {
     "name": "stdout",
     "output_type": "stream",
     "text": [
      "Loss: 0.000\n"
     ]
    },
    {
     "name": "stderr",
     "output_type": "stream",
     "text": [
      "2019-12-21 01:39:26,813 - INFO - Step time: 0.5313565731048584 seconds\n",
      "2019-12-21 01:39:27,647 - INFO - Saved checkpoint: PATH_TO_WHERE_TO_STORE_CHECKPOINTS_AND_LOGS/checkpoints/trainer-STEP-80000.pt\n",
      "2019-12-21 01:41:14,353 - INFO - Step: 80200\n"
     ]
    },
    {
     "name": "stdout",
     "output_type": "stream",
     "text": [
      "Loss: 0.000\n"
     ]
    },
    {
     "name": "stderr",
     "output_type": "stream",
     "text": [
      "2019-12-21 01:41:14,355 - INFO - Step time: 0.5334162712097168 seconds\n",
      "2019-12-21 01:41:15,226 - INFO - Saved checkpoint: PATH_TO_WHERE_TO_STORE_CHECKPOINTS_AND_LOGS/checkpoints/trainer-STEP-80200.pt\n",
      "2019-12-21 01:43:01,995 - INFO - Step: 80400\n"
     ]
    },
    {
     "name": "stdout",
     "output_type": "stream",
     "text": [
      "Loss: 0.016\n"
     ]
    },
    {
     "name": "stderr",
     "output_type": "stream",
     "text": [
      "2019-12-21 01:43:01,997 - INFO - Step time: 0.5324559211730957 seconds\n",
      "2019-12-21 01:43:02,847 - INFO - Saved checkpoint: PATH_TO_WHERE_TO_STORE_CHECKPOINTS_AND_LOGS/checkpoints/trainer-STEP-80400.pt\n",
      "2019-12-21 01:44:49,642 - INFO - Step: 80600\n"
     ]
    },
    {
     "name": "stdout",
     "output_type": "stream",
     "text": [
      "Loss: 0.000\n"
     ]
    },
    {
     "name": "stderr",
     "output_type": "stream",
     "text": [
      "2019-12-21 01:44:49,644 - INFO - Step time: 0.532982349395752 seconds\n",
      "2019-12-21 01:44:50,467 - INFO - Saved checkpoint: PATH_TO_WHERE_TO_STORE_CHECKPOINTS_AND_LOGS/checkpoints/trainer-STEP-80600.pt\n",
      "2019-12-21 01:46:37,308 - INFO - Step: 80800\n"
     ]
    },
    {
     "name": "stdout",
     "output_type": "stream",
     "text": [
      "Loss: 0.002\n"
     ]
    },
    {
     "name": "stderr",
     "output_type": "stream",
     "text": [
      "2019-12-21 01:46:37,310 - INFO - Step time: 0.5312538146972656 seconds\n",
      "2019-12-21 01:46:38,149 - INFO - Saved checkpoint: PATH_TO_WHERE_TO_STORE_CHECKPOINTS_AND_LOGS/checkpoints/trainer-STEP-80800.pt\n",
      "2019-12-21 01:48:24,991 - INFO - Step: 81000\n"
     ]
    },
    {
     "name": "stdout",
     "output_type": "stream",
     "text": [
      "Loss: 0.001\n"
     ]
    },
    {
     "name": "stderr",
     "output_type": "stream",
     "text": [
      "2019-12-21 01:48:24,993 - INFO - Step time: 0.5318682193756104 seconds\n",
      "2019-12-21 01:48:25,843 - INFO - Saved checkpoint: PATH_TO_WHERE_TO_STORE_CHECKPOINTS_AND_LOGS/checkpoints/trainer-STEP-81000.pt\n",
      "2019-12-21 01:50:12,659 - INFO - Step: 81200\n"
     ]
    },
    {
     "name": "stdout",
     "output_type": "stream",
     "text": [
      "Loss: 0.000\n"
     ]
    },
    {
     "name": "stderr",
     "output_type": "stream",
     "text": [
      "2019-12-21 01:50:12,661 - INFO - Step time: 0.5327565670013428 seconds\n",
      "2019-12-21 01:50:13,518 - INFO - Saved checkpoint: PATH_TO_WHERE_TO_STORE_CHECKPOINTS_AND_LOGS/checkpoints/trainer-STEP-81200.pt\n",
      "2019-12-21 01:52:00,302 - INFO - Step: 81400\n"
     ]
    },
    {
     "name": "stdout",
     "output_type": "stream",
     "text": [
      "Loss: 0.007\n"
     ]
    },
    {
     "name": "stderr",
     "output_type": "stream",
     "text": [
      "2019-12-21 01:52:00,304 - INFO - Step time: 0.5321087837219238 seconds\n",
      "2019-12-21 01:52:01,127 - INFO - Saved checkpoint: PATH_TO_WHERE_TO_STORE_CHECKPOINTS_AND_LOGS/checkpoints/trainer-STEP-81400.pt\n",
      "2019-12-21 01:53:47,970 - INFO - Step: 81600\n"
     ]
    },
    {
     "name": "stdout",
     "output_type": "stream",
     "text": [
      "Loss: 0.021\n"
     ]
    },
    {
     "name": "stderr",
     "output_type": "stream",
     "text": [
      "2019-12-21 01:53:47,972 - INFO - Step time: 0.5322661399841309 seconds\n",
      "2019-12-21 01:53:48,791 - INFO - Saved checkpoint: PATH_TO_WHERE_TO_STORE_CHECKPOINTS_AND_LOGS/checkpoints/trainer-STEP-81600.pt\n",
      "2019-12-21 01:55:35,574 - INFO - Step: 81800\n"
     ]
    },
    {
     "name": "stdout",
     "output_type": "stream",
     "text": [
      "Loss: 0.000\n"
     ]
    },
    {
     "name": "stderr",
     "output_type": "stream",
     "text": [
      "2019-12-21 01:55:35,576 - INFO - Step time: 0.5321676731109619 seconds\n",
      "2019-12-21 01:55:36,444 - INFO - Saved checkpoint: PATH_TO_WHERE_TO_STORE_CHECKPOINTS_AND_LOGS/checkpoints/trainer-STEP-81800.pt\n",
      "2019-12-21 01:57:23,290 - INFO - Step: 82000\n"
     ]
    },
    {
     "name": "stdout",
     "output_type": "stream",
     "text": [
      "Loss: 0.001\n"
     ]
    },
    {
     "name": "stderr",
     "output_type": "stream",
     "text": [
      "2019-12-21 01:57:23,291 - INFO - Step time: 0.5319881439208984 seconds\n",
      "2019-12-21 01:57:24,137 - INFO - Saved checkpoint: PATH_TO_WHERE_TO_STORE_CHECKPOINTS_AND_LOGS/checkpoints/trainer-STEP-82000.pt\n",
      "2019-12-21 01:59:10,966 - INFO - Step: 82200\n"
     ]
    },
    {
     "name": "stdout",
     "output_type": "stream",
     "text": [
      "Loss: 0.000\n"
     ]
    },
    {
     "name": "stderr",
     "output_type": "stream",
     "text": [
      "2019-12-21 01:59:10,968 - INFO - Step time: 0.5323071479797363 seconds\n",
      "2019-12-21 01:59:11,821 - INFO - Saved checkpoint: PATH_TO_WHERE_TO_STORE_CHECKPOINTS_AND_LOGS/checkpoints/trainer-STEP-82200.pt\n",
      "2019-12-21 02:00:58,588 - INFO - Step: 82400\n"
     ]
    },
    {
     "name": "stdout",
     "output_type": "stream",
     "text": [
      "Loss: 0.000\n"
     ]
    },
    {
     "name": "stderr",
     "output_type": "stream",
     "text": [
      "2019-12-21 02:00:58,590 - INFO - Step time: 0.5323612689971924 seconds\n",
      "2019-12-21 02:00:59,434 - INFO - Saved checkpoint: PATH_TO_WHERE_TO_STORE_CHECKPOINTS_AND_LOGS/checkpoints/trainer-STEP-82400.pt\n",
      "2019-12-21 02:02:46,239 - INFO - Step: 82600\n"
     ]
    },
    {
     "name": "stdout",
     "output_type": "stream",
     "text": [
      "Loss: 0.000\n"
     ]
    },
    {
     "name": "stderr",
     "output_type": "stream",
     "text": [
      "2019-12-21 02:02:46,241 - INFO - Step time: 0.532259464263916 seconds\n",
      "2019-12-21 02:02:47,082 - INFO - Saved checkpoint: PATH_TO_WHERE_TO_STORE_CHECKPOINTS_AND_LOGS/checkpoints/trainer-STEP-82600.pt\n",
      "2019-12-21 02:04:33,918 - INFO - Step: 82800\n"
     ]
    },
    {
     "name": "stdout",
     "output_type": "stream",
     "text": [
      "Loss: 0.000\n"
     ]
    },
    {
     "name": "stderr",
     "output_type": "stream",
     "text": [
      "2019-12-21 02:04:33,920 - INFO - Step time: 0.5323500633239746 seconds\n",
      "2019-12-21 02:04:34,755 - INFO - Saved checkpoint: PATH_TO_WHERE_TO_STORE_CHECKPOINTS_AND_LOGS/checkpoints/trainer-STEP-82800.pt\n",
      "2019-12-21 02:06:21,572 - INFO - Step: 83000\n"
     ]
    },
    {
     "name": "stdout",
     "output_type": "stream",
     "text": [
      "Loss: 0.000\n"
     ]
    },
    {
     "name": "stderr",
     "output_type": "stream",
     "text": [
      "2019-12-21 02:06:21,574 - INFO - Step time: 0.531623363494873 seconds\n",
      "2019-12-21 02:06:22,423 - INFO - Saved checkpoint: PATH_TO_WHERE_TO_STORE_CHECKPOINTS_AND_LOGS/checkpoints/trainer-STEP-83000.pt\n",
      "2019-12-21 02:08:09,198 - INFO - Step: 83200\n"
     ]
    },
    {
     "name": "stdout",
     "output_type": "stream",
     "text": [
      "Loss: 0.008\n"
     ]
    },
    {
     "name": "stderr",
     "output_type": "stream",
     "text": [
      "2019-12-21 02:08:09,200 - INFO - Step time: 0.5318262577056885 seconds\n",
      "2019-12-21 02:08:10,054 - INFO - Saved checkpoint: PATH_TO_WHERE_TO_STORE_CHECKPOINTS_AND_LOGS/checkpoints/trainer-STEP-83200.pt\n",
      "2019-12-21 02:09:56,830 - INFO - Step: 83400\n"
     ]
    },
    {
     "name": "stdout",
     "output_type": "stream",
     "text": [
      "Loss: 0.000\n"
     ]
    },
    {
     "name": "stderr",
     "output_type": "stream",
     "text": [
      "2019-12-21 02:09:56,832 - INFO - Step time: 0.5319862365722656 seconds\n",
      "2019-12-21 02:09:57,669 - INFO - Saved checkpoint: PATH_TO_WHERE_TO_STORE_CHECKPOINTS_AND_LOGS/checkpoints/trainer-STEP-83400.pt\n",
      "2019-12-21 02:11:44,469 - INFO - Step: 83600\n"
     ]
    },
    {
     "name": "stdout",
     "output_type": "stream",
     "text": [
      "Loss: 0.001\n"
     ]
    },
    {
     "name": "stderr",
     "output_type": "stream",
     "text": [
      "2019-12-21 02:11:44,471 - INFO - Step time: 0.5319766998291016 seconds\n",
      "2019-12-21 02:11:45,302 - INFO - Saved checkpoint: PATH_TO_WHERE_TO_STORE_CHECKPOINTS_AND_LOGS/checkpoints/trainer-STEP-83600.pt\n",
      "2019-12-21 02:13:32,083 - INFO - Step: 83800\n"
     ]
    },
    {
     "name": "stdout",
     "output_type": "stream",
     "text": [
      "Loss: 0.002\n"
     ]
    },
    {
     "name": "stderr",
     "output_type": "stream",
     "text": [
      "2019-12-21 02:13:32,085 - INFO - Step time: 0.5318713188171387 seconds\n",
      "2019-12-21 02:13:32,918 - INFO - Saved checkpoint: PATH_TO_WHERE_TO_STORE_CHECKPOINTS_AND_LOGS/checkpoints/trainer-STEP-83800.pt\n",
      "2019-12-21 02:15:19,677 - INFO - Step: 84000\n"
     ]
    },
    {
     "name": "stdout",
     "output_type": "stream",
     "text": [
      "Loss: 0.009\n"
     ]
    },
    {
     "name": "stderr",
     "output_type": "stream",
     "text": [
      "2019-12-21 02:15:19,679 - INFO - Step time: 0.5330116748809814 seconds\n",
      "2019-12-21 02:15:20,528 - INFO - Saved checkpoint: PATH_TO_WHERE_TO_STORE_CHECKPOINTS_AND_LOGS/checkpoints/trainer-STEP-84000.pt\n",
      "2019-12-21 02:17:07,271 - INFO - Step: 84200\n"
     ]
    },
    {
     "name": "stdout",
     "output_type": "stream",
     "text": [
      "Loss: 0.000\n"
     ]
    },
    {
     "name": "stderr",
     "output_type": "stream",
     "text": [
      "2019-12-21 02:17:07,273 - INFO - Step time: 0.5323007106781006 seconds\n",
      "2019-12-21 02:17:08,107 - INFO - Saved checkpoint: PATH_TO_WHERE_TO_STORE_CHECKPOINTS_AND_LOGS/checkpoints/trainer-STEP-84200.pt\n",
      "2019-12-21 02:18:54,811 - INFO - Step: 84400\n"
     ]
    },
    {
     "name": "stdout",
     "output_type": "stream",
     "text": [
      "Loss: 0.013\n"
     ]
    },
    {
     "name": "stderr",
     "output_type": "stream",
     "text": [
      "2019-12-21 02:18:54,813 - INFO - Step time: 0.5308406352996826 seconds\n",
      "2019-12-21 02:18:55,638 - INFO - Saved checkpoint: PATH_TO_WHERE_TO_STORE_CHECKPOINTS_AND_LOGS/checkpoints/trainer-STEP-84400.pt\n",
      "2019-12-21 02:20:42,380 - INFO - Step: 84600\n"
     ]
    },
    {
     "name": "stdout",
     "output_type": "stream",
     "text": [
      "Loss: 0.000\n"
     ]
    },
    {
     "name": "stderr",
     "output_type": "stream",
     "text": [
      "2019-12-21 02:20:42,382 - INFO - Step time: 0.5314896106719971 seconds\n",
      "2019-12-21 02:20:43,221 - INFO - Saved checkpoint: PATH_TO_WHERE_TO_STORE_CHECKPOINTS_AND_LOGS/checkpoints/trainer-STEP-84600.pt\n",
      "2019-12-21 02:22:29,997 - INFO - Step: 84800\n"
     ]
    },
    {
     "name": "stdout",
     "output_type": "stream",
     "text": [
      "Loss: 0.000\n"
     ]
    },
    {
     "name": "stderr",
     "output_type": "stream",
     "text": [
      "2019-12-21 02:22:29,999 - INFO - Step time: 0.5311641693115234 seconds\n",
      "2019-12-21 02:22:30,833 - INFO - Saved checkpoint: PATH_TO_WHERE_TO_STORE_CHECKPOINTS_AND_LOGS/checkpoints/trainer-STEP-84800.pt\n",
      "2019-12-21 02:24:17,599 - INFO - Step: 85000\n"
     ]
    },
    {
     "name": "stdout",
     "output_type": "stream",
     "text": [
      "Loss: 0.000\n"
     ]
    },
    {
     "name": "stderr",
     "output_type": "stream",
     "text": [
      "2019-12-21 02:24:17,601 - INFO - Step time: 0.531501293182373 seconds\n",
      "2019-12-21 02:24:18,462 - INFO - Saved checkpoint: PATH_TO_WHERE_TO_STORE_CHECKPOINTS_AND_LOGS/checkpoints/trainer-STEP-85000.pt\n",
      "2019-12-21 02:24:28,726 - INFO - Finished epoch 3 in 9061.370637655258\n",
      "2019-12-21 02:24:28,728 - INFO - Starting epoch 4\n",
      "2019-12-21 02:26:08,048 - INFO - Step: 85200\n"
     ]
    },
    {
     "name": "stdout",
     "output_type": "stream",
     "text": [
      "Loss: 0.008\n"
     ]
    },
    {
     "name": "stderr",
     "output_type": "stream",
     "text": [
      "2019-12-21 02:26:08,051 - INFO - Step time: 0.5330319404602051 seconds\n",
      "2019-12-21 02:26:08,926 - INFO - Saved checkpoint: PATH_TO_WHERE_TO_STORE_CHECKPOINTS_AND_LOGS/checkpoints/trainer-STEP-85200.pt\n",
      "2019-12-21 02:27:55,685 - INFO - Step: 85400\n"
     ]
    },
    {
     "name": "stdout",
     "output_type": "stream",
     "text": [
      "Loss: 0.006\n"
     ]
    },
    {
     "name": "stderr",
     "output_type": "stream",
     "text": [
      "2019-12-21 02:27:55,687 - INFO - Step time: 0.5315742492675781 seconds\n",
      "2019-12-21 02:27:56,528 - INFO - Saved checkpoint: PATH_TO_WHERE_TO_STORE_CHECKPOINTS_AND_LOGS/checkpoints/trainer-STEP-85400.pt\n",
      "2019-12-21 02:29:43,337 - INFO - Step: 85600\n"
     ]
    },
    {
     "name": "stdout",
     "output_type": "stream",
     "text": [
      "Loss: 0.002\n"
     ]
    },
    {
     "name": "stderr",
     "output_type": "stream",
     "text": [
      "2019-12-21 02:29:43,339 - INFO - Step time: 0.530754566192627 seconds\n",
      "2019-12-21 02:29:44,186 - INFO - Saved checkpoint: PATH_TO_WHERE_TO_STORE_CHECKPOINTS_AND_LOGS/checkpoints/trainer-STEP-85600.pt\n",
      "2019-12-21 02:31:30,983 - INFO - Step: 85800\n"
     ]
    },
    {
     "name": "stdout",
     "output_type": "stream",
     "text": [
      "Loss: 0.001\n"
     ]
    },
    {
     "name": "stderr",
     "output_type": "stream",
     "text": [
      "2019-12-21 02:31:30,984 - INFO - Step time: 0.5317258834838867 seconds\n",
      "2019-12-21 02:31:31,830 - INFO - Saved checkpoint: PATH_TO_WHERE_TO_STORE_CHECKPOINTS_AND_LOGS/checkpoints/trainer-STEP-85800.pt\n",
      "2019-12-21 02:33:18,697 - INFO - Step: 86000\n"
     ]
    },
    {
     "name": "stdout",
     "output_type": "stream",
     "text": [
      "Loss: 0.003\n"
     ]
    },
    {
     "name": "stderr",
     "output_type": "stream",
     "text": [
      "2019-12-21 02:33:18,699 - INFO - Step time: 0.5328254699707031 seconds\n",
      "2019-12-21 02:33:19,537 - INFO - Saved checkpoint: PATH_TO_WHERE_TO_STORE_CHECKPOINTS_AND_LOGS/checkpoints/trainer-STEP-86000.pt\n",
      "2019-12-21 02:35:06,309 - INFO - Step: 86200\n"
     ]
    },
    {
     "name": "stdout",
     "output_type": "stream",
     "text": [
      "Loss: 0.004\n"
     ]
    },
    {
     "name": "stderr",
     "output_type": "stream",
     "text": [
      "2019-12-21 02:35:06,312 - INFO - Step time: 0.5318937301635742 seconds\n",
      "2019-12-21 02:35:07,165 - INFO - Saved checkpoint: PATH_TO_WHERE_TO_STORE_CHECKPOINTS_AND_LOGS/checkpoints/trainer-STEP-86200.pt\n",
      "2019-12-21 02:36:53,928 - INFO - Step: 86400\n"
     ]
    },
    {
     "name": "stdout",
     "output_type": "stream",
     "text": [
      "Loss: 0.004\n"
     ]
    },
    {
     "name": "stderr",
     "output_type": "stream",
     "text": [
      "2019-12-21 02:36:53,930 - INFO - Step time: 0.5311717987060547 seconds\n",
      "2019-12-21 02:36:54,784 - INFO - Saved checkpoint: PATH_TO_WHERE_TO_STORE_CHECKPOINTS_AND_LOGS/checkpoints/trainer-STEP-86400.pt\n",
      "2019-12-21 02:38:41,545 - INFO - Step: 86600\n"
     ]
    },
    {
     "name": "stdout",
     "output_type": "stream",
     "text": [
      "Loss: 0.004\n"
     ]
    },
    {
     "name": "stderr",
     "output_type": "stream",
     "text": [
      "2019-12-21 02:38:41,547 - INFO - Step time: 0.532017707824707 seconds\n",
      "2019-12-21 02:38:42,381 - INFO - Saved checkpoint: PATH_TO_WHERE_TO_STORE_CHECKPOINTS_AND_LOGS/checkpoints/trainer-STEP-86600.pt\n",
      "2019-12-21 02:40:29,156 - INFO - Step: 86800\n"
     ]
    },
    {
     "name": "stdout",
     "output_type": "stream",
     "text": [
      "Loss: 0.004\n"
     ]
    },
    {
     "name": "stderr",
     "output_type": "stream",
     "text": [
      "2019-12-21 02:40:29,158 - INFO - Step time: 0.5324149131774902 seconds\n",
      "2019-12-21 02:40:30,007 - INFO - Saved checkpoint: PATH_TO_WHERE_TO_STORE_CHECKPOINTS_AND_LOGS/checkpoints/trainer-STEP-86800.pt\n",
      "2019-12-21 02:42:16,797 - INFO - Step: 87000\n"
     ]
    },
    {
     "name": "stdout",
     "output_type": "stream",
     "text": [
      "Loss: 0.008\n"
     ]
    },
    {
     "name": "stderr",
     "output_type": "stream",
     "text": [
      "2019-12-21 02:42:16,799 - INFO - Step time: 0.5326976776123047 seconds\n",
      "2019-12-21 02:42:17,663 - INFO - Saved checkpoint: PATH_TO_WHERE_TO_STORE_CHECKPOINTS_AND_LOGS/checkpoints/trainer-STEP-87000.pt\n",
      "2019-12-21 02:44:04,503 - INFO - Step: 87200\n"
     ]
    },
    {
     "name": "stdout",
     "output_type": "stream",
     "text": [
      "Loss: 0.006\n"
     ]
    },
    {
     "name": "stderr",
     "output_type": "stream",
     "text": [
      "2019-12-21 02:44:04,505 - INFO - Step time: 0.5322701930999756 seconds\n",
      "2019-12-21 02:44:05,370 - INFO - Saved checkpoint: PATH_TO_WHERE_TO_STORE_CHECKPOINTS_AND_LOGS/checkpoints/trainer-STEP-87200.pt\n",
      "2019-12-21 02:45:52,149 - INFO - Step: 87400\n"
     ]
    },
    {
     "name": "stdout",
     "output_type": "stream",
     "text": [
      "Loss: 0.001\n"
     ]
    },
    {
     "name": "stderr",
     "output_type": "stream",
     "text": [
      "2019-12-21 02:45:52,151 - INFO - Step time: 0.5320096015930176 seconds\n",
      "2019-12-21 02:45:52,991 - INFO - Saved checkpoint: PATH_TO_WHERE_TO_STORE_CHECKPOINTS_AND_LOGS/checkpoints/trainer-STEP-87400.pt\n",
      "2019-12-21 02:47:39,790 - INFO - Step: 87600\n"
     ]
    },
    {
     "name": "stdout",
     "output_type": "stream",
     "text": [
      "Loss: 0.041\n"
     ]
    },
    {
     "name": "stderr",
     "output_type": "stream",
     "text": [
      "2019-12-21 02:47:39,792 - INFO - Step time: 0.5330147743225098 seconds\n",
      "2019-12-21 02:47:40,632 - INFO - Saved checkpoint: PATH_TO_WHERE_TO_STORE_CHECKPOINTS_AND_LOGS/checkpoints/trainer-STEP-87600.pt\n",
      "2019-12-21 02:49:27,422 - INFO - Step: 87800\n"
     ]
    },
    {
     "name": "stdout",
     "output_type": "stream",
     "text": [
      "Loss: 0.001\n"
     ]
    },
    {
     "name": "stderr",
     "output_type": "stream",
     "text": [
      "2019-12-21 02:49:27,424 - INFO - Step time: 0.5319168567657471 seconds\n",
      "2019-12-21 02:49:28,245 - INFO - Saved checkpoint: PATH_TO_WHERE_TO_STORE_CHECKPOINTS_AND_LOGS/checkpoints/trainer-STEP-87800.pt\n",
      "2019-12-21 02:51:13,754 - INFO - Step: 88000\n"
     ]
    },
    {
     "name": "stdout",
     "output_type": "stream",
     "text": [
      "Loss: 0.009\n"
     ]
    },
    {
     "name": "stderr",
     "output_type": "stream",
     "text": [
      "2019-12-21 02:51:13,760 - INFO - Step time: 0.5221130847930908 seconds\n",
      "2019-12-21 02:51:14,608 - INFO - Saved checkpoint: PATH_TO_WHERE_TO_STORE_CHECKPOINTS_AND_LOGS/checkpoints/trainer-STEP-88000.pt\n",
      "2019-12-21 02:53:00,634 - INFO - Step: 88200\n"
     ]
    },
    {
     "name": "stdout",
     "output_type": "stream",
     "text": [
      "Loss: 0.019\n"
     ]
    },
    {
     "name": "stderr",
     "output_type": "stream",
     "text": [
      "2019-12-21 02:53:00,636 - INFO - Step time: 0.532202959060669 seconds\n",
      "2019-12-21 02:53:01,519 - INFO - Saved checkpoint: PATH_TO_WHERE_TO_STORE_CHECKPOINTS_AND_LOGS/checkpoints/trainer-STEP-88200.pt\n",
      "2019-12-21 02:54:48,280 - INFO - Step: 88400\n"
     ]
    },
    {
     "name": "stdout",
     "output_type": "stream",
     "text": [
      "Loss: 0.011\n"
     ]
    },
    {
     "name": "stderr",
     "output_type": "stream",
     "text": [
      "2019-12-21 02:54:48,282 - INFO - Step time: 0.5319194793701172 seconds\n",
      "2019-12-21 02:54:49,124 - INFO - Saved checkpoint: PATH_TO_WHERE_TO_STORE_CHECKPOINTS_AND_LOGS/checkpoints/trainer-STEP-88400.pt\n",
      "2019-12-21 02:56:35,845 - INFO - Step: 88600\n"
     ]
    },
    {
     "name": "stdout",
     "output_type": "stream",
     "text": [
      "Loss: 0.003\n"
     ]
    },
    {
     "name": "stderr",
     "output_type": "stream",
     "text": [
      "2019-12-21 02:56:35,847 - INFO - Step time: 0.5314772129058838 seconds\n",
      "2019-12-21 02:56:36,683 - INFO - Saved checkpoint: PATH_TO_WHERE_TO_STORE_CHECKPOINTS_AND_LOGS/checkpoints/trainer-STEP-88600.pt\n",
      "2019-12-21 02:58:23,442 - INFO - Step: 88800\n"
     ]
    },
    {
     "name": "stdout",
     "output_type": "stream",
     "text": [
      "Loss: 0.010\n"
     ]
    },
    {
     "name": "stderr",
     "output_type": "stream",
     "text": [
      "2019-12-21 02:58:23,444 - INFO - Step time: 0.5322952270507812 seconds\n",
      "2019-12-21 02:58:24,272 - INFO - Saved checkpoint: PATH_TO_WHERE_TO_STORE_CHECKPOINTS_AND_LOGS/checkpoints/trainer-STEP-88800.pt\n",
      "2019-12-21 03:00:11,031 - INFO - Step: 89000\n"
     ]
    },
    {
     "name": "stdout",
     "output_type": "stream",
     "text": [
      "Loss: 0.002\n"
     ]
    },
    {
     "name": "stderr",
     "output_type": "stream",
     "text": [
      "2019-12-21 03:00:11,033 - INFO - Step time: 0.5320010185241699 seconds\n",
      "2019-12-21 03:00:11,874 - INFO - Saved checkpoint: PATH_TO_WHERE_TO_STORE_CHECKPOINTS_AND_LOGS/checkpoints/trainer-STEP-89000.pt\n",
      "2019-12-21 03:01:58,590 - INFO - Step: 89200\n"
     ]
    },
    {
     "name": "stdout",
     "output_type": "stream",
     "text": [
      "Loss: 0.000\n"
     ]
    },
    {
     "name": "stderr",
     "output_type": "stream",
     "text": [
      "2019-12-21 03:01:58,592 - INFO - Step time: 0.5312631130218506 seconds\n",
      "2019-12-21 03:01:59,437 - INFO - Saved checkpoint: PATH_TO_WHERE_TO_STORE_CHECKPOINTS_AND_LOGS/checkpoints/trainer-STEP-89200.pt\n",
      "2019-12-21 03:03:46,100 - INFO - Step: 89400\n"
     ]
    },
    {
     "name": "stdout",
     "output_type": "stream",
     "text": [
      "Loss: 0.001\n"
     ]
    },
    {
     "name": "stderr",
     "output_type": "stream",
     "text": [
      "2019-12-21 03:03:46,102 - INFO - Step time: 0.5315725803375244 seconds\n",
      "2019-12-21 03:03:46,945 - INFO - Saved checkpoint: PATH_TO_WHERE_TO_STORE_CHECKPOINTS_AND_LOGS/checkpoints/trainer-STEP-89400.pt\n",
      "2019-12-21 03:05:33,674 - INFO - Step: 89600\n"
     ]
    },
    {
     "name": "stdout",
     "output_type": "stream",
     "text": [
      "Loss: 0.001\n"
     ]
    },
    {
     "name": "stderr",
     "output_type": "stream",
     "text": [
      "2019-12-21 03:05:33,676 - INFO - Step time: 0.529412031173706 seconds\n",
      "2019-12-21 03:05:34,514 - INFO - Saved checkpoint: PATH_TO_WHERE_TO_STORE_CHECKPOINTS_AND_LOGS/checkpoints/trainer-STEP-89600.pt\n",
      "2019-12-21 03:06:40,689 - INFO - Doing Evaluation ..............................\n",
      "2019-12-21 03:23:12,675 - INFO - Accuracy for task punct: 0.9876787113756859\n",
      "2019-12-21 03:23:12,676 - INFO - Sampled preds: [0 0 0 0 0 2 0 0 0 0 0 0 0 0 0 0 2 0 0 0]\n",
      "2019-12-21 03:23:12,676 - INFO - Sampled labels: [0 0 0 0 0 2 0 0 0 0 0 0 0 0 0 0 2 0 0 0]\n",
      "2019-12-21 03:23:14,524 - INFO -               precision    recall  f1-score   support\n",
      "\n",
      "           O       1.00      0.99      0.99   1544420\n",
      "           ,       0.46      0.98      0.62     17627\n",
      "           .       1.00      1.00      1.00    221292\n",
      "           ?       0.98      0.99      0.99     19638\n",
      "\n",
      "    accuracy                           0.99   1802977\n",
      "   macro avg       0.86      0.99      0.90   1802977\n",
      "weighted avg       0.99      0.99      0.99   1802977\n",
      "\n",
      "2019-12-21 03:23:21,492 - INFO - Accuracy for task capit: 0.9987032557819651\n",
      "2019-12-21 03:23:21,493 - INFO - Sampled preds: [1 0 0 1 0 0 0 0 0 1 1 0 0 0 0 0 0 0 0 1]\n",
      "2019-12-21 03:23:21,494 - INFO - Sampled labels: [0 0 0 1 0 0 0 0 0 1 1 0 0 0 0 0 0 0 0 1]\n",
      "2019-12-21 03:23:23,858 - INFO -               precision    recall  f1-score   support\n",
      "\n",
      "           O       1.00      1.00      1.00   1444603\n",
      "           U       1.00      1.00      1.00    358374\n",
      "\n",
      "    accuracy                           1.00   1802977\n",
      "   macro avg       1.00      1.00      1.00   1802977\n",
      "weighted avg       1.00      1.00      1.00   1802977\n",
      "\n",
      "2019-12-21 03:23:23,859 - INFO - Evaluation time: 1003.1688733100891 seconds\n",
      "2019-12-21 03:24:03,847 - INFO - Step: 89800\n"
     ]
    },
    {
     "name": "stdout",
     "output_type": "stream",
     "text": [
      "Loss: 0.060\n"
     ]
    },
    {
     "name": "stderr",
     "output_type": "stream",
     "text": [
      "2019-12-21 03:24:03,849 - INFO - Step time: 0.5293219089508057 seconds\n",
      "2019-12-21 03:24:04,671 - INFO - Saved checkpoint: PATH_TO_WHERE_TO_STORE_CHECKPOINTS_AND_LOGS/checkpoints/trainer-STEP-89800.pt\n",
      "2019-12-21 03:25:51,391 - INFO - Step: 90000\n"
     ]
    },
    {
     "name": "stdout",
     "output_type": "stream",
     "text": [
      "Loss: 0.001\n"
     ]
    },
    {
     "name": "stderr",
     "output_type": "stream",
     "text": [
      "2019-12-21 03:25:51,392 - INFO - Step time: 0.5321128368377686 seconds\n",
      "2019-12-21 03:25:52,236 - INFO - Saved checkpoint: PATH_TO_WHERE_TO_STORE_CHECKPOINTS_AND_LOGS/checkpoints/trainer-STEP-90000.pt\n",
      "2019-12-21 03:27:39,043 - INFO - Step: 90200\n"
     ]
    },
    {
     "name": "stdout",
     "output_type": "stream",
     "text": [
      "Loss: 0.000\n"
     ]
    },
    {
     "name": "stderr",
     "output_type": "stream",
     "text": [
      "2019-12-21 03:27:39,045 - INFO - Step time: 0.529897928237915 seconds\n",
      "2019-12-21 03:27:39,943 - INFO - Saved checkpoint: PATH_TO_WHERE_TO_STORE_CHECKPOINTS_AND_LOGS/checkpoints/trainer-STEP-90200.pt\n",
      "2019-12-21 03:29:26,725 - INFO - Step: 90400\n"
     ]
    },
    {
     "name": "stdout",
     "output_type": "stream",
     "text": [
      "Loss: 0.002\n"
     ]
    },
    {
     "name": "stderr",
     "output_type": "stream",
     "text": [
      "2019-12-21 03:29:26,726 - INFO - Step time: 0.532052755355835 seconds\n",
      "2019-12-21 03:29:27,586 - INFO - Saved checkpoint: PATH_TO_WHERE_TO_STORE_CHECKPOINTS_AND_LOGS/checkpoints/trainer-STEP-90400.pt\n",
      "2019-12-21 03:31:14,365 - INFO - Step: 90600\n"
     ]
    },
    {
     "name": "stdout",
     "output_type": "stream",
     "text": [
      "Loss: 0.005\n"
     ]
    },
    {
     "name": "stderr",
     "output_type": "stream",
     "text": [
      "2019-12-21 03:31:14,367 - INFO - Step time: 0.5324990749359131 seconds\n",
      "2019-12-21 03:31:15,220 - INFO - Saved checkpoint: PATH_TO_WHERE_TO_STORE_CHECKPOINTS_AND_LOGS/checkpoints/trainer-STEP-90600.pt\n",
      "2019-12-21 03:33:02,028 - INFO - Step: 90800\n"
     ]
    },
    {
     "name": "stdout",
     "output_type": "stream",
     "text": [
      "Loss: 0.001\n"
     ]
    },
    {
     "name": "stderr",
     "output_type": "stream",
     "text": [
      "2019-12-21 03:33:02,029 - INFO - Step time: 0.5315470695495605 seconds\n",
      "2019-12-21 03:33:02,864 - INFO - Saved checkpoint: PATH_TO_WHERE_TO_STORE_CHECKPOINTS_AND_LOGS/checkpoints/trainer-STEP-90800.pt\n",
      "2019-12-21 03:34:49,629 - INFO - Step: 91000\n"
     ]
    },
    {
     "name": "stdout",
     "output_type": "stream",
     "text": [
      "Loss: 0.010\n"
     ]
    },
    {
     "name": "stderr",
     "output_type": "stream",
     "text": [
      "2019-12-21 03:34:49,631 - INFO - Step time: 0.5317838191986084 seconds\n",
      "2019-12-21 03:34:50,486 - INFO - Saved checkpoint: PATH_TO_WHERE_TO_STORE_CHECKPOINTS_AND_LOGS/checkpoints/trainer-STEP-91000.pt\n",
      "2019-12-21 03:36:37,196 - INFO - Step: 91200\n"
     ]
    },
    {
     "name": "stdout",
     "output_type": "stream",
     "text": [
      "Loss: 0.001\n"
     ]
    },
    {
     "name": "stderr",
     "output_type": "stream",
     "text": [
      "2019-12-21 03:36:37,198 - INFO - Step time: 0.5320727825164795 seconds\n",
      "2019-12-21 03:36:38,055 - INFO - Saved checkpoint: PATH_TO_WHERE_TO_STORE_CHECKPOINTS_AND_LOGS/checkpoints/trainer-STEP-91200.pt\n",
      "2019-12-21 03:38:24,756 - INFO - Step: 91400\n"
     ]
    },
    {
     "name": "stdout",
     "output_type": "stream",
     "text": [
      "Loss: 0.001\n"
     ]
    },
    {
     "name": "stderr",
     "output_type": "stream",
     "text": [
      "2019-12-21 03:38:24,758 - INFO - Step time: 0.5322163105010986 seconds\n",
      "2019-12-21 03:38:25,598 - INFO - Saved checkpoint: PATH_TO_WHERE_TO_STORE_CHECKPOINTS_AND_LOGS/checkpoints/trainer-STEP-91400.pt\n",
      "2019-12-21 03:40:10,388 - INFO - Step: 91600\n"
     ]
    },
    {
     "name": "stdout",
     "output_type": "stream",
     "text": [
      "Loss: 0.014\n"
     ]
    },
    {
     "name": "stderr",
     "output_type": "stream",
     "text": [
      "2019-12-21 03:40:10,394 - INFO - Step time: 0.5216100215911865 seconds\n",
      "2019-12-21 03:40:11,230 - INFO - Saved checkpoint: PATH_TO_WHERE_TO_STORE_CHECKPOINTS_AND_LOGS/checkpoints/trainer-STEP-91600.pt\n",
      "2019-12-21 03:41:56,931 - INFO - Step: 91800\n"
     ]
    },
    {
     "name": "stdout",
     "output_type": "stream",
     "text": [
      "Loss: 0.006\n"
     ]
    },
    {
     "name": "stderr",
     "output_type": "stream",
     "text": [
      "2019-12-21 03:41:56,933 - INFO - Step time: 0.5310690402984619 seconds\n",
      "2019-12-21 03:41:57,772 - INFO - Saved checkpoint: PATH_TO_WHERE_TO_STORE_CHECKPOINTS_AND_LOGS/checkpoints/trainer-STEP-91800.pt\n",
      "2019-12-21 03:43:44,483 - INFO - Step: 92000\n"
     ]
    },
    {
     "name": "stdout",
     "output_type": "stream",
     "text": [
      "Loss: 0.003\n"
     ]
    },
    {
     "name": "stderr",
     "output_type": "stream",
     "text": [
      "2019-12-21 03:43:44,486 - INFO - Step time: 0.532188892364502 seconds\n",
      "2019-12-21 03:43:45,335 - INFO - Saved checkpoint: PATH_TO_WHERE_TO_STORE_CHECKPOINTS_AND_LOGS/checkpoints/trainer-STEP-92000.pt\n",
      "2019-12-21 03:45:32,163 - INFO - Step: 92200\n"
     ]
    },
    {
     "name": "stdout",
     "output_type": "stream",
     "text": [
      "Loss: 0.002\n"
     ]
    },
    {
     "name": "stderr",
     "output_type": "stream",
     "text": [
      "2019-12-21 03:45:32,164 - INFO - Step time: 0.5317177772521973 seconds\n",
      "2019-12-21 03:45:33,024 - INFO - Saved checkpoint: PATH_TO_WHERE_TO_STORE_CHECKPOINTS_AND_LOGS/checkpoints/trainer-STEP-92200.pt\n",
      "2019-12-21 03:47:19,791 - INFO - Step: 92400\n"
     ]
    },
    {
     "name": "stdout",
     "output_type": "stream",
     "text": [
      "Loss: 0.000\n"
     ]
    },
    {
     "name": "stderr",
     "output_type": "stream",
     "text": [
      "2019-12-21 03:47:19,793 - INFO - Step time: 0.5309567451477051 seconds\n",
      "2019-12-21 03:47:20,644 - INFO - Saved checkpoint: PATH_TO_WHERE_TO_STORE_CHECKPOINTS_AND_LOGS/checkpoints/trainer-STEP-92400.pt\n",
      "2019-12-21 03:49:06,654 - INFO - Step: 92600\n"
     ]
    },
    {
     "name": "stdout",
     "output_type": "stream",
     "text": [
      "Loss: 0.001\n"
     ]
    },
    {
     "name": "stderr",
     "output_type": "stream",
     "text": [
      "2019-12-21 03:49:06,659 - INFO - Step time: 0.521430492401123 seconds\n",
      "2019-12-21 03:49:07,497 - INFO - Saved checkpoint: PATH_TO_WHERE_TO_STORE_CHECKPOINTS_AND_LOGS/checkpoints/trainer-STEP-92600.pt\n",
      "2019-12-21 03:50:51,837 - INFO - Step: 92800\n"
     ]
    },
    {
     "name": "stdout",
     "output_type": "stream",
     "text": [
      "Loss: 0.005\n"
     ]
    },
    {
     "name": "stderr",
     "output_type": "stream",
     "text": [
      "2019-12-21 03:50:51,839 - INFO - Step time: 0.531930685043335 seconds\n",
      "2019-12-21 03:50:52,693 - INFO - Saved checkpoint: PATH_TO_WHERE_TO_STORE_CHECKPOINTS_AND_LOGS/checkpoints/trainer-STEP-92800.pt\n",
      "2019-12-21 03:52:39,526 - INFO - Step: 93000\n"
     ]
    },
    {
     "name": "stdout",
     "output_type": "stream",
     "text": [
      "Loss: 0.014\n"
     ]
    },
    {
     "name": "stderr",
     "output_type": "stream",
     "text": [
      "2019-12-21 03:52:39,528 - INFO - Step time: 0.5323512554168701 seconds\n",
      "2019-12-21 03:52:40,373 - INFO - Saved checkpoint: PATH_TO_WHERE_TO_STORE_CHECKPOINTS_AND_LOGS/checkpoints/trainer-STEP-93000.pt\n",
      "2019-12-21 03:54:27,079 - INFO - Step: 93200\n"
     ]
    },
    {
     "name": "stdout",
     "output_type": "stream",
     "text": [
      "Loss: 0.001\n"
     ]
    },
    {
     "name": "stderr",
     "output_type": "stream",
     "text": [
      "2019-12-21 03:54:27,081 - INFO - Step time: 0.5304405689239502 seconds\n",
      "2019-12-21 03:54:27,937 - INFO - Saved checkpoint: PATH_TO_WHERE_TO_STORE_CHECKPOINTS_AND_LOGS/checkpoints/trainer-STEP-93200.pt\n",
      "2019-12-21 03:56:14,673 - INFO - Step: 93400\n"
     ]
    },
    {
     "name": "stdout",
     "output_type": "stream",
     "text": [
      "Loss: 0.000\n"
     ]
    },
    {
     "name": "stderr",
     "output_type": "stream",
     "text": [
      "2019-12-21 03:56:14,675 - INFO - Step time: 0.5323398113250732 seconds\n",
      "2019-12-21 03:56:15,520 - INFO - Saved checkpoint: PATH_TO_WHERE_TO_STORE_CHECKPOINTS_AND_LOGS/checkpoints/trainer-STEP-93400.pt\n",
      "2019-12-21 03:58:02,262 - INFO - Step: 93600\n"
     ]
    },
    {
     "name": "stdout",
     "output_type": "stream",
     "text": [
      "Loss: 0.003\n"
     ]
    },
    {
     "name": "stderr",
     "output_type": "stream",
     "text": [
      "2019-12-21 03:58:02,264 - INFO - Step time: 0.5311267375946045 seconds\n",
      "2019-12-21 03:58:03,104 - INFO - Saved checkpoint: PATH_TO_WHERE_TO_STORE_CHECKPOINTS_AND_LOGS/checkpoints/trainer-STEP-93600.pt\n",
      "2019-12-21 03:59:49,855 - INFO - Step: 93800\n"
     ]
    },
    {
     "name": "stdout",
     "output_type": "stream",
     "text": [
      "Loss: 0.000\n"
     ]
    },
    {
     "name": "stderr",
     "output_type": "stream",
     "text": [
      "2019-12-21 03:59:49,857 - INFO - Step time: 0.5319344997406006 seconds\n",
      "2019-12-21 03:59:50,695 - INFO - Saved checkpoint: PATH_TO_WHERE_TO_STORE_CHECKPOINTS_AND_LOGS/checkpoints/trainer-STEP-93800.pt\n",
      "2019-12-21 04:01:37,509 - INFO - Step: 94000\n"
     ]
    },
    {
     "name": "stdout",
     "output_type": "stream",
     "text": [
      "Loss: 0.003\n"
     ]
    },
    {
     "name": "stderr",
     "output_type": "stream",
     "text": [
      "2019-12-21 04:01:37,511 - INFO - Step time: 0.531790018081665 seconds\n",
      "2019-12-21 04:01:38,378 - INFO - Saved checkpoint: PATH_TO_WHERE_TO_STORE_CHECKPOINTS_AND_LOGS/checkpoints/trainer-STEP-94000.pt\n",
      "2019-12-21 04:03:25,162 - INFO - Step: 94200\n"
     ]
    },
    {
     "name": "stdout",
     "output_type": "stream",
     "text": [
      "Loss: 0.003\n"
     ]
    },
    {
     "name": "stderr",
     "output_type": "stream",
     "text": [
      "2019-12-21 04:03:25,164 - INFO - Step time: 0.5322637557983398 seconds\n",
      "2019-12-21 04:03:26,037 - INFO - Saved checkpoint: PATH_TO_WHERE_TO_STORE_CHECKPOINTS_AND_LOGS/checkpoints/trainer-STEP-94200.pt\n",
      "2019-12-21 04:05:12,788 - INFO - Step: 94400\n"
     ]
    },
    {
     "name": "stdout",
     "output_type": "stream",
     "text": [
      "Loss: 0.002\n"
     ]
    },
    {
     "name": "stderr",
     "output_type": "stream",
     "text": [
      "2019-12-21 04:05:12,790 - INFO - Step time: 0.5297365188598633 seconds\n",
      "2019-12-21 04:05:13,641 - INFO - Saved checkpoint: PATH_TO_WHERE_TO_STORE_CHECKPOINTS_AND_LOGS/checkpoints/trainer-STEP-94400.pt\n",
      "2019-12-21 04:07:00,443 - INFO - Step: 94600\n"
     ]
    },
    {
     "name": "stdout",
     "output_type": "stream",
     "text": [
      "Loss: 0.001\n"
     ]
    },
    {
     "name": "stderr",
     "output_type": "stream",
     "text": [
      "2019-12-21 04:07:00,445 - INFO - Step time: 0.5326352119445801 seconds\n",
      "2019-12-21 04:07:01,287 - INFO - Saved checkpoint: PATH_TO_WHERE_TO_STORE_CHECKPOINTS_AND_LOGS/checkpoints/trainer-STEP-94600.pt\n",
      "2019-12-21 04:08:48,078 - INFO - Step: 94800\n"
     ]
    },
    {
     "name": "stdout",
     "output_type": "stream",
     "text": [
      "Loss: 0.000\n"
     ]
    },
    {
     "name": "stderr",
     "output_type": "stream",
     "text": [
      "2019-12-21 04:08:48,080 - INFO - Step time: 0.5310554504394531 seconds\n",
      "2019-12-21 04:08:48,918 - INFO - Saved checkpoint: PATH_TO_WHERE_TO_STORE_CHECKPOINTS_AND_LOGS/checkpoints/trainer-STEP-94800.pt\n",
      "2019-12-21 04:10:35,726 - INFO - Step: 95000\n"
     ]
    },
    {
     "name": "stdout",
     "output_type": "stream",
     "text": [
      "Loss: 0.062\n"
     ]
    },
    {
     "name": "stderr",
     "output_type": "stream",
     "text": [
      "2019-12-21 04:10:35,728 - INFO - Step time: 0.5332813262939453 seconds\n",
      "2019-12-21 04:10:36,595 - INFO - Saved checkpoint: PATH_TO_WHERE_TO_STORE_CHECKPOINTS_AND_LOGS/checkpoints/trainer-STEP-95000.pt\n",
      "2019-12-21 04:12:23,296 - INFO - Step: 95200\n"
     ]
    },
    {
     "name": "stdout",
     "output_type": "stream",
     "text": [
      "Loss: 0.001\n"
     ]
    },
    {
     "name": "stderr",
     "output_type": "stream",
     "text": [
      "2019-12-21 04:12:23,297 - INFO - Step time: 0.5307090282440186 seconds\n",
      "2019-12-21 04:12:24,154 - INFO - Saved checkpoint: PATH_TO_WHERE_TO_STORE_CHECKPOINTS_AND_LOGS/checkpoints/trainer-STEP-95200.pt\n",
      "2019-12-21 04:14:10,845 - INFO - Step: 95400\n"
     ]
    },
    {
     "name": "stdout",
     "output_type": "stream",
     "text": [
      "Loss: 0.000\n"
     ]
    },
    {
     "name": "stderr",
     "output_type": "stream",
     "text": [
      "2019-12-21 04:14:10,847 - INFO - Step time: 0.5325617790222168 seconds\n",
      "2019-12-21 04:14:11,684 - INFO - Saved checkpoint: PATH_TO_WHERE_TO_STORE_CHECKPOINTS_AND_LOGS/checkpoints/trainer-STEP-95400.pt\n",
      "2019-12-21 04:15:55,539 - INFO - Step: 95600\n"
     ]
    },
    {
     "name": "stdout",
     "output_type": "stream",
     "text": [
      "Loss: 0.002\n"
     ]
    },
    {
     "name": "stderr",
     "output_type": "stream",
     "text": [
      "2019-12-21 04:15:55,545 - INFO - Step time: 0.5219733715057373 seconds\n",
      "2019-12-21 04:15:56,377 - INFO - Saved checkpoint: PATH_TO_WHERE_TO_STORE_CHECKPOINTS_AND_LOGS/checkpoints/trainer-STEP-95600.pt\n",
      "2019-12-21 04:17:43,239 - INFO - Step: 95800\n"
     ]
    },
    {
     "name": "stdout",
     "output_type": "stream",
     "text": [
      "Loss: 0.001\n"
     ]
    },
    {
     "name": "stderr",
     "output_type": "stream",
     "text": [
      "2019-12-21 04:17:43,241 - INFO - Step time: 0.5318031311035156 seconds\n",
      "2019-12-21 04:17:44,097 - INFO - Saved checkpoint: PATH_TO_WHERE_TO_STORE_CHECKPOINTS_AND_LOGS/checkpoints/trainer-STEP-95800.pt\n",
      "2019-12-21 04:19:30,910 - INFO - Step: 96000\n"
     ]
    },
    {
     "name": "stdout",
     "output_type": "stream",
     "text": [
      "Loss: 0.001\n"
     ]
    },
    {
     "name": "stderr",
     "output_type": "stream",
     "text": [
      "2019-12-21 04:19:30,912 - INFO - Step time: 0.5322279930114746 seconds\n",
      "2019-12-21 04:19:31,761 - INFO - Saved checkpoint: PATH_TO_WHERE_TO_STORE_CHECKPOINTS_AND_LOGS/checkpoints/trainer-STEP-96000.pt\n",
      "2019-12-21 04:21:18,572 - INFO - Step: 96200\n"
     ]
    },
    {
     "name": "stdout",
     "output_type": "stream",
     "text": [
      "Loss: 0.000\n"
     ]
    },
    {
     "name": "stderr",
     "output_type": "stream",
     "text": [
      "2019-12-21 04:21:18,574 - INFO - Step time: 0.5309810638427734 seconds\n",
      "2019-12-21 04:21:19,441 - INFO - Saved checkpoint: PATH_TO_WHERE_TO_STORE_CHECKPOINTS_AND_LOGS/checkpoints/trainer-STEP-96200.pt\n",
      "2019-12-21 04:23:06,218 - INFO - Step: 96400\n"
     ]
    },
    {
     "name": "stdout",
     "output_type": "stream",
     "text": [
      "Loss: 0.001\n"
     ]
    },
    {
     "name": "stderr",
     "output_type": "stream",
     "text": [
      "2019-12-21 04:23:06,220 - INFO - Step time: 0.5340087413787842 seconds\n",
      "2019-12-21 04:23:07,062 - INFO - Saved checkpoint: PATH_TO_WHERE_TO_STORE_CHECKPOINTS_AND_LOGS/checkpoints/trainer-STEP-96400.pt\n",
      "2019-12-21 04:24:53,864 - INFO - Step: 96600\n"
     ]
    },
    {
     "name": "stdout",
     "output_type": "stream",
     "text": [
      "Loss: 0.001\n"
     ]
    },
    {
     "name": "stderr",
     "output_type": "stream",
     "text": [
      "2019-12-21 04:24:53,865 - INFO - Step time: 0.5314655303955078 seconds\n",
      "2019-12-21 04:24:54,701 - INFO - Saved checkpoint: PATH_TO_WHERE_TO_STORE_CHECKPOINTS_AND_LOGS/checkpoints/trainer-STEP-96600.pt\n",
      "2019-12-21 04:26:41,475 - INFO - Step: 96800\n"
     ]
    },
    {
     "name": "stdout",
     "output_type": "stream",
     "text": [
      "Loss: 0.005\n"
     ]
    },
    {
     "name": "stderr",
     "output_type": "stream",
     "text": [
      "2019-12-21 04:26:41,477 - INFO - Step time: 0.5329720973968506 seconds\n",
      "2019-12-21 04:26:42,311 - INFO - Saved checkpoint: PATH_TO_WHERE_TO_STORE_CHECKPOINTS_AND_LOGS/checkpoints/trainer-STEP-96800.pt\n",
      "2019-12-21 04:28:29,140 - INFO - Step: 97000\n"
     ]
    },
    {
     "name": "stdout",
     "output_type": "stream",
     "text": [
      "Loss: 0.001\n"
     ]
    },
    {
     "name": "stderr",
     "output_type": "stream",
     "text": [
      "2019-12-21 04:28:29,142 - INFO - Step time: 0.5317296981811523 seconds\n",
      "2019-12-21 04:28:30,002 - INFO - Saved checkpoint: PATH_TO_WHERE_TO_STORE_CHECKPOINTS_AND_LOGS/checkpoints/trainer-STEP-97000.pt\n",
      "2019-12-21 04:30:16,790 - INFO - Step: 97200\n"
     ]
    },
    {
     "name": "stdout",
     "output_type": "stream",
     "text": [
      "Loss: 0.000\n"
     ]
    },
    {
     "name": "stderr",
     "output_type": "stream",
     "text": [
      "2019-12-21 04:30:16,792 - INFO - Step time: 0.5325493812561035 seconds\n",
      "2019-12-21 04:30:17,656 - INFO - Saved checkpoint: PATH_TO_WHERE_TO_STORE_CHECKPOINTS_AND_LOGS/checkpoints/trainer-STEP-97200.pt\n",
      "2019-12-21 04:32:04,474 - INFO - Step: 97400\n"
     ]
    },
    {
     "name": "stdout",
     "output_type": "stream",
     "text": [
      "Loss: 0.003\n"
     ]
    },
    {
     "name": "stderr",
     "output_type": "stream",
     "text": [
      "2019-12-21 04:32:04,476 - INFO - Step time: 0.5310630798339844 seconds\n",
      "2019-12-21 04:32:05,336 - INFO - Saved checkpoint: PATH_TO_WHERE_TO_STORE_CHECKPOINTS_AND_LOGS/checkpoints/trainer-STEP-97400.pt\n",
      "2019-12-21 04:33:52,151 - INFO - Step: 97600\n"
     ]
    },
    {
     "name": "stdout",
     "output_type": "stream",
     "text": [
      "Loss: 0.000\n"
     ]
    },
    {
     "name": "stderr",
     "output_type": "stream",
     "text": [
      "2019-12-21 04:33:52,153 - INFO - Step time: 0.5313611030578613 seconds\n",
      "2019-12-21 04:33:53,008 - INFO - Saved checkpoint: PATH_TO_WHERE_TO_STORE_CHECKPOINTS_AND_LOGS/checkpoints/trainer-STEP-97600.pt\n",
      "2019-12-21 04:35:39,876 - INFO - Step: 97800\n"
     ]
    },
    {
     "name": "stdout",
     "output_type": "stream",
     "text": [
      "Loss: 0.001\n"
     ]
    },
    {
     "name": "stderr",
     "output_type": "stream",
     "text": [
      "2019-12-21 04:35:39,878 - INFO - Step time: 0.5306718349456787 seconds\n",
      "2019-12-21 04:35:40,732 - INFO - Saved checkpoint: PATH_TO_WHERE_TO_STORE_CHECKPOINTS_AND_LOGS/checkpoints/trainer-STEP-97800.pt\n",
      "2019-12-21 04:37:27,538 - INFO - Step: 98000\n"
     ]
    },
    {
     "name": "stdout",
     "output_type": "stream",
     "text": [
      "Loss: 0.001\n"
     ]
    },
    {
     "name": "stderr",
     "output_type": "stream",
     "text": [
      "2019-12-21 04:37:27,540 - INFO - Step time: 0.532233476638794 seconds\n",
      "2019-12-21 04:37:28,391 - INFO - Saved checkpoint: PATH_TO_WHERE_TO_STORE_CHECKPOINTS_AND_LOGS/checkpoints/trainer-STEP-98000.pt\n",
      "2019-12-21 04:39:15,175 - INFO - Step: 98200\n"
     ]
    },
    {
     "name": "stdout",
     "output_type": "stream",
     "text": [
      "Loss: 0.004\n"
     ]
    },
    {
     "name": "stderr",
     "output_type": "stream",
     "text": [
      "2019-12-21 04:39:15,177 - INFO - Step time: 0.5324580669403076 seconds\n",
      "2019-12-21 04:39:16,048 - INFO - Saved checkpoint: PATH_TO_WHERE_TO_STORE_CHECKPOINTS_AND_LOGS/checkpoints/trainer-STEP-98200.pt\n",
      "2019-12-21 04:41:02,826 - INFO - Step: 98400\n"
     ]
    },
    {
     "name": "stdout",
     "output_type": "stream",
     "text": [
      "Loss: 0.004\n"
     ]
    },
    {
     "name": "stderr",
     "output_type": "stream",
     "text": [
      "2019-12-21 04:41:02,828 - INFO - Step time: 0.5303769111633301 seconds\n",
      "2019-12-21 04:41:03,675 - INFO - Saved checkpoint: PATH_TO_WHERE_TO_STORE_CHECKPOINTS_AND_LOGS/checkpoints/trainer-STEP-98400.pt\n",
      "2019-12-21 04:42:50,479 - INFO - Step: 98600\n"
     ]
    },
    {
     "name": "stdout",
     "output_type": "stream",
     "text": [
      "Loss: 0.002\n"
     ]
    },
    {
     "name": "stderr",
     "output_type": "stream",
     "text": [
      "2019-12-21 04:42:50,481 - INFO - Step time: 0.5320844650268555 seconds\n",
      "2019-12-21 04:42:51,315 - INFO - Saved checkpoint: PATH_TO_WHERE_TO_STORE_CHECKPOINTS_AND_LOGS/checkpoints/trainer-STEP-98600.pt\n",
      "2019-12-21 04:44:38,068 - INFO - Step: 98800\n"
     ]
    },
    {
     "name": "stdout",
     "output_type": "stream",
     "text": [
      "Loss: 0.006\n"
     ]
    },
    {
     "name": "stderr",
     "output_type": "stream",
     "text": [
      "2019-12-21 04:44:38,070 - INFO - Step time: 0.5324764251708984 seconds\n",
      "2019-12-21 04:44:38,914 - INFO - Saved checkpoint: PATH_TO_WHERE_TO_STORE_CHECKPOINTS_AND_LOGS/checkpoints/trainer-STEP-98800.pt\n",
      "2019-12-21 04:46:25,708 - INFO - Step: 99000\n"
     ]
    },
    {
     "name": "stdout",
     "output_type": "stream",
     "text": [
      "Loss: 0.026\n"
     ]
    },
    {
     "name": "stderr",
     "output_type": "stream",
     "text": [
      "2019-12-21 04:46:25,710 - INFO - Step time: 0.5319626331329346 seconds\n",
      "2019-12-21 04:46:26,559 - INFO - Saved checkpoint: PATH_TO_WHERE_TO_STORE_CHECKPOINTS_AND_LOGS/checkpoints/trainer-STEP-99000.pt\n",
      "2019-12-21 04:48:13,339 - INFO - Step: 99200\n"
     ]
    },
    {
     "name": "stdout",
     "output_type": "stream",
     "text": [
      "Loss: 0.017\n"
     ]
    },
    {
     "name": "stderr",
     "output_type": "stream",
     "text": [
      "2019-12-21 04:48:13,341 - INFO - Step time: 0.5321416854858398 seconds\n",
      "2019-12-21 04:48:14,199 - INFO - Saved checkpoint: PATH_TO_WHERE_TO_STORE_CHECKPOINTS_AND_LOGS/checkpoints/trainer-STEP-99200.pt\n",
      "2019-12-21 04:50:01,003 - INFO - Step: 99400\n"
     ]
    },
    {
     "name": "stdout",
     "output_type": "stream",
     "text": [
      "Loss: 0.012\n"
     ]
    },
    {
     "name": "stderr",
     "output_type": "stream",
     "text": [
      "2019-12-21 04:50:01,005 - INFO - Step time: 0.5319478511810303 seconds\n",
      "2019-12-21 04:50:01,843 - INFO - Saved checkpoint: PATH_TO_WHERE_TO_STORE_CHECKPOINTS_AND_LOGS/checkpoints/trainer-STEP-99400.pt\n",
      "2019-12-21 04:51:48,382 - INFO - Step: 99600\n"
     ]
    },
    {
     "name": "stdout",
     "output_type": "stream",
     "text": [
      "Loss: 0.002\n"
     ]
    },
    {
     "name": "stderr",
     "output_type": "stream",
     "text": [
      "2019-12-21 04:51:48,384 - INFO - Step time: 0.5311088562011719 seconds\n",
      "2019-12-21 04:51:49,222 - INFO - Saved checkpoint: PATH_TO_WHERE_TO_STORE_CHECKPOINTS_AND_LOGS/checkpoints/trainer-STEP-99600.pt\n",
      "2019-12-21 04:53:35,968 - INFO - Step: 99800\n"
     ]
    },
    {
     "name": "stdout",
     "output_type": "stream",
     "text": [
      "Loss: 0.005\n"
     ]
    },
    {
     "name": "stderr",
     "output_type": "stream",
     "text": [
      "2019-12-21 04:53:35,969 - INFO - Step time: 0.5301709175109863 seconds\n",
      "2019-12-21 04:53:36,804 - INFO - Saved checkpoint: PATH_TO_WHERE_TO_STORE_CHECKPOINTS_AND_LOGS/checkpoints/trainer-STEP-99800.pt\n",
      "2019-12-21 04:55:09,774 - INFO - Finished epoch 4 in 9041.044075727463\n",
      "2019-12-21 04:55:09,787 - INFO - Done in 45185.74810361862\n",
      "2019-12-21 04:55:09,791 - INFO - Final Evaluation ..............................\n",
      "2019-12-21 05:11:52,504 - INFO - Accuracy for task punct: 0.9876787113756859\n",
      "2019-12-21 05:11:52,506 - INFO - Sampled preds: [2 0 0 0 0 1 0 0 0 0 2 0 1 0 0 0 0 2 0 0]\n",
      "2019-12-21 05:11:52,506 - INFO - Sampled labels: [2 0 0 0 0 0 0 0 0 0 2 0 0 0 0 0 0 2 0 0]\n",
      "2019-12-21 05:11:54,357 - INFO -               precision    recall  f1-score   support\n",
      "\n",
      "           O       1.00      0.99      0.99   1544420\n",
      "           ,       0.46      0.98      0.62     17627\n",
      "           .       1.00      1.00      1.00    221292\n",
      "           ?       0.98      0.99      0.99     19638\n",
      "\n",
      "    accuracy                           0.99   1802977\n",
      "   macro avg       0.86      0.99      0.90   1802977\n",
      "weighted avg       0.99      0.99      0.99   1802977\n",
      "\n",
      "2019-12-21 05:12:01,583 - INFO - Accuracy for task capit: 0.9987032557819651\n",
      "2019-12-21 05:12:01,584 - INFO - Sampled preds: [1 0 0 0 0 0 0 0 0 1 0 0 0 0 0 0 0 0 1 0]\n",
      "2019-12-21 05:12:01,585 - INFO - Sampled labels: [1 0 0 0 0 0 0 0 0 1 0 0 0 0 0 0 0 0 1 0]\n",
      "2019-12-21 05:12:03,958 - INFO -               precision    recall  f1-score   support\n",
      "\n",
      "           O       1.00      1.00      1.00   1444603\n",
      "           U       1.00      1.00      1.00    358374\n",
      "\n",
      "    accuracy                           1.00   1802977\n",
      "   macro avg       1.00      1.00      1.00   1802977\n",
      "weighted avg       1.00      1.00      1.00   1802977\n",
      "\n",
      "2019-12-21 05:12:03,960 - INFO - Evaluation time: 1014.1678080558777 seconds\n",
      "2019-12-21 05:12:04,832 - INFO - Saved checkpoint: PATH_TO_WHERE_TO_STORE_CHECKPOINTS_AND_LOGS/checkpoints/trainer-STEP-99975.pt\n"
     ]
    },
    {
     "name": "stdout",
     "output_type": "stream",
     "text": [
      "46200.79797697067\n"
     ]
    }
   ],
   "source": [
    "lr_policy = WarmupAnnealing(NUM_EPOCHS * steps_per_epoch,\n",
    "                            warmup_ratio=LR_WARMUP_PROPORTION)\n",
    "\n",
    "import time\n",
    "start = time.time()\n",
    "nf.train(tensors_to_optimize=[task_loss],\n",
    "         callbacks=[callback_train, callback_eval, ckpt_callback],\n",
    "         lr_policy=lr_policy,\n",
    "         batches_per_step=BATCHES_PER_STEP,\n",
    "         optimizer=OPTIMIZER,\n",
    "         optimization_params={\"num_epochs\": NUM_EPOCHS,\n",
    "                              \"lr\": LEARNING_RATE})\n",
    "\n",
    "print (time.time() - start)"
   ]
  },
  {
   "cell_type": "markdown",
   "metadata": {},
   "source": [
    "# Inference"
   ]
  },
  {
   "cell_type": "code",
   "execution_count": 10,
   "metadata": {},
   "outputs": [],
   "source": [
    "# Define the list of queiries for inference\n",
    "queries = ['we bought four shirts from the nvidia gear store in santa clara', \n",
    "           'nvidia is a company',\n",
    "           'can i help you',\n",
    "           'how are you',\n",
    "           'okay',\n",
    "           'we bought four shirts one mug and ten thousand titan rtx graphics cards the more you buy the more you save']"
   ]
  },
  {
   "cell_type": "code",
   "execution_count": 11,
   "metadata": {},
   "outputs": [
    {
     "name": "stderr",
     "output_type": "stream",
     "text": [
      "2019-12-21 05:12:04,879 - INFO - Max length: 24\n",
      "2019-12-21 05:12:04,880 - INFO - Min: 3 |                  Max: 24 |                  Mean: 10.333333333333334 |                  Median: 7.0\n",
      "2019-12-21 05:12:04,882 - INFO - 75 percentile: 14.0\n",
      "2019-12-21 05:12:04,883 - INFO - 99 percentile: 23.6\n",
      "2019-12-21 05:12:04,884 - INFO - 0 are longer than 24\n",
      "2019-12-21 05:12:04,885 - INFO - *** Example ***\n",
      "2019-12-21 05:12:04,885 - INFO - i: 0\n",
      "2019-12-21 05:12:04,886 - INFO - subtokens: [CLS] we bought four shirts from the n ##vid ##ia gear store in santa clara [SEP]\n",
      "2019-12-21 05:12:04,887 - INFO - loss_mask: 1 1 1 1 1 1 1 1 1 1 1 1 1 1 1 1 0 0 0 0 0 0 0 0\n",
      "2019-12-21 05:12:04,887 - INFO - input_mask: 1 1 1 1 1 1 1 1 1 1 1 1 1 1 1 1 0 0 0 0 0 0 0 0\n",
      "2019-12-21 05:12:04,888 - INFO - subtokens_mask: 0 1 1 1 1 1 1 1 0 0 1 1 1 1 1 0 0 0 0 0 0 0 0 0\n",
      "2019-12-21 05:12:04,889 - INFO - *** Example ***\n",
      "2019-12-21 05:12:04,889 - INFO - i: 1\n",
      "2019-12-21 05:12:04,890 - INFO - subtokens: [CLS] n ##vid ##ia is a company [SEP]\n",
      "2019-12-21 05:12:04,892 - INFO - loss_mask: 1 1 1 1 1 1 1 1 0 0 0 0 0 0 0 0 0 0 0 0 0 0 0 0\n",
      "2019-12-21 05:12:04,893 - INFO - input_mask: 1 1 1 1 1 1 1 1 0 0 0 0 0 0 0 0 0 0 0 0 0 0 0 0\n",
      "2019-12-21 05:12:04,894 - INFO - subtokens_mask: 0 1 0 0 1 1 1 0 0 0 0 0 0 0 0 0 0 0 0 0 0 0 0 0\n",
      "2019-12-21 05:12:04,895 - INFO - *** Example ***\n",
      "2019-12-21 05:12:04,895 - INFO - i: 2\n",
      "2019-12-21 05:12:04,896 - INFO - subtokens: [CLS] can i help you [SEP]\n",
      "2019-12-21 05:12:04,897 - INFO - loss_mask: 1 1 1 1 1 1 0 0 0 0 0 0 0 0 0 0 0 0 0 0 0 0 0 0\n",
      "2019-12-21 05:12:04,898 - INFO - input_mask: 1 1 1 1 1 1 0 0 0 0 0 0 0 0 0 0 0 0 0 0 0 0 0 0\n",
      "2019-12-21 05:12:04,899 - INFO - subtokens_mask: 0 1 1 1 1 0 0 0 0 0 0 0 0 0 0 0 0 0 0 0 0 0 0 0\n",
      "2019-12-21 05:12:04,899 - INFO - *** Example ***\n",
      "2019-12-21 05:12:04,900 - INFO - i: 3\n",
      "2019-12-21 05:12:04,901 - INFO - subtokens: [CLS] how are you [SEP]\n",
      "2019-12-21 05:12:04,901 - INFO - loss_mask: 1 1 1 1 1 0 0 0 0 0 0 0 0 0 0 0 0 0 0 0 0 0 0 0\n",
      "2019-12-21 05:12:04,902 - INFO - input_mask: 1 1 1 1 1 0 0 0 0 0 0 0 0 0 0 0 0 0 0 0 0 0 0 0\n",
      "2019-12-21 05:12:04,902 - INFO - subtokens_mask: 0 1 1 1 0 0 0 0 0 0 0 0 0 0 0 0 0 0 0 0 0 0 0 0\n",
      "2019-12-21 05:12:04,903 - INFO - *** Example ***\n",
      "2019-12-21 05:12:04,904 - INFO - i: 4\n",
      "2019-12-21 05:12:04,904 - INFO - subtokens: [CLS] okay [SEP]\n",
      "2019-12-21 05:12:04,906 - INFO - loss_mask: 1 1 1 0 0 0 0 0 0 0 0 0 0 0 0 0 0 0 0 0 0 0 0 0\n",
      "2019-12-21 05:12:04,907 - INFO - input_mask: 1 1 1 0 0 0 0 0 0 0 0 0 0 0 0 0 0 0 0 0 0 0 0 0\n",
      "2019-12-21 05:12:04,907 - INFO - subtokens_mask: 0 1 0 0 0 0 0 0 0 0 0 0 0 0 0 0 0 0 0 0 0 0 0 0\n",
      "2019-12-21 05:12:04,910 - INFO - Restoring BERT from PATH_TO_WHERE_TO_STORE_CHECKPOINTS_AND_LOGS/checkpoints/BERT-STEP-99975.pt\n",
      "2019-12-21 05:12:05,069 - INFO - Restoring CapitalizationTokenClassifier from PATH_TO_WHERE_TO_STORE_CHECKPOINTS_AND_LOGS/checkpoints/CapitalizationTokenClassifier-STEP-99975.pt\n",
      "2019-12-21 05:12:05,072 - INFO - Restoring PunctuationTokenClassifier from PATH_TO_WHERE_TO_STORE_CHECKPOINTS_AND_LOGS/checkpoints/PunctuationTokenClassifier-STEP-99975.pt\n",
      "2019-12-21 05:12:08,344 - INFO - Evaluating batch 0 out of 6\n",
      "2019-12-21 05:12:08,367 - INFO - Evaluating batch 1 out of 6\n",
      "2019-12-21 05:12:08,382 - INFO - Evaluating batch 2 out of 6\n",
      "2019-12-21 05:12:08,403 - INFO - Evaluating batch 3 out of 6\n",
      "2019-12-21 05:12:08,415 - INFO - Evaluating batch 4 out of 6\n",
      "2019-12-21 05:12:08,428 - INFO - Evaluating batch 5 out of 6\n"
     ]
    }
   ],
   "source": [
    "infer_data_layer = nemo_nlp.BertTokenClassificationInferDataLayer(queries=queries,\n",
    "                                                                  tokenizer=tokenizer,\n",
    "                                                                  max_seq_length=MAX_SEQ_LENGTH,\n",
    "                                                                  batch_size=1)\n",
    "input_ids, input_type_ids, input_mask, _, subtokens_mask = infer_data_layer()\n",
    "\n",
    "hidden_states = bert_model(input_ids=input_ids,\n",
    "                                      token_type_ids=input_type_ids,\n",
    "                                      attention_mask=input_mask)\n",
    "punct_logits = punct_classifier(hidden_states=hidden_states)\n",
    "capit_logits = capit_classifier(hidden_states=hidden_states)\n",
    "\n",
    "evaluated_tensors = nf.infer(tensors=[punct_logits, capit_logits, subtokens_mask],\n",
    "                             checkpoint_dir=WORK_DIR + '/checkpoints')"
   ]
  },
  {
   "cell_type": "code",
   "execution_count": 12,
   "metadata": {},
   "outputs": [
    {
     "name": "stderr",
     "output_type": "stream",
     "text": [
      "2019-12-21 05:12:08,849 - INFO - Query: we bought four shirts from the nvidia gear store in santa clara\n",
      "2019-12-21 05:12:08,850 - INFO - Combined: We bought four shirts from the Nvidia gear store in Santa Clara.\n",
      "\n",
      "2019-12-21 05:12:08,850 - INFO - Query: nvidia is a company\n",
      "2019-12-21 05:12:08,859 - INFO - Combined: Nvidia is a company.\n",
      "\n",
      "2019-12-21 05:12:08,860 - INFO - Query: can i help you\n",
      "2019-12-21 05:12:08,861 - INFO - Combined: Can I help you?\n",
      "\n",
      "2019-12-21 05:12:08,862 - INFO - Query: how are you\n",
      "2019-12-21 05:12:08,863 - INFO - Combined: How are you?\n",
      "\n",
      "2019-12-21 05:12:08,864 - INFO - Query: okay\n",
      "2019-12-21 05:12:08,865 - INFO - Combined: Okay.\n",
      "\n",
      "2019-12-21 05:12:08,867 - INFO - Query: we bought four shirts one mug and ten thousand titan rtx graphics cards the more you buy the more you save\n",
      "2019-12-21 05:12:08,867 - INFO - Combined: We bought four shirts, one mug, and ten thousand Titan Rtx, graphics cards. The more you buy, the more you save.\n",
      "\n"
     ]
    }
   ],
   "source": [
    "# helper functions\n",
    "def concatenate(lists):\n",
    "    return np.concatenate([t.cpu() for t in lists])\n",
    "\n",
    "punct_ids_to_labels = {punct_label_ids[k]: k for k in punct_label_ids}\n",
    "capit_ids_to_labels = {capit_label_ids[k]: k for k in capit_label_ids}\n",
    "\n",
    "punct_logits, capit_logits, subtokens_mask = [concatenate(tensors) for tensors in evaluated_tensors]\n",
    "punct_preds = np.argmax(punct_logits, axis=2)\n",
    "capit_preds = np.argmax(capit_logits, axis=2)\n",
    "\n",
    "for i, query in enumerate(queries):\n",
    "    nf.logger.info(f'Query: {query}')\n",
    "\n",
    "    punct_pred = punct_preds[i][subtokens_mask[i] > 0.5]\n",
    "    capit_pred = capit_preds[i][subtokens_mask[i] > 0.5]\n",
    "    words = query.strip().split()\n",
    "    if len(punct_pred) != len(words) or len(capit_pred) != len(words):\n",
    "        raise ValueError('Pred and words must be of the same length')\n",
    "\n",
    "    output = ''\n",
    "    for j, w in enumerate(words):\n",
    "        punct_label = punct_ids_to_labels[punct_pred[j]]\n",
    "        capit_label = capit_ids_to_labels[capit_pred[j]]\n",
    "\n",
    "        if capit_label != 'O':\n",
    "            w = w.capitalize()\n",
    "        output += w\n",
    "        if punct_label != 'O':\n",
    "            output += punct_label\n",
    "        output += ' '\n",
    "    nf.logger.info(f'Combined: {output.strip()}\\n')"
   ]
  },
  {
   "cell_type": "code",
   "execution_count": null,
   "metadata": {},
   "outputs": [],
   "source": []
  },
  {
   "cell_type": "code",
   "execution_count": null,
   "metadata": {},
   "outputs": [],
   "source": []
  }
 ],
 "metadata": {
  "kernelspec": {
   "display_name": "Python 3",
   "language": "python",
   "name": "python3"
  },
  "language_info": {
   "codemirror_mode": {
    "name": "ipython",
    "version": 3
   },
   "file_extension": ".py",
   "mimetype": "text/x-python",
   "name": "python",
   "nbconvert_exporter": "python",
   "pygments_lexer": "ipython3",
   "version": "3.7.4"
  }
 },
 "nbformat": 4,
 "nbformat_minor": 2
}
