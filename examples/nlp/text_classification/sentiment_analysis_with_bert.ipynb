{
 "cells": [
  {
   "cell_type": "code",
   "execution_count": 1,
   "metadata": {},
   "outputs": [
    {
     "name": "stderr",
     "output_type": "stream",
     "text": [
      "/home/ebakhturina/anaconda3/envs/nemo/lib/python3.7/site-packages/tensorflow/python/framework/dtypes.py:516: FutureWarning: Passing (type, 1) or '1type' as a synonym of type is deprecated; in a future version of numpy, it will be understood as (type, (1,)) / '(1,)type'.\n",
      "  _np_qint8 = np.dtype([(\"qint8\", np.int8, 1)])\n",
      "/home/ebakhturina/anaconda3/envs/nemo/lib/python3.7/site-packages/tensorflow/python/framework/dtypes.py:517: FutureWarning: Passing (type, 1) or '1type' as a synonym of type is deprecated; in a future version of numpy, it will be understood as (type, (1,)) / '(1,)type'.\n",
      "  _np_quint8 = np.dtype([(\"quint8\", np.uint8, 1)])\n",
      "/home/ebakhturina/anaconda3/envs/nemo/lib/python3.7/site-packages/tensorflow/python/framework/dtypes.py:518: FutureWarning: Passing (type, 1) or '1type' as a synonym of type is deprecated; in a future version of numpy, it will be understood as (type, (1,)) / '(1,)type'.\n",
      "  _np_qint16 = np.dtype([(\"qint16\", np.int16, 1)])\n",
      "/home/ebakhturina/anaconda3/envs/nemo/lib/python3.7/site-packages/tensorflow/python/framework/dtypes.py:519: FutureWarning: Passing (type, 1) or '1type' as a synonym of type is deprecated; in a future version of numpy, it will be understood as (type, (1,)) / '(1,)type'.\n",
      "  _np_quint16 = np.dtype([(\"quint16\", np.uint16, 1)])\n",
      "/home/ebakhturina/anaconda3/envs/nemo/lib/python3.7/site-packages/tensorflow/python/framework/dtypes.py:520: FutureWarning: Passing (type, 1) or '1type' as a synonym of type is deprecated; in a future version of numpy, it will be understood as (type, (1,)) / '(1,)type'.\n",
      "  _np_qint32 = np.dtype([(\"qint32\", np.int32, 1)])\n",
      "/home/ebakhturina/anaconda3/envs/nemo/lib/python3.7/site-packages/tensorflow/python/framework/dtypes.py:525: FutureWarning: Passing (type, 1) or '1type' as a synonym of type is deprecated; in a future version of numpy, it will be understood as (type, (1,)) / '(1,)type'.\n",
      "  np_resource = np.dtype([(\"resource\", np.ubyte, 1)])\n",
      "/home/ebakhturina/anaconda3/envs/nemo/lib/python3.7/site-packages/ipykernel_launcher.py:16: FutureWarning: Passing a negative integer is deprecated in version 1.0 and will not be supported in future version. Instead, use None to not limit the column width.\n",
      "  app.launch_new_instance()\n"
     ]
    }
   ],
   "source": [
    "import nemo\n",
    "import nemo.collections.nlp as nemo_nlp\n",
    "from nemo.collections.nlp.data.datasets import BertTextClassificationDataset\n",
    "from nemo.collections.nlp.nm.data_layers.text_classification_datalayer import BertTextClassificationDataLayer\n",
    "from nemo.collections.nlp.nm.trainables import SequenceClassifier\n",
    "\n",
    "from nemo.backends.pytorch.common import CrossEntropyLossNM\n",
    "from nemo.utils.lr_policies import get_lr_policy\n",
    "from nemo.collections.nlp.callbacks.text_classification_callback import eval_iter_callback, eval_epochs_done_callback\n",
    "\n",
    "import os\n",
    "import json\n",
    "import math\n",
    "import numpy as np\n",
    "import pandas as pd\n",
    "pd.options.display.max_colwidth = -1\n",
    "\n",
    "import matplotlib.pyplot as plt\n",
    "from sklearn.manifold import TSNE\n",
    "%matplotlib inline\n",
    "\n",
    "import torch"
   ]
  },
  {
   "cell_type": "markdown",
   "metadata": {},
   "source": [
    "## Data Explore\n",
    "\n",
    "[The SST-2 dataset](https://nlp.stanford.edu/sentiment/index.html) is a standard benchmark for [sentiment classification task](http://nlpprogress.com/english/sentiment_analysis.html). The SST-2 is also a part of the [GLUE Benchmark](https://gluebenchmark.com/tasks). To download the SST-2 dataset as part of GLUE data, you can run [this script](http://nlpprogress.com/english/sentiment_analysis.html). After running the script, the SST-2 could be found under ``glue_data/SST-2`` folder."
   ]
  },
  {
   "cell_type": "code",
   "execution_count": 2,
   "metadata": {},
   "outputs": [
    {
     "data": {
      "text/plain": [
       "['megatron-bert-345m-uncased',\n",
       " 'megatron-bert-uncased',\n",
       " 'megatron-bert-cased',\n",
       " 'bert-base-uncased',\n",
       " 'bert-large-uncased',\n",
       " 'bert-base-cased',\n",
       " 'bert-large-cased',\n",
       " 'bert-base-multilingual-uncased',\n",
       " 'bert-base-multilingual-cased',\n",
       " 'bert-base-chinese',\n",
       " 'bert-base-german-cased',\n",
       " 'bert-large-uncased-whole-word-masking',\n",
       " 'bert-large-cased-whole-word-masking',\n",
       " 'bert-large-uncased-whole-word-masking-finetuned-squad',\n",
       " 'bert-large-cased-whole-word-masking-finetuned-squad',\n",
       " 'bert-base-cased-finetuned-mrpc',\n",
       " 'bert-base-german-dbmdz-cased',\n",
       " 'bert-base-german-dbmdz-uncased',\n",
       " 'bert-base-japanese',\n",
       " 'bert-base-japanese-whole-word-masking',\n",
       " 'bert-base-japanese-char',\n",
       " 'bert-base-japanese-char-whole-word-masking',\n",
       " 'bert-base-finnish-cased-v1',\n",
       " 'bert-base-finnish-uncased-v1',\n",
       " 'bert-base-dutch-cased',\n",
       " 'roberta-base',\n",
       " 'roberta-large',\n",
       " 'roberta-large-mnli',\n",
       " 'distilroberta-base',\n",
       " 'roberta-base-openai-detector',\n",
       " 'roberta-large-openai-detector',\n",
       " 'albert-base-v1',\n",
       " 'albert-large-v1',\n",
       " 'albert-xlarge-v1',\n",
       " 'albert-xxlarge-v1',\n",
       " 'albert-base-v2',\n",
       " 'albert-large-v2',\n",
       " 'albert-xlarge-v2',\n",
       " 'albert-xxlarge-v2']"
      ]
     },
     "execution_count": 2,
     "metadata": {},
     "output_type": "execute_result"
    }
   ],
   "source": [
    "# to get the list of all pretrained BERT Language models run\n",
    "nemo_nlp.nm.trainables.get_pretrained_lm_models_list()"
   ]
  },
  {
   "cell_type": "code",
   "execution_count": 3,
   "metadata": {},
   "outputs": [],
   "source": [
    "WORK_DIR = 'output/'\n",
    "DATA_DIR = 'glue_data/SST-2'\n",
    "\n",
    "# To use mixed precision, set AMP_OPTIMIZATION_LEVEL to 'O1' or 'O2',\n",
    "# to train without mixed precision, set it to 'O0'.\n",
    "AMP_OPTIMIZATION_LEVEL = 'O1'\n",
    "# select the model name from the list generated in the previous cell\n",
    "PRETRAINED_MODEL_NAME = 'bert-base-uncased'\n",
    "MAX_SEQ_LEN = 64 # we will pad with 0's shorter sentences and truncate longer\n",
    "BATCH_SIZE = 256 # 64 for 'bert-large-uncased'"
   ]
  },
  {
   "cell_type": "code",
   "execution_count": 4,
   "metadata": {},
   "outputs": [],
   "source": [
    "df = pd.read_csv(DATA_DIR + '/train.tsv', sep='\\t')\n",
    "test_df = pd.read_csv(DATA_DIR + '/test.tsv', sep='\\t')"
   ]
  },
  {
   "cell_type": "code",
   "execution_count": 5,
   "metadata": {},
   "outputs": [
    {
     "data": {
      "text/html": [
       "<div>\n",
       "<style scoped>\n",
       "    .dataframe tbody tr th:only-of-type {\n",
       "        vertical-align: middle;\n",
       "    }\n",
       "\n",
       "    .dataframe tbody tr th {\n",
       "        vertical-align: top;\n",
       "    }\n",
       "\n",
       "    .dataframe thead th {\n",
       "        text-align: right;\n",
       "    }\n",
       "</style>\n",
       "<table border=\"1\" class=\"dataframe\">\n",
       "  <thead>\n",
       "    <tr style=\"text-align: right;\">\n",
       "      <th></th>\n",
       "      <th>sentence</th>\n",
       "      <th>label</th>\n",
       "    </tr>\n",
       "  </thead>\n",
       "  <tbody>\n",
       "    <tr>\n",
       "      <th>0</th>\n",
       "      <td>hide new secretions from the parental units</td>\n",
       "      <td>0</td>\n",
       "    </tr>\n",
       "    <tr>\n",
       "      <th>1</th>\n",
       "      <td>contains no wit , only labored gags</td>\n",
       "      <td>0</td>\n",
       "    </tr>\n",
       "    <tr>\n",
       "      <th>2</th>\n",
       "      <td>that loves its characters and communicates something rather beautiful about human nature</td>\n",
       "      <td>1</td>\n",
       "    </tr>\n",
       "    <tr>\n",
       "      <th>3</th>\n",
       "      <td>remains utterly satisfied to remain the same throughout</td>\n",
       "      <td>0</td>\n",
       "    </tr>\n",
       "    <tr>\n",
       "      <th>4</th>\n",
       "      <td>on the worst revenge-of-the-nerds clichés the filmmakers could dredge up</td>\n",
       "      <td>0</td>\n",
       "    </tr>\n",
       "  </tbody>\n",
       "</table>\n",
       "</div>"
      ],
      "text/plain": [
       "                                                                                    sentence  \\\n",
       "0  hide new secretions from the parental units                                                 \n",
       "1  contains no wit , only labored gags                                                         \n",
       "2  that loves its characters and communicates something rather beautiful about human nature    \n",
       "3  remains utterly satisfied to remain the same throughout                                     \n",
       "4  on the worst revenge-of-the-nerds clichés the filmmakers could dredge up                    \n",
       "\n",
       "   label  \n",
       "0  0      \n",
       "1  0      \n",
       "2  1      \n",
       "3  0      \n",
       "4  0      "
      ]
     },
     "execution_count": 5,
     "metadata": {},
     "output_type": "execute_result"
    }
   ],
   "source": [
    "df.head()"
   ]
  },
  {
   "cell_type": "code",
   "execution_count": 6,
   "metadata": {},
   "outputs": [
    {
     "data": {
      "text/html": [
       "<div>\n",
       "<style scoped>\n",
       "    .dataframe tbody tr th:only-of-type {\n",
       "        vertical-align: middle;\n",
       "    }\n",
       "\n",
       "    .dataframe tbody tr th {\n",
       "        vertical-align: top;\n",
       "    }\n",
       "\n",
       "    .dataframe thead th {\n",
       "        text-align: right;\n",
       "    }\n",
       "</style>\n",
       "<table border=\"1\" class=\"dataframe\">\n",
       "  <thead>\n",
       "    <tr style=\"text-align: right;\">\n",
       "      <th></th>\n",
       "      <th>index</th>\n",
       "      <th>sentence</th>\n",
       "    </tr>\n",
       "  </thead>\n",
       "  <tbody>\n",
       "    <tr>\n",
       "      <th>0</th>\n",
       "      <td>0</td>\n",
       "      <td>uneasy mishmash of styles and genres .</td>\n",
       "    </tr>\n",
       "    <tr>\n",
       "      <th>1</th>\n",
       "      <td>1</td>\n",
       "      <td>this film 's relationship to actual tension is the same as what christmas-tree flocking in a spray can is to actual snow : a poor -- if durable -- imitation .</td>\n",
       "    </tr>\n",
       "    <tr>\n",
       "      <th>2</th>\n",
       "      <td>2</td>\n",
       "      <td>by the end of no such thing the audience , like beatrice , has a watchful affection for the monster .</td>\n",
       "    </tr>\n",
       "    <tr>\n",
       "      <th>3</th>\n",
       "      <td>3</td>\n",
       "      <td>director rob marshall went out gunning to make a great one .</td>\n",
       "    </tr>\n",
       "    <tr>\n",
       "      <th>4</th>\n",
       "      <td>4</td>\n",
       "      <td>lathan and diggs have considerable personal charm , and their screen rapport makes the old story seem new .</td>\n",
       "    </tr>\n",
       "  </tbody>\n",
       "</table>\n",
       "</div>"
      ],
      "text/plain": [
       "   index  \\\n",
       "0  0       \n",
       "1  1       \n",
       "2  2       \n",
       "3  3       \n",
       "4  4       \n",
       "\n",
       "                                                                                                                                                         sentence  \n",
       "0  uneasy mishmash of styles and genres .                                                                                                                          \n",
       "1  this film 's relationship to actual tension is the same as what christmas-tree flocking in a spray can is to actual snow : a poor -- if durable -- imitation .  \n",
       "2  by the end of no such thing the audience , like beatrice , has a watchful affection for the monster .                                                           \n",
       "3  director rob marshall went out gunning to make a great one .                                                                                                    \n",
       "4  lathan and diggs have considerable personal charm , and their screen rapport makes the old story seem new .                                                     "
      ]
     },
     "execution_count": 6,
     "metadata": {},
     "output_type": "execute_result"
    }
   ],
   "source": [
    "test_df.head()"
   ]
  },
  {
   "cell_type": "markdown",
   "metadata": {},
   "source": [
    "The dataset comes with a train file (labeled) and a test file (not labeled).  We will use part of the train file for model validation"
   ]
  },
  {
   "cell_type": "code",
   "execution_count": 7,
   "metadata": {},
   "outputs": [],
   "source": [
    "# Split train to train and val and save to disk\n",
    "np.random.seed(123)\n",
    "train_mask = np.random.rand((len(df))) < .8\n",
    "train_df = df[train_mask]\n",
    "val_df = df[~train_mask]"
   ]
  },
  {
   "cell_type": "markdown",
   "metadata": {},
   "source": [
    "In order to take advantage of NeMo's pre-built text classification data layer, the data should be formatted as \"sentence\\tlabel\" (sentence tab label)."
   ]
  },
  {
   "cell_type": "code",
   "execution_count": 8,
   "metadata": {},
   "outputs": [],
   "source": [
    "# We will add a label column with all 0's (but they will not be used for anything).\n",
    "test_df['label'] = 0"
   ]
  },
  {
   "cell_type": "code",
   "execution_count": 9,
   "metadata": {},
   "outputs": [],
   "source": [
    "test_df = test_df[['sentence', 'label']]"
   ]
  },
  {
   "cell_type": "code",
   "execution_count": 10,
   "metadata": {},
   "outputs": [
    {
     "data": {
      "text/html": [
       "<div>\n",
       "<style scoped>\n",
       "    .dataframe tbody tr th:only-of-type {\n",
       "        vertical-align: middle;\n",
       "    }\n",
       "\n",
       "    .dataframe tbody tr th {\n",
       "        vertical-align: top;\n",
       "    }\n",
       "\n",
       "    .dataframe thead th {\n",
       "        text-align: right;\n",
       "    }\n",
       "</style>\n",
       "<table border=\"1\" class=\"dataframe\">\n",
       "  <thead>\n",
       "    <tr style=\"text-align: right;\">\n",
       "      <th></th>\n",
       "      <th>sentence</th>\n",
       "      <th>label</th>\n",
       "    </tr>\n",
       "  </thead>\n",
       "  <tbody>\n",
       "    <tr>\n",
       "      <th>0</th>\n",
       "      <td>uneasy mishmash of styles and genres .</td>\n",
       "      <td>0</td>\n",
       "    </tr>\n",
       "    <tr>\n",
       "      <th>1</th>\n",
       "      <td>this film 's relationship to actual tension is the same as what christmas-tree flocking in a spray can is to actual snow : a poor -- if durable -- imitation .</td>\n",
       "      <td>0</td>\n",
       "    </tr>\n",
       "    <tr>\n",
       "      <th>2</th>\n",
       "      <td>by the end of no such thing the audience , like beatrice , has a watchful affection for the monster .</td>\n",
       "      <td>0</td>\n",
       "    </tr>\n",
       "    <tr>\n",
       "      <th>3</th>\n",
       "      <td>director rob marshall went out gunning to make a great one .</td>\n",
       "      <td>0</td>\n",
       "    </tr>\n",
       "    <tr>\n",
       "      <th>4</th>\n",
       "      <td>lathan and diggs have considerable personal charm , and their screen rapport makes the old story seem new .</td>\n",
       "      <td>0</td>\n",
       "    </tr>\n",
       "  </tbody>\n",
       "</table>\n",
       "</div>"
      ],
      "text/plain": [
       "                                                                                                                                                         sentence  \\\n",
       "0  uneasy mishmash of styles and genres .                                                                                                                           \n",
       "1  this film 's relationship to actual tension is the same as what christmas-tree flocking in a spray can is to actual snow : a poor -- if durable -- imitation .   \n",
       "2  by the end of no such thing the audience , like beatrice , has a watchful affection for the monster .                                                            \n",
       "3  director rob marshall went out gunning to make a great one .                                                                                                     \n",
       "4  lathan and diggs have considerable personal charm , and their screen rapport makes the old story seem new .                                                      \n",
       "\n",
       "   label  \n",
       "0  0      \n",
       "1  0      \n",
       "2  0      \n",
       "3  0      \n",
       "4  0      "
      ]
     },
     "execution_count": 10,
     "metadata": {},
     "output_type": "execute_result"
    }
   ],
   "source": [
    "test_df.head()"
   ]
  },
  {
   "cell_type": "code",
   "execution_count": 11,
   "metadata": {},
   "outputs": [],
   "source": [
    "# Save new train, val, and test to disk\n",
    "SPLIT_DATA_DIR = os.path.join(DATA_DIR, 'split')\n",
    "\n",
    "os.makedirs(SPLIT_DATA_DIR, exist_ok=True)\n",
    "\n",
    "train_df.to_csv(os.path.join(SPLIT_DATA_DIR, 'train.tsv'), sep='\\t', index=False)\n",
    "val_df.to_csv(os.path.join(SPLIT_DATA_DIR, 'eval.tsv'), sep='\\t', index=False)\n",
    "test_df.to_csv(os.path.join(SPLIT_DATA_DIR, 'test.tsv'), sep='\\t', index=False)"
   ]
  },
  {
   "cell_type": "markdown",
   "metadata": {},
   "source": [
    "## Neural Modules\n",
    "\n",
    "In NeMo, everything is a Neural Module. Neural modules abstract data and neural network architectures. Where a deep learning framework like PyTorch or Tensorflow is used to combine neural network layers to create a neural network. \n",
    "NeMo is used to combine data and neural networks to create AI applications.\n",
    "The Neural Module Factory will then manage the neural modules, taking care to flow data through the neural modules, and is also responsible for training (including mixed precision and distributed), logging, and inference."
   ]
  },
  {
   "cell_type": "code",
   "execution_count": 12,
   "metadata": {},
   "outputs": [],
   "source": [
    "# instantiate the neural module factory\n",
    "nf = nemo.core.NeuralModuleFactory(log_dir=WORK_DIR,\n",
    "                                   create_tb_writer=True,\n",
    "                                   add_time_to_log_dir=False,\n",
    "                                   optimization_level=AMP_OPTIMIZATION_LEVEL)"
   ]
  },
  {
   "cell_type": "markdown",
   "metadata": {},
   "source": [
    "Pre-trained models will be automatically downloaded and cached."
   ]
  },
  {
   "cell_type": "code",
   "execution_count": 13,
   "metadata": {},
   "outputs": [
    {
     "name": "stdout",
     "output_type": "stream",
     "text": [
      "[NeMo I 2020-05-28 17:10:07 bert_tokenizer:78] Deriving bert model type from pretrained model name.\n"
     ]
    }
   ],
   "source": [
    "# Pre-trained BERT\n",
    "bert = model = nemo_nlp.nm.trainables.get_pretrained_lm_model(pretrained_model_name=PRETRAINED_MODEL_NAME)\n",
    "tokenizer = nemo.collections.nlp.data.tokenizers.get_tokenizer(tokenizer_name='nemobert', pretrained_model_name=PRETRAINED_MODEL_NAME)"
   ]
  },
  {
   "cell_type": "markdown",
   "metadata": {},
   "source": [
    "Note here that the BERT models we are working with are massive. This gives our models a large capacity for learning that is needed to understand the nuance and complexity of natural language."
   ]
  },
  {
   "cell_type": "code",
   "execution_count": 14,
   "metadata": {},
   "outputs": [
    {
     "name": "stdout",
     "output_type": "stream",
     "text": [
      "bert-base-uncased has 109482240 weights\n"
     ]
    }
   ],
   "source": [
    "print(f'{PRETRAINED_MODEL_NAME} has {bert.num_weights} weights')"
   ]
  },
  {
   "cell_type": "markdown",
   "metadata": {},
   "source": [
    "Here we define and instantiate the feed forward network that takes as input our BERT embeddings. This network will be used to output the sentence classifications."
   ]
  },
  {
   "cell_type": "code",
   "execution_count": 15,
   "metadata": {},
   "outputs": [],
   "source": [
    "# mlp classifier\n",
    "bert_hidden_size = bert.hidden_size\n",
    "\n",
    "mlp = SequenceClassifier(hidden_size=bert_hidden_size, \n",
    "                         num_classes=2,\n",
    "                         num_layers=2,\n",
    "                         log_softmax=False,\n",
    "                         dropout=0.1)\n",
    "\n",
    "loss = CrossEntropyLossNM()"
   ]
  },
  {
   "cell_type": "code",
   "execution_count": 16,
   "metadata": {},
   "outputs": [
    {
     "name": "stdout",
     "output_type": "stream",
     "text": [
      "MLP has 592130 weights\n"
     ]
    }
   ],
   "source": [
    "# Compared to the BERT model, the MLP is tiny.\n",
    "print(f'MLP has {mlp.num_weights} weights')"
   ]
  },
  {
   "cell_type": "markdown",
   "metadata": {},
   "source": [
    "# Pipelines\n",
    "\n",
    "Pipelines are used to define how data will flow the different neural networks. In this case, our data will flow through the BERT network and then the MLP network.\n",
    "\n",
    "We also have different pipelines for training, validation, and inference data.  \n",
    "\n",
    "For training data, we want it to be used for optimization so it must be shuffled and we also need to compute the loss.\n",
    "\n",
    "For validation data, we won't use it for optimization but we want to know the loss.\n",
    "\n",
    "And for inference data, we only want the final predictions coming from the model."
   ]
  },
  {
   "cell_type": "markdown",
   "metadata": {},
   "source": [
    "## Data Layers"
   ]
  },
  {
   "cell_type": "markdown",
   "metadata": {},
   "source": [
    "We can gain a lot of efficiency by saving the tokenized data to disk. For future model runs we then don't need to tokenize every time."
   ]
  },
  {
   "cell_type": "code",
   "execution_count": 17,
   "metadata": {},
   "outputs": [
    {
     "name": "stdout",
     "output_type": "stream",
     "text": [
      "[NeMo I 2020-05-28 17:10:08 text_classification_dataset:217] features restored from /home/ebakhturina/data/glue_data/SST-2/split/cached_train_BertTokenizer_64_30522\n",
      "[NeMo I 2020-05-28 17:10:08 text_classification_dataset:217] features restored from /home/ebakhturina/data/glue_data/SST-2/split/cached_eval_BertTokenizer_64_30522\n"
     ]
    }
   ],
   "source": [
    "USE_CACHE = True\n",
    "\n",
    "train_data = BertTextClassificationDataLayer(input_file=os.path.join(SPLIT_DATA_DIR, 'train.tsv'),\n",
    "                                             tokenizer=tokenizer,\n",
    "                                             max_seq_length=MAX_SEQ_LEN,\n",
    "                                             shuffle=True,\n",
    "                                             batch_size=BATCH_SIZE,\n",
    "                                             use_cache=USE_CACHE)\n",
    "\n",
    "val_data = BertTextClassificationDataLayer(input_file=os.path.join(SPLIT_DATA_DIR, 'eval.tsv'),\n",
    "                                           tokenizer=tokenizer,\n",
    "                                           max_seq_length=MAX_SEQ_LEN,\n",
    "                                           batch_size=BATCH_SIZE,\n",
    "                                           use_cache=USE_CACHE)"
   ]
  },
  {
   "cell_type": "code",
   "execution_count": 18,
   "metadata": {},
   "outputs": [],
   "source": [
    "train_input, train_token_types, train_attn_mask, train_labels = train_data()\n",
    "val_input, val_token_types, val_attn_mask, val_labels = val_data()"
   ]
  },
  {
   "cell_type": "markdown",
   "metadata": {},
   "source": [
    "## BERT Embeddings"
   ]
  },
  {
   "cell_type": "code",
   "execution_count": 19,
   "metadata": {},
   "outputs": [],
   "source": [
    "train_embeddings = bert(input_ids=train_input,\n",
    "                        token_type_ids=train_token_types,\n",
    "                        attention_mask=train_attn_mask)\n",
    "val_embeddings = bert(input_ids=val_input,\n",
    "                      token_type_ids=val_token_types,\n",
    "                      attention_mask=val_attn_mask)"
   ]
  },
  {
   "cell_type": "markdown",
   "metadata": {},
   "source": [
    "## Inspect BERT Embeddings\n",
    "\n",
    "If we want to inspect the data as it flows through our neural factory we can use the .infer method.  This method will give us the tensors without performing any optimization."
   ]
  },
  {
   "cell_type": "code",
   "execution_count": 20,
   "metadata": {},
   "outputs": [
    {
     "name": "stdout",
     "output_type": "stream",
     "text": [
      "Selected optimization level O1:  Insert automatic casts around Pytorch functions and Tensor methods.\n",
      "\n",
      "Defaults for this optimization level are:\n",
      "enabled                : True\n",
      "opt_level              : O1\n",
      "cast_model_type        : None\n",
      "patch_torch_functions  : True\n",
      "keep_batchnorm_fp32    : None\n",
      "master_weights         : None\n",
      "loss_scale             : dynamic\n",
      "Processing user overrides (additional kwargs that are not None)...\n",
      "After processing overrides, optimization options are:\n",
      "enabled                : True\n",
      "opt_level              : O1\n",
      "cast_model_type        : None\n",
      "patch_torch_functions  : True\n",
      "keep_batchnorm_fp32    : None\n",
      "master_weights         : None\n",
      "loss_scale             : dynamic\n",
      "[NeMo I 2020-05-28 17:10:09 actions:669] Evaluating batch 0 out of 53\n",
      "[NeMo I 2020-05-28 17:10:09 actions:669] Evaluating batch 5 out of 53\n",
      "[NeMo I 2020-05-28 17:10:09 actions:669] Evaluating batch 10 out of 53\n",
      "[NeMo I 2020-05-28 17:10:09 actions:669] Evaluating batch 15 out of 53\n",
      "[NeMo I 2020-05-28 17:10:09 actions:669] Evaluating batch 20 out of 53\n",
      "[NeMo I 2020-05-28 17:10:09 actions:669] Evaluating batch 25 out of 53\n",
      "[NeMo I 2020-05-28 17:10:09 actions:669] Evaluating batch 30 out of 53\n",
      "[NeMo I 2020-05-28 17:10:09 actions:669] Evaluating batch 35 out of 53\n",
      "[NeMo I 2020-05-28 17:10:09 actions:669] Evaluating batch 40 out of 53\n",
      "[NeMo I 2020-05-28 17:10:09 actions:669] Evaluating batch 45 out of 53\n",
      "[NeMo I 2020-05-28 17:10:09 actions:669] Evaluating batch 50 out of 53\n"
     ]
    }
   ],
   "source": [
    "val_input_tensors = nf.infer(tensors=[val_input])"
   ]
  },
  {
   "cell_type": "code",
   "execution_count": 21,
   "metadata": {},
   "outputs": [
    {
     "name": "stdout",
     "output_type": "stream",
     "text": [
      "tensor([  101, 16691,  2008,  1996,  2472,  1997,  2107,  5365, 27858,  2015,\n",
      "         2004, 16419,  2399,  2064,  2145,  2735,  2041,  1037,  2235,  1010,\n",
      "         3167,  2143,  2007,  2019,  6832,  2813,  7361,  1012,   102,     0,\n",
      "            0,     0,     0,     0,     0,     0,     0,     0,     0,     0,\n",
      "            0,     0,     0,     0,     0,     0,     0,     0,     0,     0,\n",
      "            0,     0,     0,     0,     0,     0,     0,     0,     0,     0,\n",
      "            0,     0,     0,     0])\n"
     ]
    }
   ],
   "source": [
    "print(val_input_tensors[0][0][0])"
   ]
  },
  {
   "cell_type": "code",
   "execution_count": 22,
   "metadata": {},
   "outputs": [
    {
     "name": "stdout",
     "output_type": "stream",
     "text": [
      "[NeMo I 2020-05-28 17:10:10 actions:669] Evaluating batch 0 out of 53\n",
      "[NeMo I 2020-05-28 17:10:11 actions:669] Evaluating batch 5 out of 53\n",
      "[NeMo I 2020-05-28 17:10:12 actions:669] Evaluating batch 10 out of 53\n",
      "[NeMo I 2020-05-28 17:10:12 actions:669] Evaluating batch 15 out of 53\n",
      "[NeMo I 2020-05-28 17:10:13 actions:669] Evaluating batch 20 out of 53\n",
      "[NeMo I 2020-05-28 17:10:14 actions:669] Evaluating batch 25 out of 53\n",
      "[NeMo I 2020-05-28 17:10:14 actions:669] Evaluating batch 30 out of 53\n",
      "[NeMo I 2020-05-28 17:10:15 actions:669] Evaluating batch 35 out of 53\n",
      "[NeMo I 2020-05-28 17:10:15 actions:669] Evaluating batch 40 out of 53\n",
      "[NeMo I 2020-05-28 17:10:16 actions:669] Evaluating batch 45 out of 53\n",
      "[NeMo I 2020-05-28 17:10:16 actions:669] Evaluating batch 50 out of 53\n",
      "CPU times: user 5.5 s, sys: 2.07 s, total: 7.56 s\n",
      "Wall time: 7.44 s\n"
     ]
    }
   ],
   "source": [
    "%%time\n",
    "val_embeddings_tensors = nf.infer(tensors=[val_embeddings])"
   ]
  },
  {
   "cell_type": "code",
   "execution_count": 23,
   "metadata": {},
   "outputs": [
    {
     "data": {
      "text/plain": [
       "torch.Size([256, 64, 768])"
      ]
     },
     "execution_count": 23,
     "metadata": {},
     "output_type": "execute_result"
    }
   ],
   "source": [
    "# each word is embedded into bert_hidden_size space\n",
    "# shape: BATCH_SIZE * MAX_SEQ_LEN * bert_hidden_size\n",
    "val_embeddings_tensors[0][0].shape"
   ]
  },
  {
   "cell_type": "code",
   "execution_count": 24,
   "metadata": {},
   "outputs": [
    {
     "name": "stdout",
     "output_type": "stream",
     "text": [
      "tensor([-0.0419,  0.3524, -0.0894,  0.4333,  0.1847, -0.1055,  0.1183,  1.0781,\n",
      "         1.6059,  0.7314, -0.0276,  0.3873, -0.1493,  0.2835,  0.1241,  0.3322,\n",
      "        -0.0739,  0.9682,  0.6255,  1.8736,  0.2042, -0.8762,  1.2981,  0.1381,\n",
      "         0.1281,  0.8677,  0.6106,  0.6792,  0.8891,  0.3673,  0.5610,  0.3335,\n",
      "         0.6599,  0.5207,  0.2783,  0.2677,  0.2921,  0.5695,  0.6468,  0.6725,\n",
      "         0.3356, -0.0210, -0.0821,  0.2344,  0.0618,  0.3286,  0.3372,  0.3234,\n",
      "         0.0713, -0.1934,  0.4176, -0.0325,  0.1759,  0.5047,  0.0894,  0.5957,\n",
      "         0.7829,  0.8567,  0.3592,  0.2224,  0.2628,  0.1901,  0.2108,  0.4541])\n"
     ]
    }
   ],
   "source": [
    "print(val_embeddings_tensors[0][0][1][:, 0])"
   ]
  },
  {
   "cell_type": "markdown",
   "metadata": {},
   "source": [
    "## Understanding and Visualizing BERT Embeddings\n",
    "\n",
    "We are going to look at the BERT embeddings for the words (1-word sentences) in \"SPLIT_DATA_DIR/positive_negative.tsv\". Since the BERT embeddings are 768 dimensional for BERT base and 1024 dimensional for BERT large, we'll first apply TSNE and reduce the embeddings to two dimensions."
   ]
  },
  {
   "cell_type": "code",
   "execution_count": 25,
   "metadata": {},
   "outputs": [],
   "source": [
    "spectrum_words = ['abysmal', 'apalling', 'dreadful', 'awful', 'terrible',\n",
    "                  'very bad', 'really bad', 'rubbish', 'unsatisfactory',\n",
    "                  'bad', 'poor', 'great', 'really good', 'very good', 'awesome'\n",
    "                  'fantastic', 'superb', 'brilliant', 'incredible', 'excellent'\n",
    "                  'outstanding', 'perfect']\n",
    "\n",
    "spectrum_file = os.path.join(SPLIT_DATA_DIR, 'positive_negative.tsv')\n",
    "with open(spectrum_file, 'w+') as f:\n",
    "    f.write('sentence\\tlabel')\n",
    "    for word in spectrum_words:\n",
    "        f.write('\\n' + word + '\\t0')"
   ]
  },
  {
   "cell_type": "code",
   "execution_count": 26,
   "metadata": {},
   "outputs": [
    {
     "name": "stdout",
     "output_type": "stream",
     "text": [
      "   sentence  label\n",
      "0  abysmal   0    \n",
      "1  apalling  0    \n",
      "2  dreadful  0    \n",
      "3  awful     0    \n",
      "4  terrible  0    \n"
     ]
    }
   ],
   "source": [
    "spectrum_df = pd.read_csv(spectrum_file, delimiter='\\t')\n",
    "print(spectrum_df.head())"
   ]
  },
  {
   "cell_type": "code",
   "execution_count": 27,
   "metadata": {},
   "outputs": [
    {
     "name": "stdout",
     "output_type": "stream",
     "text": [
      "[NeMo I 2020-05-28 17:10:17 text_classification_dataset:82] /home/ebakhturina/data/glue_data/SST-2/split/positive_negative.tsv: 20\n",
      "[NeMo I 2020-05-28 17:10:17 data_preprocessing:250] Min: 3 |                  Max: 6 |                  Mean: 3.85 |                  Median: 3.0\n",
      "[NeMo I 2020-05-28 17:10:17 data_preprocessing:252] 75 percentile: 4.25\n",
      "[NeMo I 2020-05-28 17:10:17 data_preprocessing:253] 99 percentile: 6.0\n",
      "[NeMo I 2020-05-28 17:10:17 text_classification_dataset:118] 0 out of 20                         sentences with more than 64 subtokens.\n",
      "[NeMo I 2020-05-28 17:10:17 text_classification_dataset:175] *** Example ***\n",
      "[NeMo I 2020-05-28 17:10:17 text_classification_dataset:176] example_index: 0\n",
      "[NeMo I 2020-05-28 17:10:17 text_classification_dataset:177] subtokens: [CLS] ab ##ys ##mal [SEP]\n",
      "[NeMo I 2020-05-28 17:10:17 text_classification_dataset:178] sent_label: 0\n",
      "[NeMo I 2020-05-28 17:10:17 text_classification_dataset:179] input_ids: 101 11113 7274 9067 102 0 0 0 0 0 0 0 0 0 0 0 0 0 0 0 0 0 0 0 0 0 0 0 0 0 0 0 0 0 0 0 0 0 0 0 0 0 0 0 0 0 0 0 0 0 0 0 0 0 0 0 0 0 0 0 0 0 0 0\n",
      "[NeMo I 2020-05-28 17:10:17 text_classification_dataset:180] input_mask: 1 1 1 1 1 0 0 0 0 0 0 0 0 0 0 0 0 0 0 0 0 0 0 0 0 0 0 0 0 0 0 0 0 0 0 0 0 0 0 0 0 0 0 0 0 0 0 0 0 0 0 0 0 0 0 0 0 0 0 0 0 0 0 0\n",
      "[NeMo I 2020-05-28 17:10:17 text_classification_dataset:175] *** Example ***\n",
      "[NeMo I 2020-05-28 17:10:17 text_classification_dataset:176] example_index: 1\n",
      "[NeMo I 2020-05-28 17:10:17 text_classification_dataset:177] subtokens: [CLS] ap ##all ##ing [SEP]\n",
      "[NeMo I 2020-05-28 17:10:17 text_classification_dataset:178] sent_label: 0\n",
      "[NeMo I 2020-05-28 17:10:17 text_classification_dataset:179] input_ids: 101 9706 8095 2075 102 0 0 0 0 0 0 0 0 0 0 0 0 0 0 0 0 0 0 0 0 0 0 0 0 0 0 0 0 0 0 0 0 0 0 0 0 0 0 0 0 0 0 0 0 0 0 0 0 0 0 0 0 0 0 0 0 0 0 0\n",
      "[NeMo I 2020-05-28 17:10:17 text_classification_dataset:180] input_mask: 1 1 1 1 1 0 0 0 0 0 0 0 0 0 0 0 0 0 0 0 0 0 0 0 0 0 0 0 0 0 0 0 0 0 0 0 0 0 0 0 0 0 0 0 0 0 0 0 0 0 0 0 0 0 0 0 0 0 0 0 0 0 0 0\n",
      "[NeMo I 2020-05-28 17:10:17 text_classification_dataset:175] *** Example ***\n",
      "[NeMo I 2020-05-28 17:10:17 text_classification_dataset:176] example_index: 2\n",
      "[NeMo I 2020-05-28 17:10:17 text_classification_dataset:177] subtokens: [CLS] dreadful [SEP]\n",
      "[NeMo I 2020-05-28 17:10:17 text_classification_dataset:178] sent_label: 0\n",
      "[NeMo I 2020-05-28 17:10:17 text_classification_dataset:179] input_ids: 101 21794 102 0 0 0 0 0 0 0 0 0 0 0 0 0 0 0 0 0 0 0 0 0 0 0 0 0 0 0 0 0 0 0 0 0 0 0 0 0 0 0 0 0 0 0 0 0 0 0 0 0 0 0 0 0 0 0 0 0 0 0 0 0\n",
      "[NeMo I 2020-05-28 17:10:17 text_classification_dataset:180] input_mask: 1 1 1 0 0 0 0 0 0 0 0 0 0 0 0 0 0 0 0 0 0 0 0 0 0 0 0 0 0 0 0 0 0 0 0 0 0 0 0 0 0 0 0 0 0 0 0 0 0 0 0 0 0 0 0 0 0 0 0 0 0 0 0 0\n",
      "[NeMo I 2020-05-28 17:10:17 text_classification_dataset:175] *** Example ***\n",
      "[NeMo I 2020-05-28 17:10:17 text_classification_dataset:176] example_index: 3\n",
      "[NeMo I 2020-05-28 17:10:17 text_classification_dataset:177] subtokens: [CLS] awful [SEP]\n",
      "[NeMo I 2020-05-28 17:10:17 text_classification_dataset:178] sent_label: 0\n",
      "[NeMo I 2020-05-28 17:10:17 text_classification_dataset:179] input_ids: 101 9643 102 0 0 0 0 0 0 0 0 0 0 0 0 0 0 0 0 0 0 0 0 0 0 0 0 0 0 0 0 0 0 0 0 0 0 0 0 0 0 0 0 0 0 0 0 0 0 0 0 0 0 0 0 0 0 0 0 0 0 0 0 0\n",
      "[NeMo I 2020-05-28 17:10:17 text_classification_dataset:180] input_mask: 1 1 1 0 0 0 0 0 0 0 0 0 0 0 0 0 0 0 0 0 0 0 0 0 0 0 0 0 0 0 0 0 0 0 0 0 0 0 0 0 0 0 0 0 0 0 0 0 0 0 0 0 0 0 0 0 0 0 0 0 0 0 0 0\n",
      "[NeMo I 2020-05-28 17:10:17 text_classification_dataset:175] *** Example ***\n",
      "[NeMo I 2020-05-28 17:10:17 text_classification_dataset:176] example_index: 4\n",
      "[NeMo I 2020-05-28 17:10:17 text_classification_dataset:177] subtokens: [CLS] terrible [SEP]\n",
      "[NeMo I 2020-05-28 17:10:17 text_classification_dataset:178] sent_label: 0\n",
      "[NeMo I 2020-05-28 17:10:17 text_classification_dataset:179] input_ids: 101 6659 102 0 0 0 0 0 0 0 0 0 0 0 0 0 0 0 0 0 0 0 0 0 0 0 0 0 0 0 0 0 0 0 0 0 0 0 0 0 0 0 0 0 0 0 0 0 0 0 0 0 0 0 0 0 0 0 0 0 0 0 0 0\n",
      "[NeMo I 2020-05-28 17:10:17 text_classification_dataset:180] input_mask: 1 1 1 0 0 0 0 0 0 0 0 0 0 0 0 0 0 0 0 0 0 0 0 0 0 0 0 0 0 0 0 0 0 0 0 0 0 0 0 0 0 0 0 0 0 0 0 0 0 0 0 0 0 0 0 0 0 0 0 0 0 0 0 0\n"
     ]
    }
   ],
   "source": [
    "# positive negative spectrum\n",
    "spectrum_data = BertTextClassificationDataLayer(input_file=spectrum_file,\n",
    "                                                tokenizer=tokenizer,\n",
    "                                                max_seq_length=MAX_SEQ_LEN,\n",
    "                                                batch_size=BATCH_SIZE)"
   ]
  },
  {
   "cell_type": "code",
   "execution_count": 28,
   "metadata": {},
   "outputs": [],
   "source": [
    "spectrum_input, spectrum_token_types, spectrum_attn_mask, spectrum_labels = spectrum_data()"
   ]
  },
  {
   "cell_type": "code",
   "execution_count": 29,
   "metadata": {},
   "outputs": [],
   "source": [
    "spectrum_embeddings = bert(input_ids=spectrum_input,\n",
    "                           token_type_ids=spectrum_token_types,\n",
    "                           attention_mask=spectrum_attn_mask)"
   ]
  },
  {
   "cell_type": "code",
   "execution_count": 30,
   "metadata": {},
   "outputs": [
    {
     "name": "stdout",
     "output_type": "stream",
     "text": [
      "[NeMo I 2020-05-28 17:10:19 actions:669] Evaluating batch 0 out of 1\n"
     ]
    }
   ],
   "source": [
    "spectrum_embeddings_tensors = nf.infer(tensors=[spectrum_embeddings])"
   ]
  },
  {
   "cell_type": "code",
   "execution_count": 31,
   "metadata": {},
   "outputs": [
    {
     "data": {
      "text/plain": [
       "torch.Size([20, 64, 768])"
      ]
     },
     "execution_count": 31,
     "metadata": {},
     "output_type": "execute_result"
    }
   ],
   "source": [
    "spectrum_embeddings_tensors[0][0].shape"
   ]
  },
  {
   "cell_type": "code",
   "execution_count": 32,
   "metadata": {},
   "outputs": [
    {
     "data": {
      "text/plain": [
       "<matplotlib.image.AxesImage at 0x7ff79398fb10>"
      ]
     },
     "execution_count": 32,
     "metadata": {},
     "output_type": "execute_result"
    },
    {
     "data": {
      "image/png": "[encoded data removed]",
      "text/plain": [
       "<Figure size 7200x7200 with 1 Axes>"
      ]
     },
     "metadata": {
      "needs_background": "light"
     },
     "output_type": "display_data"
    }
   ],
   "source": [
    "plt.figure(figsize=(100,100))\n",
    "plt.imshow(spectrum_embeddings_tensors[0][0][:,0,:].numpy())"
   ]
  },
  {
   "cell_type": "code",
   "execution_count": 33,
   "metadata": {},
   "outputs": [
    {
     "name": "stdout",
     "output_type": "stream",
     "text": [
      "[t-SNE] Computing 19 nearest neighbors...\n",
      "[t-SNE] Indexed 20 samples in 0.000s...\n",
      "[t-SNE] Computed neighbors for 20 samples in 0.001s...\n",
      "[t-SNE] Computed conditional probabilities for sample 20 / 20\n",
      "[t-SNE] Mean sigma: 2.210090\n",
      "[t-SNE] KL divergence after 100 iterations with early exaggeration: 35.170803\n",
      "[t-SNE] KL divergence after 900 iterations: 0.119485\n"
     ]
    },
    {
     "data": {
      "image/png": "[encoded data removed]",
      "text/plain": [
       "<Figure size 720x720 with 1 Axes>"
      ]
     },
     "metadata": {
      "needs_background": "light"
     },
     "output_type": "display_data"
    }
   ],
   "source": [
    "spectrum_activations = spectrum_embeddings_tensors[0][0][:,0,:].numpy()\n",
    "tsne_spectrum = TSNE(n_components=2, perplexity=10, verbose=1, learning_rate=2,\n",
    "                     random_state=123).fit_transform(spectrum_activations)\n",
    "\n",
    "fig = plt.figure(figsize=(10,10))\n",
    "plt.plot(tsne_spectrum[0:11, 0], tsne_spectrum[0:11, 1], 'rx')\n",
    "plt.plot(tsne_spectrum[11:, 0], tsne_spectrum[11:, 1], 'bo')\n",
    "for (x,y, label) in zip(tsne_spectrum[0:, 0], tsne_spectrum[0:, 1], spectrum_df.sentence.values.tolist() ):\n",
    "    plt.annotate(label, # this is the text\n",
    "                 (x,y), # this is the point to label\n",
    "                 textcoords=\"offset points\", # how to position the text\n",
    "                 xytext=(0,10), # distance from text to points (x,y)\n",
    "                 ha='center') # horizontal alignment can be left, right or center"
   ]
  },
  {
   "cell_type": "markdown",
   "metadata": {},
   "source": [
    "## Training Pipeline \n",
    "\n",
    "In order to optimize our network, we need to pass the embeddings through the MLP network and then compute the loss."
   ]
  },
  {
   "cell_type": "code",
   "execution_count": 34,
   "metadata": {},
   "outputs": [],
   "source": [
    "train_logits = mlp(hidden_states=train_embeddings)\n",
    "val_logits = mlp(hidden_states=val_embeddings)\n",
    "\n",
    "train_loss = loss(logits=train_logits, labels=train_labels)\n",
    "val_loss = loss(logits=val_logits, labels=val_labels)"
   ]
  },
  {
   "cell_type": "markdown",
   "metadata": {},
   "source": [
    "## Callbacks\n",
    "\n",
    "Callbacks are used to record and log metrics and save checkpoints for the training and evaluation. We use callbacks to print to screen and also to tensorboard.\n",
    "\n",
    "\n"
   ]
  },
  {
   "cell_type": "code",
   "execution_count": 35,
   "metadata": {},
   "outputs": [
    {
     "name": "stderr",
     "output_type": "stream",
     "text": [
      "[NeMo W 2020-05-28 17:10:19 deprecated:68] Function ``__init__`` is deprecated. It is going to be removed in the 0.12 version. The callback section of NeMo has been updated.\n"
     ]
    }
   ],
   "source": [
    "NUM_EPOCHS = 1\n",
    "NUM_GPUS = 1\n",
    "LEARNING_RATE = 1e-5\n",
    "OPTIMIZER = 'adam'\n",
    "\n",
    "train_data_size = len(train_data)\n",
    "steps_per_epoch = math.ceil(train_data_size / (BATCH_SIZE * NUM_GPUS))\n",
    "\n",
    "train_callback = nemo.core.SimpleLossLoggerCallback(tensors=[train_loss, train_logits],\n",
    "                            print_func=lambda x:nemo.logging.info(f'Train loss: {str(np.round(x[0].item(), 3))}'),\n",
    "                            tb_writer=nf.tb_writer,\n",
    "                            get_tb_values=lambda x: [[\"train_loss\", x[0]]],\n",
    "                            step_freq=steps_per_epoch)\n",
    "\n",
    "eval_callback = nemo.core.EvaluatorCallback(eval_tensors=[val_logits, val_labels],\n",
    "                                            user_iter_callback=lambda x, y: eval_iter_callback(x, y, val_data),\n",
    "                                            user_epochs_done_callback=lambda x:\n",
    "                                                eval_epochs_done_callback(x, f'{nf.work_dir}/graphs'),\n",
    "                                            tb_writer=nf.tb_writer,\n",
    "                                            eval_step=steps_per_epoch)\n",
    "\n",
    "# Create callback to save checkpoints\n",
    "ckpt_callback = nemo.core.CheckpointCallback(folder=nf.checkpoint_dir,\n",
    "                                             epoch_freq=1)"
   ]
  },
  {
   "cell_type": "code",
   "execution_count": 36,
   "metadata": {},
   "outputs": [],
   "source": [
    "lr_policy_fn = get_lr_policy('WarmupAnnealing',\n",
    "                             total_steps=NUM_EPOCHS * steps_per_epoch,\n",
    "                             warmup_ratio=0.1)"
   ]
  },
  {
   "cell_type": "code",
   "execution_count": 37,
   "metadata": {},
   "outputs": [
    {
     "name": "stdout",
     "output_type": "stream",
     "text": [
      "Selected optimization level O1:  Insert automatic casts around Pytorch functions and Tensor methods.\n",
      "\n",
      "Defaults for this optimization level are:\n",
      "enabled                : True\n",
      "opt_level              : O1\n",
      "cast_model_type        : None\n",
      "patch_torch_functions  : True\n",
      "keep_batchnorm_fp32    : None\n",
      "master_weights         : None\n",
      "loss_scale             : dynamic\n",
      "Processing user overrides (additional kwargs that are not None)...\n",
      "After processing overrides, optimization options are:\n",
      "enabled                : True\n",
      "opt_level              : O1\n",
      "cast_model_type        : None\n",
      "patch_torch_functions  : True\n",
      "keep_batchnorm_fp32    : None\n",
      "master_weights         : None\n",
      "loss_scale             : dynamic\n",
      "[NeMo I 2020-05-28 17:10:19 deprecated_callbacks:195] Starting .....\n",
      "[NeMo I 2020-05-28 17:10:20 callbacks:495] Found 2 modules with weights:\n",
      "[NeMo I 2020-05-28 17:10:20 callbacks:497] SequenceClassifier\n",
      "[NeMo I 2020-05-28 17:10:20 callbacks:497] BERT\n",
      "[NeMo I 2020-05-28 17:10:20 callbacks:498] Total model parameters: 110074370\n",
      "[NeMo I 2020-05-28 17:10:20 callbacks:448] Found checkpoint folder logs/checkpoints. Will attempt to restore checkpoints from it.\n"
     ]
    },
    {
     "name": "stderr",
     "output_type": "stream",
     "text": [
      "[NeMo W 2020-05-28 17:10:20 callbacks:465] For module BERT, no file matches  in logs/checkpoints\n",
      "[NeMo W 2020-05-28 17:10:20 callbacks:467] Checkpoint folder logs/checkpoints was present but nothing was restored. Continuing training from random initialization.\n",
      "[NeMo W 2020-05-28 17:10:20 deprecated:68] Function ``epoch_num`` is deprecated. It is going to be removed in the 0.12 version. epoch_num has been deprecated in favour of epoch.\n"
     ]
    },
    {
     "name": "stdout",
     "output_type": "stream",
     "text": [
      "[NeMo I 2020-05-28 17:10:20 deprecated_callbacks:207] Starting epoch 0\n",
      "[NeMo I 2020-05-28 17:10:21 deprecated_callbacks:232] Step: 0\n",
      "[NeMo I 2020-05-28 17:10:21 <ipython-input-35-eace42cd12f7>:10] Train loss: 0.695\n",
      "[NeMo I 2020-05-28 17:10:21 deprecated_callbacks:247] Step time: 0.37585926055908203 seconds\n",
      "[NeMo I 2020-05-28 17:10:21 deprecated_callbacks:311] Doing Evaluation ..............................\n",
      "[NeMo I 2020-05-28 17:10:29 text_classification_callback:57] Accuracy: 0.5350877192982456\n",
      "[NeMo I 2020-05-28 17:10:29 text_classification_callback:64] Sampled preds: [1 1 0 1 1 1 1 1 0 1 0 0 0 1 0 1 1 1 1 1]\n",
      "[NeMo I 2020-05-28 17:10:29 text_classification_callback:65] Sampled labels: [1 1 0 0 1 0 1 0 0 1 1 0 0 0 1 1 0 1 1 1]\n",
      "[NeMo I 2020-05-28 17:10:29 callback_utils:92] Confusion matrix:\n",
      "    [[3209 2741]\n",
      "     [3513 3989]]\n",
      "[NeMo I 2020-05-28 17:10:29 text_classification_callback:67]               precision    recall  f1-score   support\n",
      "    \n",
      "               0     0.4774    0.5393    0.5065      5950\n",
      "               1     0.5927    0.5317    0.5606      7502\n",
      "    \n",
      "       micro avg     0.5351    0.5351    0.5351     13452\n",
      "       macro avg     0.5351    0.5355    0.5335     13452\n",
      "    weighted avg     0.5417    0.5351    0.5366     13452\n",
      "    \n",
      "[NeMo I 2020-05-28 17:10:29 deprecated_callbacks:316] Evaluation time: 7.631103754043579 seconds\n",
      "[NeMo I 2020-05-28 17:11:29 deprecated_callbacks:215] Finished epoch 0 in 0:01:09.470700\n",
      "[NeMo I 2020-05-28 17:11:29 deprecated_callbacks:203] Done in 0:01:09.481295\n",
      "[NeMo I 2020-05-28 17:11:29 deprecated_callbacks:334] Final Evaluation ..............................\n",
      "[NeMo I 2020-05-28 17:11:37 text_classification_callback:57] Accuracy: 0.911685994647636\n",
      "[NeMo I 2020-05-28 17:11:37 text_classification_callback:64] Sampled preds: [0 0 0 1 0 0 1 0 0 1 0 1 1 1 1 1 1 0 0 0]\n",
      "[NeMo I 2020-05-28 17:11:37 text_classification_callback:65] Sampled labels: [0 0 0 1 1 0 1 0 1 1 0 1 1 1 0 1 1 0 0 0]\n",
      "[NeMo I 2020-05-28 17:11:37 callback_utils:92] Confusion matrix:\n",
      "    [[5383  567]\n",
      "     [ 621 6881]]\n",
      "[NeMo I 2020-05-28 17:11:37 text_classification_callback:67]               precision    recall  f1-score   support\n",
      "    \n",
      "               0     0.8966    0.9047    0.9006      5950\n",
      "               1     0.9239    0.9172    0.9205      7502\n",
      "    \n",
      "       micro avg     0.9117    0.9117    0.9117     13452\n",
      "       macro avg     0.9102    0.9110    0.9106     13452\n",
      "    weighted avg     0.9118    0.9117    0.9117     13452\n",
      "    \n",
      "[NeMo I 2020-05-28 17:11:37 deprecated_callbacks:339] Evaluation time: 7.835676431655884 seconds\n",
      "[NeMo I 2020-05-28 17:11:38 callbacks:440] Saved checkpoint: logs/checkpoints/trainer-EPOCH-1.pt\n",
      "CPU times: user 1min 11s, sys: 6.69 s, total: 1min 18s\n",
      "Wall time: 1min 18s\n"
     ]
    },
    {
     "data": {
      "image/png": "[encoded data removed]",
      "text/plain": [
       "<Figure size 432x288 with 2 Axes>"
      ]
     },
     "metadata": {
      "needs_background": "light"
     },
     "output_type": "display_data"
    },
    {
     "data": {
      "image/png": "[encoded data removed]",
      "text/plain": [
       "<Figure size 432x288 with 2 Axes>"
      ]
     },
     "metadata": {
      "needs_background": "light"
     },
     "output_type": "display_data"
    }
   ],
   "source": [
    "%%time\n",
    "nf.train(tensors_to_optimize=[train_loss],\n",
    "         callbacks=[train_callback, eval_callback, ckpt_callback],\n",
    "         lr_policy=lr_policy_fn,\n",
    "         optimizer=OPTIMIZER,\n",
    "         optimization_params={'num_epochs': NUM_EPOCHS, 'lr': LEARNING_RATE})"
   ]
  },
  {
   "cell_type": "markdown",
   "metadata": {},
   "source": [
    "## Multi-Gpu Training\n",
    "\n",
    "RESTART KERNEL BEFORE RUNNING THE MULTI-GPU TRAINING"
   ]
  },
  {
   "cell_type": "code",
   "execution_count": 38,
   "metadata": {},
   "outputs": [
    {
     "name": "stdout",
     "output_type": "stream",
     "text": [
      "/home/ebakhturina/anaconda3/envs/nemo/lib/python3.7/site-packages/tensorflow/python/framework/dtypes.py:516: FutureWarning: Passing (type, 1) or '1type' as a synonym of type is deprecated; in a future version of numpy, it will be understood as (type, (1,)) / '(1,)type'.\n",
      "  _np_qint8 = np.dtype([(\"qint8\", np.int8, 1)])\n",
      "/home/ebakhturina/anaconda3/envs/nemo/lib/python3.7/site-packages/tensorflow/python/framework/dtypes.py:517: FutureWarning: Passing (type, 1) or '1type' as a synonym of type is deprecated; in a future version of numpy, it will be understood as (type, (1,)) / '(1,)type'.\n",
      "  _np_quint8 = np.dtype([(\"quint8\", np.uint8, 1)])\n",
      "/home/ebakhturina/anaconda3/envs/nemo/lib/python3.7/site-packages/tensorflow/python/framework/dtypes.py:518: FutureWarning: Passing (type, 1) or '1type' as a synonym of type is deprecated; in a future version of numpy, it will be understood as (type, (1,)) / '(1,)type'.\n",
      "  _np_qint16 = np.dtype([(\"qint16\", np.int16, 1)])\n",
      "/home/ebakhturina/anaconda3/envs/nemo/lib/python3.7/site-packages/tensorflow/python/framework/dtypes.py:519: FutureWarning: Passing (type, 1) or '1type' as a synonym of type is deprecated; in a future version of numpy, it will be understood as (type, (1,)) / '(1,)type'.\n",
      "  _np_quint16 = np.dtype([(\"quint16\", np.uint16, 1)])\n",
      "/home/ebakhturina/anaconda3/envs/nemo/lib/python3.7/site-packages/tensorflow/python/framework/dtypes.py:520: FutureWarning: Passing (type, 1) or '1type' as a synonym of type is deprecated; in a future version of numpy, it will be understood as (type, (1,)) / '(1,)type'.\n",
      "  _np_qint32 = np.dtype([(\"qint32\", np.int32, 1)])\n",
      "/home/ebakhturina/anaconda3/envs/nemo/lib/python3.7/site-packages/tensorflow/python/framework/dtypes.py:525: FutureWarning: Passing (type, 1) or '1type' as a synonym of type is deprecated; in a future version of numpy, it will be understood as (type, (1,)) / '(1,)type'.\n",
      "  np_resource = np.dtype([(\"resource\", np.ubyte, 1)])\n",
      "[NeMo I 2020-05-28 17:11:48 bert_tokenizer:78] Deriving bert model type from pretrained model name.\n",
      "[NeMo I 2020-05-28 17:11:49 text_classification_descriptor:41] Three most popular classes in train dataset\n",
      "[NeMo I 2020-05-28 17:11:49 data_preprocessing:81] 0 item: 1, 30067 out of 53897, 0.5578603632855261.\n",
      "[NeMo I 2020-05-28 17:11:49 data_preprocessing:81] 1 item: 0, 23830 out of 53897, 0.4421396367144739.\n",
      "[NeMo I 2020-05-28 17:11:49 text_classification_descriptor:49] Class Weights: {1: 0.8962816376758572, 0: 1.130864456567352}\n",
      "[NeMo I 2020-05-28 17:11:49 text_classification_descriptor:51] Total Sentences: 53897\n",
      "[NeMo I 2020-05-28 17:11:49 text_classification_descriptor:52] Sentence class frequencies - {1: 30067, 0: 23830}\n",
      "[NeMo I 2020-05-28 17:11:49 text_classification_descriptor:41] Three most popular classes in eval dataset\n",
      "[NeMo I 2020-05-28 17:11:49 data_preprocessing:81] 0 item: 1, 7502 out of 13452, 0.5576865893547428.\n",
      "[NeMo I 2020-05-28 17:11:49 data_preprocessing:81] 1 item: 0, 5950 out of 13452, 0.4423134106452572.\n",
      "[NeMo I 2020-05-28 17:11:49 text_classification_descriptor:51] Total Sentences: 13452\n",
      "[NeMo I 2020-05-28 17:11:49 text_classification_descriptor:52] Sentence class frequencies - {1: 7502, 0: 5950}\n",
      "[NeMo I 2020-05-28 17:11:49 text_classification_with_bert:145] Loading train data...\n",
      "[NeMo I 2020-05-28 17:11:49 text_classification_dataset:217] features restored from /home/ebakhturina/data/glue_data/SST-2/split/cached_train_BertTokenizer_64_30522\n",
      "[NeMo I 2020-05-28 17:11:49 text_classification_with_bert:188] Steps_per_epoch = 211\n",
      "[NeMo I 2020-05-28 17:11:49 text_classification_with_bert:145] Loading eval data...\n",
      "[NeMo I 2020-05-28 17:11:49 text_classification_dataset:217] features restored from /home/ebakhturina/data/glue_data/SST-2/split/cached_eval_BertTokenizer_64_30522\n",
      "[NeMo W 2020-05-28 17:11:49 deprecated:68] Function ``__init__`` is deprecated. It is going to be removed in the 0.12 version. The callback section of NeMo has been updated.\n",
      "Selected optimization level O1:  Insert automatic casts around Pytorch functions and Tensor methods.\n",
      "\n",
      "Defaults for this optimization level are:\n",
      "enabled                : True\n",
      "opt_level              : O1\n",
      "cast_model_type        : None\n",
      "patch_torch_functions  : True\n",
      "keep_batchnorm_fp32    : None\n",
      "master_weights         : None\n",
      "loss_scale             : dynamic\n",
      "Processing user overrides (additional kwargs that are not None)...\n",
      "After processing overrides, optimization options are:\n",
      "enabled                : True\n",
      "opt_level              : O1\n",
      "cast_model_type        : None\n",
      "patch_torch_functions  : True\n",
      "keep_batchnorm_fp32    : None\n",
      "master_weights         : None\n",
      "loss_scale             : dynamic\n",
      "[NeMo I 2020-05-28 17:11:49 actions:1279] Doing distributed training\n",
      "[NeMo I 2020-05-28 17:11:49 deprecated_callbacks:195] Starting .....\n",
      "[NeMo I 2020-05-28 17:11:49 callbacks:495] Found 2 modules with weights:\n",
      "[NeMo I 2020-05-28 17:11:49 callbacks:497] SequenceClassifier\n",
      "[NeMo I 2020-05-28 17:11:49 callbacks:497] BERT\n",
      "[NeMo I 2020-05-28 17:11:49 callbacks:498] Total model parameters: 109483778\n",
      "[NeMo I 2020-05-28 17:11:49 callbacks:448] Found checkpoint folder logs/2020-05-28_17-11-46/checkpoints. Will attempt to restore checkpoints from it.\n",
      "[NeMo W 2020-05-28 17:11:49 callbacks:465] For module BERT, no file matches  in logs/2020-05-28_17-11-46/checkpoints\n",
      "[NeMo W 2020-05-28 17:11:49 callbacks:467] Checkpoint folder logs/2020-05-28_17-11-46/checkpoints was present but nothing was restored. Continuing training from random initialization.\n",
      "[NeMo W 2020-05-28 17:11:49 deprecated:68] Function ``epoch_num`` is deprecated. It is going to be removed in the 0.12 version. epoch_num has been deprecated in favour of epoch.\n",
      "[NeMo I 2020-05-28 17:11:49 deprecated_callbacks:207] Starting epoch 0\n",
      "[NeMo I 2020-05-28 17:11:50 deprecated_callbacks:232] Step: 0\n",
      "[NeMo I 2020-05-28 17:11:50 text_classification_with_bert:201] Loss: 0.706\n",
      "[NeMo I 2020-05-28 17:11:50 deprecated_callbacks:247] Step time: 0.34748339653015137 seconds\n",
      "[NeMo I 2020-05-28 17:11:50 deprecated_callbacks:311] Doing Evaluation ..............................\n",
      "[NeMo I 2020-05-28 17:11:57 text_classification_callback:57] Accuracy: 0.5457181088314005\n",
      "[NeMo I 2020-05-28 17:11:57 text_classification_callback:64] Sampled preds: [1 1 0 1 1 1 1 0 1 1 0 1 1 0 1 1 1 0 0 0]\n",
      "[NeMo I 2020-05-28 17:11:57 text_classification_callback:65] Sampled labels: [0 0 0 1 0 0 1 1 0 1 0 0 1 0 0 0 0 0 1 0]\n",
      "[NeMo I 2020-05-28 17:11:57 callback_utils:92] Confusion matrix:\n",
      "    [[1521 4429]\n",
      "     [1682 5820]]\n",
      "[NeMo I 2020-05-28 17:11:57 text_classification_callback:67]               precision    recall  f1-score   support\n",
      "    \n",
      "               0     0.4749    0.2556    0.3324      5950\n",
      "               1     0.5679    0.7758    0.6557      7502\n",
      "    \n",
      "       micro avg     0.5457    0.5457    0.5457     13452\n",
      "       macro avg     0.5214    0.5157    0.4940     13452\n",
      "    weighted avg     0.5267    0.5457    0.5127     13452\n",
      "    \n",
      "[NeMo I 2020-05-28 17:11:57 deprecated_callbacks:316] Evaluation time: 7.00876522064209 seconds\n",
      "[NeMo I 2020-05-28 17:12:04 deprecated_callbacks:232] Step: 25\n",
      "[NeMo I 2020-05-28 17:12:04 text_classification_with_bert:201] Loss: 0.415\n",
      "[NeMo I 2020-05-28 17:12:04 deprecated_callbacks:247] Step time: 0.28852272033691406 seconds\n",
      "[NeMo I 2020-05-28 17:12:12 deprecated_callbacks:232] Step: 50\n",
      "[NeMo I 2020-05-28 17:12:12 text_classification_with_bert:201] Loss: 0.342\n",
      "[NeMo I 2020-05-28 17:12:12 deprecated_callbacks:247] Step time: 0.28681421279907227 seconds\n",
      "[NeMo I 2020-05-28 17:12:19 deprecated_callbacks:232] Step: 75\n",
      "[NeMo I 2020-05-28 17:12:19 text_classification_with_bert:201] Loss: 0.223\n",
      "[NeMo I 2020-05-28 17:12:19 deprecated_callbacks:247] Step time: 0.2875847816467285 seconds\n",
      "[NeMo I 2020-05-28 17:12:26 deprecated_callbacks:232] Step: 100\n",
      "[NeMo I 2020-05-28 17:12:26 text_classification_with_bert:201] Loss: 0.300\n",
      "[NeMo I 2020-05-28 17:12:26 deprecated_callbacks:247] Step time: 0.28744053840637207 seconds\n",
      "[NeMo I 2020-05-28 17:12:26 deprecated_callbacks:311] Doing Evaluation ..............................\n",
      "[NeMo I 2020-05-28 17:12:33 text_classification_callback:57] Accuracy: 0.9155515908415106\n",
      "[NeMo I 2020-05-28 17:12:33 text_classification_callback:64] Sampled preds: [0 0 0 1 1 0 1 0 0 1 1 1 1 1 0 0 1 1 1 1]\n",
      "[NeMo I 2020-05-28 17:12:33 text_classification_callback:65] Sampled labels: [1 0 0 1 1 0 1 0 1 1 1 1 0 1 0 0 1 0 1 1]\n",
      "[NeMo I 2020-05-28 17:12:33 callback_utils:92] Confusion matrix:\n",
      "    [[5410  540]\n",
      "     [ 596 6906]]\n"
     ]
    },
    {
     "name": "stdout",
     "output_type": "stream",
     "text": [
      "[NeMo I 2020-05-28 17:12:33 text_classification_callback:67]               precision    recall  f1-score   support\n",
      "    \n",
      "               0     0.9008    0.9092    0.9050      5950\n",
      "               1     0.9275    0.9206    0.9240      7502\n",
      "    \n",
      "       micro avg     0.9156    0.9156    0.9156     13452\n",
      "       macro avg     0.9141    0.9149    0.9145     13452\n",
      "    weighted avg     0.9157    0.9156    0.9156     13452\n",
      "    \n",
      "[NeMo I 2020-05-28 17:12:33 deprecated_callbacks:316] Evaluation time: 6.971877098083496 seconds\n",
      "[NeMo I 2020-05-28 17:12:41 deprecated_callbacks:232] Step: 125\n",
      "[NeMo I 2020-05-28 17:12:41 text_classification_with_bert:201] Loss: 0.224\n",
      "[NeMo I 2020-05-28 17:12:41 deprecated_callbacks:247] Step time: 0.29041218757629395 seconds\n",
      "[NeMo I 2020-05-28 17:12:48 deprecated_callbacks:232] Step: 150\n",
      "[NeMo I 2020-05-28 17:12:48 text_classification_with_bert:201] Loss: 0.208\n",
      "[NeMo I 2020-05-28 17:12:48 deprecated_callbacks:247] Step time: 0.29053783416748047 seconds\n",
      "[NeMo I 2020-05-28 17:12:55 deprecated_callbacks:232] Step: 175\n",
      "[NeMo I 2020-05-28 17:12:55 text_classification_with_bert:201] Loss: 0.161\n",
      "[NeMo I 2020-05-28 17:12:55 deprecated_callbacks:247] Step time: 0.2928471565246582 seconds\n",
      "[NeMo I 2020-05-28 17:13:03 deprecated_callbacks:232] Step: 200\n",
      "[NeMo I 2020-05-28 17:13:03 text_classification_with_bert:201] Loss: 0.211\n",
      "[NeMo I 2020-05-28 17:13:03 deprecated_callbacks:247] Step time: 0.2959153652191162 seconds\n",
      "[NeMo I 2020-05-28 17:13:03 deprecated_callbacks:311] Doing Evaluation ..............................\n",
      "[NeMo I 2020-05-28 17:13:10 text_classification_callback:57] Accuracy: 0.9273713945881653\n",
      "[NeMo I 2020-05-28 17:13:10 text_classification_callback:64] Sampled preds: [1 0 1 0 0 1 0 1 0 1 0 0 0 0 1 0 0 1 1 0]\n",
      "[NeMo I 2020-05-28 17:13:10 text_classification_callback:65] Sampled labels: [1 0 1 0 0 1 0 1 0 1 0 0 0 0 1 0 1 1 1 0]\n",
      "[NeMo I 2020-05-28 17:13:10 callback_utils:92] Confusion matrix:\n",
      "    [[5457  493]\n",
      "     [ 484 7018]]\n",
      "[NeMo I 2020-05-28 17:13:10 text_classification_callback:67]               precision    recall  f1-score   support\n",
      "    \n",
      "               0     0.9185    0.9171    0.9178      5950\n",
      "               1     0.9344    0.9355    0.9349      7502\n",
      "    \n",
      "       micro avg     0.9274    0.9274    0.9274     13452\n",
      "       macro avg     0.9264    0.9263    0.9264     13452\n",
      "    weighted avg     0.9274    0.9274    0.9274     13452\n",
      "    \n",
      "[NeMo I 2020-05-28 17:13:10 deprecated_callbacks:316] Evaluation time: 7.005061864852905 seconds\n",
      "[NeMo I 2020-05-28 17:13:13 deprecated_callbacks:215] Finished epoch 0 in 0:01:23.839525\n",
      "[NeMo I 2020-05-28 17:13:13 deprecated_callbacks:203] Done in 0:01:23.842418\n",
      "[NeMo I 2020-05-28 17:13:13 deprecated_callbacks:334] Final Evaluation ..............................\n",
      "[NeMo I 2020-05-28 17:13:20 text_classification_callback:57] Accuracy: 0.9273713945881653\n",
      "[NeMo I 2020-05-28 17:13:20 text_classification_callback:64] Sampled preds: [1 0 1 1 0 0 0 0 0 1 0 1 1 0 1 1 1 0 0 1]\n",
      "[NeMo I 2020-05-28 17:13:20 text_classification_callback:65] Sampled labels: [1 0 1 1 0 0 0 0 0 1 0 1 1 0 1 1 0 0 0 1]\n",
      "[NeMo I 2020-05-28 17:13:20 callback_utils:92] Confusion matrix:\n",
      "    [[5451  499]\n",
      "     [ 478 7024]]\n",
      "[NeMo I 2020-05-28 17:13:20 text_classification_callback:67]               precision    recall  f1-score   support\n",
      "    \n",
      "               0     0.9194    0.9161    0.9178      5950\n",
      "               1     0.9337    0.9363    0.9350      7502\n",
      "    \n",
      "       micro avg     0.9274    0.9274    0.9274     13452\n",
      "       macro avg     0.9265    0.9262    0.9264     13452\n",
      "    weighted avg     0.9273    0.9274    0.9274     13452\n",
      "    \n",
      "[NeMo I 2020-05-28 17:13:20 deprecated_callbacks:339] Evaluation time: 6.980317831039429 seconds\n",
      "[NeMo I 2020-05-28 17:13:21 callbacks:440] Saved checkpoint: logs/2020-05-28_17-11-46/checkpoints/trainer-EPOCH-1.pt\n",
      "CPU times: user 2.08 s, sys: 506 ms, total: 2.58 s\n",
      "Wall time: 1min 43s\n"
     ]
    }
   ],
   "source": [
    "%%time\n",
    "num_gpus = 4\n",
    "!python -m torch.distributed.launch --nproc_per_node=$NUM_GPUS text_classification_with_bert.py \\\n",
    "--pretrained_model_name $PRETRAINED_MODEL_NAME \\\n",
    "--data_dir $SPLIT_DATA_DIR \\\n",
    "--train_file_prefix 'train' \\\n",
    "--eval_file_prefix 'eval' \\\n",
    "--use_cache \\\n",
    "--batch_size $BATCH_SIZE \\\n",
    "--max_seq_length 64 \\\n",
    "--num_gpus $NUM_GPUS \\\n",
    "--num_epochs $NUM_EPOCHS \\\n",
    "--amp_opt_level $AMP_OPTIMIZATION_LEVEL \\\n",
    "--work_dir $WORK_DIR"
   ]
  },
  {
   "cell_type": "markdown",
   "metadata": {},
   "source": [
    "## Inference Pipeline\n",
    "\n",
    "For inference we instantiate the same neural modules but now we will be using the checkpoints that we just learned."
   ]
  },
  {
   "cell_type": "code",
   "execution_count": 39,
   "metadata": {},
   "outputs": [
    {
     "name": "stdout",
     "output_type": "stream",
     "text": [
      "[NeMo I 2020-05-28 17:13:22 text_classification_dataset:82] /home/ebakhturina/data/glue_data/SST-2/split/test.tsv: 1821\n",
      "[NeMo I 2020-05-28 17:13:23 data_preprocessing:250] Min: 4 |                  Max: 64 |                  Mean: 24.85722130697419 |                  Median: 24.0\n",
      "[NeMo I 2020-05-28 17:13:23 data_preprocessing:252] 75 percentile: 32.0\n",
      "[NeMo I 2020-05-28 17:13:23 data_preprocessing:253] 99 percentile: 53.799999999999955\n",
      "[NeMo I 2020-05-28 17:13:23 text_classification_dataset:118] 0 out of 1821                         sentences with more than 64 subtokens.\n",
      "[NeMo I 2020-05-28 17:13:23 text_classification_dataset:175] *** Example ***\n",
      "[NeMo I 2020-05-28 17:13:23 text_classification_dataset:176] example_index: 0\n",
      "[NeMo I 2020-05-28 17:13:23 text_classification_dataset:177] subtokens: [CLS] uneasy mis ##hma ##sh of styles and genres . [SEP]\n",
      "[NeMo I 2020-05-28 17:13:23 text_classification_dataset:178] sent_label: 0\n",
      "[NeMo I 2020-05-28 17:13:23 text_classification_dataset:179] input_ids: 101 15491 28616 22444 4095 1997 6782 1998 11541 1012 102 0 0 0 0 0 0 0 0 0 0 0 0 0 0 0 0 0 0 0 0 0 0 0 0 0 0 0 0 0 0 0 0 0 0 0 0 0 0 0 0 0 0 0 0 0 0 0 0 0 0 0 0 0\n",
      "[NeMo I 2020-05-28 17:13:23 text_classification_dataset:180] input_mask: 1 1 1 1 1 1 1 1 1 1 1 0 0 0 0 0 0 0 0 0 0 0 0 0 0 0 0 0 0 0 0 0 0 0 0 0 0 0 0 0 0 0 0 0 0 0 0 0 0 0 0 0 0 0 0 0 0 0 0 0 0 0 0 0\n",
      "[NeMo I 2020-05-28 17:13:23 text_classification_dataset:175] *** Example ***\n",
      "[NeMo I 2020-05-28 17:13:23 text_classification_dataset:176] example_index: 1\n",
      "[NeMo I 2020-05-28 17:13:23 text_classification_dataset:177] subtokens: [CLS] this film ' s relationship to actual tension is the same as what christmas - tree flock ##ing in a spray can is to actual snow : a poor - - if durable - - imitation . [SEP]\n",
      "[NeMo I 2020-05-28 17:13:23 text_classification_dataset:178] sent_label: 0\n",
      "[NeMo I 2020-05-28 17:13:23 text_classification_dataset:179] input_ids: 101 2023 2143 1005 1055 3276 2000 5025 6980 2003 1996 2168 2004 2054 4234 1011 3392 19311 2075 1999 1037 12509 2064 2003 2000 5025 4586 1024 1037 3532 1011 1011 2065 25634 1011 1011 20017 1012 102 0 0 0 0 0 0 0 0 0 0 0 0 0 0 0 0 0 0 0 0 0 0 0 0 0\n",
      "[NeMo I 2020-05-28 17:13:23 text_classification_dataset:180] input_mask: 1 1 1 1 1 1 1 1 1 1 1 1 1 1 1 1 1 1 1 1 1 1 1 1 1 1 1 1 1 1 1 1 1 1 1 1 1 1 1 0 0 0 0 0 0 0 0 0 0 0 0 0 0 0 0 0 0 0 0 0 0 0 0 0\n",
      "[NeMo I 2020-05-28 17:13:23 text_classification_dataset:175] *** Example ***\n",
      "[NeMo I 2020-05-28 17:13:23 text_classification_dataset:176] example_index: 2\n",
      "[NeMo I 2020-05-28 17:13:23 text_classification_dataset:177] subtokens: [CLS] by the end of no such thing the audience , like beatrice , has a watch ##ful affection for the monster . [SEP]\n",
      "[NeMo I 2020-05-28 17:13:23 text_classification_dataset:178] sent_label: 0\n",
      "[NeMo I 2020-05-28 17:13:23 text_classification_dataset:179] input_ids: 101 2011 1996 2203 1997 2053 2107 2518 1996 4378 1010 2066 14807 1010 2038 1037 3422 3993 12242 2005 1996 6071 1012 102 0 0 0 0 0 0 0 0 0 0 0 0 0 0 0 0 0 0 0 0 0 0 0 0 0 0 0 0 0 0 0 0 0 0 0 0 0 0 0 0\n",
      "[NeMo I 2020-05-28 17:13:23 text_classification_dataset:180] input_mask: 1 1 1 1 1 1 1 1 1 1 1 1 1 1 1 1 1 1 1 1 1 1 1 1 0 0 0 0 0 0 0 0 0 0 0 0 0 0 0 0 0 0 0 0 0 0 0 0 0 0 0 0 0 0 0 0 0 0 0 0 0 0 0 0\n",
      "[NeMo I 2020-05-28 17:13:23 text_classification_dataset:175] *** Example ***\n",
      "[NeMo I 2020-05-28 17:13:23 text_classification_dataset:176] example_index: 3\n",
      "[NeMo I 2020-05-28 17:13:23 text_classification_dataset:177] subtokens: [CLS] director rob marshall went out gunn ##ing to make a great one . [SEP]\n",
      "[NeMo I 2020-05-28 17:13:23 text_classification_dataset:178] sent_label: 0\n",
      "[NeMo I 2020-05-28 17:13:23 text_classification_dataset:179] input_ids: 101 2472 6487 5832 2253 2041 22079 2075 2000 2191 1037 2307 2028 1012 102 0 0 0 0 0 0 0 0 0 0 0 0 0 0 0 0 0 0 0 0 0 0 0 0 0 0 0 0 0 0 0 0 0 0 0 0 0 0 0 0 0 0 0 0 0 0 0 0 0\n",
      "[NeMo I 2020-05-28 17:13:23 text_classification_dataset:180] input_mask: 1 1 1 1 1 1 1 1 1 1 1 1 1 1 1 0 0 0 0 0 0 0 0 0 0 0 0 0 0 0 0 0 0 0 0 0 0 0 0 0 0 0 0 0 0 0 0 0 0 0 0 0 0 0 0 0 0 0 0 0 0 0 0 0\n",
      "[NeMo I 2020-05-28 17:13:23 text_classification_dataset:175] *** Example ***\n",
      "[NeMo I 2020-05-28 17:13:23 text_classification_dataset:176] example_index: 4\n",
      "[NeMo I 2020-05-28 17:13:23 text_classification_dataset:177] subtokens: [CLS] la ##than and dig ##gs have considerable personal charm , and their screen rap ##port makes the old story seem new . [SEP]\n",
      "[NeMo I 2020-05-28 17:13:23 text_classification_dataset:178] sent_label: 0\n",
      "[NeMo I 2020-05-28 17:13:23 text_classification_dataset:179] input_ids: 101 2474 21604 1998 10667 5620 2031 6196 3167 11084 1010 1998 2037 3898 9680 6442 3084 1996 2214 2466 4025 2047 1012 102 0 0 0 0 0 0 0 0 0 0 0 0 0 0 0 0 0 0 0 0 0 0 0 0 0 0 0 0 0 0 0 0 0 0 0 0 0 0 0 0\n",
      "[NeMo I 2020-05-28 17:13:23 text_classification_dataset:180] input_mask: 1 1 1 1 1 1 1 1 1 1 1 1 1 1 1 1 1 1 1 1 1 1 1 1 0 0 0 0 0 0 0 0 0 0 0 0 0 0 0 0 0 0 0 0 0 0 0 0 0 0 0 0 0 0 0 0 0 0 0 0 0 0 0 0\n"
     ]
    }
   ],
   "source": [
    "test_data = BertTextClassificationDataLayer(input_file=os.path.join(SPLIT_DATA_DIR, 'test.tsv'),\n",
    "                                            tokenizer=tokenizer,\n",
    "                                            max_seq_length=MAX_SEQ_LEN,\n",
    "                                            batch_size=BATCH_SIZE)"
   ]
  },
  {
   "cell_type": "code",
   "execution_count": 40,
   "metadata": {},
   "outputs": [],
   "source": [
    "test_input, test_token_types, test_attn_mask, _ = test_data()\n",
    "test_embeddings = bert(input_ids=test_input,\n",
    "                        token_type_ids=test_token_types,\n",
    "                        attention_mask=test_attn_mask)\n",
    "test_logits = mlp(hidden_states=test_embeddings)"
   ]
  },
  {
   "cell_type": "code",
   "execution_count": 41,
   "metadata": {},
   "outputs": [
    {
     "name": "stdout",
     "output_type": "stream",
     "text": [
      "[NeMo I 2020-05-28 17:13:24 actions:669] Evaluating batch 0 out of 8\n",
      "[NeMo I 2020-05-28 17:13:25 actions:669] Evaluating batch 1 out of 8\n",
      "[NeMo I 2020-05-28 17:13:25 actions:669] Evaluating batch 2 out of 8\n",
      "[NeMo I 2020-05-28 17:13:25 actions:669] Evaluating batch 3 out of 8\n",
      "[NeMo I 2020-05-28 17:13:25 actions:669] Evaluating batch 4 out of 8\n",
      "[NeMo I 2020-05-28 17:13:25 actions:669] Evaluating batch 5 out of 8\n",
      "[NeMo I 2020-05-28 17:13:25 actions:669] Evaluating batch 6 out of 8\n",
      "[NeMo I 2020-05-28 17:13:25 actions:669] Evaluating batch 7 out of 8\n",
      "CPU times: user 774 ms, sys: 1.86 s, total: 2.64 s\n",
      "Wall time: 2.59 s\n"
     ]
    }
   ],
   "source": [
    "%%time\n",
    "test_logits_tensors = nf.infer(tensors=[test_logits])"
   ]
  },
  {
   "cell_type": "code",
   "execution_count": 42,
   "metadata": {},
   "outputs": [
    {
     "name": "stderr",
     "output_type": "stream",
     "text": [
      "/home/ebakhturina/anaconda3/envs/nemo/lib/python3.7/site-packages/apex/amp/wrap.py:28: UserWarning: Implicit dimension choice for softmax has been deprecated. Change the call to include dim=X as an argument.\n",
      "  return orig_fn(*new_args, **kwargs)\n"
     ]
    }
   ],
   "source": [
    "test_probs = torch.nn.functional.softmax(torch.cat(test_logits_tensors[0])).numpy()[:, 1] "
   ]
  },
  {
   "cell_type": "code",
   "execution_count": 43,
   "metadata": {},
   "outputs": [],
   "source": [
    "test_df = pd.read_csv(os.path.join(SPLIT_DATA_DIR, 'test.tsv'), sep='\\t')"
   ]
  },
  {
   "cell_type": "code",
   "execution_count": 44,
   "metadata": {},
   "outputs": [],
   "source": [
    "test_df['prob'] = test_probs \n",
    "inference_file = os.path.join(SPLIT_DATA_DIR, 'test_inference.tsv')\n",
    "test_df.to_csv(inference_file, sep='\\t', index=False)"
   ]
  },
  {
   "cell_type": "code",
   "execution_count": 45,
   "metadata": {},
   "outputs": [],
   "source": [
    "def sample_classification(data_path):\n",
    "    df = pd.read_csv(data_path, sep='\\t')\n",
    "    sample = df.sample()\n",
    "    sentence = sample.sentence.values[0]\n",
    "    prob = sample.prob.values[0]\n",
    "    result = f'{sentence} | {prob}'\n",
    "    return result"
   ]
  },
  {
   "cell_type": "code",
   "execution_count": 46,
   "metadata": {},
   "outputs": [
    {
     "name": "stdout",
     "output_type": "stream",
     "text": [
      "the story ... is moldy and obvious . | 0.026556572\n",
      "this idea has lost its originality ... and neither star appears very excited at rehashing what was basically a one-joke picture . | 0.031499382\n",
      "the plot grinds on with yawn-provoking dullness . | 0.030588808\n",
      "an offbeat , sometimes gross and surprisingly appealing animated film about the true meaning of the holidays . | 0.9845458\n",
      "at first , the sight of a blind man directing a film is hilarious , but as the film goes on , the joke wears thin . | 0.07857165\n",
      "like the film 's almost anthropologically detailed realization of early - '80s suburbia , it 's significant without being overstated . | 0.98240626\n",
      "there 's something fundamental missing from this story : something or someone to care about . | 0.17831111\n",
      "thoughtful , even stinging at times , and lots of fun . | 0.9891187\n",
      "demands too much of most viewers . | 0.036356665\n",
      "a romantic comedy , yes , but one with characters who think and talk about their goals , and are working on hard decisions . | 0.95136863\n"
     ]
    }
   ],
   "source": [
    "num_samples = 10\n",
    "for _ in range(num_samples):\n",
    "    print(sample_classification(inference_file))"
   ]
  },
  {
   "cell_type": "markdown",
   "metadata": {},
   "source": [
    "## Inference Results:\n",
    "the film is just a big , gorgeous , mind-blowing , breath-taking mess . | 0.2738656\n",
    "\n",
    "a sensual performance from abbass buoys the flimsy story , but her inner journey is largely unexplored and we 're left wondering about this exotic-looking woman whose emotional depths are only hinted at . | 0.48260054"
   ]
  },
  {
   "cell_type": "markdown",
   "metadata": {},
   "source": [
    "## Single sentence classification"
   ]
  },
  {
   "cell_type": "code",
   "execution_count": 47,
   "metadata": {},
   "outputs": [],
   "source": [
    "def classify_sentence(nf, tokenizer, bert, mlp, sentence):\n",
    "    sentence = sentence.lower()\n",
    "    tmp_file = \"/tmp/tmp_sentence.tsv\"\n",
    "    with open(tmp_file, 'w+') as tmp_tsv:\n",
    "        header = 'sentence\\tlabel\\n'\n",
    "        line = sentence + '\\t0\\n'\n",
    "        tmp_tsv.writelines([header, line])\n",
    "\n",
    "    tmp_data = BertTextClassificationDataLayer(input_file=tmp_file,\n",
    "                                               tokenizer=tokenizer,\n",
    "                                               max_seq_length=128,\n",
    "                                               batch_size=1)\n",
    "    \n",
    "    tmp_input, tmp_token_types, tmp_attn_mask, _ = tmp_data()\n",
    "    tmp_embeddings = bert(input_ids=tmp_input,\n",
    "                          token_type_ids=tmp_token_types,\n",
    "                          attention_mask=tmp_attn_mask)\n",
    "    tmp_logits = mlp(hidden_states=tmp_embeddings)\n",
    "    tmp_logits_tensors = nf.infer(tensors=[tmp_logits, tmp_embeddings])\n",
    "    tmp_probs = torch.nn.functional.softmax(torch.cat(tmp_logits_tensors[0])).numpy()[:, 1] \n",
    "    print(f'{sentence} | {tmp_probs[0]}')"
   ]
  },
  {
   "cell_type": "code",
   "execution_count": 48,
   "metadata": {},
   "outputs": [
    {
     "name": "stdout",
     "output_type": "stream",
     "text": [
      "[NeMo I 2020-05-28 17:13:26 text_classification_dataset:82] /tmp/tmp_sentence.tsv: 1\n",
      "[NeMo I 2020-05-28 17:13:26 data_preprocessing:250] Min: 11 |                  Max: 11 |                  Mean: 11.0 |                  Median: 11.0\n",
      "[NeMo I 2020-05-28 17:13:26 data_preprocessing:252] 75 percentile: 11.0\n",
      "[NeMo I 2020-05-28 17:13:26 data_preprocessing:253] 99 percentile: 11.0\n",
      "[NeMo I 2020-05-28 17:13:26 text_classification_dataset:118] 0 out of 1                         sentences with more than 128 subtokens.\n",
      "[NeMo I 2020-05-28 17:13:26 text_classification_dataset:175] *** Example ***\n",
      "[NeMo I 2020-05-28 17:13:26 text_classification_dataset:176] example_index: 0\n",
      "[NeMo I 2020-05-28 17:13:26 text_classification_dataset:177] subtokens: [CLS] point break is the best movie of all time [SEP]\n",
      "[NeMo I 2020-05-28 17:13:26 text_classification_dataset:178] sent_label: 0\n",
      "[NeMo I 2020-05-28 17:13:26 text_classification_dataset:179] input_ids: 101 2391 3338 2003 1996 2190 3185 1997 2035 2051 102 0 0 0 0 0 0 0 0 0 0 0 0 0 0 0 0 0 0 0 0 0 0 0 0 0 0 0 0 0 0 0 0 0 0 0 0 0 0 0 0 0 0 0 0 0 0 0 0 0 0 0 0 0 0 0 0 0 0 0 0 0 0 0 0 0 0 0 0 0 0 0 0 0 0 0 0 0 0 0 0 0 0 0 0 0 0 0 0 0 0 0 0 0 0 0 0 0 0 0 0 0 0 0 0 0 0 0 0 0 0 0 0 0 0 0 0 0\n",
      "[NeMo I 2020-05-28 17:13:26 text_classification_dataset:180] input_mask: 1 1 1 1 1 1 1 1 1 1 1 0 0 0 0 0 0 0 0 0 0 0 0 0 0 0 0 0 0 0 0 0 0 0 0 0 0 0 0 0 0 0 0 0 0 0 0 0 0 0 0 0 0 0 0 0 0 0 0 0 0 0 0 0 0 0 0 0 0 0 0 0 0 0 0 0 0 0 0 0 0 0 0 0 0 0 0 0 0 0 0 0 0 0 0 0 0 0 0 0 0 0 0 0 0 0 0 0 0 0 0 0 0 0 0 0 0 0 0 0 0 0 0 0 0 0 0 0\n",
      "[NeMo I 2020-05-28 17:13:27 actions:669] Evaluating batch 0 out of 1\n",
      "point break is the best movie of all time | 0.9826410412788391\n",
      "[NeMo I 2020-05-28 17:13:27 text_classification_dataset:82] /tmp/tmp_sentence.tsv: 1\n",
      "[NeMo I 2020-05-28 17:13:27 data_preprocessing:250] Min: 15 |                  Max: 15 |                  Mean: 15.0 |                  Median: 15.0\n",
      "[NeMo I 2020-05-28 17:13:27 data_preprocessing:252] 75 percentile: 15.0\n",
      "[NeMo I 2020-05-28 17:13:27 data_preprocessing:253] 99 percentile: 15.0\n",
      "[NeMo I 2020-05-28 17:13:27 text_classification_dataset:118] 0 out of 1                         sentences with more than 128 subtokens.\n",
      "[NeMo I 2020-05-28 17:13:27 text_classification_dataset:175] *** Example ***\n",
      "[NeMo I 2020-05-28 17:13:27 text_classification_dataset:176] example_index: 0\n",
      "[NeMo I 2020-05-28 17:13:27 text_classification_dataset:177] subtokens: [CLS] the movie was a wonderful exercise in understanding the struggles of native americans [SEP]\n",
      "[NeMo I 2020-05-28 17:13:27 text_classification_dataset:178] sent_label: 0\n",
      "[NeMo I 2020-05-28 17:13:27 text_classification_dataset:179] input_ids: 101 1996 3185 2001 1037 6919 6912 1999 4824 1996 11785 1997 3128 4841 102 0 0 0 0 0 0 0 0 0 0 0 0 0 0 0 0 0 0 0 0 0 0 0 0 0 0 0 0 0 0 0 0 0 0 0 0 0 0 0 0 0 0 0 0 0 0 0 0 0 0 0 0 0 0 0 0 0 0 0 0 0 0 0 0 0 0 0 0 0 0 0 0 0 0 0 0 0 0 0 0 0 0 0 0 0 0 0 0 0 0 0 0 0 0 0 0 0 0 0 0 0 0 0 0 0 0 0 0 0 0 0 0 0\n",
      "[NeMo I 2020-05-28 17:13:27 text_classification_dataset:180] input_mask: 1 1 1 1 1 1 1 1 1 1 1 1 1 1 1 0 0 0 0 0 0 0 0 0 0 0 0 0 0 0 0 0 0 0 0 0 0 0 0 0 0 0 0 0 0 0 0 0 0 0 0 0 0 0 0 0 0 0 0 0 0 0 0 0 0 0 0 0 0 0 0 0 0 0 0 0 0 0 0 0 0 0 0 0 0 0 0 0 0 0 0 0 0 0 0 0 0 0 0 0 0 0 0 0 0 0 0 0 0 0 0 0 0 0 0 0 0 0 0 0 0 0 0 0 0 0 0 0\n",
      "[NeMo I 2020-05-28 17:13:29 actions:669] Evaluating batch 0 out of 1\n",
      "the movie was a wonderful exercise in understanding the struggles of native americans | 0.9858549237251282\n",
      "[NeMo I 2020-05-28 17:13:29 text_classification_dataset:82] /tmp/tmp_sentence.tsv: 1\n",
      "[NeMo I 2020-05-28 17:13:29 data_preprocessing:250] Min: 16 |                  Max: 16 |                  Mean: 16.0 |                  Median: 16.0\n",
      "[NeMo I 2020-05-28 17:13:29 data_preprocessing:252] 75 percentile: 16.0\n",
      "[NeMo I 2020-05-28 17:13:29 data_preprocessing:253] 99 percentile: 16.0\n",
      "[NeMo I 2020-05-28 17:13:29 text_classification_dataset:118] 0 out of 1                         sentences with more than 128 subtokens.\n",
      "[NeMo I 2020-05-28 17:13:29 text_classification_dataset:175] *** Example ***\n",
      "[NeMo I 2020-05-28 17:13:29 text_classification_dataset:176] example_index: 0\n",
      "[NeMo I 2020-05-28 17:13:29 text_classification_dataset:177] subtokens: [CLS] the performance of diego luna had me excited and annoyed at the same time [SEP]\n",
      "[NeMo I 2020-05-28 17:13:29 text_classification_dataset:178] sent_label: 0\n",
      "[NeMo I 2020-05-28 17:13:29 text_classification_dataset:179] input_ids: 101 1996 2836 1997 5277 12909 2018 2033 7568 1998 11654 2012 1996 2168 2051 102 0 0 0 0 0 0 0 0 0 0 0 0 0 0 0 0 0 0 0 0 0 0 0 0 0 0 0 0 0 0 0 0 0 0 0 0 0 0 0 0 0 0 0 0 0 0 0 0 0 0 0 0 0 0 0 0 0 0 0 0 0 0 0 0 0 0 0 0 0 0 0 0 0 0 0 0 0 0 0 0 0 0 0 0 0 0 0 0 0 0 0 0 0 0 0 0 0 0 0 0 0 0 0 0 0 0 0 0 0 0 0 0\n",
      "[NeMo I 2020-05-28 17:13:29 text_classification_dataset:180] input_mask: 1 1 1 1 1 1 1 1 1 1 1 1 1 1 1 1 0 0 0 0 0 0 0 0 0 0 0 0 0 0 0 0 0 0 0 0 0 0 0 0 0 0 0 0 0 0 0 0 0 0 0 0 0 0 0 0 0 0 0 0 0 0 0 0 0 0 0 0 0 0 0 0 0 0 0 0 0 0 0 0 0 0 0 0 0 0 0 0 0 0 0 0 0 0 0 0 0 0 0 0 0 0 0 0 0 0 0 0 0 0 0 0 0 0 0 0 0 0 0 0 0 0 0 0 0 0 0 0\n",
      "[NeMo I 2020-05-28 17:13:31 actions:669] Evaluating batch 0 out of 1\n",
      "the performance of diego luna had me excited and annoyed at the same time | 0.42901065945625305\n",
      "[NeMo I 2020-05-28 17:13:31 text_classification_dataset:82] /tmp/tmp_sentence.tsv: 1\n",
      "[NeMo I 2020-05-28 17:13:31 data_preprocessing:250] Min: 12 |                  Max: 12 |                  Mean: 12.0 |                  Median: 12.0\n",
      "[NeMo I 2020-05-28 17:13:31 data_preprocessing:252] 75 percentile: 12.0\n",
      "[NeMo I 2020-05-28 17:13:31 data_preprocessing:253] 99 percentile: 12.0\n",
      "[NeMo I 2020-05-28 17:13:31 text_classification_dataset:118] 0 out of 1                         sentences with more than 128 subtokens.\n",
      "[NeMo I 2020-05-28 17:13:31 text_classification_dataset:175] *** Example ***\n",
      "[NeMo I 2020-05-28 17:13:31 text_classification_dataset:176] example_index: 0\n",
      "[NeMo I 2020-05-28 17:13:31 text_classification_dataset:177] subtokens: [CLS] matt damon is the only good thing about this film [SEP]\n",
      "[NeMo I 2020-05-28 17:13:31 text_classification_dataset:178] sent_label: 0\n",
      "[NeMo I 2020-05-28 17:13:31 text_classification_dataset:179] input_ids: 101 4717 11317 2003 1996 2069 2204 2518 2055 2023 2143 102 0 0 0 0 0 0 0 0 0 0 0 0 0 0 0 0 0 0 0 0 0 0 0 0 0 0 0 0 0 0 0 0 0 0 0 0 0 0 0 0 0 0 0 0 0 0 0 0 0 0 0 0 0 0 0 0 0 0 0 0 0 0 0 0 0 0 0 0 0 0 0 0 0 0 0 0 0 0 0 0 0 0 0 0 0 0 0 0 0 0 0 0 0 0 0 0 0 0 0 0 0 0 0 0 0 0 0 0 0 0 0 0 0 0 0 0\n",
      "[NeMo I 2020-05-28 17:13:31 text_classification_dataset:180] input_mask: 1 1 1 1 1 1 1 1 1 1 1 1 0 0 0 0 0 0 0 0 0 0 0 0 0 0 0 0 0 0 0 0 0 0 0 0 0 0 0 0 0 0 0 0 0 0 0 0 0 0 0 0 0 0 0 0 0 0 0 0 0 0 0 0 0 0 0 0 0 0 0 0 0 0 0 0 0 0 0 0 0 0 0 0 0 0 0 0 0 0 0 0 0 0 0 0 0 0 0 0 0 0 0 0 0 0 0 0 0 0 0 0 0 0 0 0 0 0 0 0 0 0 0 0 0 0 0 0\n",
      "[NeMo I 2020-05-28 17:13:33 actions:669] Evaluating batch 0 out of 1\n",
      "matt damon is the only good thing about this film | 0.640129804611206\n"
     ]
    }
   ],
   "source": [
    "sentences = ['point break is the best movie of all time',\n",
    "             'the movie was a wonderful exercise in understanding the struggles of native americans',\n",
    "             'the performance of diego luna had me excited and annoyed at the same time',\n",
    "             'matt damon is the only good thing about this film']\n",
    "\n",
    "for sentence in sentences:\n",
    "    classify_sentence(nf, tokenizer, bert, mlp, sentence)"
   ]
  },
  {
   "cell_type": "markdown",
   "metadata": {},
   "source": [
    "## Understanding and Visualizing BERT Embeddings\n",
    "\n",
    "Now that we've fine-tuned our BERT model, let's see if the word embeddings have changed."
   ]
  },
  {
   "cell_type": "code",
   "execution_count": 49,
   "metadata": {},
   "outputs": [
    {
     "name": "stdout",
     "output_type": "stream",
     "text": [
      "[NeMo I 2020-05-28 17:13:34 actions:669] Evaluating batch 0 out of 1\n"
     ]
    },
    {
     "data": {
      "text/plain": [
       "<matplotlib.image.AxesImage at 0x7ff828699250>"
      ]
     },
     "execution_count": 49,
     "metadata": {},
     "output_type": "execute_result"
    },
    {
     "data": {
      "image/png": "[encoded data removed]",
      "text/plain": [
       "<Figure size 7200x7200 with 1 Axes>"
      ]
     },
     "metadata": {
      "needs_background": "light"
     },
     "output_type": "display_data"
    }
   ],
   "source": [
    "spectrum_embeddings = bert(input_ids=spectrum_input,\n",
    "                           token_type_ids=spectrum_token_types,\n",
    "                           attention_mask=spectrum_attn_mask)\n",
    "\n",
    "spectrum_embeddings_tensors = nf.infer(tensors=[spectrum_embeddings])\n",
    "\n",
    "plt.figure(figsize=(100,100))\n",
    "plt.imshow(spectrum_embeddings_tensors[0][0][:,0,:].numpy())"
   ]
  },
  {
   "cell_type": "code",
   "execution_count": 50,
   "metadata": {},
   "outputs": [
    {
     "name": "stdout",
     "output_type": "stream",
     "text": [
      "[t-SNE] Computing 19 nearest neighbors...\n",
      "[t-SNE] Indexed 20 samples in 0.000s...\n",
      "[t-SNE] Computed neighbors for 20 samples in 0.001s...\n",
      "[t-SNE] Computed conditional probabilities for sample 20 / 20\n",
      "[t-SNE] Mean sigma: 11.588557\n",
      "[t-SNE] KL divergence after 250 iterations with early exaggeration: 33.095665\n",
      "[t-SNE] KL divergence after 800 iterations: 0.001649\n"
     ]
    },
    {
     "data": {
      "image/png": "[encoded data removed]",
      "text/plain": [
       "<Figure size 720x720 with 1 Axes>"
      ]
     },
     "metadata": {
      "needs_background": "light"
     },
     "output_type": "display_data"
    }
   ],
   "source": [
    "spectrum_activations = spectrum_embeddings_tensors[0][0][:,0,:].numpy()\n",
    "tsne_spectrum = TSNE(n_components=2, perplexity=10, verbose=1, learning_rate=2,\n",
    "                     random_state=123).fit_transform(spectrum_activations)\n",
    "\n",
    "fig = plt.figure(figsize=(10,10))\n",
    "plt.plot(tsne_spectrum[0:11, 0], tsne_spectrum[0:11, 1], 'rx')\n",
    "plt.plot(tsne_spectrum[11:, 0], tsne_spectrum[11:, 1], 'bo')\n",
    "for (x,y, label) in zip(tsne_spectrum[0:, 0], tsne_spectrum[0:, 1], spectrum_df.sentence.values.tolist() ):\n",
    "    plt.annotate(label, # this is the text\n",
    "                 (x,y), # this is the point to label\n",
    "                 textcoords=\"offset points\", # how to position the text\n",
    "                 xytext=(0,10), # distance from text to points (x,y)\n",
    "                 ha='center') # horizontal alignment can be left, right or center"
   ]
  },
  {
   "cell_type": "code",
   "execution_count": null,
   "metadata": {},
   "outputs": [],
   "source": []
  }
 ],
 "metadata": {
  "kernelspec": {
   "display_name": "Python 3",
   "language": "python",
   "name": "python3"
  },
  "language_info": {
   "codemirror_mode": {
    "name": "ipython",
    "version": 3
   },
   "file_extension": ".py",
   "mimetype": "text/x-python",
   "name": "python",
   "nbconvert_exporter": "python",
   "pygments_lexer": "ipython3",
   "version": "3.7.6"
  },
  "pycharm": {
   "stem_cell": {
    "cell_type": "raw",
    "metadata": {
     "collapsed": false
    },
    "source": []
   }
  }
 },
 "nbformat": 4,
 "nbformat_minor": 4
}
