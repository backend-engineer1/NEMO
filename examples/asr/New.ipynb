{
 "cells": [
  {
   "cell_type": "markdown",
   "metadata": {},
   "source": [
    "# Proposed changes\n",
    "\n",
    "* Drop (empty) multi-backend promise\n",
    "* Make all Models and Modules Pytorch-compatible out-of-the box\n",
    "* Provide training/fine-tuning examples using Pytorch Lightning\n",
    "* Neural Types are now optional and can do more when used"
   ]
  },
  {
   "cell_type": "markdown",
   "metadata": {},
   "source": [
    "## 1. NeMo/Jarvis fine-tuning example\n",
    "\n",
    "Every Jarvis service will have a corresponding script (or more if several models are used) to fine-tune its models on the user data"
   ]
  },
  {
   "cell_type": "code",
   "execution_count": 2,
   "metadata": {},
   "outputs": [],
   "source": [
    "import pytorch_lightning as pl\n",
    "import nemo.collections.asr as nemo_asr"
   ]
  },
  {
   "cell_type": "markdown",
   "metadata": {},
   "source": [
    "#### Method 1 - get model and pretrained weights from NVIDIA NGC cloud"
   ]
  },
  {
   "cell_type": "code",
   "execution_count": 3,
   "metadata": {},
   "outputs": [],
   "source": [
    "# asr_model = nemo_asr.models.ASRConvCTCModel2.from_cloud(name=\"QuartzNet15x5-En\")"
   ]
  },
  {
   "cell_type": "markdown",
   "metadata": {},
   "source": [
    "#### Method 2 - get model and pretrained weights from local file"
   ]
  },
  {
   "cell_type": "code",
   "execution_count": 4,
   "metadata": {},
   "outputs": [],
   "source": [
    "# asr_model = nemo_asr.models.ASRConvCTCModel2.restore_from(\"my_asr.nemo\")"
   ]
  },
  {
   "cell_type": "markdown",
   "metadata": {},
   "source": [
    "#### Method 3 - instantiate model from config (no pre-trained weights)"
   ]
  },
  {
   "cell_type": "code",
   "execution_count": 5,
   "metadata": {},
   "outputs": [],
   "source": [
    "# asr_model = nemo_asr.models.ASRConvCTCModel2.from_config(\"quartznet.yaml\")"
   ]
  },
  {
   "cell_type": "markdown",
   "metadata": {},
   "source": [
    "#### Method 4 - instantiate model using constructor"
   ]
  },
  {
   "cell_type": "code",
   "execution_count": 6,
   "metadata": {},
   "outputs": [
    {
     "name": "stdout",
     "output_type": "stream",
     "text": [
      "[NeMo I 2020-06-17 23:09:44 features:154] PADDING: 16\n",
      "[NeMo I 2020-06-17 23:09:44 features:162] STFT using conv\n",
      "[NeMo I 2020-06-17 23:09:44 helpers:66] Instantiated a new Neural Module of type AudioToMelSpectrogramPreprocessor2\n",
      "[NeMo I 2020-06-17 23:09:44 helpers:66] Instantiated a new Neural Module of type ConvASREncoder\n",
      "[NeMo I 2020-06-17 23:09:44 helpers:66] Instantiated a new Neural Module of type ConvASRDecoder\n"
     ]
    }
   ],
   "source": [
    "from ruamel.yaml import YAML\n",
    "yaml = YAML(typ=\"safe\")\n",
    "with open('/Users/okuchaiev/repos/NeMo/examples/asr/configs/jasper_an4-2.yaml') as f:\n",
    "    model_config = yaml.load(f)\n",
    "asr_model = nemo_asr.models.ASRConvCTCModel2(\n",
    "    preprocessor_params=model_config['AudioToMelSpectrogramPreprocessor'],\n",
    "    encoder_params=model_config['JasperEncoder'],\n",
    "    decoder_params=model_config['JasperDecoder'],\n",
    ")"
   ]
  },
  {
   "cell_type": "code",
   "execution_count": 7,
   "metadata": {},
   "outputs": [
    {
     "name": "stdout",
     "output_type": "stream",
     "text": [
      "[NeMo I 2020-06-17 23:09:45 collections:158] Dataset loaded with 897 files totalling 1.39 hours\n",
      "[NeMo I 2020-06-17 23:09:45 collections:159] 0 files were filtered totalling 0.00 hours\n",
      "[NeMo I 2020-06-17 23:09:45 helpers:66] Instantiated a new Neural Module of type AudioToTextDataLayer2\n",
      "[NeMo I 2020-06-17 23:09:45 collections:158] Dataset loaded with 130 files totalling 0.20 hours\n",
      "[NeMo I 2020-06-17 23:09:45 collections:159] 0 files were filtered totalling 0.00 hours\n",
      "[NeMo I 2020-06-17 23:09:45 helpers:66] Instantiated a new Neural Module of type AudioToTextDataLayer2\n"
     ]
    }
   ],
   "source": [
    "# Setup where your training and validation data is\n",
    "asr_model.setup_training_data(model_config['AudioToTextDataLayer'])\n",
    "asr_model.setup_validation_data(model_config['AudioToTextDataLayer_eval'])\n",
    "# Setup optimizer \n",
    "asr_model.setup_optimizer(optimizer_params={'lr': 0.0003})"
   ]
  },
  {
   "cell_type": "code",
   "execution_count": 9,
   "metadata": {},
   "outputs": [
    {
     "name": "stderr",
     "output_type": "stream",
     "text": [
      "GPU available: False, used: False\n",
      "No environment variable for node rank defined. Set as 0.\n",
      "\n",
      "   | Name                           | Type                               | Params\n",
      "----------------------------------------------------------------------------------\n",
      "0  | preprocessor                   | AudioToMelSpectrogramPreprocessor2 | 0     \n",
      "1  | preprocessor.featurizer        | FilterbankFeatures                 | 0     \n",
      "2  | preprocessor.featurizer.stft   | STFTPatch                          | 0     \n",
      "3  | encoder                        | ConvASREncoder                     | 5 M   \n",
      "4  | encoder.encoder                | Sequential                         | 5 M   \n",
      "5  | encoder.encoder.0              | JasperBlock                        | 98 K  \n",
      "6  | encoder.encoder.0.mconv        | ModuleList                         | 90 K  \n",
      "7  | encoder.encoder.0.mconv.0      | MaskedConv1d                       | 90 K  \n",
      "8  | encoder.encoder.0.mconv.0.conv | Conv1d                             | 90 K  \n",
      "9  | encoder.encoder.0.mconv.1      | BatchNorm1d                        | 256   \n",
      "10 | encoder.encoder.0.res          | ModuleList                         | 8 K   \n",
      "11 | encoder.encoder.0.res.0        | ModuleList                         | 8 K   \n",
      "12 | encoder.encoder.0.res.0.0      | MaskedConv1d                       | 8 K   \n",
      "13 | encoder.encoder.0.res.0.0.conv | Conv1d                             | 8 K   \n",
      "14 | encoder.encoder.0.res.0.1      | BatchNorm1d                        | 256   \n",
      "15 | encoder.encoder.0.mout         | Sequential                         | 0     \n",
      "16 | encoder.encoder.0.mout.0       | ReLU                               | 0     \n",
      "17 | encoder.encoder.0.mout.1       | Dropout                            | 0     \n",
      "18 | encoder.encoder.1              | JasperBlock                        | 459 K \n",
      "19 | encoder.encoder.1.mconv        | ModuleList                         | 426 K \n",
      "20 | encoder.encoder.1.mconv.0      | MaskedConv1d                       | 425 K \n",
      "21 | encoder.encoder.1.mconv.0.conv | Conv1d                             | 425 K \n",
      "22 | encoder.encoder.1.mconv.1      | BatchNorm1d                        | 512   \n",
      "23 | encoder.encoder.1.res          | ModuleList                         | 33 K  \n",
      "24 | encoder.encoder.1.res.0        | ModuleList                         | 33 K  \n",
      "25 | encoder.encoder.1.res.0.0      | MaskedConv1d                       | 32 K  \n",
      "26 | encoder.encoder.1.res.0.0.conv | Conv1d                             | 32 K  \n",
      "27 | encoder.encoder.1.res.0.1      | BatchNorm1d                        | 512   \n",
      "28 | encoder.encoder.1.mout         | Sequential                         | 0     \n",
      "29 | encoder.encoder.1.mout.1       | Dropout                            | 0     \n",
      "30 | encoder.encoder.2              | JasperBlock                        | 1 M   \n",
      "31 | encoder.encoder.2.mconv        | ModuleList                         | 983 K \n",
      "32 | encoder.encoder.2.mconv.0      | MaskedConv1d                       | 983 K \n",
      "33 | encoder.encoder.2.mconv.0.conv | Conv1d                             | 983 K \n",
      "34 | encoder.encoder.2.mconv.1      | BatchNorm1d                        | 512   \n",
      "35 | encoder.encoder.2.res          | ModuleList                         | 66 K  \n",
      "36 | encoder.encoder.2.res.0        | ModuleList                         | 66 K  \n",
      "37 | encoder.encoder.2.res.0.0      | MaskedConv1d                       | 65 K  \n",
      "38 | encoder.encoder.2.res.0.0.conv | Conv1d                             | 65 K  \n",
      "39 | encoder.encoder.2.res.0.1      | BatchNorm1d                        | 512   \n",
      "40 | encoder.encoder.2.mout         | Sequential                         | 0     \n",
      "41 | encoder.encoder.2.mout.1       | Dropout                            | 0     \n",
      "42 | encoder.encoder.3              | JasperBlock                        | 1 M   \n",
      "43 | encoder.encoder.3.mconv        | ModuleList                         | 1 M   \n",
      "44 | encoder.encoder.3.mconv.0      | MaskedConv1d                       | 1 M   \n",
      "45 | encoder.encoder.3.mconv.0.conv | Conv1d                             | 1 M   \n",
      "46 | encoder.encoder.3.mconv.1      | BatchNorm1d                        | 512   \n",
      "47 | encoder.encoder.3.res          | ModuleList                         | 66 K  \n",
      "48 | encoder.encoder.3.res.0        | ModuleList                         | 66 K  \n",
      "49 | encoder.encoder.3.res.0.0      | MaskedConv1d                       | 65 K  \n",
      "50 | encoder.encoder.3.res.0.0.conv | Conv1d                             | 65 K  \n",
      "51 | encoder.encoder.3.res.0.1      | BatchNorm1d                        | 512   \n",
      "52 | encoder.encoder.3.mout         | Sequential                         | 0     \n",
      "53 | encoder.encoder.3.mout.1       | Dropout                            | 0     \n",
      "54 | encoder.encoder.4              | JasperBlock                        | 1 M   \n",
      "55 | encoder.encoder.4.mconv        | ModuleList                         | 1 M   \n",
      "56 | encoder.encoder.4.mconv.0      | MaskedConv1d                       | 1 M   \n",
      "57 | encoder.encoder.4.mconv.0.conv | Conv1d                             | 1 M   \n",
      "58 | encoder.encoder.4.mconv.1      | BatchNorm1d                        | 512   \n",
      "59 | encoder.encoder.4.res          | ModuleList                         | 66 K  \n",
      "60 | encoder.encoder.4.res.0        | ModuleList                         | 66 K  \n",
      "61 | encoder.encoder.4.res.0.0      | MaskedConv1d                       | 65 K  \n",
      "62 | encoder.encoder.4.res.0.0.conv | Conv1d                             | 65 K  \n",
      "63 | encoder.encoder.4.res.0.1      | BatchNorm1d                        | 512   \n",
      "64 | encoder.encoder.4.mout         | Sequential                         | 0     \n",
      "65 | encoder.encoder.4.mout.1       | Dropout                            | 0     \n",
      "66 | encoder.encoder.5              | JasperBlock                        | 1 M   \n",
      "67 | encoder.encoder.5.mconv        | ModuleList                         | 1 M   \n",
      "68 | encoder.encoder.5.mconv.0      | MaskedConv1d                       | 1 M   \n",
      "69 | encoder.encoder.5.mconv.0.conv | Conv1d                             | 1 M   \n",
      "70 | encoder.encoder.5.mconv.1      | BatchNorm1d                        | 512   \n",
      "71 | encoder.encoder.5.mout         | Sequential                         | 0     \n",
      "72 | encoder.encoder.5.mout.1       | Dropout                            | 0     \n",
      "73 | encoder.encoder.6              | JasperBlock                        | 264 K \n",
      "74 | encoder.encoder.6.mconv        | ModuleList                         | 264 K \n",
      "75 | encoder.encoder.6.mconv.0      | MaskedConv1d                       | 262 K \n",
      "76 | encoder.encoder.6.mconv.0.conv | Conv1d                             | 262 K \n",
      "77 | encoder.encoder.6.mconv.1      | BatchNorm1d                        | 2 K   \n",
      "78 | encoder.encoder.6.mout         | Sequential                         | 0     \n",
      "79 | encoder.encoder.6.mout.1       | Dropout                            | 0     \n",
      "80 | decoder                        | ConvASRDecoder                     | 29 K  \n",
      "81 | decoder.decoder_layers         | Sequential                         | 29 K  \n",
      "82 | decoder.decoder_layers.0       | Conv1d                             | 29 K  \n",
      "/Users/okuchaiev/opt/anaconda3/envs/py37/lib/python3.7/site-packages/pytorch_lightning/utilities/distributed.py:23: UserWarning: The dataloader, val dataloader 0, does not have many workers which may be a bottleneck. Consider increasing the value of the `num_workers` argument` in the `DataLoader` init to improve performance.\n",
      "  warnings.warn(*args, **kwargs)\n"
     ]
    },
    {
     "data": {
      "application/vnd.jupyter.widget-view+json": {
       "model_id": "",
       "version_major": 2,
       "version_minor": 0
      },
      "text/plain": [
       "HBox(children=(FloatProgress(value=1.0, bar_style='info', description='Validation sanity check', layout=Layout…"
      ]
     },
     "metadata": {},
     "output_type": "display_data"
    },
    {
     "name": "stderr",
     "output_type": "stream",
     "text": [
      "/Users/distiller/project/conda/conda-bld/pytorch_1587428061935/work/aten/src/ATen/native/BinaryOps.cpp:81: UserWarning: Integer division of tensors using div or / is deprecated, and in a future release div will perform true division as in Python 3. Use true_divide or floor_divide (// in Python) instead.\n",
      "/Users/okuchaiev/opt/anaconda3/envs/py37/lib/python3.7/site-packages/pytorch_lightning/utilities/distributed.py:23: UserWarning: The dataloader, train dataloader, does not have many workers which may be a bottleneck. Consider increasing the value of the `num_workers` argument` in the `DataLoader` init to improve performance.\n",
      "  warnings.warn(*args, **kwargs)\n"
     ]
    },
    {
     "data": {
      "application/vnd.jupyter.widget-view+json": {
       "model_id": "374b791a11ba444086d744b4853d0aa4",
       "version_major": 2,
       "version_minor": 0
      },
      "text/plain": [
       "HBox(children=(FloatProgress(value=1.0, bar_style='info', description='Training', layout=Layout(flex='2'), max…"
      ]
     },
     "metadata": {},
     "output_type": "display_data"
    },
    {
     "name": "stderr",
     "output_type": "stream",
     "text": [
      "Detected KeyboardInterrupt, attempting graceful shutdown...\n"
     ]
    },
    {
     "name": "stdout",
     "output_type": "stream",
     "text": [
      "\n"
     ]
    },
    {
     "data": {
      "text/plain": [
       "1"
      ]
     },
     "execution_count": 9,
     "metadata": {},
     "output_type": "execute_result"
    }
   ],
   "source": [
    "# User Pytorch Lightning Trainer object instead of NeuralModuleFactory\n",
    "#trainer = pl.Trainer(val_check_interval=5, amp_level='O1', gpus=1, precision=16, max_epochs=10,)\n",
    "# CPU training on MacBook\n",
    "trainer = pl.Trainer(val_check_interval=5, max_epochs=1)\n",
    "# trainer = pl.Trainer(val_check_interval=5, amp_level='O1', precision=16, gpus=2, max_epochs=50, distributed_backend='ddp')\n",
    "trainer.fit(asr_model)"
   ]
  },
  {
   "cell_type": "markdown",
   "metadata": {},
   "source": [
    "### Export for deployment with Jarvis"
   ]
  },
  {
   "cell_type": "code",
   "execution_count": 12,
   "metadata": {},
   "outputs": [],
   "source": [
    "asr_model.export(out='qn.nemo')"
   ]
  },
  {
   "cell_type": "markdown",
   "metadata": {},
   "source": [
    "## 2. Pytorch Ecosystem Compatibility"
   ]
  },
  {
   "cell_type": "code",
   "execution_count": 13,
   "metadata": {},
   "outputs": [],
   "source": [
    "import torch"
   ]
  },
  {
   "cell_type": "code",
   "execution_count": 14,
   "metadata": {},
   "outputs": [
    {
     "data": {
      "text/plain": [
       "True"
      ]
     },
     "execution_count": 14,
     "metadata": {},
     "output_type": "execute_result"
    }
   ],
   "source": [
    "isinstance(asr_model, torch.nn.Module)"
   ]
  },
  {
   "cell_type": "code",
   "execution_count": 15,
   "metadata": {},
   "outputs": [
    {
     "data": {
      "text/plain": [
       "True"
      ]
     },
     "execution_count": 15,
     "metadata": {},
     "output_type": "execute_result"
    }
   ],
   "source": [
    "isinstance(asr_model.preprocessor, torch.nn.Module)"
   ]
  },
  {
   "cell_type": "markdown",
   "metadata": {},
   "source": [
    "# 3. How to create a new Neural Module?"
   ]
  },
  {
   "cell_type": "markdown",
   "metadata": {},
   "source": [
    "Inherit from torch.nn.Tensor and NeuralModuleAPI"
   ]
  },
  {
   "cell_type": "code",
   "execution_count": 16,
   "metadata": {},
   "outputs": [],
   "source": [
    "from nemo.collections.asr.parts.jasper import init_weights\n",
    "from nemo.core.apis import NeuralModulePT\n",
    "\n",
    "# Inherit from NeuralModulePT instead of torch.nn.Module\n",
    "class ConvASRDecoderNOTTYPED(NeuralModulePT):\n",
    "    def __init__(self, feat_in, num_classes, init_mode=\"xavier_uniform\", vocabulary=None):\n",
    "        super(ConvASRDecoder, self).__init__()\n",
    "        self.__vocabulary = vocabulary\n",
    "        self._feat_in = feat_in\n",
    "        # Add 1 for blank char\n",
    "        self._num_classes = num_classes + 1\n",
    "\n",
    "        self.decoder_layers = torch.nn.Sequential(\n",
    "            torch.nn.Conv1d(self._feat_in, self._num_classes, kernel_size=1, bias=True)\n",
    "        )\n",
    "        self.apply(lambda x: init_weights(x, mode=init_mode))\n",
    "\n",
    "    def forward(self, encoder_output):\n",
    "        return torch.nn.functional.log_softmax(self.decoder_layers(encoder_output).transpose(1, 2), dim=-1)\n",
    "\n",
    "    @property\n",
    "    def vocabulary(self):\n",
    "        return self.__vocabulary"
   ]
  },
  {
   "cell_type": "markdown",
   "metadata": {},
   "source": [
    "# 4. How to create a new Neural Model?"
   ]
  },
  {
   "cell_type": "markdown",
   "metadata": {},
   "source": [
    "Instead of nemo.core.apis import NeuralModulePT, inherit from nemo.core.apis import NeuralModelPT and implement methods which are required by it (will contain methods for"
   ]
  },
  {
   "cell_type": "code",
   "execution_count": null,
   "metadata": {},
   "outputs": [],
   "source": [
    "from pytorch_lightning import LightningModule\n",
    "from nemo.core.apis import NeuralModelAPI\n",
    "class MyModel(LightningModule, NeuralModelAPI):\n",
    "    pass"
   ]
  },
  {
   "cell_type": "markdown",
   "metadata": {},
   "source": [
    "# 5. How to use Neural Types?"
   ]
  },
  {
   "cell_type": "markdown",
   "metadata": {},
   "source": [
    "### Step 1.  Define input/output types of your modules/models"
   ]
  },
  {
   "cell_type": "code",
   "execution_count": null,
   "metadata": {},
   "outputs": [],
   "source": [
    "from nemo.core import AcousticEncodedRepresentation, LogprobsType, NeuralType\n",
    "class ConvASRDecoderTYPED(torch.nn.Module, NeuralModuleAPI):\n",
    "    @property\n",
    "    def input_types(self):\n",
    "        return {\"encoder_output\": NeuralType(('B', 'D', 'T'), AcousticEncodedRepresentation())}\n",
    "\n",
    "    @property\n",
    "    def output_types(self):\n",
    "        return {\"logprobs\": NeuralType(('B', 'T', 'D'), LogprobsType())}\n",
    "    \n",
    "    def __init__(self, feat_in, num_classes, init_mode=\"xavier_uniform\", vocabulary=None):\n",
    "        super(ConvASRDecoderTYPED, self).__init__()\n",
    "        self.__vocabulary = vocabulary\n",
    "        self._feat_in = feat_in\n",
    "        # Add 1 for blank char\n",
    "        self._num_classes = num_classes + 1\n",
    "\n",
    "        self.decoder_layers = torch.nn.Sequential(\n",
    "            torch.nn.Conv1d(self._feat_in, self._num_classes, kernel_size=1, bias=True)\n",
    "        )\n",
    "        self.apply(lambda x: init_weights(x, mode=init_mode))\n",
    "\n",
    "    def forward(self, encoder_output):\n",
    "        return torch.nn.functional.log_softmax(self.decoder_layers(encoder_output).transpose(1, 2), dim=-1)\n",
    "\n",
    "    @property\n",
    "    def vocabulary(self):\n",
    "        return self.__vocabulary\n",
    "my_typed_module = ConvASRDecoderTYPED(feat_in=2, num_classes=8)"
   ]
  },
  {
   "cell_type": "code",
   "execution_count": null,
   "metadata": {},
   "outputs": [],
   "source": [
    "type(my_typed_module)"
   ]
  },
  {
   "cell_type": "code",
   "execution_count": null,
   "metadata": {},
   "outputs": [],
   "source": [
    "isinstance(my_typed_module, torch.nn.Module)"
   ]
  },
  {
   "cell_type": "code",
   "execution_count": null,
   "metadata": {},
   "outputs": [],
   "source": [
    "with torch.no_grad():\n",
    "    x = torch.rand((2, 2, 2))\n",
    "    y_t = my_typed_module.typed_forward(encoder_output=x)"
   ]
  },
  {
   "cell_type": "code",
   "execution_count": null,
   "metadata": {},
   "outputs": [],
   "source": [
    "y_t.neural_type"
   ]
  },
  {
   "cell_type": "code",
   "execution_count": null,
   "metadata": {},
   "outputs": [],
   "source": [
    "type(y_t)"
   ]
  },
  {
   "cell_type": "markdown",
   "metadata": {},
   "source": [
    "#### That's it - now users of your Module will be able to use Type checking!"
   ]
  },
  {
   "cell_type": "markdown",
   "metadata": {},
   "source": [
    "### Step 2. Use type-checking!"
   ]
  },
  {
   "cell_type": "markdown",
   "metadata": {},
   "source": [
    "#### Simply use \"typed_forward\" instead of \"forward\". It's already there! No need to implement it."
   ]
  },
  {
   "cell_type": "code",
   "execution_count": null,
   "metadata": {},
   "outputs": [],
   "source": [
    "def forward(self, input_signal, input_signal_length):\n",
    "    # # Non-typed old-fashioned way\n",
    "    # processed_signal, processed_signal_len = self.preprocessor(\n",
    "    #     input_signal=input_signal, length=input_signal_length,\n",
    "    # )\n",
    "    # if self.spec_augmentation is not None:\n",
    "    #     processed_signal = self.spec_augmentation(input_spec=processed_signal)\n",
    "    # encoded, encoded_len = self.encoder(audio_signal=processed_signal, length=processed_signal_len)\n",
    "    # log_probs = self.decoder(encoder_output=encoded)\n",
    "    # greedy_predictions = log_probs.argmax(dim=-1, keepdim=False)\n",
    "    # return log_probs, encoded_len, greedy_predictions\n",
    "\n",
    "    # Typed way -- good for \"production-ready\"\n",
    "    processed_signal, processed_signal_len = self.preprocessor.typed_forward(\n",
    "       input_signal=input_signal, length=input_signal_length,\n",
    "    )\n",
    "    if self.spec_augmentation is not None:\n",
    "       processed_signal = self.spec_augmentation.typed_forward(input_spec=processed_signal)\n",
    "    encoded, encoded_len = self.encoder.typed_forward(audio_signal=processed_signal, length=processed_signal_len)\n",
    "    # log_probs = self.decoder.typed_forward(encoder_output=processed_signal)\n",
    "    log_probs = self.decoder.typed_forward(encoder_output=encoded)\n",
    "    greedy_predictions = log_probs.argmax(dim=-1, keepdim=False)\n",
    "    return log_probs, encoded_len, greedy_predictions"
   ]
  },
  {
   "cell_type": "code",
   "execution_count": null,
   "metadata": {},
   "outputs": [],
   "source": []
  }
 ],
 "metadata": {
  "kernelspec": {
   "display_name": "Python 3",
   "language": "python",
   "name": "python3"
  },
  "language_info": {
   "codemirror_mode": {
    "name": "ipython",
    "version": 3
   },
   "file_extension": ".py",
   "mimetype": "text/x-python",
   "name": "python",
   "nbconvert_exporter": "python",
   "pygments_lexer": "ipython3",
   "version": "3.7.7"
  }
 },
 "nbformat": 4,
 "nbformat_minor": 4
}
