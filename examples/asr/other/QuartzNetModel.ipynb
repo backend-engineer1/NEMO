{
 "cells": [
  {
   "cell_type": "markdown",
   "metadata": {},
   "source": [
    "# NeMo Models"
   ]
  },
  {
   "cell_type": "code",
   "execution_count": 1,
   "metadata": {},
   "outputs": [
    {
     "name": "stderr",
     "output_type": "stream",
     "text": [
      "[NeMo W 2020-05-28 17:08:17 audio_preprocessing:56] Could not import torchaudio. Some features might not work.\n",
      "[NeMo W 2020-05-28 17:08:17 audio_preprocessing:61] Unable to import APEX. Mixed precision and distributed training will not work.\n"
     ]
    },
    {
     "name": "stdout",
     "output_type": "stream",
     "text": [
      "GPU was not detected. Running on CPU\n"
     ]
    }
   ],
   "source": [
    "# Import NeMo and ASR collection\n",
    "import nemo\n",
    "import nemo.collections.asr as nemo_asr\n",
    "try:\n",
    "    nf = nemo.core.NeuralModuleFactory()\n",
    "except:\n",
    "    print(\"GPU was not detected. Running on CPU\")\n",
    "    nf = nemo.core.NeuralModuleFactory(placement=nemo.core.DeviceType.CPU)    "
   ]
  },
  {
   "cell_type": "markdown",
   "metadata": {},
   "source": [
    "## NeMoModel instantiation without pre-trained weights"
   ]
  },
  {
   "cell_type": "markdown",
   "metadata": {},
   "source": [
    "A *NeMoModel* is a kind of NeuralModule which contains other neural modules inside it.\n",
    "NeMoModel can have other NeuralModules inside and their mode, and topology of connections can\n",
    "depend on the mode in which NeMo model is used (training or evaluation)."
   ]
  },
  {
   "cell_type": "markdown",
   "metadata": {},
   "source": [
    "### Because NeMoModel is a NeuralModule, regular constructor-based initialization applies"
   ]
  },
  {
   "cell_type": "code",
   "execution_count": 2,
   "metadata": {},
   "outputs": [],
   "source": [
    "#First, load the config from YAML file\n",
    "from ruamel.yaml import YAML\n",
    "yaml = YAML(typ=\"safe\")\n",
    "with open(\"../configs/jasper_an4.yaml\") as file:\n",
    "    model_definition = yaml.load(file)"
   ]
  },
  {
   "cell_type": "code",
   "execution_count": 3,
   "metadata": {},
   "outputs": [
    {
     "name": "stdout",
     "output_type": "stream",
     "text": [
      "[NeMo I 2020-05-28 17:08:18 features:144] PADDING: 16\n",
      "[NeMo I 2020-05-28 17:08:18 features:152] STFT using conv\n",
      "[NeMo I 2020-05-28 17:08:18 neural_modules:438] Instantiated a new Neural Module named `audiotomelspectrogrampreprocessor0` of type `AudioToMelSpectrogramPreprocessor`\n",
      "[NeMo I 2020-05-28 17:08:18 neural_modules:438] Instantiated a new Neural Module named `jasperencoder0` of type `JasperEncoder`\n",
      "[NeMo I 2020-05-28 17:08:18 neural_modules:438] Instantiated a new Neural Module named `jasperdecoderforctc0` of type `JasperDecoderForCTC`\n",
      "Created QuartzNet model with 5771293 weights\n"
     ]
    }
   ],
   "source": [
    "quartznet_model1 = nemo.collections.asr.models.QuartzNet(\n",
    "    preprocessor_params=model_definition['AudioToMelSpectrogramPreprocessor'],\n",
    "    encoder_params=model_definition['JasperEncoder'],\n",
    "    decoder_params=model_definition['JasperDecoderForCTC'])\n",
    "print(f\"Created QuartzNet model with {quartznet_model1.num_weights} weights\")"
   ]
  },
  {
   "cell_type": "markdown",
   "metadata": {},
   "source": [
    "### Because NeMoModel is a NeuralModule, regular config import/export work"
   ]
  },
  {
   "cell_type": "code",
   "execution_count": 4,
   "metadata": {},
   "outputs": [
    {
     "name": "stdout",
     "output_type": "stream",
     "text": [
      "[NeMo I 2020-05-28 17:08:18 neural_modules:228] Configuration of module `quartznet0` (QuartzNet) exported to 'qn1.yaml'\n"
     ]
    }
   ],
   "source": [
    "quartznet_model1.export_to_config(\"qn1.yaml\")"
   ]
  },
  {
   "cell_type": "code",
   "execution_count": 5,
   "metadata": {},
   "outputs": [
    {
     "name": "stdout",
     "output_type": "stream",
     "text": [
      "[NeMo I 2020-05-28 17:08:18 neural_modules:338] Loading configuration of a new Neural Module from the `qn1.yaml` file\n",
      "[NeMo I 2020-05-28 17:08:18 features:144] PADDING: 16\n",
      "[NeMo I 2020-05-28 17:08:18 features:152] STFT using conv\n",
      "[NeMo I 2020-05-28 17:08:18 neural_modules:438] Instantiated a new Neural Module named `audiotomelspectrogrampreprocessor1` of type `AudioToMelSpectrogramPreprocessor`\n",
      "[NeMo I 2020-05-28 17:08:18 neural_modules:438] Instantiated a new Neural Module named `jasperencoder1` of type `JasperEncoder`\n",
      "[NeMo I 2020-05-28 17:08:18 neural_modules:438] Instantiated a new Neural Module named `jasperdecoderforctc1` of type `JasperDecoderForCTC`\n",
      "[NeMo I 2020-05-28 17:08:18 neural_modules:438] Instantiated a new Neural Module named `quartznet1` of type `QuartzNet`\n",
      "Created QuartzNet model with 5771293 weights\n"
     ]
    }
   ],
   "source": [
    "quartznet_model2 = nemo.collections.asr.models.QuartzNet.import_from_config(config_file=\"qn1.yaml\")\n",
    "print(f\"Created QuartzNet model with {quartznet_model2.num_weights} weights\")"
   ]
  },
  {
   "cell_type": "markdown",
   "metadata": {},
   "source": [
    "## NeMoModel instantiation with pre-trained weights"
   ]
  },
  {
   "cell_type": "code",
   "execution_count": 6,
   "metadata": {},
   "outputs": [
    {
     "name": "stderr",
     "output_type": "stream",
     "text": [
      "[NeMo W 2020-05-28 17:08:18 asrconvctcmodel:153] TODO: CHANGE ME TO GRAB STUFF FROM NGC\n"
     ]
    },
    {
     "name": "stdout",
     "output_type": "stream",
     "text": [
      "QuartzNet15x5-En\n",
      "QuartzNet15x5-Zh\n",
      "JasperNet10x5-En\n"
     ]
    }
   ],
   "source": [
    "# List all available models from NGC\n",
    "for checkpoint in nemo.collections.asr.models.ASRConvCTCModel.list_pretrained_models():\n",
    "    print(checkpoint.pretrained_model_name)"
   ]
  },
  {
   "cell_type": "code",
   "execution_count": 7,
   "metadata": {},
   "outputs": [
    {
     "name": "stderr",
     "output_type": "stream",
     "text": [
      "[NeMo W 2020-05-28 17:08:18 asrconvctcmodel:253] TODO: CHANGE ME TO GRAB STUFF FROM NGC\n"
     ]
    },
    {
     "name": "stdout",
     "output_type": "stream",
     "text": [
      "[NeMo I 2020-05-28 17:08:18 helpers:158] Found existing object /Users/okuchaiev/.cache/torch/NeMo/NEMO_0.11.0b1/QuartzNet15x5-En-Base.nemo.\n",
      "[NeMo I 2020-05-28 17:08:18 helpers:164] Re-using file from: /Users/okuchaiev/.cache/torch/NeMo/NEMO_0.11.0b1/QuartzNet15x5-En-Base.nemo\n",
      "[NeMo I 2020-05-28 17:08:18 asrconvctcmodel:220] Instantiating model from pre-trained checkpoint\n",
      "[NeMo I 2020-05-28 17:08:19 neural_modules:338] Loading configuration of a new Neural Module from the `XDWRZPKBE8M0KPL5/.nemo_tmp/module.yaml` file\n",
      "[NeMo I 2020-05-28 17:08:19 features:144] PADDING: 16\n",
      "[NeMo I 2020-05-28 17:08:19 features:152] STFT using conv\n",
      "[NeMo I 2020-05-28 17:08:19 neural_modules:438] Instantiated a new Neural Module named `audiotomelspectrogrampreprocessor2` of type `AudioToMelSpectrogramPreprocessor`\n",
      "[NeMo I 2020-05-28 17:08:19 neural_modules:438] Instantiated a new Neural Module named `jasperencoder2` of type `JasperEncoder`\n",
      "[NeMo I 2020-05-28 17:08:19 neural_modules:438] Instantiated a new Neural Module named `jasperdecoderforctc2` of type `JasperDecoderForCTC`\n",
      "[NeMo I 2020-05-28 17:08:19 neural_modules:438] Instantiated a new Neural Module named `spectrogramaugmentation0` of type `SpectrogramAugmentation`\n",
      "[NeMo I 2020-05-28 17:08:19 neural_modules:438] Instantiated a new Neural Module named `quartznet2` of type `QuartzNet`\n",
      "[NeMo I 2020-05-28 17:08:19 asrconvctcmodel:222] Model instantiated with pre-trained weights\n",
      "Created QuartzNet model with 18924381 weights\n"
     ]
    }
   ],
   "source": [
    "# Automagically go to NGC and instantiate a model and weights\n",
    "quartznet_model3 = nemo_asr.models.QuartzNet.from_pretrained(model_info=\"QuartzNet15x5-En\")\n",
    "print(f\"Created QuartzNet model with {quartznet_model3.num_weights} weights\")"
   ]
  },
  {
   "cell_type": "markdown",
   "metadata": {},
   "source": [
    "# Export model to \".nemo\" format"
   ]
  },
  {
   "cell_type": "markdown",
   "metadata": {},
   "source": [
    "## Export to \".nemo\" file - all params, structure and weights"
   ]
  },
  {
   "cell_type": "code",
   "execution_count": 8,
   "metadata": {},
   "outputs": [
    {
     "name": "stdout",
     "output_type": "stream",
     "text": [
      "[NeMo I 2020-05-28 17:08:19 neural_modules:228] Configuration of module `quartznet2` (QuartzNet) exported to '.3T2NGRER8B4CDN97/.nemo_tmp/module.yaml'\n",
      "[NeMo I 2020-05-28 17:08:19 neural_graph:480] Configuration of graph `neuralgraph4` (NeuralGraph) exported to '.3T2NGRER8B4CDN97/.nemo_tmp/train_graph.yaml'\n",
      "[NeMo I 2020-05-28 17:08:19 neural_graph:480] Configuration of graph `neuralgraph5` (NeuralGraph) exported to '.3T2NGRER8B4CDN97/.nemo_tmp/eval_graph.yaml'\n",
      "[NeMo I 2020-05-28 17:08:22 nemo_model:158] Exported model QuartzNet to quartznet.nemo\n"
     ]
    }
   ],
   "source": [
    "quartznet_model3.save_to('quartznet.nemo')"
   ]
  },
  {
   "cell_type": "code",
   "execution_count": 9,
   "metadata": {},
   "outputs": [
    {
     "name": "stdout",
     "output_type": "stream",
     "text": [
      "[NeMo I 2020-05-28 17:08:22 neural_modules:338] Loading configuration of a new Neural Module from the `3H31D39130JAIE5J/.nemo_tmp/module.yaml` file\n",
      "[NeMo I 2020-05-28 17:08:22 features:144] PADDING: 16\n",
      "[NeMo I 2020-05-28 17:08:22 features:152] STFT using conv\n",
      "[NeMo I 2020-05-28 17:08:23 neural_modules:438] Instantiated a new Neural Module named `audiotomelspectrogrampreprocessor3` of type `AudioToMelSpectrogramPreprocessor`\n",
      "[NeMo I 2020-05-28 17:08:23 neural_modules:438] Instantiated a new Neural Module named `jasperencoder3` of type `JasperEncoder`\n",
      "[NeMo I 2020-05-28 17:08:23 neural_modules:438] Instantiated a new Neural Module named `jasperdecoderforctc3` of type `JasperDecoderForCTC`\n",
      "[NeMo I 2020-05-28 17:08:23 neural_modules:438] Instantiated a new Neural Module named `spectrogramaugmentation1` of type `SpectrogramAugmentation`\n",
      "[NeMo I 2020-05-28 17:08:23 neural_modules:438] Instantiated a new Neural Module named `quartznet3` of type `QuartzNet`\n"
     ]
    }
   ],
   "source": [
    "quartznet_model4 = nemo_asr.models.QuartzNet.from_pretrained(model_info='quartznet.nemo')"
   ]
  },
  {
   "cell_type": "code",
   "execution_count": 10,
   "metadata": {},
   "outputs": [
    {
     "name": "stdout",
     "output_type": "stream",
     "text": [
      "x .nemo_tmp/\n",
      "x .nemo_tmp/JasperDecoderForCTC.pt\n",
      "x .nemo_tmp/JasperEncoder.pt\n",
      "x .nemo_tmp/eval_graph.yaml\n",
      "x .nemo_tmp/header.content\n",
      "x .nemo_tmp/module.yaml\n",
      "x .nemo_tmp/train_graph.yaml\n"
     ]
    }
   ],
   "source": [
    "# \".nemo\" file is just an arxiv with all of the model's details and weights\n",
    "! mv quartznet.nemo quartznet.tar.gz\n",
    "! tar -xvf quartznet.tar.gz"
   ]
  },
  {
   "cell_type": "markdown",
   "metadata": {},
   "source": [
    "## Export to \".nemo\" file - for deployment with NVIDIA Jarvis"
   ]
  },
  {
   "cell_type": "code",
   "execution_count": null,
   "metadata": {},
   "outputs": [
    {
     "name": "stdout",
     "output_type": "stream",
     "text": [
      "[NeMo I 2020-05-28 17:08:24 neural_modules:228] Configuration of module `quartznet2` (QuartzNet) exported to '.ATEC77VH4A9N853Z/.nemo_tmp/module.yaml'\n",
      "[NeMo I 2020-05-28 17:08:24 neural_graph:480] Configuration of graph `neuralgraph5` (NeuralGraph) exported to '.ATEC77VH4A9N853Z/.nemo_tmp/eval_graph.yaml'\n"
     ]
    },
    {
     "name": "stderr",
     "output_type": "stream",
     "text": [
      "[NeMo W 2020-05-28 17:08:24 nemo_model:150] Did not convert AudioToMelSpectrogramPreprocessor to .onnx\n",
      "[NeMo W 2020-05-28 17:08:24 nemo_model:150] Did not convert SpectrogramAugmentation to .onnx\n",
      "[NeMo W 2020-05-28 17:08:24 jasper:147] Turned off 170 masked convolutions\n"
     ]
    },
    {
     "name": "stdout",
     "output_type": "stream",
     "text": [
      "'AudioToMelSpectrogramPreprocessor' object has no attribute 'eval'\n",
      "'SpectrogramAugmentation' object has no attribute 'eval'\n"
     ]
    },
    {
     "name": "stderr",
     "output_type": "stream",
     "text": [
      "[NeMo W 2020-05-28 17:08:25 deprecated:68] Function ``local_parameters`` is deprecated. It is going to be removed in the 0.11 version.\n"
     ]
    }
   ],
   "source": [
    "quartznet_model3.save_to('quartznet_for_Jarvis.nemo', optimize_for_deployment=True)"
   ]
  },
  {
   "cell_type": "code",
   "execution_count": null,
   "metadata": {},
   "outputs": [],
   "source": [
    "# \".nemo\" file optimized for deployment will only contain eval structure and .onnx files\n",
    "! mv quartznet_for_Jarvis.nemo quartznet_for_Jarvis.nemo.tar.gz\n",
    "! tar -xvf quartznet_for_Jarvis.nemo.tar.gz"
   ]
  },
  {
   "cell_type": "markdown",
   "metadata": {},
   "source": [
    "## NeMoModels can be used just as any other Neural Module"
   ]
  },
  {
   "cell_type": "code",
   "execution_count": null,
   "metadata": {},
   "outputs": [],
   "source": [
    "# Change these to point to your training data\n",
    "train_manifest = \"/Users/okuchaiev/Data/an4_dataset/an4_train.json\"\n",
    "val_manifest = \"/Users/okuchaiev/Data/an4_dataset/an4_val.json\"\n",
    "labels = model_definition['labels']\n",
    "data_layer = nemo_asr.AudioToTextDataLayer(manifest_filepath=train_manifest, labels=labels, batch_size=16)\n",
    "data_layerE = nemo_asr.AudioToTextDataLayer(manifest_filepath=val_manifest, labels=labels, batch_size=16)\n",
    "ctc_loss = nemo_asr.CTCLossNM(num_classes=len(labels))\n",
    "greedy_decoder = nemo_asr.GreedyCTCDecoder()"
   ]
  },
  {
   "cell_type": "code",
   "execution_count": null,
   "metadata": {},
   "outputs": [],
   "source": [
    "audio_signal, audio_signal_len, transcript, transcript_len = data_layer()\n",
    "log_probs, encoded_len = quartznet_model4(input_signal=audio_signal, length=audio_signal_len)\n",
    "predictions = greedy_decoder(log_probs=log_probs)\n",
    "loss = ctc_loss(log_probs=log_probs, targets=transcript,\n",
    "                input_length=encoded_len, target_length=transcript_len)"
   ]
  },
  {
   "cell_type": "code",
   "execution_count": null,
   "metadata": {},
   "outputs": [],
   "source": [
    "# START TRAINING \n",
    "tensors_to_evaluate=[predictions, transcript, transcript_len]\n",
    "from functools import partial\n",
    "from nemo.collections.asr.helpers import monitor_asr_train_progress\n",
    "train_callback = nemo.core.SimpleLossLoggerCallback(\n",
    "    tensors=[loss]+tensors_to_evaluate,\n",
    "    print_func=partial(monitor_asr_train_progress, labels=labels))\n",
    "nf.train(tensors_to_optimize=[loss],\n",
    "                callbacks=[train_callback],\n",
    "                optimizer=\"novograd\",\n",
    "                optimization_params={\"num_epochs\": 30, \"lr\": 1e-2,\n",
    "                                    \"weight_decay\": 1e-3})"
   ]
  },
  {
   "cell_type": "code",
   "execution_count": null,
   "metadata": {},
   "outputs": [],
   "source": []
  }
 ],
 "metadata": {
  "kernelspec": {
   "display_name": "Python 3",
   "language": "python",
   "name": "python3"
  },
  "language_info": {
   "codemirror_mode": {
    "name": "ipython",
    "version": 3
   },
   "file_extension": ".py",
   "mimetype": "text/x-python",
   "name": "python",
   "nbconvert_exporter": "python",
   "pygments_lexer": "ipython3",
   "version": "3.7.7"
  }
 },
 "nbformat": 4,
 "nbformat_minor": 4
}
