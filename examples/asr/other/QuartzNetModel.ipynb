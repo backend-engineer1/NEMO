{
 "cells": [
  {
   "cell_type": "markdown",
   "metadata": {},
   "source": [
    "# NeMo Models"
   ]
  },
  {
   "cell_type": "code",
   "execution_count": 1,
   "metadata": {},
   "outputs": [
    {
     "name": "stderr",
     "output_type": "stream",
     "text": [
      "[NeMo W 2020-05-20 23:02:28 audio_preprocessing:56] Could not import torchaudio. Some features might not work.\n",
      "[NeMo W 2020-05-20 23:02:28 audio_preprocessing:61] Unable to import APEX. Mixed precision and distributed training will not work.\n"
     ]
    }
   ],
   "source": [
    "# Import NeMo and ASR collection\n",
    "import nemo\n",
    "import nemo.collections.asr as nemo_asr\n",
    "nf = nemo.core.NeuralModuleFactory(placement=nemo.core.DeviceType.CPU)"
   ]
  },
  {
   "cell_type": "markdown",
   "metadata": {},
   "source": [
    "A *NeMoModel* is a kind of NeuralModule which contains other neural modules inside it.\n",
    "NeMoModel can have other NeuralModules inside and their mode, and topology of connections can\n",
    "depend on the mode (training, inference, etc.)."
   ]
  },
  {
   "cell_type": "markdown",
   "metadata": {},
   "source": [
    "## I want an ASR model to serve with Jarvis. What do I do?"
   ]
  },
  {
   "cell_type": "code",
   "execution_count": 2,
   "metadata": {},
   "outputs": [
    {
     "name": "stderr",
     "output_type": "stream",
     "text": [
      "[NeMo W 2020-05-20 23:02:33 asrconvctcmodel:148] TODO: CHANGE ME TO GRAB STUFF FROM NGC\n"
     ]
    },
    {
     "name": "stdout",
     "output_type": "stream",
     "text": [
      "QuartzNet15x5-En-BASE\n",
      "QuartzNet15x5-Zh-BASE\n",
      "JasperNet10x5-En-Base\n"
     ]
    }
   ],
   "source": [
    "# Check what's available on NGC \n",
    "for checkpoint in nemo.collections.asr.models.QuartzNet.list_pretrained_models():\n",
    "    print(checkpoint.pretrained_model_name)    "
   ]
  },
  {
   "cell_type": "code",
   "execution_count": 3,
   "metadata": {},
   "outputs": [
    {
     "name": "stderr",
     "output_type": "stream",
     "text": [
      "[NeMo W 2020-05-20 23:02:40 asrconvctcmodel:148] TODO: CHANGE ME TO GRAB STUFF FROM NGC\n"
     ]
    },
    {
     "name": "stdout",
     "output_type": "stream",
     "text": [
      "[NeMo I 2020-05-20 23:02:40 helpers:158] Found existing object /Users/okuchaiev/.cache/torch/NeMo/NEMO_0.11.0b0/QuartzNet15x5-En-Base.nemo.\n",
      "[NeMo I 2020-05-20 23:02:40 helpers:164] Re-using file from: /Users/okuchaiev/.cache/torch/NeMo/NEMO_0.11.0b0/QuartzNet15x5-En-Base.nemo\n",
      "[NeMo I 2020-05-20 23:02:40 asrconvctcmodel:193] Instantiating model from pre-trained checkpoint\n",
      "[NeMo I 2020-05-20 23:02:41 neural_modules:341] Loading configuration of a new Neural Module from the `JRDSTDVB33OSBXTE/.nemo_tmp/module.yaml` file\n",
      "[NeMo I 2020-05-20 23:02:41 features:144] PADDING: 16\n",
      "[NeMo I 2020-05-20 23:02:41 features:152] STFT using conv\n",
      "[NeMo I 2020-05-20 23:02:41 neural_modules:441] Instantiated a new Neural Module named `audiotomelspectrogrampreprocessor0` of type `AudioToMelSpectrogramPreprocessor`\n",
      "[NeMo I 2020-05-20 23:02:41 neural_modules:441] Instantiated a new Neural Module named `jasperencoder0` of type `JasperEncoder`\n",
      "[NeMo I 2020-05-20 23:02:41 neural_modules:441] Instantiated a new Neural Module named `jasperdecoderforctc0` of type `JasperDecoderForCTC`\n",
      "[NeMo I 2020-05-20 23:02:41 neural_modules:441] Instantiated a new Neural Module named `spectrogramaugmentation0` of type `SpectrogramAugmentation`\n",
      "[NeMo I 2020-05-20 23:02:41 neural_modules:441] Instantiated a new Neural Module named `quartznet0` of type `QuartzNet`\n",
      "[NeMo I 2020-05-20 23:02:42 asrconvctcmodel:195] Model instantiated with pre-trained weights\n"
     ]
    }
   ],
   "source": [
    "# Download the one I want from NGC\n",
    "pre_trained_qn_model = nemo_asr.models.QuartzNet.from_pretrained(model_info=\"QuartzNet15x5-En-BASE\")"
   ]
  },
  {
   "cell_type": "code",
   "execution_count": 4,
   "metadata": {},
   "outputs": [
    {
     "data": {
      "text/plain": [
       "nemo.collections.asr.models.asrconvctcmodel.QuartzNet"
      ]
     },
     "execution_count": 4,
     "metadata": {},
     "output_type": "execute_result"
    }
   ],
   "source": [
    "type(pre_trained_qn_model)"
   ]
  },
  {
   "cell_type": "code",
   "execution_count": null,
   "metadata": {},
   "outputs": [],
   "source": [
    "# Export it as \".nemo\" file\n",
    "pre_trained_qn_model.export(\"asr.nemo\", optimize_for_deployment=True)"
   ]
  },
  {
   "cell_type": "code",
   "execution_count": null,
   "metadata": {},
   "outputs": [],
   "source": [
    "# \".nemo\" file is just a file with Modules in .onnx format and evaluation graph structure\n",
    "! mv asr.nemo asr.tar.gz\n",
    "! tar -xvf asr.tar.gz"
   ]
  },
  {
   "cell_type": "markdown",
   "metadata": {},
   "source": [
    "## NeMoModel instantiation - method 1"
   ]
  },
  {
   "cell_type": "markdown",
   "metadata": {},
   "source": [
    "### Because NeMoModel is a NeuralModule, regular constructor-based initialization applies"
   ]
  },
  {
   "cell_type": "code",
   "execution_count": null,
   "metadata": {},
   "outputs": [],
   "source": [
    "#First, load the config from YAML file\n",
    "from ruamel.yaml import YAML\n",
    "yaml = YAML(typ=\"safe\")\n",
    "with open(\"configs/jasper_an4.yaml\") as file:\n",
    "    model_definition = yaml.load(file)"
   ]
  },
  {
   "cell_type": "code",
   "execution_count": null,
   "metadata": {},
   "outputs": [],
   "source": [
    "qn_model = nemo.collections.asr.models.QuartzNet(\n",
    "            preprocessor_params=model_definition['AudioToMelSpectrogramPreprocessor'],\n",
    "            encoder_params=model_definition['JasperEncoder'],\n",
    "            decoder_params=model_definition['JasperDecoderForCTC'],\n",
    "        )\n",
    "print(qn_model.num_weights)\n",
    "print(qn_model.input_ports)"
   ]
  },
  {
   "cell_type": "markdown",
   "metadata": {},
   "source": [
    "### Because NeMoModel is a NeuralModule, regular config import/export work"
   ]
  },
  {
   "cell_type": "code",
   "execution_count": null,
   "metadata": {},
   "outputs": [],
   "source": [
    "qn_model.export_to_config(\"qn.yaml\")\n",
    "qn_model2 = nemo.collections.asr.models.QuartzNet.import_from_config(config_file=\"qn.yaml\")\n",
    "print(qn_model2.num_weights)\n",
    "print(qn_model.num_weights)"
   ]
  },
  {
   "cell_type": "markdown",
   "metadata": {},
   "source": [
    "## NeMoModel instantiation - method 2"
   ]
  },
  {
   "cell_type": "code",
   "execution_count": null,
   "metadata": {},
   "outputs": [],
   "source": [
    "# List all available models from NGC\n",
    "for checkpoint in nemo.collections.asr.models.QuartzNet.list_pretrained_models():\n",
    "    print(checkpoint.pretrained_model_name)"
   ]
  },
  {
   "cell_type": "code",
   "execution_count": null,
   "metadata": {},
   "outputs": [],
   "source": [
    "# Automagically go to NGC and instantiate a model and weights\n",
    "pre_trained_qn_model = nemo_asr.models.QuartzNet.from_pretrained(model_info=\"QuartzNet15x5-En-BASE\")"
   ]
  },
  {
   "cell_type": "markdown",
   "metadata": {},
   "source": [
    "# Export model to \".nemo\" format"
   ]
  },
  {
   "cell_type": "markdown",
   "metadata": {},
   "source": [
    "## Export to \".nemo\" file"
   ]
  },
  {
   "cell_type": "code",
   "execution_count": null,
   "metadata": {},
   "outputs": [],
   "source": [
    "pre_trained_qn_model.export('quartznet.nemo', optimize_for_deployment=False)"
   ]
  },
  {
   "cell_type": "code",
   "execution_count": null,
   "metadata": {},
   "outputs": [],
   "source": [
    "new_instance = nemo_asr.models.QuartzNet.from_pretrained(model_info='quartznet.nemo')"
   ]
  },
  {
   "cell_type": "code",
   "execution_count": null,
   "metadata": {},
   "outputs": [],
   "source": [
    "# \".nemo\" file is just a file with Modules in .onnx format and evaluation graph structure\n",
    "! mv quartznet.nemo quartznet.tar.gz\n",
    "! tar -xvf quartznet.tar.gz"
   ]
  },
  {
   "cell_type": "code",
   "execution_count": null,
   "metadata": {},
   "outputs": [],
   "source": [
    "# nemo.core.DeploymentFormat."
   ]
  },
  {
   "cell_type": "markdown",
   "metadata": {},
   "source": [
    "## NeMoModels can be used just as any other Neural Module"
   ]
  },
  {
   "cell_type": "code",
   "execution_count": null,
   "metadata": {},
   "outputs": [],
   "source": [
    "train_manifest = \"/Users/okuchaiev/Data/an4_dataset/an4_train.json\"\n",
    "val_manifest = \"/Users/okuchaiev/Data/an4_dataset/an4_val.json\"\n",
    "labels = model_definition['labels']\n",
    "data_layer = nemo_asr.AudioToTextDataLayer(manifest_filepath=train_manifest, labels=labels, batch_size=16)\n",
    "data_layerE = nemo_asr.AudioToTextDataLayer(manifest_filepath=val_manifest, labels=labels, batch_size=16)\n",
    "ctc_loss = nemo_asr.CTCLossNM(num_classes=len(labels))\n",
    "greedy_decoder = nemo_asr.GreedyCTCDecoder()"
   ]
  },
  {
   "cell_type": "code",
   "execution_count": null,
   "metadata": {},
   "outputs": [],
   "source": [
    "audio_signal, audio_signal_len, transcript, transcript_len = data_layer()\n",
    "log_probs, encoded_len = pre_trained_qn_model(input_signal=audio_signal, length=audio_signal_len)\n",
    "predictions = greedy_decoder(log_probs=log_probs)\n",
    "loss = ctc_loss(log_probs=log_probs, targets=transcript,\n",
    "                input_length=encoded_len, target_length=transcript_len)"
   ]
  },
  {
   "cell_type": "code",
   "execution_count": null,
   "metadata": {},
   "outputs": [],
   "source": [
    "# START TRAINING \n",
    "tensors_to_evaluate=[predictions, transcript, transcript_len]\n",
    "from functools import partial\n",
    "from nemo.collections.asr.helpers import monitor_asr_train_progress\n",
    "train_callback = nemo.core.SimpleLossLoggerCallback(\n",
    "    tensors=[loss]+tensors_to_evaluate,\n",
    "    print_func=partial(monitor_asr_train_progress, labels=labels))\n",
    "nf.train(tensors_to_optimize=[loss],\n",
    "                callbacks=[train_callback],\n",
    "                optimizer=\"novograd\",\n",
    "                optimization_params={\"num_epochs\": 30, \"lr\": 1e-2,\n",
    "                                    \"weight_decay\": 1e-3})"
   ]
  },
  {
   "cell_type": "markdown",
   "metadata": {},
   "source": [
    "## OTHER"
   ]
  },
  {
   "cell_type": "code",
   "execution_count": null,
   "metadata": {},
   "outputs": [],
   "source": [
    "res=pre_trained_qn_model(audio_file='myaudio.wav')\n",
    "pre_trained_qn_model.transcribe_from_microphone()"
   ]
  }
 ],
 "metadata": {
  "kernelspec": {
   "display_name": "Python 3",
   "language": "python",
   "name": "python3"
  },
  "language_info": {
   "codemirror_mode": {
    "name": "ipython",
    "version": 3
   },
   "file_extension": ".py",
   "mimetype": "text/x-python",
   "name": "python",
   "nbconvert_exporter": "python",
   "pygments_lexer": "ipython3",
   "version": "3.7.7"
  }
 },
 "nbformat": 4,
 "nbformat_minor": 4
}
