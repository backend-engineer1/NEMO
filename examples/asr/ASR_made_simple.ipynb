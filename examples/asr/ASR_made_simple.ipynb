{
 "cells": [
  {
   "cell_type": "code",
   "execution_count": null,
   "metadata": {},
   "outputs": [],
   "source": [
    "# this is nemo's \"core\" package\n",
    "import nemo\n",
    "# this is nemos's ASR collection of speech-recognition related Neural Modules\n",
    "import nemo_asr"
   ]
  },
  {
   "cell_type": "markdown",
   "metadata": {},
   "source": [
    "### Path to your dataset"
   ]
  },
  {
   "cell_type": "code",
   "execution_count": null,
   "metadata": {},
   "outputs": [],
   "source": [
    "train_manifest = \"an4_dataset/an4_train.json\"\n",
    "val_manifest = \"an4_dataset/an4_val.json\""
   ]
  },
  {
   "cell_type": "markdown",
   "metadata": {},
   "source": [
    "#### Model description"
   ]
  },
  {
   "cell_type": "code",
   "execution_count": null,
   "metadata": {},
   "outputs": [],
   "source": [
    "from ruamel.yaml import YAML \n",
    "yaml = YAML(typ=\"safe\")\n",
    "with open(\"../../tests/data/jasper_smaller.yaml\") as f:\n",
    "    jasper_params = yaml.load(f)\n",
    "labels = jasper_params['labels']"
   ]
  },
  {
   "cell_type": "markdown",
   "metadata": {},
   "source": [
    "### Instantiate necessary Neural Modules"
   ]
  },
  {
   "cell_type": "code",
   "execution_count": null,
   "metadata": {},
   "outputs": [],
   "source": [
    "# First step is to instantiate a NeuralModuleFactory\n",
    "# If torch is installed without CUDA and Apex CPU will be used\n",
    "# and training is impractically slow even for this dataset\n",
    "from nemo.core import DeviceType\n",
    "import torch\n",
    "nf = nemo.core.NeuralModuleFactory(placement=DeviceType.GPU if torch.cuda.is_available() else DeviceType.CPU)"
   ]
  },
  {
   "cell_type": "code",
   "execution_count": null,
   "metadata": {},
   "outputs": [],
   "source": [
    "data_layer = nemo_asr.AudioToTextDataLayer(manifest_filepath=train_manifest, labels=labels, batch_size=16)"
   ]
  },
  {
   "cell_type": "code",
   "execution_count": null,
   "metadata": {},
   "outputs": [],
   "source": [
    "data_preprocessor = nemo_asr.AudioPreprocessing()"
   ]
  },
  {
   "cell_type": "code",
   "execution_count": null,
   "metadata": {},
   "outputs": [],
   "source": [
    "jasper_encoder = nemo_asr.JasperEncoder(feat_in=64, **jasper_params[\"JasperEncoder\"])"
   ]
  },
  {
   "cell_type": "code",
   "execution_count": null,
   "metadata": {},
   "outputs": [],
   "source": [
    "jasper_decoder = nemo_asr.JasperDecoderForCTC(feat_in=1024, num_classes=len(labels))"
   ]
  },
  {
   "cell_type": "code",
   "execution_count": null,
   "metadata": {},
   "outputs": [],
   "source": [
    "ctc_loss = nemo_asr.CTCLossNM(num_classes=len(labels))"
   ]
  },
  {
   "cell_type": "code",
   "execution_count": null,
   "metadata": {},
   "outputs": [],
   "source": [
    "greedy_decoder = nemo_asr.GreedyCTCDecoder()"
   ]
  },
  {
   "cell_type": "markdown",
   "metadata": {},
   "source": [
    "### Describe how Neural Modules are connected together"
   ]
  },
  {
   "cell_type": "code",
   "execution_count": null,
   "metadata": {},
   "outputs": [],
   "source": [
    "audio_signal, audio_signal_len, transcript, transcript_len = data_layer()\n",
    "processed_signal, processed_signal_len = data_preprocessor(input_signal=audio_signal,\n",
    "                                                           length=audio_signal_len)\n",
    "encoded, encoded_len = jasper_encoder(audio_signal=processed_signal, length=processed_signal_len)"
   ]
  },
  {
   "cell_type": "code",
   "execution_count": null,
   "metadata": {},
   "outputs": [],
   "source": [
    "#log_probs = jasper_decoder(encoder_output=processed_signal)\n",
    "log_probs = jasper_decoder(encoder_output=encoded)\n",
    "predictions = greedy_decoder(log_probs=log_probs)\n",
    "loss = ctc_loss(log_probs=log_probs, targets=transcript,\n",
    "                input_length=encoded_len, target_length=transcript_len)\n",
    "tensors_to_evaluate=[predictions, transcript, transcript_len]"
   ]
  },
  {
   "cell_type": "code",
   "execution_count": null,
   "metadata": {},
   "outputs": [],
   "source": [
    "# connector = nemo_asr.JasperRNNConnector(in_channels=1024, out_channels=jasper_params['DecoderRNN']['hidden_size'])\n",
    "# rnn_decoder = nemo.backends.pytorch.common.DecoderRNN(voc_size=len(labels), bos_id=1, **jasper_params['DecoderRNN'])\n",
    "# beam_search = nemo.backends.pytorch.common.BeamSearch(decoder=rnn_decoder, pad_id=0, bos_id=1, eos_id=2, max_len=58, beam_size=4)\n",
    "# seq_loss = nemo.backends.pytorch.common.SequenceLoss(pad_id=0, smoothing_coef=0.0)\n",
    "\n",
    "# # second part of DAG\n",
    "# encoded2=connector(tensor=encoded)\n",
    "# log_probs, _ = rnn_decoder(targets=transcript,\n",
    "#                            encoder_outputs=encoded2)\n",
    "# loss = seq_loss(log_probs=log_probs, targets=transcript)\n",
    "# predictions, _ = beam_search(encoder_outputs=encoded2)\n",
    "\n",
    "# # some bookkeeping\n",
    "# labels = ['pad', 'bos', 'eos'] + labels\n",
    "# tensors_to_evaluate=None"
   ]
  },
  {
   "cell_type": "markdown",
   "metadata": {},
   "source": [
    "### Run training"
   ]
  },
  {
   "cell_type": "code",
   "execution_count": null,
   "metadata": {},
   "outputs": [],
   "source": [
    "from functools import partial\n",
    "from nemo_asr.helpers import monitor_asr_train_progress\n",
    "train_callback = nemo.core.SimpleLossLoggerCallback(\n",
    "    tensors=[loss]+tensors_to_evaluate,\n",
    "    print_func=partial(monitor_asr_train_progress, labels=labels))"
   ]
  },
  {
   "cell_type": "code",
   "execution_count": null,
   "metadata": {},
   "outputs": [],
   "source": [
    "nf.train(tensors_to_optimize=[loss],\n",
    "                callbacks=[train_callback],\n",
    "                optimizer=\"novograd\",\n",
    "                optimization_params={\"num_epochs\": 30, \"lr\": 1e-2,\n",
    "                                    \"weight_decay\": 1e-3})"
   ]
  }
 ],
 "metadata": {
  "kernelspec": {
   "display_name": "Python 3",
   "language": "python",
   "name": "python3"
  },
  "language_info": {
   "codemirror_mode": {
    "name": "ipython",
    "version": 3
   },
   "file_extension": ".py",
   "mimetype": "text/x-python",
   "name": "python",
   "nbconvert_exporter": "python",
   "pygments_lexer": "ipython3",
   "version": "3.7.3"
  }
 },
 "nbformat": 4,
 "nbformat_minor": 2
}
