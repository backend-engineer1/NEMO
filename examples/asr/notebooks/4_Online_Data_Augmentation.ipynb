{
 "cells": [
  {
   "cell_type": "code",
   "execution_count": null,
   "metadata": {},
   "outputs": [],
   "source": [
    "\"\"\"\n",
    "You can run either this notebook locally (if you have all the dependencies and a GPU) or on Google Colab.\n",
    "\n",
    "Instructions for setting up Colab are as follows:\n",
    "1. Open a new Python 3 notebook.\n",
    "2. Import this notebook from GitHub (File -> Upload Notebook -> \"GITHUB\" tab -> copy/paste GitHub URL)\n",
    "3. Connect to an instance with a GPU (Runtime -> Change runtime type -> select \"GPU\" for hardware accelerator)\n",
    "4. Run this cell to set up dependencies.\n",
    "\"\"\"\n",
    "# If you're using Google Colab and not running locally, run this cell.\n",
    "!pip install wget\n",
    "!pip install git+https://github.com/NVIDIA/apex.git\n",
    "!pip install nemo_toolkit[asr]\n",
    "!pip install unidecode"
   ]
  },
  {
   "cell_type": "code",
   "execution_count": null,
   "metadata": {},
   "outputs": [],
   "source": [
    "!mkdir configs\n",
    "!wget -P configs/ https://raw.githubusercontent.com/NVIDIA/NeMo/master/examples/asr/configs/quartznet_speech_commands_3x1_v1.yaml"
   ]
  },
  {
   "cell_type": "code",
   "execution_count": null,
   "metadata": {},
   "outputs": [],
   "source": [
    "# Import some necessary libraries\n",
    "import os\n",
    "import random\n",
    "import argparse\n",
    "import copy\n",
    "import math\n",
    "import os\n",
    "import glob\n",
    "from functools import partial\n",
    "from datetime import datetime\n",
    "from ruamel.yaml import YAML"
   ]
  },
  {
   "cell_type": "markdown",
   "metadata": {},
   "source": [
    "# Introduction\n",
    "\n",
    "Data augmentation is a useful method to improve the performance of models which is applicable across multiple domains. Certain augmentations can also substantially improve robustness of models to noisy samples. \n",
    "\n",
    "In this notebook, we describe how to construct an augmentation pipeline inside [Neural Modules (NeMo)](https://github.com/NVIDIA/NeMo), enable augmented training of a [MatchboxNet model](https://arxiv.org/abs/2004.08531) (based on QuartzNet from the paper [\"QuartzNet: Deep Automatic Speech Recognition with 1D Time-Channel Separable Convolutions\"](https://arxiv.org/abs/1910.10261)) and finally how to construct custom augmentations to add to NeMo.\n",
    "\n",
    "The notebook will follow the steps below:\n",
    "\n",
    " - Dataset preparation: Preparing a noise dataset using an example file.\n",
    "\n",
    " - Construct a data augmentation pipeline.\n",
    " \n",
    " - Construct a custom augmentation and register it for use in NeMo."
   ]
  },
  {
   "cell_type": "markdown",
   "metadata": {},
   "source": [
    "## Note\n",
    "Data augmentation is valuable for many datasets, but it comes at the cost of increased training time if samples are augmented during training time. Certain augmentations are particularly costly, in terms of how much time they take to process a single sample. A few examples of slow augmentations available in NeMo are : \n",
    "\n",
    " - Speed Perturbation\n",
    " - Time Stretch Perturbation (Sample level)\n",
    " - Noise Perturbation\n",
    " - Impulse Perturbation\n",
    " - Time Stretch Augmentation (Batch level, Neural Module)\n",
    " \n",
    "For such augmentations, it is advisable to pre-process the dataset offline for a one time preprocessing cost and then train the dataset on this augmented training set."
   ]
  },
  {
   "cell_type": "markdown",
   "metadata": {},
   "source": [
    "## Taking a Look at Our Data (AN4)\n",
    "\n",
    "The AN4 dataset, also known as the Alphanumeric dataset, was collected and published by Carnegie Mellon University. It consists of recordings of people spelling out addresses, names, telephone numbers, etc., one letter or number at a time, as well as their corresponding transcripts. We choose to use AN4 for this tutorial because it is relatively small, with 948 training and 130 test utterances, and so it trains quickly.\n",
    "\n",
    "Before we get started, let's download and prepare the dataset. The utterances are available as `.sph` files, so we will need to convert them to `.wav` for later processing. Please make sure you have [Sox](http://sox.sourceforge.net/) installed for this step (see the \"Downloads\" section of the main page)."
   ]
  },
  {
   "cell_type": "code",
   "execution_count": null,
   "metadata": {},
   "outputs": [],
   "source": [
    "# This is where the an4/ directory will be placed.\n",
    "# Change this if you don't want the data to be extracted in the current directory.\n",
    "data_dir = '.'"
   ]
  },
  {
   "cell_type": "code",
   "execution_count": null,
   "metadata": {},
   "outputs": [],
   "source": [
    "import glob\n",
    "import os\n",
    "import subprocess\n",
    "import tarfile\n",
    "import wget\n",
    "\n",
    "# Download the dataset. This will take a few moments...\n",
    "print(\"******\")\n",
    "if not os.path.exists(data_dir + '/an4_sphere.tar.gz'):\n",
    "    an4_url = 'http://www.speech.cs.cmu.edu/databases/an4/an4_sphere.tar.gz'\n",
    "    an4_path = wget.download(an4_url, data_dir)\n",
    "    print(f\"Dataset downloaded at: {an4_path}\")\n",
    "else:\n",
    "    print(\"Tarfile already exists.\")\n",
    "    an4_path = data_dir + '/an4_sphere.tar.gz'\n",
    "\n",
    "# Untar and convert .sph to .wav (using sox)\n",
    "tar = tarfile.open(an4_path)\n",
    "tar.extractall(path=data_dir)\n",
    "\n",
    "print(\"Converting .sph to .wav...\")\n",
    "sph_list = glob.glob(data_dir + '/an4/**/*.sph', recursive=True)\n",
    "for sph_path in sph_list:\n",
    "    wav_path = sph_path[:-4] + '.wav'\n",
    "    cmd = [\"sox\", sph_path, wav_path]\n",
    "    subprocess.run(cmd)\n",
    "print(\"Finished conversion.\\n******\")"
   ]
  },
  {
   "cell_type": "markdown",
   "metadata": {},
   "source": [
    "## Prepare the path to manifest files"
   ]
  },
  {
   "cell_type": "code",
   "execution_count": null,
   "metadata": {},
   "outputs": [],
   "source": [
    "dataset_basedir = os.path.join(data_dir, 'an4')\n",
    "\n",
    "train_dataset = os.path.join(dataset_basedir, 'train_manifest.json')\n",
    "test_dataset = os.path.join(dataset_basedir, 'test_manifest.json')"
   ]
  },
  {
   "cell_type": "markdown",
   "metadata": {},
   "source": [
    "## Read a few rows of the manifest file \n",
    "\n",
    "Manifest files are the data structure used by NeMo to declare a few important details about the data :\n",
    "\n",
    "1) `audio_filepath`: Refers to the path to the raw audio file <br>\n",
    "2) `text`: The text transcript of this sample <br>\n",
    "3) `duration`: The length of the audio file, in seconds."
   ]
  },
  {
   "cell_type": "code",
   "execution_count": null,
   "metadata": {},
   "outputs": [],
   "source": [
    "!head -n 5 {train_dataset}"
   ]
  },
  {
   "cell_type": "markdown",
   "metadata": {},
   "source": [
    "# Data Augmentation Pipeline\n",
    "\n",
    "Constructing a data augmentation pipeline in NeMo is as simple as composing a nested dictionary that describes two things :\n",
    "\n",
    "1) The probability of that augmentation occuring - using the `prob` keyword <br>\n",
    "2) The keyword arguments required by that augmentation class\n",
    "\n",
    "Below, we show a few samples of these augmentations. Note, in order to distinguish between the original sample and the perturbed sample, we exaggerate the perturbation strength significantly."
   ]
  },
  {
   "cell_type": "code",
   "execution_count": null,
   "metadata": {},
   "outputs": [],
   "source": [
    "import torch\n",
    "import librosa\n",
    "import json\n",
    "import IPython.display as ipd"
   ]
  },
  {
   "cell_type": "markdown",
   "metadata": {},
   "source": [
    "## Audio file preparation "
   ]
  },
  {
   "cell_type": "code",
   "execution_count": null,
   "metadata": {},
   "outputs": [],
   "source": [
    "# Import the data augmentation component from ASR collection\n",
    "from nemo.collections.asr.parts import perturb, segment"
   ]
  },
  {
   "cell_type": "code",
   "execution_count": null,
   "metadata": {},
   "outputs": [],
   "source": [
    "# Lets see the available perturbations\n",
    "perturb.perturbation_types"
   ]
  },
  {
   "cell_type": "markdown",
   "metadata": {},
   "source": [
    "### Obtain a baseline audio file"
   ]
  },
  {
   "cell_type": "code",
   "execution_count": null,
   "metadata": {},
   "outputs": [],
   "source": [
    "filepath = librosa.util.example_audio_file()\n",
    "sample, sr = librosa.core.load(filepath)\n",
    "\n",
    "ipd.Audio(sample, rate=sr)"
   ]
  },
  {
   "cell_type": "markdown",
   "metadata": {},
   "source": [
    "### Convert to WAV format"
   ]
  },
  {
   "cell_type": "code",
   "execution_count": null,
   "metadata": {},
   "outputs": [],
   "source": [
    "import soundfile as sf\n",
    "\n",
    "# lets convert this ogg file into a wave to be compatible with NeMo\n",
    "if not os.path.exists('./media'):\n",
    "    os.makedirs('./media/')\n",
    "    \n",
    "filename = 'Kevin_MacLeod_-_Vibe_Ace.wav'\n",
    "filepath = os.path.join('media', filename)\n",
    "\n",
    "sf.write(filepath, sample, samplerate=sr)"
   ]
  },
  {
   "cell_type": "code",
   "execution_count": null,
   "metadata": {},
   "outputs": [],
   "source": [
    "sample, sr = librosa.core.load(filepath)\n",
    "ipd.Audio(sample, rate=sr)"
   ]
  },
  {
   "cell_type": "code",
   "execution_count": null,
   "metadata": {},
   "outputs": [],
   "source": [
    "# NeMo has its own support class for loading wav files\n",
    "def load_audio() -> segment.AudioSegment:\n",
    "    filename = 'Kevin_MacLeod_-_Vibe_Ace.wav'\n",
    "    filepath = os.path.join('media', filename)\n",
    "    sample_segment = segment.AudioSegment.from_file(filepath, target_sr=sr)\n",
    "    return sample_segment\n",
    "\n",
    "sample_segment = load_audio()\n",
    "ipd.Audio(sample_segment.samples, rate=sr)"
   ]
  },
  {
   "cell_type": "markdown",
   "metadata": {},
   "source": [
    "## White Noise Perturbation\n",
    "\n",
    "White Noise perturbation is performed by the following steps : <br>\n",
    "1) Randomly sample the amplitude of the noise from a uniformly distributed range (defined in dB) <br>\n",
    "2) Sample gaussian noise (mean = 0, std = 1) with same length as audio signal <br>\n",
    "3) Scale this gaussian noise by the amplitude (in dB scale) <br>\n",
    "4) Add this noise vector to the original sample\n",
    "\n",
    "Notably, the original signal should not have a \"hissing sound\" constantly present in the perturbed version."
   ]
  },
  {
   "cell_type": "code",
   "execution_count": null,
   "metadata": {},
   "outputs": [],
   "source": [
    "white_noise = perturb.WhiteNoisePerturbation(min_level=-50, max_level=-30)\n",
    "\n",
    "# Perturb the audio file\n",
    "sample_segment = load_audio()\n",
    "white_noise.perturb(sample_segment)\n",
    "\n",
    "ipd.Audio(sample_segment.samples, rate=sr)"
   ]
  },
  {
   "cell_type": "markdown",
   "metadata": {},
   "source": [
    "## Gain Perturbation\n",
    "\n",
    "Gain perturbation is performed by the following steps : <br>\n",
    "1) Randomly sample the gain factor of the signal from a uniformly distributed range (defined in dB) <br>\n",
    "2) Scale this original signal by the gain factor (in dB scale) <br>\n",
    "\n",
    "Notably, the tone of the original audio should sound slightly different as compared to the gain perturbed sample."
   ]
  },
  {
   "cell_type": "code",
   "execution_count": null,
   "metadata": {},
   "outputs": [],
   "source": [
    "gain = perturb.GainPerturbation(min_gain_dbfs=25, max_gain_dbfs=50)\n",
    "\n",
    "# Perturb the audio file \n",
    "sample_segment = load_audio()\n",
    "gain.perturb(sample_segment)\n",
    "\n",
    "ipd.Audio(sample_segment.samples, rate=sr)"
   ]
  },
  {
   "cell_type": "markdown",
   "metadata": {},
   "source": [
    "## Shift Perturbation\n",
    "\n",
    "Shift perturbation is performed by the following steps : <br>\n",
    "1) Randomly sample the shift factor of the signal from a uniformly distributed range (defined in milliseconds) <br>\n",
    "2) Depending on the sign of the shift, we shift the original signal to the left or the right. <br>\n",
    "3) The boundary locations are filled with zeros after the shift of the signal <br>\n",
    "\n",
    "Notably, the perturbed signal below skips the first 25 to 50 seconds of the original audio below, and the remainder of the time is simply silence. "
   ]
  },
  {
   "cell_type": "code",
   "execution_count": null,
   "metadata": {},
   "outputs": [],
   "source": [
    "shift = perturb.ShiftPerturbation(min_shift_ms=25000.0, max_shift_ms=50000.0)\n",
    "\n",
    "# Perturb the audio file \n",
    "sample_segment = load_audio()\n",
    "shift.perturb(sample_segment)\n",
    "\n",
    "ipd.Audio(sample_segment.samples, rate=sr)"
   ]
  },
  {
   "cell_type": "markdown",
   "metadata": {},
   "source": [
    "## Data Dependent Perturbations\n",
    "\n",
    "Some perturbations require an external data source in order to perturb the original sample. Noise Perturbation is a perfect example of one such augmentation that requires an external noise source dataset in order to pertur the original data."
   ]
  },
  {
   "cell_type": "code",
   "execution_count": null,
   "metadata": {},
   "outputs": [],
   "source": [
    "# Lets prepare a manifest file using the baseline file itself, cut into 1 second segments\n",
    "\n",
    "def write_manifest(filepath, data_dir='./media/', manifest_name='noise_manifest', duration_max=None, duration_stride=1.0, filter_long=False, duration_limit=10.0):\n",
    "    if duration_max is None:\n",
    "        duration_max = 1e9\n",
    "                \n",
    "    with open(os.path.join(data_dir, manifest_name + '.json'), 'w') as fout:\n",
    "        \n",
    "        try:\n",
    "            x, _sr = librosa.load(filepath)\n",
    "            duration = librosa.get_duration(x, sr=_sr)\n",
    "\n",
    "        except Exception:\n",
    "            print(f\"\\n>>>>>>>>> WARNING: Librosa failed to load file {filepath}. Skipping this file !\\n\")\n",
    "            return\n",
    "\n",
    "        if filter_long and duration > duration_limit:\n",
    "            print(f\"Skipping sound sample {filepath}, exceeds duration limit of {duration_limit}\")\n",
    "            return\n",
    "\n",
    "        offsets = []\n",
    "        durations = []\n",
    "\n",
    "        if duration > duration_max:\n",
    "            current_offset = 0.0\n",
    "\n",
    "            while current_offset < duration:\n",
    "                difference = duration - current_offset\n",
    "                segment_duration = min(duration_max, difference)\n",
    "\n",
    "                offsets.append(current_offset)\n",
    "                durations.append(segment_duration)\n",
    "\n",
    "                current_offset += duration_stride\n",
    "\n",
    "        else:\n",
    "            offsets.append(0.0)\n",
    "            durations.append(duration)\n",
    "\n",
    "\n",
    "        for duration, offset in zip(durations, offsets):\n",
    "            metadata = {\n",
    "                'audio_filepath': filepath,\n",
    "                'duration': duration,\n",
    "                'label': 'noise',\n",
    "                'text': '_',  # for compatibility with ASRAudioText collection\n",
    "                'offset': offset,\n",
    "            }\n",
    "\n",
    "            json.dump(metadata, fout)\n",
    "            fout.write('\\n')\n",
    "            fout.flush()\n",
    "\n",
    "        print(f\"Wrote {len(durations)} segments for filename {filename}\")\n",
    "            \n",
    "    print(\"Finished preparing manifest !\")"
   ]
  },
  {
   "cell_type": "code",
   "execution_count": null,
   "metadata": {},
   "outputs": [],
   "source": [
    "filename = 'Kevin_MacLeod_-_Vibe_Ace.wav'\n",
    "filepath = os.path.join('media', filename)\n",
    "\n",
    "# Write a \"noise\" manifest file\n",
    "write_manifest(filepath, manifest_name='noise_1s', duration_max=1.0, duration_stride=1.0)"
   ]
  },
  {
   "cell_type": "code",
   "execution_count": null,
   "metadata": {},
   "outputs": [],
   "source": [
    "# Lets read this noise manifest file\n",
    "noise_manifest_path = os.path.join('media', 'noise_1s.json')\n",
    "\n",
    "!head -n 5 {noise_manifest_path}"
   ]
  },
  {
   "cell_type": "code",
   "execution_count": null,
   "metadata": {},
   "outputs": [],
   "source": [
    "# Lets create a helper method to load the first file in the train dataset of AN4\n",
    "# Load the first sample in the manifest\n",
    "def load_gsc_sample() -> segment.AudioSegment:\n",
    "    with open(train_dataset, 'r') as f:\n",
    "        line = f.readline()\n",
    "        \n",
    "    line = json.loads(line)\n",
    "    gsc_filepath = line['audio_filepath']\n",
    "    sample_segment = segment.AudioSegment.from_file(gsc_filepath)\n",
    "    return sample_segment\n",
    "\n",
    "gsc_sample_segment = load_gsc_sample()\n",
    "ipd.Audio(gsc_sample_segment.samples, rate=16000)"
   ]
  },
  {
   "cell_type": "markdown",
   "metadata": {},
   "source": [
    "## Noise Augmentation\n",
    "\n",
    "Noise perturbation is performed by the following steps : <br>\n",
    "1) Randomly sample the amplitude scale of the noise sample from a uniformly distributed range (defined in dB) <br>\n",
    "2) Randomly choose an audio clip from the set of noise audio samples available <br>\n",
    "3) Compute the gain (in dB) required for the noise clip as compared to the original sample and scale the noise by this factor <br>\n",
    "4) If the noise snippet is of shorter duration than the original audio, then randomly select an index in time from the original sample, where the noise snippet will be added <br>\n",
    "5) If instead the noise snippet is longer than the duration of the original audio, then randomly subsegment the noise snippet and add the full snippet to the original audio <br>\n",
    "\n",
    "Notably, the noise perturbed sample should sound as if there are two sounds playing at the same time (overlapping audio) as compared to the original signal. The magnitude of the noise will be dependent on step (3) and the location where the noise is added will depend on steps (4) and (5)."
   ]
  },
  {
   "cell_type": "code",
   "execution_count": null,
   "metadata": {},
   "outputs": [],
   "source": [
    "rng = random.Random(0)\n",
    "noise = perturb.NoisePerturbation(manifest_path=noise_manifest_path,\n",
    "                                  min_snr_db=-10, max_snr_db=-10,\n",
    "                                  max_gain_db=300.0, rng=rng)\n",
    "\n",
    "# Perturb the audio file \n",
    "sample_segment = load_gsc_sample()\n",
    "noise.perturb(sample_segment)\n",
    "\n",
    "ipd.Audio(sample_segment.samples, rate=16000)"
   ]
  },
  {
   "cell_type": "markdown",
   "metadata": {},
   "source": [
    "## Speed Perturbation\n",
    "\n",
    "Speed perturbation changes the speed of the speech, but does not preserve pitch of the sound. Try a few random augmentations to see how the pitch changes with change in duration of the audio file.\n",
    "\n",
    "**Note**: This is a very slow augmentation and is not advised to perform online augmentation for large datasets as it can dramatically increase training time."
   ]
  },
  {
   "cell_type": "code",
   "execution_count": null,
   "metadata": {},
   "outputs": [],
   "source": [
    "resample_type = 'kaiser_best'  # Can be ['kaiser_best', 'kaiser_fast', 'fft', 'scipy']\n",
    "speed = perturb.SpeedPerturbation(sr, resample_type, min_speed_rate=0.5, max_speed_rate=2.0, num_rates=-1)\n",
    "\n",
    "# Perturb the audio file \n",
    "sample_segment = load_gsc_sample()\n",
    "speed.perturb(sample_segment)\n",
    "\n",
    "ipd.Audio(sample_segment.samples, rate=16000)"
   ]
  },
  {
   "cell_type": "markdown",
   "metadata": {},
   "source": [
    "## Time Stretch Perturbation\n",
    "\n",
    "Time Stretch perturbation changes the speed of the speech, and also preserve pitch of the sound. \n",
    "Try a few random augmentations to see how the pitch remains close to the same with change in duration of the audio file."
   ]
  },
  {
   "cell_type": "markdown",
   "metadata": {},
   "source": [
    "### Note about speed optimizations\n",
    "\n",
    "Time stretch is a costly augmentation, and can easily cause training time to increase drastically. It is suggested that one installs the `numba` library using conda to use a more optimized augmentation kernel.\n",
    "\n",
    "```python\n",
    "conda install numba\n",
    "```"
   ]
  },
  {
   "cell_type": "code",
   "execution_count": null,
   "metadata": {},
   "outputs": [],
   "source": [
    "time_stretch = perturb.TimeStretchPerturbation(min_speed_rate=0.5, max_speed_rate=2.0, num_rates=-1)\n",
    "\n",
    "# Perturb the audio file \n",
    "sample_segment = load_gsc_sample()\n",
    "time_stretch.perturb(sample_segment)\n",
    "\n",
    "ipd.Audio(sample_segment.samples, rate=16000)"
   ]
  },
  {
   "cell_type": "markdown",
   "metadata": {},
   "source": [
    "# Augmentation Pipeline\n",
    "\n",
    "The augmentation pipeline can be constructed in multiple ways, either explicitly by instantiating the objects of these perturbations or implicitly by providing the arguments to these augmentations as a nested dictionary.\n",
    "\n",
    "We will show both approaches in the following sections"
   ]
  },
  {
   "cell_type": "markdown",
   "metadata": {},
   "source": [
    "## Explicit definition"
   ]
  },
  {
   "cell_type": "code",
   "execution_count": null,
   "metadata": {},
   "outputs": [],
   "source": [
    "# Import the data augmentation component from ASR collection\n",
    "from nemo.collections.asr.parts import perturb, segment"
   ]
  },
  {
   "cell_type": "markdown",
   "metadata": {},
   "source": [
    "### Instantiate the perturbations"
   ]
  },
  {
   "cell_type": "code",
   "execution_count": null,
   "metadata": {},
   "outputs": [],
   "source": [
    "perturbations = [\n",
    "    perturb.WhiteNoisePerturbation(min_level=-90, max_level=-46),\n",
    "    perturb.GainPerturbation(min_gain_dbfs=0, max_gain_dbfs=50),\n",
    "    perturb.NoisePerturbation(manifest_path=noise_manifest_path,\n",
    "                              min_snr_db=0, max_snr_db=50, max_gain_db=300.0)\n",
    "]"
   ]
  },
  {
   "cell_type": "markdown",
   "metadata": {},
   "source": [
    "### Select chance of perturbations being applied"
   ]
  },
  {
   "cell_type": "code",
   "execution_count": null,
   "metadata": {},
   "outputs": [],
   "source": [
    "probas = [1.0, 1.0, 0.5]"
   ]
  },
  {
   "cell_type": "markdown",
   "metadata": {},
   "source": [
    "### Prepare the audio augmentation object"
   ]
  },
  {
   "cell_type": "code",
   "execution_count": null,
   "metadata": {},
   "outputs": [],
   "source": [
    "augmentations = list(zip(probas, perturbations))\n",
    "\n",
    "audio_augmentations = perturb.AudioAugmentor(augmentations)\n",
    "audio_augmentations._pipeline"
   ]
  },
  {
   "cell_type": "markdown",
   "metadata": {},
   "source": [
    "# Implicit definition"
   ]
  },
  {
   "cell_type": "code",
   "execution_count": null,
   "metadata": {},
   "outputs": [],
   "source": [
    "perturb.perturbation_types  # Available perturbations"
   ]
  },
  {
   "cell_type": "markdown",
   "metadata": {},
   "source": [
    "### Prepare the nested dictionary"
   ]
  },
  {
   "cell_type": "code",
   "execution_count": null,
   "metadata": {},
   "outputs": [],
   "source": [
    "audio_augmentations = dict(\n",
    "    white_noise = dict(\n",
    "        prob=1.0,\n",
    "        min_level=-90,\n",
    "        max_level=-46\n",
    "    ),\n",
    "    gain = dict(\n",
    "        prob=1.0,\n",
    "        min_gain_dbfs=0,\n",
    "        max_gain_dbfs=50\n",
    "    ),\n",
    "    noise = dict(\n",
    "        prob=0.5,\n",
    "        manifest_path=noise_manifest_path,\n",
    "        min_snr_db=0,\n",
    "        max_snr_db=50,\n",
    "        max_gain_db=300.0\n",
    "    )\n",
    ")\n",
    "\n",
    "audio_augmentations"
   ]
  },
  {
   "cell_type": "markdown",
   "metadata": {},
   "source": [
    "### Supply `audio_augmentations` as an argument to AudioToTextDataLayer or AudioToSpeechLabelDataLayer\n",
    "\n",
    "Both of these data layers accept an optional keyword argument `augmentor`"
   ]
  },
  {
   "cell_type": "code",
   "execution_count": null,
   "metadata": {},
   "outputs": [],
   "source": [
    "from nemo.collections import asr as nemo_asr"
   ]
  },
  {
   "cell_type": "code",
   "execution_count": null,
   "metadata": {},
   "outputs": [],
   "source": [
    "?nemo_asr.AudioToTextDataLayer"
   ]
  },
  {
   "cell_type": "code",
   "execution_count": null,
   "metadata": {},
   "outputs": [],
   "source": [
    "?nemo_asr.AudioToSpeechLabelDataLayer"
   ]
  },
  {
   "cell_type": "markdown",
   "metadata": {},
   "source": [
    "# Training - Application of augmentations\n",
    "\n",
    "We will be describing the data loaders for a MatchboxNet model from the paper \"[MatchboxNet: 1D Time-Channel Separable Convolutional Neural Network Architecture for Speech Commands Recognition](https://arxiv.org/abs/2004.08531)\". The benefit of MatchboxNet over JASPER models is that they use Separable Convolutions, which greatly reduce the number of parameters required to get good model accuracy.\n",
    "\n",
    "Care must be taken not to apply augmentations to the test set.\n"
   ]
  },
  {
   "cell_type": "code",
   "execution_count": null,
   "metadata": {},
   "outputs": [],
   "source": [
    "# Lets load the config file for the QuartzNet 3x1 model\n",
    "# Here we will be using separable convolutions\n",
    "# with 3 blocks (k=3 repeated once r=1 from the picture above)\n",
    "yaml = YAML(typ=\"safe\")\n",
    "with open(\"configs/quartznet_speech_commands_3x1_v1.yaml\") as f:\n",
    "    jasper_params = yaml.load(f)\n",
    "\n",
    "# Pre-define a set of labels that this model must learn to predict\n",
    "labels = jasper_params['labels']\n",
    "\n",
    "# Get the sampling rate of the data\n",
    "sample_rate = jasper_params['sample_rate']"
   ]
  },
  {
   "cell_type": "code",
   "execution_count": null,
   "metadata": {},
   "outputs": [],
   "source": [
    "# Import NeMo core functionality\n",
    "# NeMo's \"core\" package\n",
    "import nemo\n",
    "# NeMo's ASR collection\n",
    "import nemo.collections.asr as nemo_asr\n",
    "# NeMo's learning rate policy\n",
    "from nemo.utils.lr_policies import CosineAnnealing\n",
    "from nemo.collections.asr.helpers import (\n",
    "    monitor_classification_training_progress,\n",
    "    process_classification_evaluation_batch,\n",
    "    process_classification_evaluation_epoch,\n",
    ")\n",
    "from nemo.collections.asr.metrics import classification_accuracy\n",
    "\n",
    "from nemo.utils import logging"
   ]
  },
  {
   "cell_type": "markdown",
   "metadata": {},
   "source": [
    "## Define the NeMo components"
   ]
  },
  {
   "cell_type": "code",
   "execution_count": null,
   "metadata": {},
   "outputs": [],
   "source": [
    "# Create a Neural Factory\n",
    "# It creates log files and tensorboard writers for us among other functions\n",
    "neural_factory = nemo.core.NeuralModuleFactory(\n",
    "    log_dir='./{0}/quartznet-3x1-v1'.format(dataset_basedir),\n",
    "    create_tb_writer=True)\n",
    "tb_writer = neural_factory.tb_writer"
   ]
  },
  {
   "cell_type": "markdown",
   "metadata": {},
   "source": [
    "## Provide the augmentations to the Training AudioToSpeechDataLayer or AudioToTextDataLayer\n",
    "\n",
    "Thats it ! Now your training samples will be augmented during training !"
   ]
  },
  {
   "cell_type": "code",
   "execution_count": null,
   "metadata": {},
   "outputs": [],
   "source": [
    "# Build the input data layer and the preprocessing layers for the train set\n",
    "train_data_layer = nemo_asr.AudioToTextDataLayer(\n",
    "    manifest_filepath=train_dataset,\n",
    "    labels=labels,\n",
    "    sample_rate=sample_rate,\n",
    "    batch_size=32,\n",
    "    num_workers=os.cpu_count(),\n",
    "    shuffle=True,\n",
    "    augmentor=audio_augmentations,  # Add your augmentations (implicit or explicit)\n",
    ")\n",
    "\n",
    " # Build the input data layer and the preprocessing layers for the test set\n",
    "eval_data_layer = nemo_asr.AudioToTextDataLayer(\n",
    "    manifest_filepath=test_dataset,\n",
    "    sample_rate=sample_rate,\n",
    "    labels=labels,\n",
    "    batch_size=32,\n",
    "    num_workers=os.cpu_count(),\n",
    "    shuffle=False, \n",
    "    augmentor=None  # Make sure not to add augmentations to the test set !\n",
    ")"
   ]
  },
  {
   "cell_type": "markdown",
   "metadata": {},
   "source": [
    "# Custom Perturbations\n",
    "\n",
    "We can define and use custom perturbations as required simply by extending the `Perturbation` class. \n",
    "\n",
    "Lets look at how we can build a custom Noise Perturbation that we can use to evaluate the effect of noise at inference time, in order to analyse the model's robustness to noise\n",
    "\n",
    "In evaluation mode, we want to set an explicit value for the `snr_db` parameter instead of uniformly sample it from a range. This allows us to control the signal to noise ratio without relying on randomness from the training implementation of `NoisePerturbation`.\n",
    "\n",
    "Further, we force a random seed in order to produce reproduceable results on the evaluation set.\n",
    "\n",
    "With this combination, we can easily evaluate each sample in the test set `S` times (`S` being the number of random seeds), and can evaluate each of these samples at `D` levels of Signal to Noise Ratio (in dB). "
   ]
  },
  {
   "cell_type": "code",
   "execution_count": null,
   "metadata": {},
   "outputs": [],
   "source": [
    "# We use a NeMo utility to parse the manifest file for us\n",
    "from nemo.collections.asr.parts import collections, parsers\n",
    "\n",
    "class NoisePerturbationEval(perturb.Perturbation):\n",
    "    def __init__(\n",
    "        self, manifest_path=None, snr_db=40, max_gain_db=300.0, seed=None,\n",
    "    ):\n",
    "        seed = seed if seed is not None else 0\n",
    "        self._manifest = collections.ASRAudioText(manifest_path, parser=parsers.make_parser([]))\n",
    "        self._snr_db = snr_db\n",
    "        self._max_gain_db = max_gain_db\n",
    "        self._rng = random.Random(seed)\n",
    "    \n",
    "    # This is mostly obtained from the original NoisePerturbation class itself\n",
    "    def perturb(self, data):\n",
    "        snr_db = self._snr_db\n",
    "        noise_record = self._rng.sample(self._manifest.data, 1)[0]\n",
    "        noise = AudioSegment.from_file(noise_record.audio_file, target_sr=data.sample_rate)\n",
    "        noise_gain_db = min(data.rms_db - noise.rms_db - snr_db, self._max_gain_db)\n",
    "\n",
    "        # calculate noise segment to use\n",
    "        start_time = 0.0\n",
    "        if noise.duration > (start_time + data.duration):\n",
    "            noise.subsegment(start_time=start_time, end_time=start_time + data.duration)\n",
    "\n",
    "        # adjust gain for snr purposes and superimpose\n",
    "        noise.gain_db(noise_gain_db)\n",
    "\n",
    "        if noise._samples.shape[0] < data._samples.shape[0]:\n",
    "            noise_idx = data._samples.shape[0] // 2  # midpoint of audio\n",
    "            while (noise_idx + noise._samples.shape[0]) > data._samples.shape[0]:\n",
    "                noise_idx = noise_idx // 2  # half the initial starting point\n",
    "\n",
    "            data._samples[noise_idx: noise_idx + noise._samples.shape[0]] += noise._samples\n",
    "\n",
    "        else:\n",
    "            data._samples += noise._samples\n"
   ]
  },
  {
   "cell_type": "markdown",
   "metadata": {},
   "source": [
    "## Registering augmentations\n",
    "\n",
    "We can use either approach to submit this test time augmentation to the Data Loaders.\n",
    "\n",
    "In order to obtain the convenience of the implicit method, we must register this augmentation into NeMo's directory of available augmentations. This can be done as follows -"
   ]
  },
  {
   "cell_type": "code",
   "execution_count": null,
   "metadata": {},
   "outputs": [],
   "source": [
    "perturb.register_perturbation(name='noise_eval', perturbation=NoisePerturbationEval)"
   ]
  },
  {
   "cell_type": "code",
   "execution_count": null,
   "metadata": {},
   "outputs": [],
   "source": [
    "# Lets check the registry of allowed perturbations !\n",
    "perturb.perturbation_types"
   ]
  },
  {
   "cell_type": "markdown",
   "metadata": {},
   "source": [
    "### Note\n",
    "\n",
    "It is not allowed to overwrite already registered perturbations using the `perturb.register_perturbation` method. It will raise a `ValueError` in order to prevent overwriting the pre-existing perturbation types"
   ]
  }
 ],
 "metadata": {
  "kernelspec": {
   "display_name": "Python 3.7.6 64-bit ('NeMo': conda)",
   "language": "python",
   "name": "python37664bitnemoconda43f94a748a2e4953b0129556ecdf4f62"
  },
  "language_info": {
   "codemirror_mode": {
    "name": "ipython",
    "version": 3
   },
   "file_extension": ".py",
   "mimetype": "text/x-python",
   "name": "python",
   "nbconvert_exporter": "python",
   "pygments_lexer": "ipython3",
   "version": "3.7.6"
  }
 },
 "nbformat": 4,
 "nbformat_minor": 4
}
